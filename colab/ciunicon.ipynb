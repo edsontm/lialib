{
 "cells": [
  {
   "cell_type": "code",
   "execution_count": 7,
   "metadata": {},
   "outputs": [],
   "source": [
    "# action plan\n",
    "# train a distilled resnet18 using the class prototypes\n",
    "# apply dmil strategy to the distilled model \n",
    "# evaluate the distilled model\n",
    "\n"
   ]
  },
  {
   "cell_type": "code",
   "execution_count": 8,
   "metadata": {},
   "outputs": [],
   "source": [
    "import torch\n",
    "import torch.nn as nn\n",
    "import torch.optim as optim\n",
    "\n",
    "import torchvision\n",
    "from torchvision import datasets, models, transforms"
   ]
  },
  {
   "cell_type": "code",
   "execution_count": 9,
   "metadata": {},
   "outputs": [],
   "source": [
    "modelrn18 = models.resnet18(pretrained=False)"
   ]
  },
  {
   "cell_type": "code",
   "execution_count": 10,
   "metadata": {},
   "outputs": [],
   "source": [
    "import clip\n",
    "import numpy as np"
   ]
  },
  {
   "cell_type": "code",
   "execution_count": 11,
   "metadata": {},
   "outputs": [
    {
     "name": "stdout",
     "output_type": "stream",
     "text": [
      "Model parameters: 151,277,313\n",
      "Input resolution: 224\n",
      "Context length: 77\n",
      "Vocab size: 49408\n"
     ]
    }
   ],
   "source": [
    "model, preprocess = clip.load(\"ViT-B/32\")\n",
    "#model.cuda().eval()\n",
    "input_resolution = model.visual.input_resolution\n",
    "context_length = model.context_length\n",
    "vocab_size = model.vocab_size\n",
    "\n",
    "print(\"Model parameters:\", f\"{np.sum([int(np.prod(p.shape)) for p in model.parameters()]):,}\")\n",
    "print(\"Input resolution:\", input_resolution)\n",
    "print(\"Context length:\", context_length)\n",
    "print(\"Vocab size:\", vocab_size)"
   ]
  },
  {
   "cell_type": "code",
   "execution_count": 12,
   "metadata": {},
   "outputs": [
    {
     "data": {
      "text/plain": [
       "Compose(\n",
       "    Resize(size=224, interpolation=bicubic, max_size=None, antialias=True)\n",
       "    CenterCrop(size=(224, 224))\n",
       "    <function _convert_image_to_rgb at 0x7f865f7508b0>\n",
       "    ToTensor()\n",
       "    Normalize(mean=(0.48145466, 0.4578275, 0.40821073), std=(0.26862954, 0.26130258, 0.27577711))\n",
       ")"
      ]
     },
     "execution_count": 12,
     "metadata": {},
     "output_type": "execute_result"
    }
   ],
   "source": [
    "preprocess"
   ]
  },
  {
   "cell_type": "code",
   "execution_count": 13,
   "metadata": {},
   "outputs": [
    {
     "name": "stdout",
     "output_type": "stream",
     "text": [
      "Files already downloaded and verified\n",
      "Files already downloaded and verified\n"
     ]
    }
   ],
   "source": [
    "ds_train = datasets.CIFAR100(root='./data', train=True, download=True, transform=preprocess)\n",
    "ds_test  = datasets.CIFAR100(root='./data', train=False, download=True, transform=preprocess)"
   ]
  },
  {
   "cell_type": "code",
   "execution_count": 14,
   "metadata": {},
   "outputs": [],
   "source": [
    "class_order = torch.randperm(100)"
   ]
  },
  {
   "cell_type": "code",
   "execution_count": 15,
   "metadata": {},
   "outputs": [
    {
     "data": {
      "text/plain": [
       "tensor([61, 47, 99, 51, 94,  3, 56, 25, 70,  7, 96, 42, 38, 12, 78, 84, 71, 32,\n",
       "        33, 62, 73, 90, 64, 82, 40, 21, 60, 16, 37, 58, 67,  9, 81,  1,  5, 57,\n",
       "        48, 87, 53, 92, 45, 54, 59, 34, 66, 75, 46,  0,  2,  6, 55, 86, 50, 26,\n",
       "        43, 49, 30,  8, 20, 89, 11, 18, 17, 52, 65, 72, 63, 76, 79, 41, 14, 10,\n",
       "        69, 28, 77, 35, 80, 85, 97, 93, 74, 22, 23, 13, 24, 83, 19,  4, 29, 36,\n",
       "        44, 15, 88, 91, 98, 31, 27, 68, 95, 39])"
      ]
     },
     "execution_count": 15,
     "metadata": {},
     "output_type": "execute_result"
    }
   ],
   "source": [
    "class_order"
   ]
  },
  {
   "cell_type": "code",
   "execution_count": 16,
   "metadata": {},
   "outputs": [
    {
     "data": {
      "text/plain": [
       "(array([ 0,  1,  2,  3,  4,  5,  6,  7,  8,  9, 10, 11, 12, 13, 14, 15, 16,\n",
       "        17, 18, 19, 20, 21, 22, 23, 24, 25, 26, 27, 28, 29, 30, 31, 32, 33,\n",
       "        34, 35, 36, 37, 38, 39, 40, 41, 42, 43, 44, 45, 46, 47, 48, 49, 50,\n",
       "        51, 52, 53, 54, 55, 56, 57, 58, 59, 60, 61, 62, 63, 64, 65, 66, 67,\n",
       "        68, 69, 70, 71, 72, 73, 74, 75, 76, 77, 78, 79, 80, 81, 82, 83, 84,\n",
       "        85, 86, 87, 88, 89, 90, 91, 92, 93, 94, 95, 96, 97, 98, 99]),\n",
       " array([1, 1, 1, 1, 1, 1, 1, 1, 1, 1, 1, 1, 1, 1, 1, 1, 1, 1, 1, 1, 1, 1,\n",
       "        1, 1, 1, 1, 1, 1, 1, 1, 1, 1, 1, 1, 1, 1, 1, 1, 1, 1, 1, 1, 1, 1,\n",
       "        1, 1, 1, 1, 1, 1, 1, 1, 1, 1, 1, 1, 1, 1, 1, 1, 1, 1, 1, 1, 1, 1,\n",
       "        1, 1, 1, 1, 1, 1, 1, 1, 1, 1, 1, 1, 1, 1, 1, 1, 1, 1, 1, 1, 1, 1,\n",
       "        1, 1, 1, 1, 1, 1, 1, 1, 1, 1, 1, 1]))"
      ]
     },
     "execution_count": 16,
     "metadata": {},
     "output_type": "execute_result"
    }
   ],
   "source": [
    "np.unique(class_order,return_counts=True)"
   ]
  },
  {
   "cell_type": "code",
   "execution_count": 17,
   "metadata": {},
   "outputs": [
    {
     "data": {
      "text/plain": [
       "tensor([61, 47, 99, 51, 94,  3, 56, 25, 70,  7, 96, 42, 38, 12, 78, 84, 71, 32,\n",
       "        33, 62, 73, 90, 64, 82, 40, 21, 60, 16, 37, 58, 67,  9, 81,  1,  5, 57,\n",
       "        48, 87, 53, 92, 45, 54, 59, 34, 66, 75, 46,  0,  2,  6])"
      ]
     },
     "execution_count": 17,
     "metadata": {},
     "output_type": "execute_result"
    }
   ],
   "source": [
    "class_order[:50]"
   ]
  },
  {
   "cell_type": "code",
   "execution_count": 18,
   "metadata": {},
   "outputs": [],
   "source": [
    "#write a function to retrieve only examples from the first 50 classes defined on class_order in a class subsample\n",
    "def instances_from_classes(dataset, class_order):\n",
    "    subset = []\n",
    "    for i in range(len(dataset)):\n",
    "        _, label = dataset[i]\n",
    "        if label in class_order:\n",
    "            subset.append(i)\n",
    "    return subset\n"
   ]
  },
  {
   "cell_type": "code",
   "execution_count": 19,
   "metadata": {},
   "outputs": [],
   "source": [
    "\n",
    "set_train = instances_from_classes(ds_train,class_order[:50])\n",
    "set_test  = instances_from_classes(ds_test, class_order[:50])"
   ]
  },
  {
   "cell_type": "code",
   "execution_count": 20,
   "metadata": {},
   "outputs": [],
   "source": [
    "dl_train = torch.utils.data.DataLoader(ds_train, batch_size=64, sampler=torch.utils.data.SubsetRandomSampler(set_train))\n",
    "dl_test = torch.utils.data.DataLoader(ds_test,  batch_size=64, sampler=torch.utils.data.SubsetRandomSampler(set_test))"
   ]
  },
  {
   "cell_type": "code",
   "execution_count": 21,
   "metadata": {},
   "outputs": [],
   "source": [
    "x,y = next(iter(dl_train))"
   ]
  },
  {
   "cell_type": "code",
   "execution_count": 22,
   "metadata": {},
   "outputs": [
    {
     "data": {
      "text/plain": [
       "(tensor([[[[-1.2959, -1.2959, -1.2959,  ..., -1.4273, -1.4273, -1.4273],\n",
       "           [-1.2959, -1.2959, -1.2959,  ..., -1.4273, -1.4273, -1.4273],\n",
       "           [-1.2959, -1.2959, -1.2959,  ..., -1.4273, -1.4273, -1.4273],\n",
       "           ...,\n",
       "           [-0.1718, -0.1718, -0.1718,  ..., -0.8288, -0.8288, -0.8288],\n",
       "           [-0.1572, -0.1572, -0.1572,  ..., -0.8434, -0.8434, -0.8434],\n",
       "           [-0.1572, -0.1572, -0.1572,  ..., -0.8434, -0.8434, -0.8434]],\n",
       " \n",
       "          [[-1.4069, -1.4069, -1.4069,  ..., -1.5870, -1.5870, -1.5870],\n",
       "           [-1.4069, -1.4069, -1.4069,  ..., -1.5870, -1.5870, -1.5870],\n",
       "           [-1.4069, -1.4069, -1.4069,  ..., -1.5870, -1.5870, -1.5870],\n",
       "           ...,\n",
       "           [-0.6415, -0.6415, -0.6415,  ..., -1.0918, -1.0767, -1.0767],\n",
       "           [-0.6415, -0.6415, -0.6415,  ..., -1.0918, -1.0767, -1.0767],\n",
       "           [-0.6265, -0.6265, -0.6265,  ..., -1.0918, -1.0767, -1.0767]],\n",
       " \n",
       "          [[-1.1816, -1.1816, -1.1816,  ..., -1.3380, -1.3380, -1.3380],\n",
       "           [-1.1816, -1.1816, -1.1816,  ..., -1.3380, -1.3380, -1.3380],\n",
       "           [-1.1816, -1.1816, -1.1816,  ..., -1.3380, -1.3380, -1.3380],\n",
       "           ...,\n",
       "           [-1.3522, -1.3522, -1.3522,  ..., -0.9683, -0.9541, -0.9541],\n",
       "           [-1.3522, -1.3522, -1.3522,  ..., -0.9683, -0.9541, -0.9541],\n",
       "           [-1.3522, -1.3522, -1.3522,  ..., -0.9683, -0.9541, -0.9541]]],\n",
       " \n",
       " \n",
       "         [[[ 1.9303,  1.9303,  1.9303,  ...,  1.9303,  1.9303,  1.9303],\n",
       "           [ 1.9303,  1.9303,  1.9303,  ...,  1.9303,  1.9303,  1.9303],\n",
       "           [ 1.9303,  1.9303,  1.9303,  ...,  1.9303,  1.9303,  1.9303],\n",
       "           ...,\n",
       "           [ 1.9303,  1.9303,  1.9303,  ...,  1.9303,  1.9303,  1.9303],\n",
       "           [ 1.9303,  1.9303,  1.9303,  ...,  1.9303,  1.9303,  1.9303],\n",
       "           [ 1.9303,  1.9303,  1.9303,  ...,  1.9303,  1.9303,  1.9303]],\n",
       " \n",
       "          [[ 2.0749,  2.0749,  2.0749,  ...,  2.0749,  2.0749,  2.0749],\n",
       "           [ 2.0749,  2.0749,  2.0749,  ...,  2.0749,  2.0749,  2.0749],\n",
       "           [ 2.0749,  2.0749,  2.0749,  ...,  2.0749,  2.0749,  2.0749],\n",
       "           ...,\n",
       "           [ 2.0749,  2.0749,  2.0749,  ...,  2.0749,  2.0749,  2.0749],\n",
       "           [ 2.0749,  2.0749,  2.0749,  ...,  2.0749,  2.0749,  2.0749],\n",
       "           [ 2.0749,  2.0749,  2.0749,  ...,  2.0749,  2.0749,  2.0749]],\n",
       " \n",
       "          [[ 2.1459,  2.1459,  2.1459,  ...,  2.1459,  2.1459,  2.1459],\n",
       "           [ 2.1459,  2.1459,  2.1459,  ...,  2.1459,  2.1459,  2.1459],\n",
       "           [ 2.1459,  2.1459,  2.1459,  ...,  2.1459,  2.1459,  2.1459],\n",
       "           ...,\n",
       "           [ 2.1459,  2.1459,  2.1459,  ...,  2.1459,  2.1459,  2.1459],\n",
       "           [ 2.1459,  2.1459,  2.1459,  ...,  2.1459,  2.1459,  2.1459],\n",
       "           [ 2.1459,  2.1459,  2.1459,  ...,  2.1459,  2.1459,  2.1459]]],\n",
       " \n",
       " \n",
       "         [[[ 0.0909,  0.0909,  0.0909,  ...,  0.8209,  0.8209,  0.8063],\n",
       "           [ 0.0763,  0.0763,  0.0763,  ...,  0.8209,  0.8209,  0.8063],\n",
       "           [ 0.0617,  0.0617,  0.0617,  ...,  0.8209,  0.8209,  0.8063],\n",
       "           ...,\n",
       "           [-1.2667, -1.2667, -1.2667,  ..., -1.0185, -1.0185, -1.0185],\n",
       "           [-1.2813, -1.2813, -1.2813,  ..., -1.0185, -1.0185, -1.0185],\n",
       "           [-1.2813, -1.2813, -1.2813,  ..., -1.0185, -1.0185, -1.0185]],\n",
       " \n",
       "          [[-0.2213, -0.2213, -0.2213,  ...,  0.6642,  0.6491,  0.6491],\n",
       "           [-0.2213, -0.2213, -0.2363,  ...,  0.6642,  0.6491,  0.6491],\n",
       "           [-0.2513, -0.2513, -0.2513,  ...,  0.6642,  0.6491,  0.6491],\n",
       "           ...,\n",
       "           [-1.1368, -1.1368, -1.1368,  ..., -0.6115, -0.6115, -0.6115],\n",
       "           [-1.1518, -1.1518, -1.1518,  ..., -0.6115, -0.6115, -0.6115],\n",
       "           [-1.1518, -1.1518, -1.1518,  ..., -0.6115, -0.6115, -0.6115]],\n",
       " \n",
       "          [[-0.4706, -0.4706, -0.4706,  ...,  0.8092,  0.7950,  0.7950],\n",
       "           [-0.4706, -0.4848, -0.4848,  ...,  0.8092,  0.7950,  0.7950],\n",
       "           [-0.4848, -0.4848, -0.4848,  ...,  0.8092,  0.7950,  0.7950],\n",
       "           ...,\n",
       "           [-0.0867, -0.1009, -0.1009,  ..., -0.9967, -1.0110, -1.0252],\n",
       "           [-0.0867, -0.1009, -0.1009,  ..., -1.0110, -1.0252, -1.0394],\n",
       "           [-0.0867, -0.1151, -0.1151,  ..., -1.0110, -1.0252, -1.0394]]],\n",
       " \n",
       " \n",
       "         ...,\n",
       " \n",
       " \n",
       "         [[[-0.0259, -0.0259, -0.0259,  ..., -1.4273, -1.4273, -1.4273],\n",
       "           [-0.0259, -0.0259, -0.0259,  ..., -1.4127, -1.4127, -1.4127],\n",
       "           [-0.0405, -0.0405, -0.0405,  ..., -1.3981, -1.3981, -1.3981],\n",
       "           ...,\n",
       "           [-1.2229, -1.2229, -1.2229,  ..., -1.2667, -1.2667, -1.2667],\n",
       "           [-1.2375, -1.2375, -1.2375,  ..., -1.2667, -1.2667, -1.2667],\n",
       "           [-1.2375, -1.2375, -1.2375,  ..., -1.2813, -1.2813, -1.2813]],\n",
       " \n",
       "          [[ 0.1239,  0.1239,  0.1239,  ..., -1.3319, -1.3469, -1.3469],\n",
       "           [ 0.1239,  0.1239,  0.1239,  ..., -1.3169, -1.3319, -1.3319],\n",
       "           [ 0.1239,  0.1239,  0.1239,  ..., -1.2869, -1.3019, -1.3019],\n",
       "           ...,\n",
       "           [-0.9117, -0.9117, -0.9117,  ..., -1.0918, -1.0918, -1.0918],\n",
       "           [-0.9117, -0.9117, -0.9117,  ..., -1.0918, -1.0918, -1.0918],\n",
       "           [-0.9267, -0.9267, -0.9267,  ..., -1.0918, -1.0918, -1.0918]],\n",
       " \n",
       "          [[ 0.3399,  0.3399,  0.3399,  ..., -1.1247, -1.1389, -1.1389],\n",
       "           [ 0.3399,  0.3399,  0.3399,  ..., -1.1105, -1.1247, -1.1247],\n",
       "           [ 0.3257,  0.3257,  0.3257,  ..., -1.0821, -1.0963, -1.0963],\n",
       "           ...,\n",
       "           [-0.9114, -0.9114, -0.9114,  ..., -0.8545, -0.8545, -0.8688],\n",
       "           [-0.9114, -0.9114, -0.9114,  ..., -0.8688, -0.8688, -0.8688],\n",
       "           [-0.9256, -0.9256, -0.9256,  ..., -0.8688, -0.8688, -0.8688]]],\n",
       " \n",
       " \n",
       "         [[[-1.1207, -1.0915, -1.0623,  ...,  0.2077,  0.1785,  0.1639],\n",
       "           [-1.0769, -1.0477, -1.0185,  ...,  0.2077,  0.1785,  0.1639],\n",
       "           [-1.0185, -0.9893, -0.9602,  ...,  0.2077,  0.1785,  0.1639],\n",
       "           ...,\n",
       "           [-0.8434, -0.8434, -0.8434,  ..., -0.4054, -0.4054, -0.4054],\n",
       "           [-0.8434, -0.8434, -0.8434,  ..., -0.4054, -0.4054, -0.4054],\n",
       "           [-0.8434, -0.8434, -0.8434,  ..., -0.4054, -0.4054, -0.4054]],\n",
       " \n",
       "          [[-1.1518, -1.1368, -1.0918,  ...,  0.1389,  0.1089,  0.0939],\n",
       "           [-1.1218, -1.1068, -1.0617,  ...,  0.1539,  0.1089,  0.0939],\n",
       "           [-1.0617, -1.0467, -1.0017,  ...,  0.1539,  0.1239,  0.1089],\n",
       "           ...,\n",
       "           [-0.6415, -0.6415, -0.6415,  ..., -0.0562, -0.0712, -0.0712],\n",
       "           [-0.6415, -0.6415, -0.6415,  ..., -0.0712, -0.0712, -0.0712],\n",
       "           [-0.6415, -0.6415, -0.6415,  ..., -0.0712, -0.0712, -0.0712]],\n",
       " \n",
       "          [[-0.9114, -0.8830, -0.8545,  ...,  0.1693,  0.1409,  0.1266],\n",
       "           [-0.8830, -0.8545, -0.8261,  ...,  0.1835,  0.1409,  0.1266],\n",
       "           [-0.8403, -0.8119, -0.7834,  ...,  0.1835,  0.1551,  0.1409],\n",
       "           ...,\n",
       "           [-0.3426, -0.3426, -0.3426,  ...,  0.2120,  0.1977,  0.1977],\n",
       "           [-0.3426, -0.3426, -0.3426,  ...,  0.1977,  0.1977,  0.1977],\n",
       "           [-0.3426, -0.3426, -0.3426,  ...,  0.1977,  0.1977,  0.1977]]],\n",
       " \n",
       " \n",
       "         [[[ 1.0836,  1.0836,  1.0836,  ..., -0.0113, -0.0113, -0.0113],\n",
       "           [ 1.0690,  1.0690,  1.0836,  ..., -0.0113, -0.0113, -0.0113],\n",
       "           [ 1.0690,  1.0690,  1.0690,  ..., -0.0113, -0.0113, -0.0113],\n",
       "           ...,\n",
       "           [-0.2886, -0.2886, -0.2886,  ...,  1.6822,  1.6822,  1.6822],\n",
       "           [-0.2886, -0.2886, -0.2886,  ...,  1.6822,  1.6822,  1.6822],\n",
       "           [-0.2886, -0.2886, -0.2886,  ...,  1.6822,  1.6822,  1.6822]],\n",
       " \n",
       "          [[ 1.3545,  1.3545,  1.3395,  ...,  0.6491,  0.6491,  0.6491],\n",
       "           [ 1.3545,  1.3545,  1.3395,  ...,  0.6491,  0.6491,  0.6491],\n",
       "           [ 1.3545,  1.3545,  1.3395,  ...,  0.6491,  0.6491,  0.6491],\n",
       "           ...,\n",
       "           [ 0.0488,  0.0488,  0.0488,  ...,  1.7447,  1.7447,  1.7447],\n",
       "           [ 0.0488,  0.0488,  0.0488,  ...,  1.7447,  1.7447,  1.7447],\n",
       "           [ 0.0488,  0.0488,  0.0488,  ...,  1.7447,  1.7447,  1.7447]],\n",
       " \n",
       "          [[ 1.8899,  1.8757,  1.8757,  ...,  1.7620,  1.7620,  1.7620],\n",
       "           [ 1.8899,  1.8757,  1.8757,  ...,  1.7620,  1.7620,  1.7620],\n",
       "           [ 1.8899,  1.8757,  1.8757,  ...,  1.7620,  1.7620,  1.7620],\n",
       "           ...,\n",
       "           [-0.9114, -0.9114, -0.9114,  ...,  1.7620,  1.7620,  1.7620],\n",
       "           [-0.9114, -0.9114, -0.9114,  ...,  1.7620,  1.7620,  1.7620],\n",
       "           [-0.9114, -0.9114, -0.9114,  ...,  1.7620,  1.7620,  1.7620]]]]),\n",
       " tensor([64, 40,  5, 54, 81, 92, 21, 81, 71, 84,  2, 94, 25, 12, 90,  6, 38,  2,\n",
       "         62, 37, 81, 32,  7, 57, 59, 78, 96,  5,  1, 42, 40, 58, 94, 33, 84, 61,\n",
       "          9, 78,  6, 64, 90, 33, 12, 75, 47, 70, 42,  0, 40, 66, 57, 92,  3, 82,\n",
       "          0, 47, 21,  3, 99, 60,  5, 62, 48, 37]))"
      ]
     },
     "execution_count": 22,
     "metadata": {},
     "output_type": "execute_result"
    }
   ],
   "source": [
    "x,y"
   ]
  },
  {
   "cell_type": "code",
   "execution_count": 23,
   "metadata": {},
   "outputs": [
    {
     "name": "stderr",
     "output_type": "stream",
     "text": [
      "/home/ubuntu/.local/lib/python3.9/site-packages/torchvision/models/_utils.py:208: UserWarning: The parameter 'pretrained' is deprecated since 0.13 and may be removed in the future, please use 'weights' instead.\n",
      "  warnings.warn(\n",
      "/home/ubuntu/.local/lib/python3.9/site-packages/torchvision/models/_utils.py:223: UserWarning: Arguments other than a weight enum or `None` for 'weights' are deprecated since 0.13 and may be removed in the future. The current behavior is equivalent to passing `weights=None`.\n",
      "  warnings.warn(msg)\n"
     ]
    }
   ],
   "source": [
    "modelrn18 = models.resnet18(pretrained=False)"
   ]
  },
  {
   "cell_type": "code",
   "execution_count": 24,
   "metadata": {},
   "outputs": [],
   "source": [
    "modelrn18.fc = nn.Linear(512,512)"
   ]
  },
  {
   "cell_type": "code",
   "execution_count": 25,
   "metadata": {},
   "outputs": [],
   "source": [
    "clip_pred = model.encode_image(x)"
   ]
  },
  {
   "cell_type": "code",
   "execution_count": 26,
   "metadata": {},
   "outputs": [],
   "source": [
    "rn18_pred = modelrn18(x)"
   ]
  },
  {
   "cell_type": "code",
   "execution_count": 27,
   "metadata": {},
   "outputs": [
    {
     "data": {
      "text/plain": [
       "tensor(0.4908, grad_fn=<MseLossBackward0>)"
      ]
     },
     "execution_count": 27,
     "metadata": {},
     "output_type": "execute_result"
    }
   ],
   "source": [
    "loss = nn.MSELoss()\n",
    "loss(rn18_pred,clip_pred)"
   ]
  },
  {
   "cell_type": "code",
   "execution_count": 28,
   "metadata": {},
   "outputs": [],
   "source": [
    "from tqdm import tqdm\n",
    "import sklearn.metrics as metrics"
   ]
  },
  {
   "cell_type": "code",
   "execution_count": 29,
   "metadata": {},
   "outputs": [],
   "source": [
    "device = torch.device(\"cuda\" if torch.cuda.is_available() else \"cpu\")"
   ]
  },
  {
   "cell_type": "code",
   "execution_count": null,
   "metadata": {},
   "outputs": [],
   "source": [
    "criterion = nn.MSELoss()\n",
    "criterion(rn18_pred,clip_pred)"
   ]
  },
  {
   "cell_type": "code",
   "execution_count": 31,
   "metadata": {},
   "outputs": [],
   "source": [
    "opt = optim.Adam(modelrn18.parameters(), lr=1e-3)"
   ]
  },
  {
   "cell_type": "code",
   "execution_count": 32,
   "metadata": {},
   "outputs": [],
   "source": [
    "#freeze clip parameters\n",
    "for param in model.visual.parameters():\n",
    "    param.requires_grad = False"
   ]
  },
  {
   "cell_type": "code",
   "execution_count": 34,
   "metadata": {},
   "outputs": [
    {
     "name": "stderr",
     "output_type": "stream",
     "text": [
      "  0%|          | 0/391 [00:00<?, ?it/s]"
     ]
    },
    {
     "ename": "",
     "evalue": "",
     "output_type": "error",
     "traceback": [
      "\u001b[1;31mThe Kernel crashed while executing code in the current cell or a previous cell. \n",
      "\u001b[1;31mPlease review the code in the cell(s) to identify a possible cause of the failure. \n",
      "\u001b[1;31mClick <a href='https://aka.ms/vscodeJupyterKernelCrash'>here</a> for more info. \n",
      "\u001b[1;31mView Jupyter <a href='command:jupyter.viewOutput'>log</a> for further details."
     ]
    }
   ],
   "source": [
    "stop = False\n",
    "loss_train = []\n",
    "while (not stop):\n",
    "    model.train()\n",
    "    lloss = []\n",
    "    loop = tqdm(dl_train)\n",
    "    for x,y in loop:\n",
    "        x = x.to(device)\n",
    "        y = y.to(device)\n",
    "        pred_clip = model.encode_image(x)\n",
    "        pred_resnet = modelrn18(x)\n",
    "        closs = criterion(pred_clip,pred_resnet)\n",
    "        closs.backward()\n",
    "        opt.step()\n",
    "        opt.zero_grad()\n",
    "        lloss.append(closs.item())\n",
    "    loss_train.append(np.mean(lloss))\n",
    "    lloss = []\n",
    "    model.eval()"
   ]
  },
  {
   "cell_type": "code",
   "execution_count": null,
   "metadata": {},
   "outputs": [],
   "source": []
  }
 ],
 "metadata": {
  "kernelspec": {
   "display_name": "Python 3",
   "language": "python",
   "name": "python3"
  },
  "language_info": {
   "codemirror_mode": {
    "name": "ipython",
    "version": 3
   },
   "file_extension": ".py",
   "mimetype": "text/x-python",
   "name": "python",
   "nbconvert_exporter": "python",
   "pygments_lexer": "ipython3",
   "version": "3.9.2"
  }
 },
 "nbformat": 4,
 "nbformat_minor": 2
}
