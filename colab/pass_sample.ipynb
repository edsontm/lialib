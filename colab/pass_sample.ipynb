{
 "cells": [
  {
   "cell_type": "code",
   "execution_count": 5,
   "metadata": {},
   "outputs": [],
   "source": [
    "\n",
    "\n",
    "import torch\n",
    "import torch.nn as nn\n",
    "import torch.optim as optim\n",
    "\n",
    "import torchvision\n",
    "from torchvision import datasets, models, transforms\n",
    "from tqdm import tqdm\n",
    "import numpy as np"
   ]
  },
  {
   "cell_type": "code",
   "execution_count": 13,
   "metadata": {},
   "outputs": [],
   "source": [
    "device = torch.device('cuda:0')\n",
    "class_order_file = 'class_order.pth'"
   ]
  },
  {
   "cell_type": "code",
   "execution_count": 14,
   "metadata": {},
   "outputs": [
    {
     "name": "stdout",
     "output_type": "stream",
     "text": [
      "Defaulting to user installation because normal site-packages is not writeable\n",
      "Requirement already satisfied: pytorch-metric-learning in /home/ubuntu/.local/lib/python3.7/site-packages (2.5.0)\n",
      "Requirement already satisfied: scikit-learn in /opt/conda/lib/python3.7/site-packages (from pytorch-metric-learning) (1.0.2)\n",
      "Requirement already satisfied: torch>=1.6.0 in /opt/conda/lib/python3.7/site-packages (from pytorch-metric-learning) (1.12.1)\n",
      "Requirement already satisfied: numpy in /opt/conda/lib/python3.7/site-packages (from pytorch-metric-learning) (1.21.5)\n",
      "Requirement already satisfied: tqdm in /opt/conda/lib/python3.7/site-packages (from pytorch-metric-learning) (4.63.0)\n",
      "Requirement already satisfied: typing_extensions in /opt/conda/lib/python3.7/site-packages (from torch>=1.6.0->pytorch-metric-learning) (4.3.0)\n",
      "Requirement already satisfied: threadpoolctl>=2.0.0 in /opt/conda/lib/python3.7/site-packages (from scikit-learn->pytorch-metric-learning) (3.1.0)\n",
      "Requirement already satisfied: joblib>=0.11 in /opt/conda/lib/python3.7/site-packages (from scikit-learn->pytorch-metric-learning) (1.1.0)\n",
      "Requirement already satisfied: scipy>=1.1.0 in /opt/conda/lib/python3.7/site-packages (from scikit-learn->pytorch-metric-learning) (1.7.3)\n"
     ]
    }
   ],
   "source": [
    "!pip install pytorch-metric-learning"
   ]
  },
  {
   "cell_type": "code",
   "execution_count": 15,
   "metadata": {},
   "outputs": [
    {
     "name": "stderr",
     "output_type": "stream",
     "text": [
      "/opt/conda/lib/python3.7/site-packages/torchvision/models/_utils.py:209: UserWarning: The parameter 'pretrained' is deprecated since 0.13 and will be removed in 0.15, please use 'weights' instead.\n",
      "  f\"The parameter '{pretrained_param}' is deprecated since 0.13 and will be removed in 0.15, \"\n",
      "/opt/conda/lib/python3.7/site-packages/torchvision/models/_utils.py:223: UserWarning: Arguments other than a weight enum or `None` for 'weights' are deprecated since 0.13 and will be removed in 0.15. The current behavior is equivalent to passing `weights=None`.\n",
      "  warnings.warn(msg)\n"
     ]
    }
   ],
   "source": [
    "model = models.resnet18(pretrained=False)\n",
    "model.fc = nn.Linear(512,512)"
   ]
  },
  {
   "cell_type": "code",
   "execution_count": 16,
   "metadata": {},
   "outputs": [
    {
     "name": "stdout",
     "output_type": "stream",
     "text": [
      "/home/ubuntu/lialib/colab\n"
     ]
    }
   ],
   "source": [
    "!pwd"
   ]
  },
  {
   "cell_type": "code",
   "execution_count": 17,
   "metadata": {},
   "outputs": [
    {
     "data": {
      "text/plain": [
       "_CudaDeviceProperties(name='NVIDIA GeForce RTX 3080 Ti', major=8, minor=6, total_memory=12053MB, multi_processor_count=80)"
      ]
     },
     "execution_count": 17,
     "metadata": {},
     "output_type": "execute_result"
    }
   ],
   "source": [
    "torch.cuda.get_device_properties(0)"
   ]
  },
  {
   "cell_type": "code",
   "execution_count": 18,
   "metadata": {},
   "outputs": [],
   "source": [
    "#model.load_state_dict(model_state_dict['rn18'])\n",
    "import os\n",
    "\n",
    "if os.path.isfile(class_order_file ):\n",
    "    class_order = torch.load(class_order_file)\n",
    "else:\n",
    "    class_order = torch.randperm(100)\n",
    "    torch.save(class_order,class_order_file)"
   ]
  },
  {
   "cell_type": "code",
   "execution_count": 19,
   "metadata": {},
   "outputs": [
    {
     "data": {
      "text/plain": [
       "tensor([34, 85, 44, 64, 70, 28, 11,  9, 37,  7,  8, 97,  0, 63, 78, 83, 90,  3,\n",
       "        50, 19, 51, 31, 86, 58, 57, 67, 47, 45, 27, 69, 20,  1, 36, 24, 46, 32,\n",
       "        10, 23, 26, 41, 89, 25, 62, 98, 88, 72,  4, 53, 39, 84, 16, 30, 74, 49,\n",
       "        94, 60, 77, 66, 65, 59, 61, 68, 73, 33, 13, 43, 35, 21, 40, 14,  2, 52,\n",
       "        76, 15, 29, 75, 96, 55, 80, 99, 87, 92, 12, 71, 22,  6, 54, 18, 38, 82,\n",
       "        91, 17, 79, 95,  5, 48, 56, 42, 93, 81])"
      ]
     },
     "execution_count": 19,
     "metadata": {},
     "output_type": "execute_result"
    }
   ],
   "source": [
    "class_order"
   ]
  },
  {
   "cell_type": "code",
   "execution_count": 20,
   "metadata": {},
   "outputs": [],
   "source": [
    "preprocess = transforms.Compose([\n",
    "    transforms.Resize(224),\n",
    "    transforms.CenterCrop(size=(224,224)),\n",
    "    transforms.ToTensor(),\n",
    "    transforms.Normalize(mean=(0.48145466, 0.4578275, 0.40821073), std=(0.26862954, 0.26130258, 0.27577711))\n",
    "])"
   ]
  },
  {
   "cell_type": "code",
   "execution_count": 21,
   "metadata": {},
   "outputs": [
    {
     "name": "stdout",
     "output_type": "stream",
     "text": [
      "Files already downloaded and verified\n",
      "Files already downloaded and verified\n"
     ]
    }
   ],
   "source": [
    "ds_train = datasets.CIFAR100(root='./data', train=True, download=True, transform=preprocess)\n",
    "ds_test  = datasets.CIFAR100(root='./data', train=False, download=True, transform=preprocess)"
   ]
  },
  {
   "cell_type": "code",
   "execution_count": 22,
   "metadata": {},
   "outputs": [],
   "source": [
    "def instances_from_classes(dataset, class_order):\n",
    "    subset = []\n",
    "    for i in range(len(dataset)):\n",
    "        _, label = dataset[i]\n",
    "        if label in class_order:\n",
    "            subset.append(i)\n",
    "    return subset\n"
   ]
  },
  {
   "cell_type": "code",
   "execution_count": 23,
   "metadata": {},
   "outputs": [],
   "source": [
    "set_train = instances_from_classes(ds_train,class_order[:50])\n",
    "set_test  = np.array(instances_from_classes(ds_test, class_order[:50]))"
   ]
  },
  {
   "cell_type": "code",
   "execution_count": 24,
   "metadata": {},
   "outputs": [
    {
     "data": {
      "text/plain": [
       "(5000,)"
      ]
     },
     "execution_count": 24,
     "metadata": {},
     "output_type": "execute_result"
    }
   ],
   "source": [
    "set_test.shape"
   ]
  },
  {
   "cell_type": "code",
   "execution_count": 25,
   "metadata": {},
   "outputs": [],
   "source": [
    "sub_sample_train = sorted(np.random.permutation(set_train)[:300])\n",
    "sub_sample_test  = sorted(np.random.permutation(set_test)[:300])"
   ]
  },
  {
   "cell_type": "code",
   "execution_count": 26,
   "metadata": {},
   "outputs": [],
   "source": [
    "dl_train = torch.utils.data.DataLoader(ds_train, batch_size=64, sampler=torch.utils.data.SubsetRandomSampler(set_train))\n",
    "dl_test = torch.utils.data.DataLoader(ds_test,  batch_size=64, sampler=torch.utils.data.SubsetRandomSampler(set_test))\n",
    "dl_sub_train = torch.utils.data.DataLoader(ds_train,  batch_size=64, sampler=torch.utils.data.SubsetRandomSampler(sub_sample_train))\n",
    "dl_sub_test = torch.utils.data.DataLoader(ds_test,  batch_size=64, sampler=torch.utils.data.SubsetRandomSampler(sub_sample_test))"
   ]
  },
  {
   "cell_type": "code",
   "execution_count": 27,
   "metadata": {},
   "outputs": [],
   "source": [
    "x,y = next(iter(dl_train))"
   ]
  },
  {
   "cell_type": "code",
   "execution_count": 28,
   "metadata": {},
   "outputs": [
    {
     "data": {
      "text/plain": [
       "torch.Size([64])"
      ]
     },
     "execution_count": 28,
     "metadata": {},
     "output_type": "execute_result"
    }
   ],
   "source": [
    "y.shape"
   ]
  },
  {
   "cell_type": "code",
   "execution_count": 29,
   "metadata": {},
   "outputs": [
    {
     "data": {
      "text/plain": [
       "tensor([78, 64, 20, 19, 34, 34, 28, 25, 28, 26, 89, 85, 64, 47, 70, 45, 39, 50,\n",
       "        86, 46, 53, 31, 97, 85, 88, 97, 47, 44,  1, 25, 25, 67, 11, 69,  3, 32,\n",
       "        25, 37, 88, 84, 64, 25,  1, 10, 11, 64, 85, 41, 39, 84, 37, 85, 46, 41,\n",
       "        78, 41, 63, 86, 69, 64, 63, 27, 78, 84])"
      ]
     },
     "execution_count": 29,
     "metadata": {},
     "output_type": "execute_result"
    }
   ],
   "source": [
    "y"
   ]
  },
  {
   "cell_type": "code",
   "execution_count": 30,
   "metadata": {},
   "outputs": [],
   "source": [
    "from pytorch_metric_learning import losses\n",
    "loss_func = losses.ArcFaceLoss(num_classes=100,embedding_size=512)\n"
   ]
  },
  {
   "cell_type": "code",
   "execution_count": 31,
   "metadata": {},
   "outputs": [
    {
     "name": "stdout",
     "output_type": "stream",
     "text": [
      "Defaulting to user installation because normal site-packages is not writeable\n",
      "Requirement already satisfied: wandb in /home/ubuntu/.local/lib/python3.7/site-packages (0.16.6)\n",
      "Requirement already satisfied: setproctitle in /home/ubuntu/.local/lib/python3.7/site-packages (from wandb) (1.3.3)\n",
      "Requirement already satisfied: protobuf!=4.21.0,<5,>=3.12.0 in /home/ubuntu/.local/lib/python3.7/site-packages (from wandb) (4.24.4)\n",
      "Requirement already satisfied: Click!=8.0.0,>=7.1 in /home/ubuntu/.local/lib/python3.7/site-packages (from wandb) (8.1.7)\n",
      "Requirement already satisfied: PyYAML in /opt/conda/lib/python3.7/site-packages (from wandb) (6.0)\n",
      "Requirement already satisfied: setuptools in /opt/conda/lib/python3.7/site-packages (from wandb) (61.2.0)\n",
      "Requirement already satisfied: requests<3,>=2.0.0 in /opt/conda/lib/python3.7/site-packages (from wandb) (2.27.1)\n",
      "Requirement already satisfied: typing-extensions in /opt/conda/lib/python3.7/site-packages (from wandb) (4.3.0)\n",
      "Requirement already satisfied: appdirs>=1.4.3 in /home/ubuntu/.local/lib/python3.7/site-packages (from wandb) (1.4.4)\n",
      "Requirement already satisfied: GitPython!=3.1.29,>=1.0.0 in /home/ubuntu/.local/lib/python3.7/site-packages (from wandb) (3.1.43)\n",
      "Requirement already satisfied: sentry-sdk>=1.0.0 in /home/ubuntu/.local/lib/python3.7/site-packages (from wandb) (2.1.1)\n",
      "Requirement already satisfied: docker-pycreds>=0.4.0 in /home/ubuntu/.local/lib/python3.7/site-packages (from wandb) (0.4.0)\n",
      "Requirement already satisfied: psutil>=5.0.0 in /opt/conda/lib/python3.7/site-packages (from wandb) (5.8.0)\n",
      "Requirement already satisfied: importlib-metadata in /opt/conda/lib/python3.7/site-packages (from Click!=8.0.0,>=7.1->wandb) (4.12.0)\n",
      "Requirement already satisfied: six>=1.4.0 in /opt/conda/lib/python3.7/site-packages (from docker-pycreds>=0.4.0->wandb) (1.16.0)\n",
      "Requirement already satisfied: gitdb<5,>=4.0.1 in /home/ubuntu/.local/lib/python3.7/site-packages (from GitPython!=3.1.29,>=1.0.0->wandb) (4.0.11)\n",
      "Requirement already satisfied: certifi>=2017.4.17 in /opt/conda/lib/python3.7/site-packages (from requests<3,>=2.0.0->wandb) (2022.6.15)\n",
      "Requirement already satisfied: charset-normalizer~=2.0.0 in /opt/conda/lib/python3.7/site-packages (from requests<3,>=2.0.0->wandb) (2.0.4)\n",
      "Requirement already satisfied: idna<4,>=2.5 in /opt/conda/lib/python3.7/site-packages (from requests<3,>=2.0.0->wandb) (3.3)\n",
      "Requirement already satisfied: urllib3<1.27,>=1.21.1 in /home/ubuntu/.local/lib/python3.7/site-packages (from requests<3,>=2.0.0->wandb) (1.26.18)\n",
      "Requirement already satisfied: smmap<6,>=3.0.1 in /home/ubuntu/.local/lib/python3.7/site-packages (from gitdb<5,>=4.0.1->GitPython!=3.1.29,>=1.0.0->wandb) (5.0.1)\n",
      "Requirement already satisfied: zipp>=0.5 in /opt/conda/lib/python3.7/site-packages (from importlib-metadata->Click!=8.0.0,>=7.1->wandb) (3.8.1)\n"
     ]
    }
   ],
   "source": [
    "!pip install wandb"
   ]
  },
  {
   "cell_type": "code",
   "execution_count": 32,
   "metadata": {},
   "outputs": [],
   "source": [
    "import wandb"
   ]
  },
  {
   "cell_type": "code",
   "execution_count": 33,
   "metadata": {},
   "outputs": [
    {
     "name": "stderr",
     "output_type": "stream",
     "text": [
      "Failed to detect the name of this notebook, you can set it manually with the WANDB_NOTEBOOK_NAME environment variable to enable code saving.\n",
      "\u001b[34m\u001b[1mwandb\u001b[0m: Currently logged in as: \u001b[33medson-matsubara\u001b[0m (\u001b[33mlablia\u001b[0m). Use \u001b[1m`wandb login --relogin`\u001b[0m to force relogin\n"
     ]
    },
    {
     "data": {
      "text/html": [
       "wandb version 0.17.0 is available!  To upgrade, please run:\n",
       " $ pip install wandb --upgrade"
      ],
      "text/plain": [
       "<IPython.core.display.HTML object>"
      ]
     },
     "metadata": {},
     "output_type": "display_data"
    },
    {
     "data": {
      "text/html": [
       "Tracking run with wandb version 0.16.6"
      ],
      "text/plain": [
       "<IPython.core.display.HTML object>"
      ]
     },
     "metadata": {},
     "output_type": "display_data"
    },
    {
     "data": {
      "text/html": [
       "Run data is saved locally in <code>/home/ubuntu/lialib/colab/wandb/run-20240513_192601-1z3ejkbk</code>"
      ],
      "text/plain": [
       "<IPython.core.display.HTML object>"
      ]
     },
     "metadata": {},
     "output_type": "display_data"
    },
    {
     "data": {
      "text/html": [
       "Syncing run <strong><a href='https://wandb.ai/lablia/clip%2Bdmil/runs/1z3ejkbk' target=\"_blank\">electric-wildflower-15</a></strong> to <a href='https://wandb.ai/lablia/clip%2Bdmil' target=\"_blank\">Weights & Biases</a> (<a href='https://wandb.me/run' target=\"_blank\">docs</a>)<br/>"
      ],
      "text/plain": [
       "<IPython.core.display.HTML object>"
      ]
     },
     "metadata": {},
     "output_type": "display_data"
    },
    {
     "data": {
      "text/html": [
       " View project at <a href='https://wandb.ai/lablia/clip%2Bdmil' target=\"_blank\">https://wandb.ai/lablia/clip%2Bdmil</a>"
      ],
      "text/plain": [
       "<IPython.core.display.HTML object>"
      ]
     },
     "metadata": {},
     "output_type": "display_data"
    },
    {
     "data": {
      "text/html": [
       " View run at <a href='https://wandb.ai/lablia/clip%2Bdmil/runs/1z3ejkbk' target=\"_blank\">https://wandb.ai/lablia/clip%2Bdmil/runs/1z3ejkbk</a>"
      ],
      "text/plain": [
       "<IPython.core.display.HTML object>"
      ]
     },
     "metadata": {},
     "output_type": "display_data"
    },
    {
     "data": {
      "text/html": [
       "<button onClick=\"this.nextSibling.style.display='block';this.style.display='none';\">Display W&B run</button><iframe src='https://wandb.ai/lablia/clip%2Bdmil/runs/1z3ejkbk?jupyter=true' style='border:none;width:100%;height:420px;display:none;'></iframe>"
      ],
      "text/plain": [
       "<wandb.sdk.wandb_run.Run at 0x7feee7fb1190>"
      ]
     },
     "execution_count": 33,
     "metadata": {},
     "output_type": "execute_result"
    }
   ],
   "source": [
    "wandb.init(\n",
    "    # set the wandb project where this run will be logged\n",
    "    project=\"clip+dmil\",\n",
    ")"
   ]
  },
  {
   "cell_type": "code",
   "execution_count": 34,
   "metadata": {},
   "outputs": [],
   "source": [
    "\n",
    "opt = optim.Adam(model.parameters(),lr=0.001)"
   ]
  },
  {
   "cell_type": "code",
   "execution_count": 35,
   "metadata": {},
   "outputs": [],
   "source": [
    "scheduler = optim.lr_scheduler.MultiStepLR(opt,milestones=[45,90],gamma=0.1)"
   ]
  },
  {
   "cell_type": "code",
   "execution_count": 36,
   "metadata": {},
   "outputs": [
    {
     "data": {
      "text/plain": [
       "ResNet(\n",
       "  (conv1): Conv2d(3, 64, kernel_size=(7, 7), stride=(2, 2), padding=(3, 3), bias=False)\n",
       "  (bn1): BatchNorm2d(64, eps=1e-05, momentum=0.1, affine=True, track_running_stats=True)\n",
       "  (relu): ReLU(inplace=True)\n",
       "  (maxpool): MaxPool2d(kernel_size=3, stride=2, padding=1, dilation=1, ceil_mode=False)\n",
       "  (layer1): Sequential(\n",
       "    (0): BasicBlock(\n",
       "      (conv1): Conv2d(64, 64, kernel_size=(3, 3), stride=(1, 1), padding=(1, 1), bias=False)\n",
       "      (bn1): BatchNorm2d(64, eps=1e-05, momentum=0.1, affine=True, track_running_stats=True)\n",
       "      (relu): ReLU(inplace=True)\n",
       "      (conv2): Conv2d(64, 64, kernel_size=(3, 3), stride=(1, 1), padding=(1, 1), bias=False)\n",
       "      (bn2): BatchNorm2d(64, eps=1e-05, momentum=0.1, affine=True, track_running_stats=True)\n",
       "    )\n",
       "    (1): BasicBlock(\n",
       "      (conv1): Conv2d(64, 64, kernel_size=(3, 3), stride=(1, 1), padding=(1, 1), bias=False)\n",
       "      (bn1): BatchNorm2d(64, eps=1e-05, momentum=0.1, affine=True, track_running_stats=True)\n",
       "      (relu): ReLU(inplace=True)\n",
       "      (conv2): Conv2d(64, 64, kernel_size=(3, 3), stride=(1, 1), padding=(1, 1), bias=False)\n",
       "      (bn2): BatchNorm2d(64, eps=1e-05, momentum=0.1, affine=True, track_running_stats=True)\n",
       "    )\n",
       "  )\n",
       "  (layer2): Sequential(\n",
       "    (0): BasicBlock(\n",
       "      (conv1): Conv2d(64, 128, kernel_size=(3, 3), stride=(2, 2), padding=(1, 1), bias=False)\n",
       "      (bn1): BatchNorm2d(128, eps=1e-05, momentum=0.1, affine=True, track_running_stats=True)\n",
       "      (relu): ReLU(inplace=True)\n",
       "      (conv2): Conv2d(128, 128, kernel_size=(3, 3), stride=(1, 1), padding=(1, 1), bias=False)\n",
       "      (bn2): BatchNorm2d(128, eps=1e-05, momentum=0.1, affine=True, track_running_stats=True)\n",
       "      (downsample): Sequential(\n",
       "        (0): Conv2d(64, 128, kernel_size=(1, 1), stride=(2, 2), bias=False)\n",
       "        (1): BatchNorm2d(128, eps=1e-05, momentum=0.1, affine=True, track_running_stats=True)\n",
       "      )\n",
       "    )\n",
       "    (1): BasicBlock(\n",
       "      (conv1): Conv2d(128, 128, kernel_size=(3, 3), stride=(1, 1), padding=(1, 1), bias=False)\n",
       "      (bn1): BatchNorm2d(128, eps=1e-05, momentum=0.1, affine=True, track_running_stats=True)\n",
       "      (relu): ReLU(inplace=True)\n",
       "      (conv2): Conv2d(128, 128, kernel_size=(3, 3), stride=(1, 1), padding=(1, 1), bias=False)\n",
       "      (bn2): BatchNorm2d(128, eps=1e-05, momentum=0.1, affine=True, track_running_stats=True)\n",
       "    )\n",
       "  )\n",
       "  (layer3): Sequential(\n",
       "    (0): BasicBlock(\n",
       "      (conv1): Conv2d(128, 256, kernel_size=(3, 3), stride=(2, 2), padding=(1, 1), bias=False)\n",
       "      (bn1): BatchNorm2d(256, eps=1e-05, momentum=0.1, affine=True, track_running_stats=True)\n",
       "      (relu): ReLU(inplace=True)\n",
       "      (conv2): Conv2d(256, 256, kernel_size=(3, 3), stride=(1, 1), padding=(1, 1), bias=False)\n",
       "      (bn2): BatchNorm2d(256, eps=1e-05, momentum=0.1, affine=True, track_running_stats=True)\n",
       "      (downsample): Sequential(\n",
       "        (0): Conv2d(128, 256, kernel_size=(1, 1), stride=(2, 2), bias=False)\n",
       "        (1): BatchNorm2d(256, eps=1e-05, momentum=0.1, affine=True, track_running_stats=True)\n",
       "      )\n",
       "    )\n",
       "    (1): BasicBlock(\n",
       "      (conv1): Conv2d(256, 256, kernel_size=(3, 3), stride=(1, 1), padding=(1, 1), bias=False)\n",
       "      (bn1): BatchNorm2d(256, eps=1e-05, momentum=0.1, affine=True, track_running_stats=True)\n",
       "      (relu): ReLU(inplace=True)\n",
       "      (conv2): Conv2d(256, 256, kernel_size=(3, 3), stride=(1, 1), padding=(1, 1), bias=False)\n",
       "      (bn2): BatchNorm2d(256, eps=1e-05, momentum=0.1, affine=True, track_running_stats=True)\n",
       "    )\n",
       "  )\n",
       "  (layer4): Sequential(\n",
       "    (0): BasicBlock(\n",
       "      (conv1): Conv2d(256, 512, kernel_size=(3, 3), stride=(2, 2), padding=(1, 1), bias=False)\n",
       "      (bn1): BatchNorm2d(512, eps=1e-05, momentum=0.1, affine=True, track_running_stats=True)\n",
       "      (relu): ReLU(inplace=True)\n",
       "      (conv2): Conv2d(512, 512, kernel_size=(3, 3), stride=(1, 1), padding=(1, 1), bias=False)\n",
       "      (bn2): BatchNorm2d(512, eps=1e-05, momentum=0.1, affine=True, track_running_stats=True)\n",
       "      (downsample): Sequential(\n",
       "        (0): Conv2d(256, 512, kernel_size=(1, 1), stride=(2, 2), bias=False)\n",
       "        (1): BatchNorm2d(512, eps=1e-05, momentum=0.1, affine=True, track_running_stats=True)\n",
       "      )\n",
       "    )\n",
       "    (1): BasicBlock(\n",
       "      (conv1): Conv2d(512, 512, kernel_size=(3, 3), stride=(1, 1), padding=(1, 1), bias=False)\n",
       "      (bn1): BatchNorm2d(512, eps=1e-05, momentum=0.1, affine=True, track_running_stats=True)\n",
       "      (relu): ReLU(inplace=True)\n",
       "      (conv2): Conv2d(512, 512, kernel_size=(3, 3), stride=(1, 1), padding=(1, 1), bias=False)\n",
       "      (bn2): BatchNorm2d(512, eps=1e-05, momentum=0.1, affine=True, track_running_stats=True)\n",
       "    )\n",
       "  )\n",
       "  (avgpool): AdaptiveAvgPool2d(output_size=(1, 1))\n",
       "  (fc): Linear(in_features=512, out_features=512, bias=True)\n",
       ")"
      ]
     },
     "execution_count": 36,
     "metadata": {},
     "output_type": "execute_result"
    }
   ],
   "source": [
    "model.to(device)"
   ]
  },
  {
   "cell_type": "code",
   "execution_count": 37,
   "metadata": {},
   "outputs": [],
   "source": [
    "emb = model(x.to(device))"
   ]
  },
  {
   "cell_type": "code",
   "execution_count": 40,
   "metadata": {},
   "outputs": [
    {
     "data": {
      "text/plain": [
       "torch.Size([64, 512])"
      ]
     },
     "execution_count": 40,
     "metadata": {},
     "output_type": "execute_result"
    }
   ],
   "source": [
    "emb.shape"
   ]
  },
  {
   "cell_type": "code",
   "execution_count": 46,
   "metadata": {},
   "outputs": [
    {
     "data": {
      "text/plain": [
       "torch.return_types.max(\n",
       "values=tensor([ 4.2069e-01,  5.9758e-01,  2.2385e+00,  1.3567e-01,  3.8742e-02,\n",
       "         6.0325e-01,  2.5481e-01,  1.3850e-01,  1.1119e+00,  7.2732e-01,\n",
       "         5.1480e-01, -1.0458e-01,  2.5447e-01,  7.9023e-01,  1.5948e-01,\n",
       "        -1.5512e-01,  1.7447e+00,  4.0671e-01,  3.1132e-02,  4.1793e-01,\n",
       "         1.4596e+00,  4.1460e-01, -6.3997e-02, -5.0993e-01,  1.6078e+00,\n",
       "         5.7283e-01,  6.4162e-01,  3.9036e-01,  2.2887e+00, -2.4906e-01,\n",
       "         1.1467e-01, -7.7433e-02,  9.7922e-01,  1.1407e-01,  8.6088e-02,\n",
       "         5.1566e-01,  5.4188e-01,  1.3553e+00,  2.7462e-01, -2.4379e-01,\n",
       "        -5.3326e-02,  2.8988e-01,  1.1924e+00,  1.2012e-01, -8.1083e-02,\n",
       "         7.0074e-01,  3.0859e-01,  7.1555e-01,  1.5813e+00,  2.9214e-01,\n",
       "         2.6118e+00,  2.0291e-01,  1.9045e+00,  4.9917e-01,  5.5248e-01,\n",
       "         9.9521e-01, -8.6064e-02,  2.0266e-01,  6.9594e-01,  4.4497e-01,\n",
       "        -1.8118e-01, -4.4330e-01,  2.6919e-02,  4.6113e-01,  5.1345e-01,\n",
       "        -3.8046e-01,  1.3746e-01,  1.9721e-01, -8.8084e-03, -1.4173e-01,\n",
       "         5.9163e-02, -2.1737e-01, -3.7943e-02,  2.9989e+00,  7.7356e-01,\n",
       "        -1.4546e-01,  7.4194e-01,  1.0785e+00,  4.2504e-01,  9.3678e-01,\n",
       "        -5.6855e-01,  1.7740e+00,  3.5819e-01,  1.5314e+00, -5.3581e-01,\n",
       "         3.4636e-01,  2.6353e-01, -1.7157e-01,  8.5480e-01,  6.5052e-03,\n",
       "         2.6855e+00,  5.3718e-01,  6.3527e-02, -1.2484e-01,  9.7030e-04,\n",
       "         2.0771e+00, -2.3882e-03,  9.1506e-01,  2.3743e+00,  1.8387e-01,\n",
       "         2.2747e+00,  1.8703e+00,  8.8046e-01,  7.0581e-01,  2.6624e+00,\n",
       "         7.9768e-01,  2.7853e+00,  7.3102e-01, -1.0865e-01,  2.6849e-01,\n",
       "         1.2680e+00,  3.2731e-01,  6.5996e-01, -3.3235e-01,  1.7412e+00,\n",
       "        -1.9745e-01,  1.1463e-01,  1.2247e+00,  3.6801e-01, -1.4384e-02,\n",
       "         1.2992e-01, -3.1332e-01, -5.9233e-01,  1.5580e+00,  1.6998e-02,\n",
       "        -1.1059e-01, -1.4496e-02, -2.2769e-02,  1.1630e+00,  5.2103e-02,\n",
       "         9.8401e-01,  6.1526e-01,  1.0841e+00, -5.4558e-02,  3.7551e-01,\n",
       "        -5.0052e-01, -4.4657e-02,  7.4512e-02, -4.6666e-01,  1.5782e+00,\n",
       "         3.1867e-01,  5.1868e-01, -4.0630e-01,  1.1390e+00,  1.7186e+00,\n",
       "         2.5023e+00,  1.2516e+00,  8.9445e-01,  5.2725e-01,  4.4284e-01,\n",
       "         7.6175e-01, -1.1680e-01,  1.4823e+00, -7.7914e-02,  1.3868e+00,\n",
       "         1.0664e+00,  3.2735e-02, -4.2136e-02,  1.0274e+00, -5.3467e-01,\n",
       "         6.9879e-01,  1.4891e+00,  5.9332e-01, -8.9381e-02,  9.2836e-01,\n",
       "         9.5690e-01,  5.9840e-01,  5.0479e-01,  9.8755e-01,  1.1226e+00,\n",
       "        -9.2110e-04,  3.1913e-02, -1.2395e-01,  1.5583e+00,  2.5605e+00,\n",
       "         3.1337e-01,  4.3751e-01,  6.0550e-01,  7.0553e-02,  4.0590e-01,\n",
       "         1.2334e-01,  2.0647e-01, -2.1978e-01,  2.3679e-01,  7.5231e-02,\n",
       "        -2.7218e-01,  1.9814e+00,  5.9190e-01,  3.0144e-01,  1.1605e+00,\n",
       "         1.2573e+00, -8.8470e-01, -2.1647e-01,  1.1884e+00,  1.8267e-01,\n",
       "        -1.4279e-01,  1.1419e+00, -4.0161e-01,  2.2061e-01, -1.8888e-01,\n",
       "        -7.8139e-01,  2.2310e-01, -5.7643e-01, -3.6499e-02, -4.2750e-01,\n",
       "         9.4722e-01,  1.2797e+00, -3.5690e-02,  1.1141e-01,  1.9821e-01,\n",
       "         2.9912e-01,  1.8561e+00,  3.7266e+00,  2.0849e+00,  6.4854e-01,\n",
       "         3.4547e-02,  4.6671e-01,  2.6455e+00,  1.3291e+00, -3.4069e-01,\n",
       "         1.0717e+00,  3.9404e-01,  7.9606e-01, -8.3437e-02,  2.3659e-01,\n",
       "         3.4986e-01,  2.8790e+00,  8.2122e-01,  7.5870e-01,  5.0852e-01,\n",
       "        -3.7834e-01,  1.8081e+00,  1.4041e+00,  1.1326e+00,  4.3991e-01,\n",
       "        -9.6204e-02,  7.5166e-01,  3.5002e-01,  1.8977e+00,  7.0648e-01,\n",
       "         1.0308e+00,  3.4482e-01,  5.2001e-01,  2.4951e-01,  5.0974e-01,\n",
       "        -6.6957e-01,  8.9739e-01,  8.4410e-01, -1.1169e-01,  1.5448e+00,\n",
       "         1.1639e+00,  6.0549e-01,  3.1849e-01, -3.3368e-02, -6.0078e-01,\n",
       "         1.8514e+00,  1.4098e+00,  1.5717e-02,  1.0330e+00,  6.5974e-01,\n",
       "        -1.6730e-01, -7.4783e-01, -1.8943e-01,  1.7648e+00,  1.5080e+00,\n",
       "         6.1963e-01, -3.2235e-01,  1.5834e+00, -2.9989e-01,  3.4688e-01,\n",
       "         1.8130e+00,  1.2601e-01, -1.7019e-01, -1.1675e-01,  5.5820e-01,\n",
       "         9.1772e-01,  1.3528e+00,  7.9588e-02, -7.6738e-02,  1.6995e-01,\n",
       "        -1.7416e-01,  2.7864e-01,  1.3747e-01,  1.0372e-01, -2.4636e-01,\n",
       "         1.1044e+00,  5.5901e-01,  1.6080e+00,  5.5657e-01, -7.4756e-01,\n",
       "         1.0141e+00,  3.2964e-02, -3.4650e-01,  1.1025e+00,  3.9482e+00,\n",
       "         3.5990e+00,  4.1511e-01,  1.2120e+00,  5.1612e-03, -6.1833e-01,\n",
       "         3.0998e+00,  2.3263e+00, -6.3978e-03,  2.7529e-01, -1.6541e-01,\n",
       "         3.6210e-01, -7.1995e-02, -8.2122e-02,  1.3148e-01, -1.1107e-02,\n",
       "         1.4176e+00, -3.5689e-01,  2.6648e-01,  8.3075e-01,  8.4404e-01,\n",
       "         1.3133e+00, -4.8523e-01,  1.2598e-01,  1.0678e+00, -6.5034e-02,\n",
       "         2.3527e-01,  1.2925e+00,  8.7907e-01,  6.0285e-01,  2.0216e+00,\n",
       "        -4.3140e-01,  9.0779e-01,  4.9320e-01, -1.1842e-01,  1.8307e+00,\n",
       "        -1.5467e-01, -1.0505e+00,  1.6475e-01,  4.5235e-01,  1.3179e+00,\n",
       "         1.0090e+00,  7.2530e-01,  1.6597e+00,  1.2156e-01,  3.5449e-01,\n",
       "         1.8289e+00,  4.1765e-01,  2.1374e+00,  2.4430e+00,  1.7459e+00,\n",
       "         1.0874e-02,  6.6689e-01, -6.7720e-02,  2.3677e-01, -8.0087e-01,\n",
       "         2.0736e+00,  3.3428e+00,  1.6307e+00,  1.8436e-01,  2.3939e+00,\n",
       "         1.1052e+00, -1.9853e-01,  4.4125e-01,  3.1725e-01,  1.6929e+00,\n",
       "         1.3976e+00,  4.2746e-01,  2.7658e+00,  1.9724e+00, -1.5813e-01,\n",
       "         3.1843e-01,  1.4347e-01,  5.4339e-01,  8.0124e-01,  4.7845e-02,\n",
       "         3.2580e-01, -7.0214e-01,  3.9132e-01,  9.4544e-01,  2.0155e-01,\n",
       "         5.1013e-01,  1.4849e-01,  3.8358e-01,  7.7040e-01,  3.7931e-01,\n",
       "        -3.6679e-02,  8.9576e-02, -4.0077e-01,  5.4777e-01,  2.8393e+00,\n",
       "         1.8334e-01,  1.4883e+00, -2.6432e-01,  4.6113e-01,  5.5679e-04,\n",
       "         2.9214e-01,  1.0869e+00, -3.3806e-02, -5.4248e-01,  1.2550e+00,\n",
       "         1.2476e+00, -2.6222e-01,  1.0535e+00,  1.8925e+00,  3.5346e-01,\n",
       "         2.5314e-01,  2.3869e+00, -4.2230e-01,  1.7636e+00,  3.3366e-01,\n",
       "        -2.1242e-01,  2.2111e+00, -3.4938e-01,  2.6320e+00,  3.6137e-01,\n",
       "        -1.0726e-01,  6.3074e-01,  2.9898e+00,  2.0384e-03,  1.9603e-01,\n",
       "         1.7369e+00,  9.8442e-01,  2.0778e+00,  1.0115e+00,  1.0640e-01,\n",
       "         2.2301e-01, -3.7052e-01, -5.1254e-01, -3.7578e-01,  5.1929e-01,\n",
       "        -8.5292e-01,  3.9863e-01,  1.1634e+00,  1.2769e+00,  1.0865e+00,\n",
       "         8.3957e-01,  5.6766e-01,  5.0753e-01,  9.7582e-01,  3.2939e-02,\n",
       "         1.2172e-01,  2.7182e-01,  1.9932e+00,  2.5470e+00,  5.2212e-01,\n",
       "         5.8523e-01,  1.7298e-01,  9.5875e-01, -1.1198e-01,  6.4222e-01,\n",
       "         8.7847e-01,  5.5360e-01,  8.7251e-01,  1.4027e+00,  3.2190e-01,\n",
       "         2.2289e+00,  1.9356e+00, -4.4996e-01,  4.5178e-01,  2.4998e+00,\n",
       "        -3.6099e-02,  1.7970e+00, -2.0158e-01,  3.6969e-01,  9.7682e-02,\n",
       "         2.7273e-01,  3.4854e-01,  5.3733e-01, -2.9117e-01, -3.4366e-02,\n",
       "         8.8829e-01,  1.9168e-01,  2.2310e-01,  2.0523e+00, -2.0569e-02,\n",
       "         4.4507e-01, -2.2528e-01,  1.2668e-01, -6.9299e-02,  1.2266e+00,\n",
       "        -5.6367e-01,  5.5345e-01,  3.1827e-01,  1.2964e+00,  4.1654e-01,\n",
       "         9.9184e-01,  6.8286e-01,  2.8934e-01, -5.8019e-01,  3.1227e-01,\n",
       "         1.4063e+00,  1.7468e+00,  4.3104e-01,  2.1728e-02,  8.3648e-03,\n",
       "         1.2953e-01,  7.8385e-01, -5.2778e-01,  3.1581e-01,  1.4954e-02,\n",
       "         6.0827e-01,  2.4140e-01,  4.3839e-01, -6.2353e-02,  4.7724e-01,\n",
       "         4.8805e-01,  3.7257e-01,  1.5896e-01, -2.3635e-01,  2.4490e+00,\n",
       "         1.9594e+00,  1.0752e+00,  4.6068e-02,  4.4802e-01,  9.4337e-01,\n",
       "        -3.0421e-01,  8.5165e-02], device='cuda:0', grad_fn=<MaxBackward0>),\n",
       "indices=tensor([28, 20, 20, 31, 54, 31, 12, 20, 20, 52, 46, 41, 20, 20, 40,  8, 20, 57,\n",
       "        31,  8, 20, 31,  4, 12, 20, 20, 20, 31, 20,  6, 54,  7, 31,  8, 20, 57,\n",
       "        35, 20, 40, 61, 13, 23, 31,  4, 14, 32,  4, 32, 20, 21, 20, 20, 20, 16,\n",
       "         1, 31, 45, 43, 10, 54,  6,  8, 41, 20, 20, 37,  3, 57,  8,  6, 32, 18,\n",
       "        16, 20, 38, 31, 20, 20, 12, 32, 63, 20, 12, 20,  4, 46, 58, 36, 31, 19,\n",
       "        20, 35, 12, 26, 46, 20, 19, 20, 20, 20, 20, 20, 20, 20, 20, 20, 20, 20,\n",
       "        48,  6, 20, 12, 46, 14, 20, 53, 58, 31, 40, 61, 10,  8, 15, 31, 29, 29,\n",
       "         8, 12, 35, 54, 20, 31, 20, 43, 46, 51,  6, 16,  8, 20, 35, 57, 31,  2,\n",
       "        20, 20, 20, 20, 20, 47, 47, 53, 20, 46, 20,  1, 16, 44, 31, 63, 20, 47,\n",
       "        20, 45, 32, 20, 57, 20, 20, 32, 20,  6,  4, 20, 20, 57, 31, 32,  8,  8,\n",
       "        43, 40, 41, 20, 56, 27, 31, 52, 20, 35, 20, 22,  8, 20,  8, 18, 47, 45,\n",
       "         6, 46, 45, 20, 17, 53, 61, 20, 20, 43, 31, 47, 12, 31, 20, 20, 57, 20,\n",
       "        20, 20, 20, 24, 20, 60, 20, 54,  8, 27, 20, 10, 12,  3, 46, 20, 20, 20,\n",
       "        47, 46, 20, 20, 20, 14, 20, 13, 48, 26, 31, 54, 47, 31, 46, 20, 20, 24,\n",
       "        22, 44, 53, 20, 20, 26, 20, 20,  8, 54,  7, 20, 20, 35, 57, 20,  8, 20,\n",
       "        20, 46, 20,  8, 29, 57, 20, 31, 14, 40, 44, 31, 43,  4, 46, 63, 57, 31,\n",
       "        31,  8, 20,  8, 31, 31, 20, 20, 31, 20, 12, 36, 20, 20, 20, 20,  8, 29,\n",
       "        24, 12, 38,  8, 20, 18, 32, 20, 35, 20, 38, 45, 20, 41,  8, 20, 20, 20,\n",
       "        20, 41, 32, 20, 58, 20, 57,  8,  8, 12, 20, 47, 31, 20, 31, 46, 20, 20,\n",
       "        20, 20, 20, 18, 17, 12, 46, 61, 20, 20, 20, 30, 20, 20, 28, 32, 53, 20,\n",
       "        20, 40, 20, 20, 15, 43, 14, 54, 20, 22, 20,  4, 29, 20, 31, 46, 20, 35,\n",
       "        20, 45, 41, 20, 27, 20, 20, 33, 20,  5, 20, 36, 57, 31, 14, 46, 20, 20,\n",
       "        54, 20, 31, 53,  7, 20,  6, 20, 31, 56, 20,  5, 20, 13, 18, 20, 20, 36,\n",
       "        36, 20, 20, 20, 20, 45, 31, 33, 20, 17, 63, 46, 32, 31, 20, 20, 57, 20,\n",
       "        20, 20, 25,  7, 57, 20, 20, 10,  6, 18, 48, 12, 20, 20, 16, 20, 31, 57,\n",
       "        20, 20, 41, 61, 20, 63, 20, 12, 32, 41, 57, 20, 39, 57, 46, 20, 26, 54,\n",
       "        20, 33, 31, 45,  8, 60, 20, 41, 27, 57, 20, 38, 20, 20,  4, 60, 54, 20,\n",
       "        20, 35, 29, 26, 56, 35, 46, 31,  1,  6, 20, 20, 32,  3, 57,  8, 47,  8,\n",
       "        20, 20, 20,  5, 20, 31,  4, 52], device='cuda:0'))"
      ]
     },
     "execution_count": 46,
     "metadata": {},
     "output_type": "execute_result"
    }
   ],
   "source": [
    "torch.max(emb,dim=0)"
   ]
  },
  {
   "cell_type": "code",
   "execution_count": 48,
   "metadata": {},
   "outputs": [
    {
     "data": {
      "text/plain": [
       "tensor([0.1444, 0.1047, 0.2382, 0.1949, 0.1767, 0.1568, 0.1537, 0.1508, 0.2137,\n",
       "        0.1231, 0.1478, 0.1755, 0.1162, 0.1297, 0.1752, 0.1826, 0.2080, 0.2031,\n",
       "        0.1270, 0.1385, 0.2166, 0.1322, 0.3300, 0.2825, 0.2785, 0.1222, 0.1313,\n",
       "        0.1345, 0.2887, 0.2581, 0.1243, 0.1875, 0.1413, 0.1510, 0.1060, 0.2241,\n",
       "        0.1041, 0.1895, 0.1177, 0.1688, 0.2203, 0.1823, 0.1651, 0.1812, 0.2072,\n",
       "        0.1238, 0.2912, 0.1421, 0.1856, 0.2220, 0.3703, 0.1247, 0.2520, 0.1666,\n",
       "        0.1132, 0.1658, 0.4648, 0.1365, 0.1555, 0.2742, 0.2393, 0.5840, 0.3056,\n",
       "        0.1421, 0.1414, 0.1879, 0.1195, 0.1495, 0.2430, 0.1372, 0.1249, 0.2403,\n",
       "        0.1108, 0.4051, 0.2203, 0.1364, 0.1917, 0.1612, 0.1042, 0.1287, 0.1548,\n",
       "        0.2026, 0.1765, 0.2015, 0.2341, 0.1668, 0.1245, 0.1547, 0.1369, 0.1003,\n",
       "        0.3630, 0.1627, 0.1433, 0.1240, 0.1446, 0.2166, 0.2700, 0.1498, 0.2389,\n",
       "        0.0862, 0.3041, 0.2236, 0.1320, 0.1557, 0.2477, 0.1083, 0.3085, 0.1951,\n",
       "        0.1251, 0.1617, 0.1837, 0.1832, 0.1866, 0.2355, 0.2622, 0.2515, 0.1936,\n",
       "        0.1603, 0.1075, 0.1954, 0.1228, 0.2999, 0.2155, 0.1622, 0.1369, 0.1106,\n",
       "        0.1872, 0.1409, 0.1789, 0.1860, 0.1921, 0.1206, 0.1687, 0.2725, 0.2527,\n",
       "        0.2837, 0.1991, 0.1442, 0.2659, 0.2163, 0.2036, 0.1298, 0.1240, 0.1072,\n",
       "        0.2561, 0.2682, 0.1903, 0.2151, 0.1225, 0.1578, 0.1389, 0.1704, 0.2459,\n",
       "        0.1450, 0.2241, 0.1849, 0.0998, 0.1264, 0.1279, 0.1059, 0.1294, 0.1483,\n",
       "        0.1702, 0.2406, 0.1410, 0.1725, 0.1066, 0.1126, 0.1788, 0.2200, 0.1052,\n",
       "        0.1969, 0.1137, 0.1877, 0.3386, 0.1284, 0.1318, 0.1353, 0.2484, 0.2028,\n",
       "        0.1381, 0.1143, 0.2504, 0.1069, 0.1371, 0.1027, 0.1843, 0.1422, 0.1480,\n",
       "        0.1742, 0.1986, 0.2244, 0.1361, 0.1651, 0.1924, 0.2187, 0.1617, 0.2589,\n",
       "        0.1231, 0.1720, 0.3149, 0.1182, 0.2405, 0.1246, 0.2841, 0.1605, 0.1288,\n",
       "        0.2758, 0.0921, 0.1127, 0.1243, 0.1658, 0.4634, 0.3046, 0.1096, 0.1257,\n",
       "        0.1632, 0.2979, 0.1619, 0.0943, 0.2109, 0.0835, 0.1288, 0.2656, 0.3851,\n",
       "        0.1291, 0.3297, 0.1410, 0.1065, 0.1043, 0.2638, 0.2715, 0.1898, 0.1900,\n",
       "        0.1347, 0.2185, 0.1281, 0.1572, 0.2264, 0.1282, 0.1703, 0.1888, 0.1272,\n",
       "        0.1521, 0.1132, 0.2425, 0.1299, 0.1295, 0.1068, 0.1539, 0.2016, 0.1244,\n",
       "        0.1943, 0.1102, 0.2080, 0.2076, 0.2531, 0.1456, 0.1562, 0.1254, 0.1832,\n",
       "        0.1368, 0.2840, 0.2257, 0.1867, 0.1470, 0.1222, 0.2255, 0.1454, 0.1298,\n",
       "        0.3018, 0.1585, 0.1745, 0.3014, 0.2149, 0.1349, 0.1739, 0.1253, 0.1575,\n",
       "        0.1067, 0.0967, 0.1936, 0.1554, 0.1463, 0.1743, 0.1267, 0.1326, 0.1648,\n",
       "        0.1340, 0.5119, 0.1811, 0.2019, 0.1648, 0.1115, 0.4478, 0.4629, 0.1246,\n",
       "        0.2011, 0.3487, 0.2496, 0.3362, 0.2884, 0.1040, 0.1194, 0.1641, 0.1557,\n",
       "        0.0693, 0.4125, 0.3135, 0.3052, 0.1864, 0.3056, 0.1150, 0.1290, 0.1508,\n",
       "        0.2232, 0.1239, 0.1691, 0.1670, 0.1224, 0.2759, 0.1314, 0.1646, 0.1777,\n",
       "        0.2970, 0.3641, 0.1171, 0.2139, 0.3506, 0.2724, 0.1355, 0.2129, 0.0983,\n",
       "        0.1146, 0.1806, 0.1547, 0.1579, 0.2491, 0.1658, 0.2115, 0.2113, 0.1317,\n",
       "        0.2595, 0.3314, 0.2646, 0.1538, 0.1652, 0.1729, 0.1867, 0.3311, 0.1935,\n",
       "        0.4724, 0.2226, 0.1287, 0.3091, 0.1815, 0.1897, 0.1315, 0.1376, 0.2060,\n",
       "        0.1963, 0.1566, 0.3088, 0.2595, 0.1021, 0.1986, 0.1354, 0.1169, 0.1306,\n",
       "        0.2081, 0.1142, 0.1365, 0.1241, 0.1694, 0.1412, 0.1497, 0.1227, 0.1283,\n",
       "        0.1451, 0.1997, 0.1537, 0.1584, 0.1101, 0.1002, 0.3541, 0.3170, 0.2162,\n",
       "        0.2157, 0.1318, 0.1164, 0.2612, 0.1179, 0.1331, 0.4221, 0.1715, 0.2241,\n",
       "        0.1229, 0.2065, 0.3388, 0.1125, 0.1282, 0.3221, 0.2916, 0.2121, 0.1188,\n",
       "        0.2893, 0.2239, 0.1154, 0.3323, 0.1284, 0.4076, 0.1139, 0.4115, 0.2315,\n",
       "        0.1120, 0.2104, 0.1587, 0.2919, 0.1496, 0.2490, 0.1041, 0.2289, 0.1290,\n",
       "        0.2822, 0.2078, 0.2160, 0.1175, 0.1774, 0.2237, 0.1881, 0.2363, 0.1314,\n",
       "        0.1166, 0.1817, 0.1690, 0.1391, 0.1565, 0.2326, 0.2838, 0.0942, 0.1107,\n",
       "        0.2570, 0.1031, 0.1400, 0.1527, 0.1463, 0.2146, 0.1631, 0.1734, 0.1518,\n",
       "        0.2719, 0.2588, 0.2624, 0.1653, 0.3791, 0.1275, 0.2885, 0.1193, 0.1630,\n",
       "        0.3018, 0.1526, 0.1173, 0.1078, 0.1926, 0.2980, 0.1504, 0.1284, 0.2848,\n",
       "        0.2891, 0.2892, 0.1590, 0.1593, 0.2112, 0.1405, 0.1745, 0.1892, 0.1139,\n",
       "        0.1838, 0.2382, 0.2421, 0.1635, 0.1418, 0.1094, 0.2421, 0.1795, 0.2073,\n",
       "        0.2886, 0.1432, 0.1113, 0.1925, 0.1366, 0.1553, 0.4135, 0.1464, 0.1402,\n",
       "        0.1123, 0.1516, 0.1625, 0.1753, 0.1423, 0.1437, 0.2270, 0.0938, 0.1828,\n",
       "        0.3890, 0.2695, 0.1919, 0.1353, 0.1844, 0.1267, 0.2315, 0.1496],\n",
       "       device='cuda:0', grad_fn=<StdBackward0>)"
      ]
     },
     "execution_count": 48,
     "metadata": {},
     "output_type": "execute_result"
    }
   ],
   "source": [
    "torch.std(emb,dim=0)"
   ]
  },
  {
   "cell_type": "code",
   "execution_count": 38,
   "metadata": {},
   "outputs": [
    {
     "data": {
      "text/plain": [
       "tensor([78, 64, 20, 19, 34, 34, 28, 25, 28, 26, 89, 85, 64, 47, 70, 45, 39, 50,\n",
       "        86, 46, 53, 31, 97, 85, 88, 97, 47, 44,  1, 25, 25, 67, 11, 69,  3, 32,\n",
       "        25, 37, 88, 84, 64, 25,  1, 10, 11, 64, 85, 41, 39, 84, 37, 85, 46, 41,\n",
       "        78, 41, 63, 86, 69, 64, 63, 27, 78, 84])"
      ]
     },
     "execution_count": 38,
     "metadata": {},
     "output_type": "execute_result"
    }
   ],
   "source": [
    "y"
   ]
  },
  {
   "cell_type": "code",
   "execution_count": 51,
   "metadata": {},
   "outputs": [],
   "source": [
    "from sklearn.manifold import TSNE"
   ]
  },
  {
   "cell_type": "code",
   "execution_count": 57,
   "metadata": {},
   "outputs": [
    {
     "data": {
      "text/plain": [
       "tensor([[ 0.1932,  0.2269,  0.8811,  ...,  0.6827, -0.6993, -0.3515],\n",
       "        [ 0.2132,  0.2689,  0.9015,  ...,  0.5296, -0.5968, -0.0841],\n",
       "        [ 0.0117,  0.2165,  0.6903,  ...,  0.4961, -0.7836, -0.2573],\n",
       "        ...,\n",
       "        [ 0.1014,  0.2884,  0.6751,  ...,  0.5806, -0.4240, -0.3492],\n",
       "        [-0.0475,  0.1421,  0.6518,  ...,  0.7068, -0.5045, -0.2642],\n",
       "        [ 0.1380,  0.2357,  0.7666,  ...,  0.8977, -0.8127, -0.1830]],\n",
       "       grad_fn=<ToCopyBackward0>)"
      ]
     },
     "execution_count": 57,
     "metadata": {},
     "output_type": "execute_result"
    }
   ],
   "source": [
    "emb.to('cpu')\n"
   ]
  },
  {
   "cell_type": "code",
   "execution_count": 92,
   "metadata": {},
   "outputs": [
    {
     "data": {
      "text/plain": [
       "(tensor(1.4532, device='cuda:0', grad_fn=<MaxBackward1>),\n",
       " tensor(-1.3681, device='cuda:0', grad_fn=<MinBackward1>),\n",
       " tensor(0.0016, device='cuda:0', grad_fn=<MeanBackward0>),\n",
       " tensor(0.4966, device='cuda:0', grad_fn=<StdBackward0>))"
      ]
     },
     "execution_count": 92,
     "metadata": {},
     "output_type": "execute_result"
    }
   ],
   "source": [
    "torch.max(emb[0]),torch.min(emb[0]),torch.mean(emb[0]),torch.std(emb[0])"
   ]
  },
  {
   "cell_type": "code",
   "execution_count": 217,
   "metadata": {},
   "outputs": [],
   "source": [
    "point = 28"
   ]
  },
  {
   "cell_type": "code",
   "execution_count": 246,
   "metadata": {},
   "outputs": [],
   "source": [
    "vizinhos = emb[point]+(torch.randn(100,512)/10000).to(device)"
   ]
  },
  {
   "cell_type": "code",
   "execution_count": 262,
   "metadata": {},
   "outputs": [
    {
     "data": {
      "text/plain": [
       "torch.Size([512])"
      ]
     },
     "execution_count": 262,
     "metadata": {},
     "output_type": "execute_result"
    }
   ],
   "source": [
    "emb[0].shape[0]"
   ]
  },
  {
   "cell_type": "code",
   "execution_count": 263,
   "metadata": {},
   "outputs": [
    {
     "data": {
      "text/plain": [
       "device(type='cuda', index=0)"
      ]
     },
     "execution_count": 263,
     "metadata": {},
     "output_type": "execute_result"
    }
   ],
   "source": [
    "emb[0].device"
   ]
  },
  {
   "cell_type": "code",
   "execution_count": 264,
   "metadata": {},
   "outputs": [],
   "source": [
    "def create_neighbors(emb,n_neighbors,):\n",
    "    return emb+(torch.randn(n_neighbors,emb.shape[0])/10000).to(emb.device)\n"
   ]
  },
  {
   "cell_type": "code",
   "execution_count": 247,
   "metadata": {},
   "outputs": [
    {
     "data": {
      "text/plain": [
       "tensor([[ 0.4207,  0.2511,  0.4806,  ...,  0.6509, -0.6031, -0.1632],\n",
       "        [ 0.4206,  0.2510,  0.4806,  ...,  0.6509, -0.6029, -0.1630],\n",
       "        [ 0.4207,  0.2511,  0.4805,  ...,  0.6509, -0.6030, -0.1633],\n",
       "        ...,\n",
       "        [ 0.4207,  0.2510,  0.4805,  ...,  0.6510, -0.6032, -0.1634],\n",
       "        [ 0.4207,  0.2510,  0.4805,  ...,  0.6509, -0.6030, -0.1632],\n",
       "        [ 0.4207,  0.2510,  0.4805,  ...,  0.6508, -0.6031, -0.1631]],\n",
       "       device='cuda:0', grad_fn=<AddBackward0>)"
      ]
     },
     "execution_count": 247,
     "metadata": {},
     "output_type": "execute_result"
    }
   ],
   "source": [
    "vizinhos"
   ]
  },
  {
   "cell_type": "code",
   "execution_count": 248,
   "metadata": {},
   "outputs": [
    {
     "data": {
      "text/plain": [
       "torch.Size([64, 512])"
      ]
     },
     "execution_count": 248,
     "metadata": {},
     "output_type": "execute_result"
    }
   ],
   "source": [
    "emb.shape"
   ]
  },
  {
   "cell_type": "code",
   "execution_count": 249,
   "metadata": {},
   "outputs": [
    {
     "data": {
      "text/plain": [
       "torch.Size([100, 512])"
      ]
     },
     "execution_count": 249,
     "metadata": {},
     "output_type": "execute_result"
    }
   ],
   "source": [
    "vizinhos.shape"
   ]
  },
  {
   "cell_type": "code",
   "execution_count": 250,
   "metadata": {},
   "outputs": [
    {
     "data": {
      "text/plain": [
       "tensor([[ 0.1932,  0.2269,  0.8811,  ...,  0.6827, -0.6993, -0.3515],\n",
       "        [ 0.2132,  0.2689,  0.9015,  ...,  0.5296, -0.5968, -0.0841],\n",
       "        [ 0.0117,  0.2165,  0.6903,  ...,  0.4961, -0.7836, -0.2573],\n",
       "        ...,\n",
       "        [ 0.4207,  0.2510,  0.4805,  ...,  0.6510, -0.6032, -0.1634],\n",
       "        [ 0.4207,  0.2510,  0.4805,  ...,  0.6509, -0.6030, -0.1632],\n",
       "        [ 0.4207,  0.2510,  0.4805,  ...,  0.6508, -0.6031, -0.1631]],\n",
       "       device='cuda:0', grad_fn=<CatBackward0>)"
      ]
     },
     "execution_count": 250,
     "metadata": {},
     "output_type": "execute_result"
    }
   ],
   "source": [
    "torch.cat([emb,vizinhos],dim=0)"
   ]
  },
  {
   "cell_type": "code",
   "execution_count": 251,
   "metadata": {},
   "outputs": [
    {
     "name": "stderr",
     "output_type": "stream",
     "text": [
      "/opt/conda/lib/python3.7/site-packages/sklearn/manifold/_t_sne.py:783: FutureWarning: The default initialization in TSNE will change from 'random' to 'pca' in 1.2.\n",
      "  FutureWarning,\n",
      "/opt/conda/lib/python3.7/site-packages/sklearn/manifold/_t_sne.py:793: FutureWarning: The default learning rate in TSNE will change from 200.0 to 'auto' in 1.2.\n",
      "  FutureWarning,\n"
     ]
    },
    {
     "name": "stdout",
     "output_type": "stream",
     "text": [
      "[t-SNE] Computing 91 nearest neighbors...\n",
      "[t-SNE] Indexed 164 samples in 0.000s...\n",
      "[t-SNE] Computed neighbors for 164 samples in 0.005s...\n",
      "[t-SNE] Computed conditional probabilities for sample 164 / 164\n",
      "[t-SNE] Mean sigma: 0.001381\n",
      "[t-SNE] KL divergence after 250 iterations with early exaggeration: 87.434036\n",
      "[t-SNE] KL divergence after 1000 iterations: 0.808244\n"
     ]
    }
   ],
   "source": [
    "\n",
    "tsne = TSNE(2, verbose=1)\n",
    "tsne_proj = tsne.fit_transform(torch.cat([emb,vizinhos],dim=0).to('cpu').detach().numpy())"
   ]
  },
  {
   "cell_type": "code",
   "execution_count": 252,
   "metadata": {},
   "outputs": [
    {
     "data": {
      "text/plain": [
       "tensor([78, 64, 20, 19, 34, 34, 28, 25, 28, 26, 89, 85, 64, 47, 70, 45, 39, 50,\n",
       "        86, 46, 53, 31, 97, 85, 88, 97, 47, 44,  1, 25, 25, 67, 11, 69,  3, 32,\n",
       "        25, 37, 88, 84, 64, 25,  1, 10, 11, 64, 85, 41, 39, 84, 37, 85, 46, 41,\n",
       "        78, 41, 63, 86, 69, 64, 63, 27, 78, 84])"
      ]
     },
     "execution_count": 252,
     "metadata": {},
     "output_type": "execute_result"
    }
   ],
   "source": [
    "y"
   ]
  },
  {
   "cell_type": "code",
   "execution_count": 253,
   "metadata": {},
   "outputs": [],
   "source": [
    "from matplotlib import cm\n",
    "import matplotlib.pyplot as plt"
   ]
  },
  {
   "cell_type": "code",
   "execution_count": 254,
   "metadata": {},
   "outputs": [
    {
     "data": {
      "text/plain": [
       "tensor(1)"
      ]
     },
     "execution_count": 254,
     "metadata": {},
     "output_type": "execute_result"
    }
   ],
   "source": [
    "y[point]"
   ]
  },
  {
   "cell_type": "code",
   "execution_count": 255,
   "metadata": {},
   "outputs": [],
   "source": [
    "test_targets = y"
   ]
  },
  {
   "cell_type": "code",
   "execution_count": 256,
   "metadata": {},
   "outputs": [],
   "source": [
    "y_viz = torch.tensor(y.tolist()+[y[point]]*100)"
   ]
  },
  {
   "cell_type": "code",
   "execution_count": 257,
   "metadata": {},
   "outputs": [
    {
     "data": {
      "text/plain": [
       "tensor(1)"
      ]
     },
     "execution_count": 257,
     "metadata": {},
     "output_type": "execute_result"
    }
   ],
   "source": [
    "y[28]"
   ]
  },
  {
   "cell_type": "code",
   "execution_count": 258,
   "metadata": {},
   "outputs": [
    {
     "data": {
      "text/plain": [
       "tensor([78, 64, 20, 19, 34, 34, 28, 25, 28, 26, 89, 85, 64, 47, 70, 45, 39, 50,\n",
       "        86, 46, 53, 31, 97, 85, 88, 97, 47, 44,  1, 25, 25, 67, 11, 69,  3, 32,\n",
       "        25, 37, 88, 84, 64, 25,  1, 10, 11, 64, 85, 41, 39, 84, 37, 85, 46, 41,\n",
       "        78, 41, 63, 86, 69, 64, 63, 27, 78, 84,  1,  1,  1,  1,  1,  1,  1,  1,\n",
       "         1,  1,  1,  1,  1,  1,  1,  1,  1,  1,  1,  1,  1,  1,  1,  1,  1,  1,\n",
       "         1,  1,  1,  1,  1,  1,  1,  1,  1,  1,  1,  1,  1,  1,  1,  1,  1,  1,\n",
       "         1,  1,  1,  1,  1,  1,  1,  1,  1,  1,  1,  1,  1,  1,  1,  1,  1,  1,\n",
       "         1,  1,  1,  1,  1,  1,  1,  1,  1,  1,  1,  1,  1,  1,  1,  1,  1,  1,\n",
       "         1,  1,  1,  1,  1,  1,  1,  1,  1,  1,  1,  1,  1,  1,  1,  1,  1,  1,\n",
       "         1,  1])"
      ]
     },
     "execution_count": 258,
     "metadata": {},
     "output_type": "execute_result"
    }
   ],
   "source": [
    "y_viz"
   ]
  },
  {
   "cell_type": "code",
   "execution_count": 259,
   "metadata": {},
   "outputs": [
    {
     "data": {
      "image/png": "[encoded data removed]",
      "text/plain": [
       "<Figure size 1440x1440 with 1 Axes>"
      ]
     },
     "metadata": {
      "needs_background": "light"
     },
     "output_type": "display_data"
    }
   ],
   "source": [
    "cmap = cm.get_cmap('tab10')\n",
    "fig, ax = plt.subplots(figsize=(20,20))\n",
    "num_categories = 100\n",
    "for lab in range(num_categories):\n",
    "    if lab in y_viz:\n",
    "        indices = y_viz==lab\n",
    "        ax.scatter(tsne_proj[indices,0],tsne_proj[indices,1], c=np.array(cmap(lab)).reshape(1,4), label = lab ,alpha=0.5)\n",
    "ax.legend(fontsize='large', markerscale=2)\n",
    "plt.show()"
   ]
  },
  {
   "cell_type": "code",
   "execution_count": 260,
   "metadata": {},
   "outputs": [
    {
     "data": {
      "text/plain": [
       "(array([ 1,  3, 10, 11, 19, 20, 25, 26, 27, 28, 31, 32, 34, 37, 39, 41, 44,\n",
       "        45, 46, 47, 50, 53, 63, 64, 67, 69, 70, 78, 84, 85, 86, 88, 89, 97]),\n",
       " array([2, 1, 1, 2, 1, 1, 5, 1, 1, 2, 1, 1, 2, 2, 2, 3, 1, 1, 2, 2, 1, 1,\n",
       "        2, 5, 1, 2, 1, 3, 3, 4, 2, 2, 1, 2]))"
      ]
     },
     "execution_count": 260,
     "metadata": {},
     "output_type": "execute_result"
    }
   ],
   "source": [
    "np.unique(y,return_counts=True)"
   ]
  },
  {
   "cell_type": "code",
   "execution_count": 75,
   "metadata": {},
   "outputs": [],
   "source": [
    "def get_embeddings(lmodel,dl):\n",
    "    lmodel.to(device)\n",
    "    loop = tqdm(dl)\n",
    "    lpred = []\n",
    "    ly = []\n",
    "    with torch.no_grad():\n",
    "        for x,y in loop:\n",
    "            x = x.to(device)\n",
    "            y = y.to(device)\n",
    "            pred = lmodel(x)\n",
    "            lpred = lpred+pred.tolist()\n",
    "            ly    = ly + y.tolist()\n",
    "    return lpred,ly"
   ]
  },
  {
   "cell_type": "code",
   "execution_count": 76,
   "metadata": {},
   "outputs": [],
   "source": [
    "import sklearn.neighbors as neighbors"
   ]
  },
  {
   "cell_type": "code",
   "execution_count": 77,
   "metadata": {},
   "outputs": [],
   "source": [
    "from sklearn.metrics import classification_report"
   ]
  },
  {
   "cell_type": "code",
   "execution_count": 78,
   "metadata": {},
   "outputs": [],
   "source": [
    "def pred_knn_model(model,dl_local_train,dl_local_test):\n",
    "    train_emb,train_y = get_embeddings(model,dl_local_train)\n",
    "    test_emb,test_y   = get_embeddings(model,dl_local_test)\n",
    "    train_emb  = np.array(train_emb)\n",
    "    train_y    = np.array(train_y)\n",
    "    test_emb   = np.array(test_emb)\n",
    "    test_y     = np.array(test_y)\n",
    "    clf = neighbors.KNeighborsClassifier(n_neighbors=1,weights='distance')\n",
    "    clf.fit(train_emb,train_y.T)\n",
    "    pred = clf.predict(test_emb)\n",
    "    return pred,test_y\n"
   ]
  },
  {
   "cell_type": "code",
   "execution_count": 79,
   "metadata": {},
   "outputs": [
    {
     "name": "stderr",
     "output_type": "stream",
     "text": [
      "100%|██████████| 5/5 [00:00<00:00,  7.50it/s]\n",
      "100%|██████████| 5/5 [00:00<00:00,  8.62it/s]\n"
     ]
    }
   ],
   "source": [
    "pred,test_y = pred_knn_model(model,dl_sub_train,dl_sub_test)"
   ]
  },
  {
   "cell_type": "code",
   "execution_count": 80,
   "metadata": {},
   "outputs": [
    {
     "data": {
      "text/plain": [
       "((300,), (300,))"
      ]
     },
     "execution_count": 80,
     "metadata": {},
     "output_type": "execute_result"
    }
   ],
   "source": [
    "pred.shape,test_y.T.shape"
   ]
  },
  {
   "cell_type": "code",
   "execution_count": 81,
   "metadata": {},
   "outputs": [
    {
     "name": "stdout",
     "output_type": "stream",
     "text": [
      "              precision    recall  f1-score   support\n",
      "\n",
      "           0       0.00      0.00      0.00         6\n",
      "           1       0.12      0.33      0.18         3\n",
      "           3       0.10      0.09      0.10        11\n",
      "           4       0.00      0.00      0.00         3\n",
      "           7       0.00      0.00      0.00         1\n",
      "           8       0.00      0.00      0.00         4\n",
      "           9       0.50      0.12      0.20         8\n",
      "          10       0.00      0.00      0.00         6\n",
      "          11       0.00      0.00      0.00         6\n",
      "          19       0.00      0.00      0.00         7\n",
      "          20       0.00      0.00      0.00         5\n",
      "          23       0.50      0.14      0.22         7\n",
      "          24       0.00      0.00      0.00         7\n",
      "          25       0.00      0.00      0.00         7\n",
      "          26       0.00      0.00      0.00         4\n",
      "          27       0.12      0.17      0.14         6\n",
      "          28       0.00      0.00      0.00         6\n",
      "          31       0.00      0.00      0.00         2\n",
      "          32       0.00      0.00      0.00         6\n",
      "          34       0.00      0.00      0.00         7\n",
      "          36       0.14      0.20      0.17         5\n",
      "          37       0.50      0.20      0.29         5\n",
      "          39       0.00      0.00      0.00        11\n",
      "          41       0.33      0.33      0.33         3\n",
      "          44       0.00      0.00      0.00         4\n",
      "          45       0.14      0.17      0.15         6\n",
      "          46       0.00      0.00      0.00         7\n",
      "          47       0.00      0.00      0.00         6\n",
      "          50       0.00      0.00      0.00         2\n",
      "          51       0.17      0.14      0.15         7\n",
      "          53       0.43      0.38      0.40         8\n",
      "          57       0.00      0.00      0.00         3\n",
      "          58       0.00      0.00      0.00         5\n",
      "          62       0.27      0.50      0.35         6\n",
      "          63       0.00      0.00      0.00         5\n",
      "          64       0.00      0.00      0.00         7\n",
      "          67       0.25      0.14      0.18         7\n",
      "          69       0.00      0.00      0.00         7\n",
      "          70       0.14      0.17      0.15         6\n",
      "          72       0.00      0.00      0.00         4\n",
      "          78       0.09      0.11      0.10         9\n",
      "          83       0.14      0.12      0.13         8\n",
      "          84       0.00      0.00      0.00         5\n",
      "          85       0.00      0.00      0.00         7\n",
      "          86       0.12      0.20      0.15        10\n",
      "          88       0.00      0.00      0.00         7\n",
      "          89       0.07      0.17      0.10         6\n",
      "          90       0.00      0.00      0.00         8\n",
      "          97       0.00      0.00      0.00         6\n",
      "          98       0.00      0.00      0.00         8\n",
      "\n",
      "    accuracy                           0.08       300\n",
      "   macro avg       0.08      0.07      0.07       300\n",
      "weighted avg       0.09      0.08      0.07       300\n",
      "\n"
     ]
    },
    {
     "name": "stderr",
     "output_type": "stream",
     "text": [
      "/opt/conda/lib/python3.7/site-packages/sklearn/metrics/_classification.py:1318: UndefinedMetricWarning: Precision and F-score are ill-defined and being set to 0.0 in labels with no predicted samples. Use `zero_division` parameter to control this behavior.\n",
      "  _warn_prf(average, modifier, msg_start, len(result))\n",
      "/opt/conda/lib/python3.7/site-packages/sklearn/metrics/_classification.py:1318: UndefinedMetricWarning: Precision and F-score are ill-defined and being set to 0.0 in labels with no predicted samples. Use `zero_division` parameter to control this behavior.\n",
      "  _warn_prf(average, modifier, msg_start, len(result))\n",
      "/opt/conda/lib/python3.7/site-packages/sklearn/metrics/_classification.py:1318: UndefinedMetricWarning: Precision and F-score are ill-defined and being set to 0.0 in labels with no predicted samples. Use `zero_division` parameter to control this behavior.\n",
      "  _warn_prf(average, modifier, msg_start, len(result))\n"
     ]
    }
   ],
   "source": [
    "print(classification_report(test_y.T,pred))"
   ]
  },
  {
   "cell_type": "code",
   "execution_count": null,
   "metadata": {},
   "outputs": [],
   "source": []
  },
  {
   "cell_type": "code",
   "execution_count": 68,
   "metadata": {},
   "outputs": [
    {
     "name": "stderr",
     "output_type": "stream",
     "text": [
      "100%|████████████████████████████████████████████████████████████████████████████████████████████████████████████████████████████████████████████████████████| 391/391 [00:51<00:00,  7.54it/s]\n",
      "100%|████████████████████████████████████████████████████████████████████████████████████████████████████████████████████████████████████████████████████████████| 5/5 [00:00<00:00, 12.11it/s]\n",
      "100%|████████████████████████████████████████████████████████████████████████████████████████████████████████████████████████████████████████████████████████████| 5/5 [00:00<00:00, 11.37it/s]\n",
      "/opt/conda/lib/python3.7/site-packages/sklearn/utils/validation.py:598: FutureWarning: np.matrix usage is deprecated in 1.0 and will raise a TypeError in 1.2. Please convert to a numpy array with np.asarray. For more information see: https://numpy.org/doc/stable/reference/generated/numpy.matrix.html\n",
      "  FutureWarning,\n",
      "/opt/conda/lib/python3.7/site-packages/sklearn/utils/validation.py:598: FutureWarning: np.matrix usage is deprecated in 1.0 and will raise a TypeError in 1.2. Please convert to a numpy array with np.asarray. For more information see: https://numpy.org/doc/stable/reference/generated/numpy.matrix.html\n",
      "  FutureWarning,\n",
      "/opt/conda/lib/python3.7/site-packages/sklearn/neighbors/_classification.py:198: DataConversionWarning: A column-vector y was passed when a 1d array was expected. Please change the shape of y to (n_samples,), for example using ravel().\n",
      "  return self._fit(X, y)\n",
      "/opt/conda/lib/python3.7/site-packages/sklearn/utils/validation.py:598: FutureWarning: np.matrix usage is deprecated in 1.0 and will raise a TypeError in 1.2. Please convert to a numpy array with np.asarray. For more information see: https://numpy.org/doc/stable/reference/generated/numpy.matrix.html\n",
      "  FutureWarning,\n",
      "/opt/conda/lib/python3.7/site-packages/sklearn/metrics/_classification.py:1318: UndefinedMetricWarning: Precision and F-score are ill-defined and being set to 0.0 in labels with no predicted samples. Use `zero_division` parameter to control this behavior.\n",
      "  _warn_prf(average, modifier, msg_start, len(result))\n",
      "/opt/conda/lib/python3.7/site-packages/sklearn/metrics/_classification.py:1318: UndefinedMetricWarning: Precision and F-score are ill-defined and being set to 0.0 in labels with no predicted samples. Use `zero_division` parameter to control this behavior.\n",
      "  _warn_prf(average, modifier, msg_start, len(result))\n",
      "/opt/conda/lib/python3.7/site-packages/sklearn/metrics/_classification.py:1318: UndefinedMetricWarning: Precision and F-score are ill-defined and being set to 0.0 in labels with no predicted samples. Use `zero_division` parameter to control this behavior.\n",
      "  _warn_prf(average, modifier, msg_start, len(result))\n"
     ]
    },
    {
     "name": "stdout",
     "output_type": "stream",
     "text": [
      "              precision    recall  f1-score   support\n",
      "\n",
      "           0       0.00      0.00      0.00         5\n",
      "           5       0.25      0.12      0.17         8\n",
      "           7       0.00      0.00      0.00         7\n",
      "           8       0.06      0.17      0.08         6\n",
      "           9       1.00      0.40      0.57         5\n",
      "          10       0.25      0.20      0.22         5\n",
      "          14       0.00      0.00      0.00         2\n",
      "          16       0.14      0.10      0.12        10\n",
      "          20       0.00      0.00      0.00         4\n",
      "          21       0.25      0.29      0.27         7\n",
      "          22       0.00      0.00      0.00         9\n",
      "          25       0.50      0.20      0.29         5\n",
      "          30       0.33      0.29      0.31         7\n",
      "          31       0.00      0.00      0.00        10\n",
      "          32       0.00      0.00      0.00         3\n",
      "          33       0.12      0.14      0.13         7\n",
      "          34       0.14      0.40      0.21         5\n",
      "          35       0.00      0.00      0.00         5\n",
      "          37       0.17      0.20      0.18         5\n",
      "          38       0.06      0.14      0.09         7\n",
      "          39       0.00      0.00      0.00         4\n",
      "          43       0.09      0.12      0.11         8\n",
      "          45       0.14      0.17      0.15         6\n",
      "          46       0.00      0.00      0.00        12\n",
      "          53       0.33      0.14      0.20         7\n",
      "          56       0.00      0.00      0.00         4\n",
      "          57       0.25      0.12      0.17         8\n",
      "          58       0.25      0.25      0.25         4\n",
      "          60       0.80      0.57      0.67         7\n",
      "          61       0.00      0.00      0.00         9\n",
      "          63       0.00      0.00      0.00         4\n",
      "          65       0.06      0.25      0.10         4\n",
      "          67       0.00      0.00      0.00         5\n",
      "          68       1.00      0.80      0.89         5\n",
      "          70       0.33      0.60      0.43         5\n",
      "          71       0.00      0.00      0.00         3\n",
      "          72       0.00      0.00      0.00        10\n",
      "          78       0.09      0.20      0.13         5\n",
      "          80       0.00      0.00      0.00         4\n",
      "          81       0.12      0.25      0.17         4\n",
      "          82       0.57      0.40      0.47        10\n",
      "          83       0.22      0.20      0.21        10\n",
      "          84       0.25      0.17      0.20         6\n",
      "          87       0.10      0.33      0.15         3\n",
      "          88       0.00      0.00      0.00         4\n",
      "          89       0.00      0.00      0.00         7\n",
      "          92       0.00      0.00      0.00         2\n",
      "          93       0.00      0.00      0.00         7\n",
      "          96       0.40      0.25      0.31         8\n",
      "          99       0.00      0.00      0.00         3\n",
      "\n",
      "    accuracy                           0.15       300\n",
      "   macro avg       0.17      0.15      0.14       300\n",
      "weighted avg       0.18      0.15      0.15       300\n",
      "\n",
      "31.81361226718444\n"
     ]
    },
    {
     "name": "stderr",
     "output_type": "stream",
     "text": [
      "100%|████████████████████████████████████████████████████████████████████████████████████████████████████████████████████████████████████████████████████████| 391/391 [00:52<00:00,  7.52it/s]\n"
     ]
    },
    {
     "name": "stdout",
     "output_type": "stream",
     "text": [
      "31.019898787788723\n"
     ]
    },
    {
     "name": "stderr",
     "output_type": "stream",
     "text": [
      "100%|████████████████████████████████████████████████████████████████████████████████████████████████████████████████████████████████████████████████████████| 391/391 [00:51<00:00,  7.63it/s]\n"
     ]
    },
    {
     "name": "stdout",
     "output_type": "stream",
     "text": [
      "29.935821938087873\n"
     ]
    },
    {
     "name": "stderr",
     "output_type": "stream",
     "text": [
      "100%|████████████████████████████████████████████████████████████████████████████████████████████████████████████████████████████████████████████████████████| 391/391 [00:52<00:00,  7.44it/s]\n"
     ]
    },
    {
     "name": "stdout",
     "output_type": "stream",
     "text": [
      "28.62053679444296\n"
     ]
    },
    {
     "name": "stderr",
     "output_type": "stream",
     "text": [
      "100%|████████████████████████████████████████████████████████████████████████████████████████████████████████████████████████████████████████████████████████| 391/391 [00:50<00:00,  7.68it/s]\n"
     ]
    },
    {
     "name": "stdout",
     "output_type": "stream",
     "text": [
      "27.120988748262604\n"
     ]
    },
    {
     "name": "stderr",
     "output_type": "stream",
     "text": [
      "100%|████████████████████████████████████████████████████████████████████████████████████████████████████████████████████████████████████████████████████████| 391/391 [00:51<00:00,  7.60it/s]\n"
     ]
    },
    {
     "name": "stdout",
     "output_type": "stream",
     "text": [
      "25.421004849016818\n"
     ]
    },
    {
     "name": "stderr",
     "output_type": "stream",
     "text": [
      "100%|████████████████████████████████████████████████████████████████████████████████████████████████████████████████████████████████████████████████████████| 391/391 [00:52<00:00,  7.50it/s]\n"
     ]
    },
    {
     "name": "stdout",
     "output_type": "stream",
     "text": [
      "23.671112797144428\n"
     ]
    },
    {
     "name": "stderr",
     "output_type": "stream",
     "text": [
      "100%|████████████████████████████████████████████████████████████████████████████████████████████████████████████████████████████████████████████████████████| 391/391 [00:51<00:00,  7.57it/s]\n"
     ]
    },
    {
     "name": "stdout",
     "output_type": "stream",
     "text": [
      "21.953275646395085\n"
     ]
    },
    {
     "name": "stderr",
     "output_type": "stream",
     "text": [
      "100%|████████████████████████████████████████████████████████████████████████████████████████████████████████████████████████████████████████████████████████| 391/391 [00:52<00:00,  7.44it/s]\n"
     ]
    },
    {
     "name": "stdout",
     "output_type": "stream",
     "text": [
      "20.022183298759753\n"
     ]
    },
    {
     "name": "stderr",
     "output_type": "stream",
     "text": [
      "100%|████████████████████████████████████████████████████████████████████████████████████████████████████████████████████████████████████████████████████████| 391/391 [00:52<00:00,  7.38it/s]\n"
     ]
    },
    {
     "name": "stdout",
     "output_type": "stream",
     "text": [
      "18.08702154232718\n"
     ]
    },
    {
     "name": "stderr",
     "output_type": "stream",
     "text": [
      "100%|████████████████████████████████████████████████████████████████████████████████████████████████████████████████████████████████████████████████████████| 391/391 [00:52<00:00,  7.44it/s]\n",
      "100%|████████████████████████████████████████████████████████████████████████████████████████████████████████████████████████████████████████████████████████████| 5/5 [00:00<00:00, 12.06it/s]\n",
      "100%|████████████████████████████████████████████████████████████████████████████████████████████████████████████████████████████████████████████████████████████| 5/5 [00:00<00:00, 10.95it/s]\n",
      "/opt/conda/lib/python3.7/site-packages/sklearn/utils/validation.py:598: FutureWarning: np.matrix usage is deprecated in 1.0 and will raise a TypeError in 1.2. Please convert to a numpy array with np.asarray. For more information see: https://numpy.org/doc/stable/reference/generated/numpy.matrix.html\n",
      "  FutureWarning,\n",
      "/opt/conda/lib/python3.7/site-packages/sklearn/utils/validation.py:598: FutureWarning: np.matrix usage is deprecated in 1.0 and will raise a TypeError in 1.2. Please convert to a numpy array with np.asarray. For more information see: https://numpy.org/doc/stable/reference/generated/numpy.matrix.html\n",
      "  FutureWarning,\n",
      "/opt/conda/lib/python3.7/site-packages/sklearn/neighbors/_classification.py:198: DataConversionWarning: A column-vector y was passed when a 1d array was expected. Please change the shape of y to (n_samples,), for example using ravel().\n",
      "  return self._fit(X, y)\n",
      "/opt/conda/lib/python3.7/site-packages/sklearn/utils/validation.py:598: FutureWarning: np.matrix usage is deprecated in 1.0 and will raise a TypeError in 1.2. Please convert to a numpy array with np.asarray. For more information see: https://numpy.org/doc/stable/reference/generated/numpy.matrix.html\n",
      "  FutureWarning,\n"
     ]
    },
    {
     "name": "stdout",
     "output_type": "stream",
     "text": [
      "              precision    recall  f1-score   support\n",
      "\n",
      "           0       0.83      1.00      0.91         5\n",
      "           5       0.62      0.62      0.62         8\n",
      "           7       0.57      0.57      0.57         7\n",
      "           8       1.00      1.00      1.00         6\n",
      "           9       1.00      0.80      0.89         5\n",
      "          10       0.44      0.80      0.57         5\n",
      "          14       0.00      0.00      0.00         2\n",
      "          16       1.00      0.60      0.75        10\n",
      "          20       0.67      1.00      0.80         4\n",
      "          21       0.50      0.57      0.53         7\n",
      "          22       0.75      0.67      0.71         9\n",
      "          25       0.20      0.20      0.20         5\n",
      "          30       0.83      0.71      0.77         7\n",
      "          31       0.80      0.40      0.53        10\n",
      "          32       0.00      0.00      0.00         3\n",
      "          33       0.14      0.43      0.21         7\n",
      "          34       0.43      0.60      0.50         5\n",
      "          35       1.00      0.20      0.33         5\n",
      "          37       0.75      0.60      0.67         5\n",
      "          38       0.29      0.29      0.29         7\n",
      "          39       1.00      0.50      0.67         4\n",
      "          43       0.56      0.62      0.59         8\n",
      "          45       0.00      0.00      0.00         6\n",
      "          46       1.00      0.42      0.59        12\n",
      "          53       1.00      0.86      0.92         7\n",
      "          56       0.40      0.50      0.44         4\n",
      "          57       1.00      0.38      0.55         8\n",
      "          58       1.00      1.00      1.00         4\n",
      "          60       0.67      0.86      0.75         7\n",
      "          61       0.67      0.44      0.53         9\n",
      "          63       1.00      0.50      0.67         4\n",
      "          65       0.05      0.25      0.08         4\n",
      "          67       0.00      0.00      0.00         5\n",
      "          68       1.00      0.60      0.75         5\n",
      "          70       1.00      1.00      1.00         5\n",
      "          71       0.60      1.00      0.75         3\n",
      "          72       0.18      0.20      0.19        10\n",
      "          78       0.00      0.00      0.00         5\n",
      "          80       0.00      0.00      0.00         4\n",
      "          81       0.50      0.50      0.50         4\n",
      "          82       1.00      0.70      0.82        10\n",
      "          83       0.62      0.50      0.56        10\n",
      "          84       0.75      0.50      0.60         6\n",
      "          87       0.30      1.00      0.46         3\n",
      "          88       0.25      0.25      0.25         4\n",
      "          89       1.00      0.29      0.44         7\n",
      "          92       0.00      0.00      0.00         2\n",
      "          93       0.00      0.00      0.00         7\n",
      "          96       0.83      0.62      0.71         8\n",
      "          99       0.25      0.33      0.29         3\n",
      "\n",
      "    accuracy                           0.51       300\n",
      "   macro avg       0.57      0.50      0.50       300\n",
      "weighted avg       0.62      0.51      0.53       300\n",
      "\n",
      "15.985563848939393\n"
     ]
    },
    {
     "name": "stderr",
     "output_type": "stream",
     "text": [
      "100%|████████████████████████████████████████████████████████████████████████████████████████████████████████████████████████████████████████████████████████| 391/391 [00:52<00:00,  7.52it/s]\n"
     ]
    },
    {
     "name": "stdout",
     "output_type": "stream",
     "text": [
      "13.437952836761085\n"
     ]
    },
    {
     "name": "stderr",
     "output_type": "stream",
     "text": [
      "100%|████████████████████████████████████████████████████████████████████████████████████████████████████████████████████████████████████████████████████████| 391/391 [00:52<00:00,  7.47it/s]\n"
     ]
    },
    {
     "name": "stdout",
     "output_type": "stream",
     "text": [
      "10.454065650930184\n"
     ]
    },
    {
     "name": "stderr",
     "output_type": "stream",
     "text": [
      "100%|████████████████████████████████████████████████████████████████████████████████████████████████████████████████████████████████████████████████████████| 391/391 [00:51<00:00,  7.59it/s]\n"
     ]
    },
    {
     "name": "stdout",
     "output_type": "stream",
     "text": [
      "7.612692526844151\n"
     ]
    },
    {
     "name": "stderr",
     "output_type": "stream",
     "text": [
      "100%|████████████████████████████████████████████████████████████████████████████████████████████████████████████████████████████████████████████████████████| 391/391 [00:52<00:00,  7.38it/s]\n"
     ]
    },
    {
     "name": "stdout",
     "output_type": "stream",
     "text": [
      "4.822003871888456\n"
     ]
    },
    {
     "name": "stderr",
     "output_type": "stream",
     "text": [
      "100%|████████████████████████████████████████████████████████████████████████████████████████████████████████████████████████████████████████████████████████| 391/391 [00:52<00:00,  7.51it/s]\n"
     ]
    },
    {
     "name": "stdout",
     "output_type": "stream",
     "text": [
      "2.793253205049678\n"
     ]
    },
    {
     "name": "stderr",
     "output_type": "stream",
     "text": [
      "100%|████████████████████████████████████████████████████████████████████████████████████████████████████████████████████████████████████████████████████████| 391/391 [00:51<00:00,  7.56it/s]\n"
     ]
    },
    {
     "name": "stdout",
     "output_type": "stream",
     "text": [
      "1.755534179156165\n"
     ]
    },
    {
     "name": "stderr",
     "output_type": "stream",
     "text": [
      "100%|████████████████████████████████████████████████████████████████████████████████████████████████████████████████████████████████████████████████████████| 391/391 [00:52<00:00,  7.45it/s]\n"
     ]
    },
    {
     "name": "stdout",
     "output_type": "stream",
     "text": [
      "1.1299871373207062\n"
     ]
    },
    {
     "name": "stderr",
     "output_type": "stream",
     "text": [
      "100%|████████████████████████████████████████████████████████████████████████████████████████████████████████████████████████████████████████████████████████| 391/391 [00:51<00:00,  7.60it/s]\n"
     ]
    },
    {
     "name": "stdout",
     "output_type": "stream",
     "text": [
      "0.9332857975817245\n"
     ]
    },
    {
     "name": "stderr",
     "output_type": "stream",
     "text": [
      "100%|████████████████████████████████████████████████████████████████████████████████████████████████████████████████████████████████████████████████████████| 391/391 [00:52<00:00,  7.51it/s]\n"
     ]
    },
    {
     "name": "stdout",
     "output_type": "stream",
     "text": [
      "0.8325563215012269\n"
     ]
    },
    {
     "name": "stderr",
     "output_type": "stream",
     "text": [
      "100%|████████████████████████████████████████████████████████████████████████████████████████████████████████████████████████████████████████████████████████| 391/391 [00:52<00:00,  7.49it/s]\n",
      "100%|████████████████████████████████████████████████████████████████████████████████████████████████████████████████████████████████████████████████████████████| 5/5 [00:00<00:00, 11.03it/s]\n",
      "100%|████████████████████████████████████████████████████████████████████████████████████████████████████████████████████████████████████████████████████████████| 5/5 [00:00<00:00, 12.17it/s]\n",
      "/opt/conda/lib/python3.7/site-packages/sklearn/utils/validation.py:598: FutureWarning: np.matrix usage is deprecated in 1.0 and will raise a TypeError in 1.2. Please convert to a numpy array with np.asarray. For more information see: https://numpy.org/doc/stable/reference/generated/numpy.matrix.html\n",
      "  FutureWarning,\n",
      "/opt/conda/lib/python3.7/site-packages/sklearn/utils/validation.py:598: FutureWarning: np.matrix usage is deprecated in 1.0 and will raise a TypeError in 1.2. Please convert to a numpy array with np.asarray. For more information see: https://numpy.org/doc/stable/reference/generated/numpy.matrix.html\n",
      "  FutureWarning,\n",
      "/opt/conda/lib/python3.7/site-packages/sklearn/neighbors/_classification.py:198: DataConversionWarning: A column-vector y was passed when a 1d array was expected. Please change the shape of y to (n_samples,), for example using ravel().\n",
      "  return self._fit(X, y)\n",
      "/opt/conda/lib/python3.7/site-packages/sklearn/utils/validation.py:598: FutureWarning: np.matrix usage is deprecated in 1.0 and will raise a TypeError in 1.2. Please convert to a numpy array with np.asarray. For more information see: https://numpy.org/doc/stable/reference/generated/numpy.matrix.html\n",
      "  FutureWarning,\n"
     ]
    },
    {
     "name": "stdout",
     "output_type": "stream",
     "text": [
      "              precision    recall  f1-score   support\n",
      "\n",
      "           0       0.80      0.80      0.80         5\n",
      "           5       0.38      0.62      0.48         8\n",
      "           7       1.00      0.71      0.83         7\n",
      "           8       1.00      1.00      1.00         6\n",
      "           9       0.83      1.00      0.91         5\n",
      "          10       0.71      1.00      0.83         5\n",
      "          14       1.00      1.00      1.00         2\n",
      "          16       1.00      0.50      0.67        10\n",
      "          20       0.57      1.00      0.73         4\n",
      "          21       0.60      0.43      0.50         7\n",
      "          22       0.60      0.67      0.63         9\n",
      "          25       0.40      0.40      0.40         5\n",
      "          30       0.75      0.86      0.80         7\n",
      "          31       1.00      0.60      0.75        10\n",
      "          32       1.00      0.67      0.80         3\n",
      "          33       0.14      0.57      0.23         7\n",
      "          34       0.80      0.80      0.80         5\n",
      "          35       0.33      0.40      0.36         5\n",
      "          37       0.33      0.40      0.36         5\n",
      "          38       0.43      0.43      0.43         7\n",
      "          39       1.00      0.75      0.86         4\n",
      "          43       1.00      0.38      0.55         8\n",
      "          45       1.00      0.50      0.67         6\n",
      "          46       0.80      0.33      0.47        12\n",
      "          53       0.86      0.86      0.86         7\n",
      "          56       1.00      0.50      0.67         4\n",
      "          57       0.83      0.62      0.71         8\n",
      "          58       1.00      1.00      1.00         4\n",
      "          60       0.86      0.86      0.86         7\n",
      "          61       0.67      0.44      0.53         9\n",
      "          63       0.67      0.50      0.57         4\n",
      "          65       0.33      0.75      0.46         4\n",
      "          67       0.36      0.80      0.50         5\n",
      "          68       1.00      0.80      0.89         5\n",
      "          70       0.80      0.80      0.80         5\n",
      "          71       0.43      1.00      0.60         3\n",
      "          72       0.22      0.20      0.21        10\n",
      "          78       0.29      0.40      0.33         5\n",
      "          80       1.00      0.25      0.40         4\n",
      "          81       0.75      0.75      0.75         4\n",
      "          82       0.86      0.60      0.71        10\n",
      "          83       0.80      0.40      0.53        10\n",
      "          84       0.57      0.67      0.62         6\n",
      "          87       0.60      1.00      0.75         3\n",
      "          88       0.75      0.75      0.75         4\n",
      "          89       0.80      0.57      0.67         7\n",
      "          92       0.33      0.50      0.40         2\n",
      "          93       0.50      0.29      0.36         7\n",
      "          96       0.67      0.75      0.71         8\n",
      "          99       0.00      0.00      0.00         3\n",
      "\n",
      "    accuracy                           0.61       300\n",
      "   macro avg       0.69      0.64      0.63       300\n",
      "weighted avg       0.70      0.61      0.62       300\n",
      "\n",
      "0.8483746975815594\n"
     ]
    },
    {
     "name": "stderr",
     "output_type": "stream",
     "text": [
      "100%|████████████████████████████████████████████████████████████████████████████████████████████████████████████████████████████████████████████████████████| 391/391 [00:51<00:00,  7.59it/s]\n"
     ]
    },
    {
     "name": "stdout",
     "output_type": "stream",
     "text": [
      "0.7518772025964201\n"
     ]
    },
    {
     "name": "stderr",
     "output_type": "stream",
     "text": [
      "100%|████████████████████████████████████████████████████████████████████████████████████████████████████████████████████████████████████████████████████████| 391/391 [00:51<00:00,  7.59it/s]\n"
     ]
    },
    {
     "name": "stdout",
     "output_type": "stream",
     "text": [
      "0.7088958141904579\n"
     ]
    },
    {
     "name": "stderr",
     "output_type": "stream",
     "text": [
      "100%|████████████████████████████████████████████████████████████████████████████████████████████████████████████████████████████████████████████████████████| 391/391 [00:51<00:00,  7.53it/s]\n"
     ]
    },
    {
     "name": "stdout",
     "output_type": "stream",
     "text": [
      "0.7337500331310026\n"
     ]
    },
    {
     "name": "stderr",
     "output_type": "stream",
     "text": [
      "100%|████████████████████████████████████████████████████████████████████████████████████████████████████████████████████████████████████████████████████████| 391/391 [00:52<00:00,  7.45it/s]\n"
     ]
    },
    {
     "name": "stdout",
     "output_type": "stream",
     "text": [
      "0.6785653142831883\n"
     ]
    },
    {
     "name": "stderr",
     "output_type": "stream",
     "text": [
      "100%|████████████████████████████████████████████████████████████████████████████████████████████████████████████████████████████████████████████████████████| 391/391 [00:51<00:00,  7.54it/s]\n"
     ]
    },
    {
     "name": "stdout",
     "output_type": "stream",
     "text": [
      "0.5931627893539005\n"
     ]
    },
    {
     "name": "stderr",
     "output_type": "stream",
     "text": [
      "100%|████████████████████████████████████████████████████████████████████████████████████████████████████████████████████████████████████████████████████████| 391/391 [00:52<00:00,  7.43it/s]\n"
     ]
    },
    {
     "name": "stdout",
     "output_type": "stream",
     "text": [
      "0.5417063843685409\n"
     ]
    },
    {
     "name": "stderr",
     "output_type": "stream",
     "text": [
      "100%|████████████████████████████████████████████████████████████████████████████████████████████████████████████████████████████████████████████████████████| 391/391 [00:52<00:00,  7.49it/s]\n"
     ]
    },
    {
     "name": "stdout",
     "output_type": "stream",
     "text": [
      "0.6184583438737037\n"
     ]
    },
    {
     "name": "stderr",
     "output_type": "stream",
     "text": [
      "100%|████████████████████████████████████████████████████████████████████████████████████████████████████████████████████████████████████████████████████████| 391/391 [00:51<00:00,  7.58it/s]\n"
     ]
    },
    {
     "name": "stdout",
     "output_type": "stream",
     "text": [
      "0.5181209920841793\n"
     ]
    },
    {
     "name": "stderr",
     "output_type": "stream",
     "text": [
      "100%|████████████████████████████████████████████████████████████████████████████████████████████████████████████████████████████████████████████████████████| 391/391 [00:51<00:00,  7.52it/s]\n"
     ]
    },
    {
     "name": "stdout",
     "output_type": "stream",
     "text": [
      "0.5824253135571136\n"
     ]
    },
    {
     "name": "stderr",
     "output_type": "stream",
     "text": [
      "100%|████████████████████████████████████████████████████████████████████████████████████████████████████████████████████████████████████████████████████████| 391/391 [00:51<00:00,  7.52it/s]\n",
      "100%|████████████████████████████████████████████████████████████████████████████████████████████████████████████████████████████████████████████████████████████| 5/5 [00:00<00:00, 12.19it/s]\n",
      "100%|████████████████████████████████████████████████████████████████████████████████████████████████████████████████████████████████████████████████████████████| 5/5 [00:00<00:00, 11.99it/s]\n",
      "/opt/conda/lib/python3.7/site-packages/sklearn/utils/validation.py:598: FutureWarning: np.matrix usage is deprecated in 1.0 and will raise a TypeError in 1.2. Please convert to a numpy array with np.asarray. For more information see: https://numpy.org/doc/stable/reference/generated/numpy.matrix.html\n",
      "  FutureWarning,\n",
      "/opt/conda/lib/python3.7/site-packages/sklearn/utils/validation.py:598: FutureWarning: np.matrix usage is deprecated in 1.0 and will raise a TypeError in 1.2. Please convert to a numpy array with np.asarray. For more information see: https://numpy.org/doc/stable/reference/generated/numpy.matrix.html\n",
      "  FutureWarning,\n",
      "/opt/conda/lib/python3.7/site-packages/sklearn/neighbors/_classification.py:198: DataConversionWarning: A column-vector y was passed when a 1d array was expected. Please change the shape of y to (n_samples,), for example using ravel().\n",
      "  return self._fit(X, y)\n",
      "/opt/conda/lib/python3.7/site-packages/sklearn/utils/validation.py:598: FutureWarning: np.matrix usage is deprecated in 1.0 and will raise a TypeError in 1.2. Please convert to a numpy array with np.asarray. For more information see: https://numpy.org/doc/stable/reference/generated/numpy.matrix.html\n",
      "  FutureWarning,\n"
     ]
    },
    {
     "name": "stdout",
     "output_type": "stream",
     "text": [
      "              precision    recall  f1-score   support\n",
      "\n",
      "           0       0.75      0.60      0.67         5\n",
      "           5       0.50      0.50      0.50         8\n",
      "           7       0.83      0.71      0.77         7\n",
      "           8       1.00      1.00      1.00         6\n",
      "           9       0.83      1.00      0.91         5\n",
      "          10       0.38      0.60      0.46         5\n",
      "          14       1.00      1.00      1.00         2\n",
      "          16       0.83      0.50      0.62        10\n",
      "          20       1.00      1.00      1.00         4\n",
      "          21       0.67      0.57      0.62         7\n",
      "          22       0.83      0.56      0.67         9\n",
      "          25       0.67      0.40      0.50         5\n",
      "          30       0.83      0.71      0.77         7\n",
      "          31       1.00      0.50      0.67        10\n",
      "          32       0.40      0.67      0.50         3\n",
      "          33       0.12      0.86      0.20         7\n",
      "          34       0.83      1.00      0.91         5\n",
      "          35       0.40      0.40      0.40         5\n",
      "          37       1.00      0.60      0.75         5\n",
      "          38       0.50      0.43      0.46         7\n",
      "          39       1.00      0.50      0.67         4\n",
      "          43       0.83      0.62      0.71         8\n",
      "          45       0.50      0.33      0.40         6\n",
      "          46       1.00      0.42      0.59        12\n",
      "          53       1.00      0.57      0.73         7\n",
      "          56       1.00      0.75      0.86         4\n",
      "          57       0.83      0.62      0.71         8\n",
      "          58       1.00      1.00      1.00         4\n",
      "          60       0.86      0.86      0.86         7\n",
      "          61       0.50      0.33      0.40         9\n",
      "          63       1.00      0.25      0.40         4\n",
      "          65       0.27      0.75      0.40         4\n",
      "          67       0.75      0.60      0.67         5\n",
      "          68       0.80      0.80      0.80         5\n",
      "          70       1.00      1.00      1.00         5\n",
      "          71       0.50      1.00      0.67         3\n",
      "          72       0.12      0.10      0.11        10\n",
      "          78       0.50      0.20      0.29         5\n",
      "          80       1.00      0.50      0.67         4\n",
      "          81       0.50      0.50      0.50         4\n",
      "          82       0.75      0.60      0.67        10\n",
      "          83       0.67      0.40      0.50        10\n",
      "          84       0.60      0.50      0.55         6\n",
      "          87       1.00      1.00      1.00         3\n",
      "          88       0.57      1.00      0.73         4\n",
      "          89       1.00      0.43      0.60         7\n",
      "          92       0.50      0.50      0.50         2\n",
      "          93       1.00      0.14      0.25         7\n",
      "          96       0.43      0.75      0.55         8\n",
      "          99       0.00      0.00      0.00         3\n",
      "\n",
      "    accuracy                           0.58       300\n",
      "   macro avg       0.72      0.61      0.62       300\n",
      "weighted avg       0.72      0.58      0.61       300\n",
      "\n",
      "0.46558458881867165\n"
     ]
    },
    {
     "name": "stderr",
     "output_type": "stream",
     "text": [
      "100%|████████████████████████████████████████████████████████████████████████████████████████████████████████████████████████████████████████████████████████| 391/391 [00:53<00:00,  7.33it/s]\n"
     ]
    },
    {
     "name": "stdout",
     "output_type": "stream",
     "text": [
      "0.536527235562208\n"
     ]
    },
    {
     "name": "stderr",
     "output_type": "stream",
     "text": [
      "100%|████████████████████████████████████████████████████████████████████████████████████████████████████████████████████████████████████████████████████████| 391/391 [00:52<00:00,  7.47it/s]\n"
     ]
    },
    {
     "name": "stdout",
     "output_type": "stream",
     "text": [
      "0.44886507108095536\n"
     ]
    },
    {
     "name": "stderr",
     "output_type": "stream",
     "text": [
      "100%|████████████████████████████████████████████████████████████████████████████████████████████████████████████████████████████████████████████████████████| 391/391 [00:52<00:00,  7.39it/s]\n"
     ]
    },
    {
     "name": "stdout",
     "output_type": "stream",
     "text": [
      "0.45256215154387025\n"
     ]
    },
    {
     "name": "stderr",
     "output_type": "stream",
     "text": [
      "100%|████████████████████████████████████████████████████████████████████████████████████████████████████████████████████████████████████████████████████████| 391/391 [00:51<00:00,  7.58it/s]\n"
     ]
    },
    {
     "name": "stdout",
     "output_type": "stream",
     "text": [
      "0.45885719853652746\n"
     ]
    },
    {
     "name": "stderr",
     "output_type": "stream",
     "text": [
      "100%|████████████████████████████████████████████████████████████████████████████████████████████████████████████████████████████████████████████████████████| 391/391 [00:51<00:00,  7.61it/s]\n"
     ]
    },
    {
     "name": "stdout",
     "output_type": "stream",
     "text": [
      "0.5044970195712651\n"
     ]
    },
    {
     "name": "stderr",
     "output_type": "stream",
     "text": [
      "100%|████████████████████████████████████████████████████████████████████████████████████████████████████████████████████████████████████████████████████████| 391/391 [00:52<00:00,  7.48it/s]\n"
     ]
    },
    {
     "name": "stdout",
     "output_type": "stream",
     "text": [
      "0.4321603376469414\n"
     ]
    },
    {
     "name": "stderr",
     "output_type": "stream",
     "text": [
      "100%|████████████████████████████████████████████████████████████████████████████████████████████████████████████████████████████████████████████████████████| 391/391 [00:52<00:00,  7.41it/s]\n"
     ]
    },
    {
     "name": "stdout",
     "output_type": "stream",
     "text": [
      "0.4721386983818115\n"
     ]
    },
    {
     "name": "stderr",
     "output_type": "stream",
     "text": [
      "100%|████████████████████████████████████████████████████████████████████████████████████████████████████████████████████████████████████████████████████████| 391/391 [00:52<00:00,  7.47it/s]\n"
     ]
    },
    {
     "name": "stdout",
     "output_type": "stream",
     "text": [
      "0.4447549077119813\n"
     ]
    },
    {
     "name": "stderr",
     "output_type": "stream",
     "text": [
      "100%|████████████████████████████████████████████████████████████████████████████████████████████████████████████████████████████████████████████████████████| 391/391 [00:51<00:00,  7.56it/s]\n"
     ]
    },
    {
     "name": "stdout",
     "output_type": "stream",
     "text": [
      "0.4194581565642134\n"
     ]
    },
    {
     "name": "stderr",
     "output_type": "stream",
     "text": [
      "100%|████████████████████████████████████████████████████████████████████████████████████████████████████████████████████████████████████████████████████████| 391/391 [00:51<00:00,  7.55it/s]\n",
      "100%|████████████████████████████████████████████████████████████████████████████████████████████████████████████████████████████████████████████████████████████| 5/5 [00:00<00:00, 11.99it/s]\n",
      "100%|████████████████████████████████████████████████████████████████████████████████████████████████████████████████████████████████████████████████████████████| 5/5 [00:00<00:00, 11.88it/s]\n",
      "/opt/conda/lib/python3.7/site-packages/sklearn/utils/validation.py:598: FutureWarning: np.matrix usage is deprecated in 1.0 and will raise a TypeError in 1.2. Please convert to a numpy array with np.asarray. For more information see: https://numpy.org/doc/stable/reference/generated/numpy.matrix.html\n",
      "  FutureWarning,\n",
      "/opt/conda/lib/python3.7/site-packages/sklearn/utils/validation.py:598: FutureWarning: np.matrix usage is deprecated in 1.0 and will raise a TypeError in 1.2. Please convert to a numpy array with np.asarray. For more information see: https://numpy.org/doc/stable/reference/generated/numpy.matrix.html\n",
      "  FutureWarning,\n",
      "/opt/conda/lib/python3.7/site-packages/sklearn/neighbors/_classification.py:198: DataConversionWarning: A column-vector y was passed when a 1d array was expected. Please change the shape of y to (n_samples,), for example using ravel().\n",
      "  return self._fit(X, y)\n",
      "/opt/conda/lib/python3.7/site-packages/sklearn/utils/validation.py:598: FutureWarning: np.matrix usage is deprecated in 1.0 and will raise a TypeError in 1.2. Please convert to a numpy array with np.asarray. For more information see: https://numpy.org/doc/stable/reference/generated/numpy.matrix.html\n",
      "  FutureWarning,\n",
      "/opt/conda/lib/python3.7/site-packages/sklearn/metrics/_classification.py:1318: UndefinedMetricWarning: Precision and F-score are ill-defined and being set to 0.0 in labels with no predicted samples. Use `zero_division` parameter to control this behavior.\n",
      "  _warn_prf(average, modifier, msg_start, len(result))\n",
      "/opt/conda/lib/python3.7/site-packages/sklearn/metrics/_classification.py:1318: UndefinedMetricWarning: Precision and F-score are ill-defined and being set to 0.0 in labels with no predicted samples. Use `zero_division` parameter to control this behavior.\n",
      "  _warn_prf(average, modifier, msg_start, len(result))\n",
      "/opt/conda/lib/python3.7/site-packages/sklearn/metrics/_classification.py:1318: UndefinedMetricWarning: Precision and F-score are ill-defined and being set to 0.0 in labels with no predicted samples. Use `zero_division` parameter to control this behavior.\n",
      "  _warn_prf(average, modifier, msg_start, len(result))\n"
     ]
    },
    {
     "name": "stdout",
     "output_type": "stream",
     "text": [
      "              precision    recall  f1-score   support\n",
      "\n",
      "           0       0.75      0.60      0.67         5\n",
      "           5       0.17      0.62      0.27         8\n",
      "           7       1.00      0.71      0.83         7\n",
      "           8       1.00      0.83      0.91         6\n",
      "           9       0.83      1.00      0.91         5\n",
      "          10       0.71      1.00      0.83         5\n",
      "          14       1.00      0.50      0.67         2\n",
      "          16       1.00      0.40      0.57        10\n",
      "          20       0.50      0.75      0.60         4\n",
      "          21       0.83      0.71      0.77         7\n",
      "          22       0.58      0.78      0.67         9\n",
      "          25       0.50      0.40      0.44         5\n",
      "          30       0.46      0.86      0.60         7\n",
      "          31       0.88      0.70      0.78        10\n",
      "          32       1.00      0.67      0.80         3\n",
      "          33       0.57      0.57      0.57         7\n",
      "          34       0.50      0.60      0.55         5\n",
      "          35       0.67      0.40      0.50         5\n",
      "          37       1.00      0.40      0.57         5\n",
      "          38       0.50      0.29      0.36         7\n",
      "          39       1.00      0.75      0.86         4\n",
      "          43       1.00      0.38      0.55         8\n",
      "          45       0.50      0.50      0.50         6\n",
      "          46       1.00      0.42      0.59        12\n",
      "          53       1.00      0.71      0.83         7\n",
      "          56       1.00      0.50      0.67         4\n",
      "          57       0.50      0.75      0.60         8\n",
      "          58       1.00      1.00      1.00         4\n",
      "          60       1.00      0.71      0.83         7\n",
      "          61       0.60      0.33      0.43         9\n",
      "          63       1.00      0.50      0.67         4\n",
      "          65       0.18      0.50      0.27         4\n",
      "          67       1.00      0.40      0.57         5\n",
      "          68       1.00      0.80      0.89         5\n",
      "          70       0.60      0.60      0.60         5\n",
      "          71       0.12      1.00      0.22         3\n",
      "          72       0.29      0.20      0.24        10\n",
      "          78       0.50      0.40      0.44         5\n",
      "          80       0.00      0.00      0.00         4\n",
      "          81       0.57      1.00      0.73         4\n",
      "          82       0.86      0.60      0.71        10\n",
      "          83       1.00      0.30      0.46        10\n",
      "          84       0.60      0.50      0.55         6\n",
      "          87       0.60      1.00      0.75         3\n",
      "          88       0.50      0.75      0.60         4\n",
      "          89       0.80      0.57      0.67         7\n",
      "          92       0.33      0.50      0.40         2\n",
      "          93       0.00      0.00      0.00         7\n",
      "          96       0.46      0.75      0.57         8\n",
      "          99       0.50      0.33      0.40         3\n",
      "\n",
      "    accuracy                           0.57       300\n",
      "   macro avg       0.68      0.59      0.59       300\n",
      "weighted avg       0.69      0.57      0.58       300\n",
      "\n",
      "0.4091125709968604\n"
     ]
    },
    {
     "name": "stderr",
     "output_type": "stream",
     "text": [
      "100%|████████████████████████████████████████████████████████████████████████████████████████████████████████████████████████████████████████████████████████| 391/391 [00:52<00:00,  7.41it/s]\n"
     ]
    },
    {
     "name": "stdout",
     "output_type": "stream",
     "text": [
      "0.31026352296900234\n"
     ]
    },
    {
     "name": "stderr",
     "output_type": "stream",
     "text": [
      "100%|████████████████████████████████████████████████████████████████████████████████████████████████████████████████████████████████████████████████████████| 391/391 [00:51<00:00,  7.58it/s]\n"
     ]
    },
    {
     "name": "stdout",
     "output_type": "stream",
     "text": [
      "0.13298748215347156\n"
     ]
    },
    {
     "name": "stderr",
     "output_type": "stream",
     "text": [
      "100%|████████████████████████████████████████████████████████████████████████████████████████████████████████████████████████████████████████████████████████| 391/391 [00:52<00:00,  7.48it/s]\n"
     ]
    },
    {
     "name": "stdout",
     "output_type": "stream",
     "text": [
      "0.04753176633424987\n"
     ]
    },
    {
     "name": "stderr",
     "output_type": "stream",
     "text": [
      "100%|████████████████████████████████████████████████████████████████████████████████████████████████████████████████████████████████████████████████████████| 391/391 [00:52<00:00,  7.52it/s]\n"
     ]
    },
    {
     "name": "stdout",
     "output_type": "stream",
     "text": [
      "0.03515834478090245\n"
     ]
    },
    {
     "name": "stderr",
     "output_type": "stream",
     "text": [
      "100%|████████████████████████████████████████████████████████████████████████████████████████████████████████████████████████████████████████████████████████| 391/391 [00:51<00:00,  7.52it/s]\n"
     ]
    },
    {
     "name": "stdout",
     "output_type": "stream",
     "text": [
      "0.022601287522445803\n"
     ]
    },
    {
     "name": "stderr",
     "output_type": "stream",
     "text": [
      "100%|████████████████████████████████████████████████████████████████████████████████████████████████████████████████████████████████████████████████████████| 391/391 [00:52<00:00,  7.48it/s]\n"
     ]
    },
    {
     "name": "stdout",
     "output_type": "stream",
     "text": [
      "0.02473739934932654\n"
     ]
    },
    {
     "name": "stderr",
     "output_type": "stream",
     "text": [
      "100%|████████████████████████████████████████████████████████████████████████████████████████████████████████████████████████████████████████████████████████| 391/391 [00:51<00:00,  7.57it/s]\n"
     ]
    },
    {
     "name": "stdout",
     "output_type": "stream",
     "text": [
      "0.021464283940735608\n"
     ]
    },
    {
     "name": "stderr",
     "output_type": "stream",
     "text": [
      "100%|████████████████████████████████████████████████████████████████████████████████████████████████████████████████████████████████████████████████████████| 391/391 [00:52<00:00,  7.49it/s]\n"
     ]
    },
    {
     "name": "stdout",
     "output_type": "stream",
     "text": [
      "0.02019252590894704\n"
     ]
    },
    {
     "name": "stderr",
     "output_type": "stream",
     "text": [
      "100%|████████████████████████████████████████████████████████████████████████████████████████████████████████████████████████████████████████████████████████| 391/391 [00:51<00:00,  7.54it/s]\n"
     ]
    },
    {
     "name": "stdout",
     "output_type": "stream",
     "text": [
      "0.021970521193152234\n"
     ]
    },
    {
     "name": "stderr",
     "output_type": "stream",
     "text": [
      "100%|████████████████████████████████████████████████████████████████████████████████████████████████████████████████████████████████████████████████████████| 391/391 [00:52<00:00,  7.52it/s]\n",
      "100%|████████████████████████████████████████████████████████████████████████████████████████████████████████████████████████████████████████████████████████████| 5/5 [00:00<00:00, 11.92it/s]\n",
      "100%|████████████████████████████████████████████████████████████████████████████████████████████████████████████████████████████████████████████████████████████| 5/5 [00:00<00:00, 11.84it/s]\n",
      "/opt/conda/lib/python3.7/site-packages/sklearn/utils/validation.py:598: FutureWarning: np.matrix usage is deprecated in 1.0 and will raise a TypeError in 1.2. Please convert to a numpy array with np.asarray. For more information see: https://numpy.org/doc/stable/reference/generated/numpy.matrix.html\n",
      "  FutureWarning,\n",
      "/opt/conda/lib/python3.7/site-packages/sklearn/utils/validation.py:598: FutureWarning: np.matrix usage is deprecated in 1.0 and will raise a TypeError in 1.2. Please convert to a numpy array with np.asarray. For more information see: https://numpy.org/doc/stable/reference/generated/numpy.matrix.html\n",
      "  FutureWarning,\n",
      "/opt/conda/lib/python3.7/site-packages/sklearn/neighbors/_classification.py:198: DataConversionWarning: A column-vector y was passed when a 1d array was expected. Please change the shape of y to (n_samples,), for example using ravel().\n",
      "  return self._fit(X, y)\n",
      "/opt/conda/lib/python3.7/site-packages/sklearn/utils/validation.py:598: FutureWarning: np.matrix usage is deprecated in 1.0 and will raise a TypeError in 1.2. Please convert to a numpy array with np.asarray. For more information see: https://numpy.org/doc/stable/reference/generated/numpy.matrix.html\n",
      "  FutureWarning,\n",
      "/opt/conda/lib/python3.7/site-packages/sklearn/metrics/_classification.py:1318: UndefinedMetricWarning: Precision and F-score are ill-defined and being set to 0.0 in labels with no predicted samples. Use `zero_division` parameter to control this behavior.\n",
      "  _warn_prf(average, modifier, msg_start, len(result))\n",
      "/opt/conda/lib/python3.7/site-packages/sklearn/metrics/_classification.py:1318: UndefinedMetricWarning: Precision and F-score are ill-defined and being set to 0.0 in labels with no predicted samples. Use `zero_division` parameter to control this behavior.\n",
      "  _warn_prf(average, modifier, msg_start, len(result))\n",
      "/opt/conda/lib/python3.7/site-packages/sklearn/metrics/_classification.py:1318: UndefinedMetricWarning: Precision and F-score are ill-defined and being set to 0.0 in labels with no predicted samples. Use `zero_division` parameter to control this behavior.\n",
      "  _warn_prf(average, modifier, msg_start, len(result))\n"
     ]
    },
    {
     "name": "stdout",
     "output_type": "stream",
     "text": [
      "              precision    recall  f1-score   support\n",
      "\n",
      "           0       0.75      0.60      0.67         5\n",
      "           5       0.60      0.75      0.67         8\n",
      "           7       0.86      0.86      0.86         7\n",
      "           8       1.00      0.67      0.80         6\n",
      "           9       1.00      1.00      1.00         5\n",
      "          10       0.71      1.00      0.83         5\n",
      "          14       1.00      0.50      0.67         2\n",
      "          16       1.00      0.50      0.67        10\n",
      "          20       0.80      1.00      0.89         4\n",
      "          21       1.00      0.57      0.73         7\n",
      "          22       0.64      0.78      0.70         9\n",
      "          25       0.50      0.20      0.29         5\n",
      "          30       0.62      0.71      0.67         7\n",
      "          31       0.78      0.70      0.74        10\n",
      "          32       1.00      0.67      0.80         3\n",
      "          33       0.12      0.71      0.20         7\n",
      "          34       0.38      0.60      0.46         5\n",
      "          35       1.00      0.40      0.57         5\n",
      "          37       1.00      0.60      0.75         5\n",
      "          38       0.50      0.14      0.22         7\n",
      "          39       1.00      0.75      0.86         4\n",
      "          43       0.60      0.38      0.46         8\n",
      "          45       1.00      0.33      0.50         6\n",
      "          46       1.00      0.33      0.50        12\n",
      "          53       1.00      0.71      0.83         7\n",
      "          56       1.00      0.50      0.67         4\n",
      "          57       0.83      0.62      0.71         8\n",
      "          58       1.00      1.00      1.00         4\n",
      "          60       0.38      0.71      0.50         7\n",
      "          61       1.00      0.22      0.36         9\n",
      "          63       0.50      0.50      0.50         4\n",
      "          65       0.60      0.75      0.67         4\n",
      "          67       0.75      0.60      0.67         5\n",
      "          68       0.80      0.80      0.80         5\n",
      "          70       0.80      0.80      0.80         5\n",
      "          71       0.18      1.00      0.30         3\n",
      "          72       0.33      0.10      0.15        10\n",
      "          78       0.25      0.20      0.22         5\n",
      "          80       0.00      0.00      0.00         4\n",
      "          81       0.17      1.00      0.30         4\n",
      "          82       1.00      0.70      0.82        10\n",
      "          83       1.00      0.40      0.57        10\n",
      "          84       0.80      0.67      0.73         6\n",
      "          87       0.60      1.00      0.75         3\n",
      "          88       1.00      0.25      0.40         4\n",
      "          89       0.80      0.57      0.67         7\n",
      "          92       0.33      0.50      0.40         2\n",
      "          93       0.00      0.00      0.00         7\n",
      "          96       0.70      0.88      0.78         8\n",
      "          99       0.00      0.00      0.00         3\n",
      "\n",
      "    accuracy                           0.57       300\n",
      "   macro avg       0.69      0.58      0.58       300\n",
      "weighted avg       0.72      0.57      0.58       300\n",
      "\n",
      "0.01764638817516663\n"
     ]
    },
    {
     "name": "stderr",
     "output_type": "stream",
     "text": [
      "100%|████████████████████████████████████████████████████████████████████████████████████████████████████████████████████████████████████████████████████████| 391/391 [00:52<00:00,  7.44it/s]\n"
     ]
    },
    {
     "name": "stdout",
     "output_type": "stream",
     "text": [
      "0.015217515025333117\n"
     ]
    },
    {
     "name": "stderr",
     "output_type": "stream",
     "text": [
      "100%|████████████████████████████████████████████████████████████████████████████████████████████████████████████████████████████████████████████████████████| 391/391 [00:51<00:00,  7.54it/s]\n"
     ]
    },
    {
     "name": "stdout",
     "output_type": "stream",
     "text": [
      "0.015624345456068988\n"
     ]
    },
    {
     "name": "stderr",
     "output_type": "stream",
     "text": [
      "100%|████████████████████████████████████████████████████████████████████████████████████████████████████████████████████████████████████████████████████████| 391/391 [00:51<00:00,  7.61it/s]\n"
     ]
    },
    {
     "name": "stdout",
     "output_type": "stream",
     "text": [
      "0.013660363638724166\n"
     ]
    },
    {
     "name": "stderr",
     "output_type": "stream",
     "text": [
      "100%|████████████████████████████████████████████████████████████████████████████████████████████████████████████████████████████████████████████████████████| 391/391 [00:51<00:00,  7.55it/s]\n"
     ]
    },
    {
     "name": "stdout",
     "output_type": "stream",
     "text": [
      "0.015095129197002012\n"
     ]
    },
    {
     "name": "stderr",
     "output_type": "stream",
     "text": [
      "100%|████████████████████████████████████████████████████████████████████████████████████████████████████████████████████████████████████████████████████████| 391/391 [00:51<00:00,  7.57it/s]\n"
     ]
    },
    {
     "name": "stdout",
     "output_type": "stream",
     "text": [
      "0.01248625124668722\n"
     ]
    },
    {
     "name": "stderr",
     "output_type": "stream",
     "text": [
      "100%|████████████████████████████████████████████████████████████████████████████████████████████████████████████████████████████████████████████████████████| 391/391 [00:52<00:00,  7.47it/s]\n"
     ]
    },
    {
     "name": "stdout",
     "output_type": "stream",
     "text": [
      "0.013357057294145469\n"
     ]
    },
    {
     "name": "stderr",
     "output_type": "stream",
     "text": [
      "100%|████████████████████████████████████████████████████████████████████████████████████████████████████████████████████████████████████████████████████████| 391/391 [00:51<00:00,  7.62it/s]\n"
     ]
    },
    {
     "name": "stdout",
     "output_type": "stream",
     "text": [
      "0.01633069652365998\n"
     ]
    },
    {
     "name": "stderr",
     "output_type": "stream",
     "text": [
      "100%|████████████████████████████████████████████████████████████████████████████████████████████████████████████████████████████████████████████████████████| 391/391 [00:51<00:00,  7.54it/s]\n"
     ]
    },
    {
     "name": "stdout",
     "output_type": "stream",
     "text": [
      "0.010784355423211454\n"
     ]
    },
    {
     "name": "stderr",
     "output_type": "stream",
     "text": [
      "100%|████████████████████████████████████████████████████████████████████████████████████████████████████████████████████████████████████████████████████████| 391/391 [00:51<00:00,  7.54it/s]\n"
     ]
    },
    {
     "name": "stdout",
     "output_type": "stream",
     "text": [
      "0.01424728353586823\n"
     ]
    },
    {
     "name": "stderr",
     "output_type": "stream",
     "text": [
      "100%|████████████████████████████████████████████████████████████████████████████████████████████████████████████████████████████████████████████████████████| 391/391 [00:51<00:00,  7.64it/s]\n",
      "100%|████████████████████████████████████████████████████████████████████████████████████████████████████████████████████████████████████████████████████████████| 5/5 [00:00<00:00, 11.86it/s]\n",
      "100%|████████████████████████████████████████████████████████████████████████████████████████████████████████████████████████████████████████████████████████████| 5/5 [00:00<00:00, 11.55it/s]\n",
      "/opt/conda/lib/python3.7/site-packages/sklearn/utils/validation.py:598: FutureWarning: np.matrix usage is deprecated in 1.0 and will raise a TypeError in 1.2. Please convert to a numpy array with np.asarray. For more information see: https://numpy.org/doc/stable/reference/generated/numpy.matrix.html\n",
      "  FutureWarning,\n",
      "/opt/conda/lib/python3.7/site-packages/sklearn/utils/validation.py:598: FutureWarning: np.matrix usage is deprecated in 1.0 and will raise a TypeError in 1.2. Please convert to a numpy array with np.asarray. For more information see: https://numpy.org/doc/stable/reference/generated/numpy.matrix.html\n",
      "  FutureWarning,\n",
      "/opt/conda/lib/python3.7/site-packages/sklearn/neighbors/_classification.py:198: DataConversionWarning: A column-vector y was passed when a 1d array was expected. Please change the shape of y to (n_samples,), for example using ravel().\n",
      "  return self._fit(X, y)\n",
      "/opt/conda/lib/python3.7/site-packages/sklearn/utils/validation.py:598: FutureWarning: np.matrix usage is deprecated in 1.0 and will raise a TypeError in 1.2. Please convert to a numpy array with np.asarray. For more information see: https://numpy.org/doc/stable/reference/generated/numpy.matrix.html\n",
      "  FutureWarning,\n"
     ]
    },
    {
     "name": "stdout",
     "output_type": "stream",
     "text": [
      "              precision    recall  f1-score   support\n",
      "\n",
      "           0       0.60      0.60      0.60         5\n",
      "           5       0.62      0.62      0.62         8\n",
      "           7       1.00      0.86      0.92         7\n",
      "           8       1.00      0.67      0.80         6\n",
      "           9       0.83      1.00      0.91         5\n",
      "          10       0.83      1.00      0.91         5\n",
      "          14       0.50      0.50      0.50         2\n",
      "          16       1.00      0.50      0.67        10\n",
      "          20       0.80      1.00      0.89         4\n",
      "          21       1.00      0.43      0.60         7\n",
      "          22       0.56      0.56      0.56         9\n",
      "          25       1.00      0.20      0.33         5\n",
      "          30       0.83      0.71      0.77         7\n",
      "          31       1.00      0.70      0.82        10\n",
      "          32       0.50      0.33      0.40         3\n",
      "          33       0.50      0.57      0.53         7\n",
      "          34       0.36      0.80      0.50         5\n",
      "          35       1.00      0.40      0.57         5\n",
      "          37       1.00      0.60      0.75         5\n",
      "          38       0.67      0.29      0.40         7\n",
      "          39       1.00      0.75      0.86         4\n",
      "          43       0.67      0.25      0.36         8\n",
      "          45       1.00      0.33      0.50         6\n",
      "          46       1.00      0.33      0.50        12\n",
      "          53       1.00      0.71      0.83         7\n",
      "          56       1.00      0.50      0.67         4\n",
      "          57       0.83      0.62      0.71         8\n",
      "          58       1.00      1.00      1.00         4\n",
      "          60       1.00      0.71      0.83         7\n",
      "          61       1.00      0.22      0.36         9\n",
      "          63       1.00      0.50      0.67         4\n",
      "          65       0.09      0.75      0.17         4\n",
      "          67       0.50      0.40      0.44         5\n",
      "          68       0.80      0.80      0.80         5\n",
      "          70       0.75      0.60      0.67         5\n",
      "          71       0.38      1.00      0.55         3\n",
      "          72       0.40      0.20      0.27        10\n",
      "          78       0.33      0.20      0.25         5\n",
      "          80       0.33      0.25      0.29         4\n",
      "          81       0.07      1.00      0.13         4\n",
      "          82       1.00      0.70      0.82        10\n",
      "          83       1.00      0.40      0.57        10\n",
      "          84       0.80      0.67      0.73         6\n",
      "          87       1.00      1.00      1.00         3\n",
      "          88       1.00      0.50      0.67         4\n",
      "          89       1.00      0.43      0.60         7\n",
      "          92       0.50      0.50      0.50         2\n",
      "          93       0.00      0.00      0.00         7\n",
      "          96       0.67      0.75      0.71         8\n",
      "          99       0.00      0.00      0.00         3\n",
      "\n",
      "    accuracy                           0.55       300\n",
      "   macro avg       0.73      0.57      0.59       300\n",
      "weighted avg       0.77      0.55      0.59       300\n",
      "\n",
      "0.014810539681334776\n"
     ]
    },
    {
     "name": "stderr",
     "output_type": "stream",
     "text": [
      "100%|████████████████████████████████████████████████████████████████████████████████████████████████████████████████████████████████████████████████████████| 391/391 [00:52<00:00,  7.50it/s]\n"
     ]
    },
    {
     "name": "stdout",
     "output_type": "stream",
     "text": [
      "0.012204807803954007\n"
     ]
    },
    {
     "name": "stderr",
     "output_type": "stream",
     "text": [
      "100%|████████████████████████████████████████████████████████████████████████████████████████████████████████████████████████████████████████████████████████| 391/391 [00:51<00:00,  7.59it/s]\n"
     ]
    },
    {
     "name": "stdout",
     "output_type": "stream",
     "text": [
      "0.012273815751591057\n"
     ]
    },
    {
     "name": "stderr",
     "output_type": "stream",
     "text": [
      "100%|████████████████████████████████████████████████████████████████████████████████████████████████████████████████████████████████████████████████████████| 391/391 [00:51<00:00,  7.59it/s]\n"
     ]
    },
    {
     "name": "stdout",
     "output_type": "stream",
     "text": [
      "0.008575294047396785\n"
     ]
    },
    {
     "name": "stderr",
     "output_type": "stream",
     "text": [
      "100%|████████████████████████████████████████████████████████████████████████████████████████████████████████████████████████████████████████████████████████| 391/391 [00:51<00:00,  7.57it/s]\n"
     ]
    },
    {
     "name": "stdout",
     "output_type": "stream",
     "text": [
      "0.013826742768038589\n"
     ]
    },
    {
     "name": "stderr",
     "output_type": "stream",
     "text": [
      "100%|████████████████████████████████████████████████████████████████████████████████████████████████████████████████████████████████████████████████████████| 391/391 [00:52<00:00,  7.43it/s]\n"
     ]
    },
    {
     "name": "stdout",
     "output_type": "stream",
     "text": [
      "0.010790015459469043\n"
     ]
    },
    {
     "name": "stderr",
     "output_type": "stream",
     "text": [
      "100%|████████████████████████████████████████████████████████████████████████████████████████████████████████████████████████████████████████████████████████| 391/391 [00:51<00:00,  7.65it/s]\n"
     ]
    },
    {
     "name": "stdout",
     "output_type": "stream",
     "text": [
      "0.008720048530946326\n"
     ]
    },
    {
     "name": "stderr",
     "output_type": "stream",
     "text": [
      "100%|████████████████████████████████████████████████████████████████████████████████████████████████████████████████████████████████████████████████████████| 391/391 [00:49<00:00,  7.86it/s]\n"
     ]
    },
    {
     "name": "stdout",
     "output_type": "stream",
     "text": [
      "0.010668364696314771\n"
     ]
    },
    {
     "name": "stderr",
     "output_type": "stream",
     "text": [
      "100%|████████████████████████████████████████████████████████████████████████████████████████████████████████████████████████████████████████████████████████| 391/391 [00:51<00:00,  7.66it/s]\n"
     ]
    },
    {
     "name": "stdout",
     "output_type": "stream",
     "text": [
      "0.009982987767112346\n"
     ]
    },
    {
     "name": "stderr",
     "output_type": "stream",
     "text": [
      "100%|████████████████████████████████████████████████████████████████████████████████████████████████████████████████████████████████████████████████████████| 391/391 [00:49<00:00,  7.89it/s]\n"
     ]
    },
    {
     "name": "stdout",
     "output_type": "stream",
     "text": [
      "0.012731620468387758\n"
     ]
    },
    {
     "name": "stderr",
     "output_type": "stream",
     "text": [
      " 16%|████████████████████████▎                                                                                                                                | 62/391 [00:08<00:42,  7.70it/s]"
     ]
    }
   ],
   "source": [
    "model.to(device)\n",
    "loss_func.to(device)\n",
    "loss_train = []\n",
    "for epoch in range(100):\n",
    "    model.train()\n",
    "    loop = tqdm(dl_train)\n",
    "    lloss = []\n",
    "    for data, labels in loop:\n",
    "        data = data.to(device)\n",
    "        labels = labels.to(device)\n",
    "        opt.zero_grad()\n",
    "        embeddings = model(data)\n",
    "        loss = loss_func(embeddings, labels)\n",
    "        loss.backward()\n",
    "        lloss.append(loss.item())\n",
    "        opt.step()\n",
    "    scheduler.step()\n",
    "    if epoch %10 == 0:\n",
    "        pred,test_y = pred_knn_model(model,dl_sub_train,dl_sub_test)\n",
    "        print(classification_report(test_y.T,pred))\n",
    "    loss_train.append(np.mean(lloss))\n",
    "    print(f\"loss {loss_train[-1]}\")\n",
    "    wandb.log({'loss_train':loss_train[-1]})"
   ]
  },
  {
   "cell_type": "code",
   "execution_count": null,
   "metadata": {},
   "outputs": [
    {
     "data": {
      "text/plain": [
       "<module 'torch' from '/home/ubuntu/.local/lib/python3.10/site-packages/torch/__init__.py'>"
      ]
     },
     "execution_count": 52,
     "metadata": {},
     "output_type": "execute_result"
    }
   ],
   "source": [
    "torch"
   ]
  },
  {
   "cell_type": "code",
   "execution_count": null,
   "metadata": {},
   "outputs": [
    {
     "data": {
      "text/plain": [
       "_CudaDeviceProperties(name='NVIDIA GeForce RTX 3060', major=8, minor=6, total_memory=12044MB, multi_processor_count=28)"
      ]
     },
     "execution_count": 53,
     "metadata": {},
     "output_type": "execute_result"
    }
   ],
   "source": [
    "torch.cuda.get_device_properties(0)"
   ]
  },
  {
   "cell_type": "code",
   "execution_count": null,
   "metadata": {},
   "outputs": [],
   "source": [
    "torch.save({'rn18':model.state_dict(),'class_order':class_order,'loss_train':loss_train},'rn18_pass_100epochs.pth')"
   ]
  },
  {
   "cell_type": "code",
   "execution_count": null,
   "metadata": {},
   "outputs": [],
   "source": []
  },
  {
   "cell_type": "code",
   "execution_count": null,
   "metadata": {},
   "outputs": [],
   "source": []
  },
  {
   "cell_type": "code",
   "execution_count": null,
   "metadata": {},
   "outputs": [],
   "source": []
  }
 ],
 "metadata": {
  "kernelspec": {
   "display_name": "Python 3 (ipykernel)",
   "language": "python",
   "name": "python3"
  },
  "language_info": {
   "codemirror_mode": {
    "name": "ipython",
    "version": 3
   },
   "file_extension": ".py",
   "mimetype": "text/x-python",
   "name": "python",
   "nbconvert_exporter": "python",
   "pygments_lexer": "ipython3",
   "version": "3.7.13"
  }
 },
 "nbformat": 4,
 "nbformat_minor": 2
}
