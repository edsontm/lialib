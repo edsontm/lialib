{
 "cells": [
  {
   "cell_type": "code",
   "execution_count": 5,
   "metadata": {},
   "outputs": [],
   "source": [
    "\n",
    "\n",
    "import torch\n",
    "import torch.nn as nn\n",
    "import torch.optim as optim\n",
    "\n",
    "import torchvision\n",
    "from torchvision import datasets, models, transforms\n",
    "from tqdm import tqdm\n",
    "import numpy as np\n",
    "\n",
    "\n",
    "\n",
    "from resnetpass import resnet18_cbam"
   ]
  },
  {
   "cell_type": "code",
   "execution_count": 6,
   "metadata": {},
   "outputs": [],
   "source": [
    "device = torch.device('cuda:0')\n",
    "class_order_file = 'class_order.pth'"
   ]
  },
  {
   "cell_type": "code",
   "execution_count": 7,
   "metadata": {},
   "outputs": [
    {
     "name": "stdout",
     "output_type": "stream",
     "text": [
      "Defaulting to user installation because normal site-packages is not writeable\n",
      "Looking in indexes: https://pypi.org/simple, https://pypi.ngc.nvidia.com\n",
      "Requirement already satisfied: pytorch-metric-learning in /home/ubuntu/.local/lib/python3.10/site-packages (2.5.0)\n",
      "Requirement already satisfied: numpy in /usr/local/lib/python3.10/dist-packages (from pytorch-metric-learning) (1.22.2)\n",
      "Requirement already satisfied: scikit-learn in /usr/local/lib/python3.10/dist-packages (from pytorch-metric-learning) (1.2.0)\n",
      "Requirement already satisfied: torch>=1.6.0 in /home/ubuntu/.local/lib/python3.10/site-packages (from pytorch-metric-learning) (2.1.2)\n",
      "Requirement already satisfied: tqdm in /usr/local/lib/python3.10/dist-packages (from pytorch-metric-learning) (4.65.0)\n",
      "Requirement already satisfied: filelock in /usr/local/lib/python3.10/dist-packages (from torch>=1.6.0->pytorch-metric-learning) (3.12.2)\n",
      "Requirement already satisfied: typing-extensions in /home/ubuntu/.local/lib/python3.10/site-packages (from torch>=1.6.0->pytorch-metric-learning) (4.9.0)\n",
      "Requirement already satisfied: sympy in /usr/local/lib/python3.10/dist-packages (from torch>=1.6.0->pytorch-metric-learning) (1.12)\n",
      "Requirement already satisfied: networkx in /home/ubuntu/.local/lib/python3.10/site-packages (from torch>=1.6.0->pytorch-metric-learning) (3.2.1)\n",
      "Requirement already satisfied: jinja2 in /usr/local/lib/python3.10/dist-packages (from torch>=1.6.0->pytorch-metric-learning) (3.1.2)\n",
      "Requirement already satisfied: fsspec in /usr/local/lib/python3.10/dist-packages (from torch>=1.6.0->pytorch-metric-learning) (2023.6.0)\n",
      "Requirement already satisfied: nvidia-cuda-nvrtc-cu12==12.1.105 in /home/ubuntu/.local/lib/python3.10/site-packages (from torch>=1.6.0->pytorch-metric-learning) (12.1.105)\n",
      "Requirement already satisfied: nvidia-cuda-runtime-cu12==12.1.105 in /home/ubuntu/.local/lib/python3.10/site-packages (from torch>=1.6.0->pytorch-metric-learning) (12.1.105)\n",
      "Requirement already satisfied: nvidia-cuda-cupti-cu12==12.1.105 in /home/ubuntu/.local/lib/python3.10/site-packages (from torch>=1.6.0->pytorch-metric-learning) (12.1.105)\n",
      "Requirement already satisfied: nvidia-cudnn-cu12==8.9.2.26 in /home/ubuntu/.local/lib/python3.10/site-packages (from torch>=1.6.0->pytorch-metric-learning) (8.9.2.26)\n",
      "Requirement already satisfied: nvidia-cublas-cu12==12.1.3.1 in /home/ubuntu/.local/lib/python3.10/site-packages (from torch>=1.6.0->pytorch-metric-learning) (12.1.3.1)\n",
      "Requirement already satisfied: nvidia-cufft-cu12==11.0.2.54 in /home/ubuntu/.local/lib/python3.10/site-packages (from torch>=1.6.0->pytorch-metric-learning) (11.0.2.54)\n",
      "Requirement already satisfied: nvidia-curand-cu12==10.3.2.106 in /home/ubuntu/.local/lib/python3.10/site-packages (from torch>=1.6.0->pytorch-metric-learning) (10.3.2.106)\n",
      "Requirement already satisfied: nvidia-cusolver-cu12==11.4.5.107 in /home/ubuntu/.local/lib/python3.10/site-packages (from torch>=1.6.0->pytorch-metric-learning) (11.4.5.107)\n",
      "Requirement already satisfied: nvidia-cusparse-cu12==12.1.0.106 in /home/ubuntu/.local/lib/python3.10/site-packages (from torch>=1.6.0->pytorch-metric-learning) (12.1.0.106)\n",
      "Requirement already satisfied: nvidia-nccl-cu12==2.18.1 in /home/ubuntu/.local/lib/python3.10/site-packages (from torch>=1.6.0->pytorch-metric-learning) (2.18.1)\n",
      "Requirement already satisfied: nvidia-nvtx-cu12==12.1.105 in /home/ubuntu/.local/lib/python3.10/site-packages (from torch>=1.6.0->pytorch-metric-learning) (12.1.105)\n",
      "Requirement already satisfied: triton==2.1.0 in /usr/local/lib/python3.10/dist-packages (from torch>=1.6.0->pytorch-metric-learning) (2.1.0+440fd1b)\n",
      "Requirement already satisfied: nvidia-nvjitlink-cu12 in /home/ubuntu/.local/lib/python3.10/site-packages (from nvidia-cusolver-cu12==11.4.5.107->torch>=1.6.0->pytorch-metric-learning) (12.3.101)\n",
      "Requirement already satisfied: scipy>=1.3.2 in /usr/local/lib/python3.10/dist-packages (from scikit-learn->pytorch-metric-learning) (1.11.1)\n",
      "Requirement already satisfied: joblib>=1.1.1 in /usr/local/lib/python3.10/dist-packages (from scikit-learn->pytorch-metric-learning) (1.3.1)\n",
      "Requirement already satisfied: threadpoolctl>=2.0.0 in /usr/local/lib/python3.10/dist-packages (from scikit-learn->pytorch-metric-learning) (3.2.0)\n",
      "Requirement already satisfied: MarkupSafe>=2.0 in /usr/local/lib/python3.10/dist-packages (from jinja2->torch>=1.6.0->pytorch-metric-learning) (2.1.3)\n",
      "Requirement already satisfied: mpmath>=0.19 in /usr/local/lib/python3.10/dist-packages (from sympy->torch>=1.6.0->pytorch-metric-learning) (1.3.0)\n",
      "\n",
      "\u001b[1m[\u001b[0m\u001b[34;49mnotice\u001b[0m\u001b[1;39;49m]\u001b[0m\u001b[39;49m A new release of pip is available: \u001b[0m\u001b[31;49m23.3.2\u001b[0m\u001b[39;49m -> \u001b[0m\u001b[32;49m24.0\u001b[0m\n",
      "\u001b[1m[\u001b[0m\u001b[34;49mnotice\u001b[0m\u001b[1;39;49m]\u001b[0m\u001b[39;49m To update, run: \u001b[0m\u001b[32;49mpython -m pip install --upgrade pip\u001b[0m\n"
     ]
    }
   ],
   "source": [
    "!pip install pytorch-metric-learning"
   ]
  },
  {
   "cell_type": "code",
   "execution_count": 9,
   "metadata": {},
   "outputs": [],
   "source": [
    "model = resnet18_cbam(pretrained=False)"
   ]
  },
  {
   "cell_type": "code",
   "execution_count": 10,
   "metadata": {},
   "outputs": [
    {
     "data": {
      "text/plain": [
       "ResNet(\n",
       "  (conv1): Conv2d(3, 64, kernel_size=(3, 3), stride=(1, 1), padding=(1, 1), bias=False)\n",
       "  (bn1): BatchNorm2d(64, eps=1e-05, momentum=0.1, affine=True, track_running_stats=True)\n",
       "  (relu): ReLU(inplace=True)\n",
       "  (maxpool): MaxPool2d(kernel_size=3, stride=2, padding=1, dilation=1, ceil_mode=False)\n",
       "  (layer1): Sequential(\n",
       "    (0): BasicBlock(\n",
       "      (conv1): Conv2d(64, 64, kernel_size=(3, 3), stride=(1, 1), padding=(1, 1), bias=False)\n",
       "      (bn1): BatchNorm2d(64, eps=1e-05, momentum=0.1, affine=True, track_running_stats=True)\n",
       "      (relu): ReLU(inplace=True)\n",
       "      (conv2): Conv2d(64, 64, kernel_size=(3, 3), stride=(1, 1), padding=(1, 1), bias=False)\n",
       "      (bn2): BatchNorm2d(64, eps=1e-05, momentum=0.1, affine=True, track_running_stats=True)\n",
       "      (ca): ChannelAttention(\n",
       "        (avg_pool): AdaptiveAvgPool2d(output_size=1)\n",
       "        (max_pool): AdaptiveMaxPool2d(output_size=1)\n",
       "        (fc1): Conv2d(64, 4, kernel_size=(1, 1), stride=(1, 1), bias=False)\n",
       "        (relu1): ReLU()\n",
       "        (fc2): Conv2d(4, 64, kernel_size=(1, 1), stride=(1, 1), bias=False)\n",
       "        (sigmoid): Sigmoid()\n",
       "      )\n",
       "      (sa): SpatialAttention(\n",
       "        (conv1): Conv2d(2, 1, kernel_size=(7, 7), stride=(1, 1), padding=(3, 3), bias=False)\n",
       "        (sigmoid): Sigmoid()\n",
       "      )\n",
       "    )\n",
       "    (1): BasicBlock(\n",
       "      (conv1): Conv2d(64, 64, kernel_size=(3, 3), stride=(1, 1), padding=(1, 1), bias=False)\n",
       "      (bn1): BatchNorm2d(64, eps=1e-05, momentum=0.1, affine=True, track_running_stats=True)\n",
       "      (relu): ReLU(inplace=True)\n",
       "      (conv2): Conv2d(64, 64, kernel_size=(3, 3), stride=(1, 1), padding=(1, 1), bias=False)\n",
       "      (bn2): BatchNorm2d(64, eps=1e-05, momentum=0.1, affine=True, track_running_stats=True)\n",
       "      (ca): ChannelAttention(\n",
       "        (avg_pool): AdaptiveAvgPool2d(output_size=1)\n",
       "        (max_pool): AdaptiveMaxPool2d(output_size=1)\n",
       "        (fc1): Conv2d(64, 4, kernel_size=(1, 1), stride=(1, 1), bias=False)\n",
       "        (relu1): ReLU()\n",
       "        (fc2): Conv2d(4, 64, kernel_size=(1, 1), stride=(1, 1), bias=False)\n",
       "        (sigmoid): Sigmoid()\n",
       "      )\n",
       "      (sa): SpatialAttention(\n",
       "        (conv1): Conv2d(2, 1, kernel_size=(7, 7), stride=(1, 1), padding=(3, 3), bias=False)\n",
       "        (sigmoid): Sigmoid()\n",
       "      )\n",
       "    )\n",
       "  )\n",
       "  (layer2): Sequential(\n",
       "    (0): BasicBlock(\n",
       "      (conv1): Conv2d(64, 128, kernel_size=(3, 3), stride=(2, 2), padding=(1, 1), bias=False)\n",
       "      (bn1): BatchNorm2d(128, eps=1e-05, momentum=0.1, affine=True, track_running_stats=True)\n",
       "      (relu): ReLU(inplace=True)\n",
       "      (conv2): Conv2d(128, 128, kernel_size=(3, 3), stride=(1, 1), padding=(1, 1), bias=False)\n",
       "      (bn2): BatchNorm2d(128, eps=1e-05, momentum=0.1, affine=True, track_running_stats=True)\n",
       "      (ca): ChannelAttention(\n",
       "        (avg_pool): AdaptiveAvgPool2d(output_size=1)\n",
       "        (max_pool): AdaptiveMaxPool2d(output_size=1)\n",
       "        (fc1): Conv2d(128, 8, kernel_size=(1, 1), stride=(1, 1), bias=False)\n",
       "        (relu1): ReLU()\n",
       "        (fc2): Conv2d(8, 128, kernel_size=(1, 1), stride=(1, 1), bias=False)\n",
       "        (sigmoid): Sigmoid()\n",
       "      )\n",
       "      (sa): SpatialAttention(\n",
       "        (conv1): Conv2d(2, 1, kernel_size=(7, 7), stride=(1, 1), padding=(3, 3), bias=False)\n",
       "        (sigmoid): Sigmoid()\n",
       "      )\n",
       "      (downsample): Sequential(\n",
       "        (0): Conv2d(64, 128, kernel_size=(1, 1), stride=(2, 2), bias=False)\n",
       "        (1): BatchNorm2d(128, eps=1e-05, momentum=0.1, affine=True, track_running_stats=True)\n",
       "      )\n",
       "    )\n",
       "    (1): BasicBlock(\n",
       "      (conv1): Conv2d(128, 128, kernel_size=(3, 3), stride=(1, 1), padding=(1, 1), bias=False)\n",
       "      (bn1): BatchNorm2d(128, eps=1e-05, momentum=0.1, affine=True, track_running_stats=True)\n",
       "      (relu): ReLU(inplace=True)\n",
       "      (conv2): Conv2d(128, 128, kernel_size=(3, 3), stride=(1, 1), padding=(1, 1), bias=False)\n",
       "      (bn2): BatchNorm2d(128, eps=1e-05, momentum=0.1, affine=True, track_running_stats=True)\n",
       "      (ca): ChannelAttention(\n",
       "        (avg_pool): AdaptiveAvgPool2d(output_size=1)\n",
       "        (max_pool): AdaptiveMaxPool2d(output_size=1)\n",
       "        (fc1): Conv2d(128, 8, kernel_size=(1, 1), stride=(1, 1), bias=False)\n",
       "        (relu1): ReLU()\n",
       "        (fc2): Conv2d(8, 128, kernel_size=(1, 1), stride=(1, 1), bias=False)\n",
       "        (sigmoid): Sigmoid()\n",
       "      )\n",
       "      (sa): SpatialAttention(\n",
       "        (conv1): Conv2d(2, 1, kernel_size=(7, 7), stride=(1, 1), padding=(3, 3), bias=False)\n",
       "        (sigmoid): Sigmoid()\n",
       "      )\n",
       "    )\n",
       "  )\n",
       "  (layer3): Sequential(\n",
       "    (0): BasicBlock(\n",
       "      (conv1): Conv2d(128, 256, kernel_size=(3, 3), stride=(2, 2), padding=(1, 1), bias=False)\n",
       "      (bn1): BatchNorm2d(256, eps=1e-05, momentum=0.1, affine=True, track_running_stats=True)\n",
       "      (relu): ReLU(inplace=True)\n",
       "      (conv2): Conv2d(256, 256, kernel_size=(3, 3), stride=(1, 1), padding=(1, 1), bias=False)\n",
       "      (bn2): BatchNorm2d(256, eps=1e-05, momentum=0.1, affine=True, track_running_stats=True)\n",
       "      (ca): ChannelAttention(\n",
       "        (avg_pool): AdaptiveAvgPool2d(output_size=1)\n",
       "        (max_pool): AdaptiveMaxPool2d(output_size=1)\n",
       "        (fc1): Conv2d(256, 16, kernel_size=(1, 1), stride=(1, 1), bias=False)\n",
       "        (relu1): ReLU()\n",
       "        (fc2): Conv2d(16, 256, kernel_size=(1, 1), stride=(1, 1), bias=False)\n",
       "        (sigmoid): Sigmoid()\n",
       "      )\n",
       "      (sa): SpatialAttention(\n",
       "        (conv1): Conv2d(2, 1, kernel_size=(7, 7), stride=(1, 1), padding=(3, 3), bias=False)\n",
       "        (sigmoid): Sigmoid()\n",
       "      )\n",
       "      (downsample): Sequential(\n",
       "        (0): Conv2d(128, 256, kernel_size=(1, 1), stride=(2, 2), bias=False)\n",
       "        (1): BatchNorm2d(256, eps=1e-05, momentum=0.1, affine=True, track_running_stats=True)\n",
       "      )\n",
       "    )\n",
       "    (1): BasicBlock(\n",
       "      (conv1): Conv2d(256, 256, kernel_size=(3, 3), stride=(1, 1), padding=(1, 1), bias=False)\n",
       "      (bn1): BatchNorm2d(256, eps=1e-05, momentum=0.1, affine=True, track_running_stats=True)\n",
       "      (relu): ReLU(inplace=True)\n",
       "      (conv2): Conv2d(256, 256, kernel_size=(3, 3), stride=(1, 1), padding=(1, 1), bias=False)\n",
       "      (bn2): BatchNorm2d(256, eps=1e-05, momentum=0.1, affine=True, track_running_stats=True)\n",
       "      (ca): ChannelAttention(\n",
       "        (avg_pool): AdaptiveAvgPool2d(output_size=1)\n",
       "        (max_pool): AdaptiveMaxPool2d(output_size=1)\n",
       "        (fc1): Conv2d(256, 16, kernel_size=(1, 1), stride=(1, 1), bias=False)\n",
       "        (relu1): ReLU()\n",
       "        (fc2): Conv2d(16, 256, kernel_size=(1, 1), stride=(1, 1), bias=False)\n",
       "        (sigmoid): Sigmoid()\n",
       "      )\n",
       "      (sa): SpatialAttention(\n",
       "        (conv1): Conv2d(2, 1, kernel_size=(7, 7), stride=(1, 1), padding=(3, 3), bias=False)\n",
       "        (sigmoid): Sigmoid()\n",
       "      )\n",
       "    )\n",
       "  )\n",
       "  (layer4): Sequential(\n",
       "    (0): BasicBlock(\n",
       "      (conv1): Conv2d(256, 512, kernel_size=(3, 3), stride=(2, 2), padding=(1, 1), bias=False)\n",
       "      (bn1): BatchNorm2d(512, eps=1e-05, momentum=0.1, affine=True, track_running_stats=True)\n",
       "      (relu): ReLU(inplace=True)\n",
       "      (conv2): Conv2d(512, 512, kernel_size=(3, 3), stride=(1, 1), padding=(1, 1), bias=False)\n",
       "      (bn2): BatchNorm2d(512, eps=1e-05, momentum=0.1, affine=True, track_running_stats=True)\n",
       "      (ca): ChannelAttention(\n",
       "        (avg_pool): AdaptiveAvgPool2d(output_size=1)\n",
       "        (max_pool): AdaptiveMaxPool2d(output_size=1)\n",
       "        (fc1): Conv2d(512, 32, kernel_size=(1, 1), stride=(1, 1), bias=False)\n",
       "        (relu1): ReLU()\n",
       "        (fc2): Conv2d(32, 512, kernel_size=(1, 1), stride=(1, 1), bias=False)\n",
       "        (sigmoid): Sigmoid()\n",
       "      )\n",
       "      (sa): SpatialAttention(\n",
       "        (conv1): Conv2d(2, 1, kernel_size=(7, 7), stride=(1, 1), padding=(3, 3), bias=False)\n",
       "        (sigmoid): Sigmoid()\n",
       "      )\n",
       "      (downsample): Sequential(\n",
       "        (0): Conv2d(256, 512, kernel_size=(1, 1), stride=(2, 2), bias=False)\n",
       "        (1): BatchNorm2d(512, eps=1e-05, momentum=0.1, affine=True, track_running_stats=True)\n",
       "      )\n",
       "    )\n",
       "    (1): BasicBlock(\n",
       "      (conv1): Conv2d(512, 512, kernel_size=(3, 3), stride=(1, 1), padding=(1, 1), bias=False)\n",
       "      (bn1): BatchNorm2d(512, eps=1e-05, momentum=0.1, affine=True, track_running_stats=True)\n",
       "      (relu): ReLU(inplace=True)\n",
       "      (conv2): Conv2d(512, 512, kernel_size=(3, 3), stride=(1, 1), padding=(1, 1), bias=False)\n",
       "      (bn2): BatchNorm2d(512, eps=1e-05, momentum=0.1, affine=True, track_running_stats=True)\n",
       "      (ca): ChannelAttention(\n",
       "        (avg_pool): AdaptiveAvgPool2d(output_size=1)\n",
       "        (max_pool): AdaptiveMaxPool2d(output_size=1)\n",
       "        (fc1): Conv2d(512, 32, kernel_size=(1, 1), stride=(1, 1), bias=False)\n",
       "        (relu1): ReLU()\n",
       "        (fc2): Conv2d(32, 512, kernel_size=(1, 1), stride=(1, 1), bias=False)\n",
       "        (sigmoid): Sigmoid()\n",
       "      )\n",
       "      (sa): SpatialAttention(\n",
       "        (conv1): Conv2d(2, 1, kernel_size=(7, 7), stride=(1, 1), padding=(3, 3), bias=False)\n",
       "        (sigmoid): Sigmoid()\n",
       "      )\n",
       "    )\n",
       "  )\n",
       "  (feature): AvgPool2d(kernel_size=4, stride=1, padding=0)\n",
       "  (fc): Linear(in_features=512, out_features=100, bias=True)\n",
       ")"
      ]
     },
     "execution_count": 10,
     "metadata": {},
     "output_type": "execute_result"
    }
   ],
   "source": [
    "model"
   ]
  },
  {
   "cell_type": "code",
   "execution_count": 11,
   "metadata": {},
   "outputs": [],
   "source": [
    "model.fc = nn.Linear(512,512)"
   ]
  },
  {
   "cell_type": "code",
   "execution_count": 12,
   "metadata": {},
   "outputs": [
    {
     "name": "stdout",
     "output_type": "stream",
     "text": [
      "/home/ubuntu/lialib/colab\n"
     ]
    }
   ],
   "source": [
    "!pwd"
   ]
  },
  {
   "cell_type": "code",
   "execution_count": 13,
   "metadata": {},
   "outputs": [
    {
     "data": {
      "text/plain": [
       "_CudaDeviceProperties(name='NVIDIA GeForce RTX 3060', major=8, minor=6, total_memory=12044MB, multi_processor_count=28)"
      ]
     },
     "execution_count": 13,
     "metadata": {},
     "output_type": "execute_result"
    }
   ],
   "source": [
    "torch.cuda.get_device_properties(0)"
   ]
  },
  {
   "cell_type": "code",
   "execution_count": 14,
   "metadata": {},
   "outputs": [],
   "source": [
    "#model.load_state_dict(model_state_dict['rn18'])\n",
    "import os\n",
    "\n",
    "if os.path.isfile(class_order_file ):\n",
    "    class_order = torch.load(class_order_file)\n",
    "else:\n",
    "    class_order = torch.randperm(100)\n",
    "    torch.save(class_order,class_order_file)"
   ]
  },
  {
   "cell_type": "code",
   "execution_count": 15,
   "metadata": {},
   "outputs": [
    {
     "data": {
      "text/plain": [
       "tensor([30, 43, 94, 73, 34, 67, 62, 33, 61, 15, 78, 28, 41, 68, 57,  0,  3, 22,\n",
       "         5,  2, 65, 26, 54, 32, 24, 83, 72, 13, 29, 49, 98, 20, 31, 82, 71, 44,\n",
       "        42, 91, 40, 99, 23, 97,  6, 90, 45, 63, 60, 56, 87, 47, 79, 51, 58, 17,\n",
       "        16, 96, 52, 75, 92, 69, 35, 38, 53, 25,  1, 80, 39, 88, 21, 74, 36, 19,\n",
       "        11, 10, 76, 89, 59, 37,  9, 14, 81, 95, 77, 64, 70, 46, 55, 66, 86, 85,\n",
       "        18, 12,  7, 48, 93,  4, 27,  8, 50, 84])"
      ]
     },
     "execution_count": 15,
     "metadata": {},
     "output_type": "execute_result"
    }
   ],
   "source": [
    "class_order"
   ]
  },
  {
   "cell_type": "code",
   "execution_count": 16,
   "metadata": {},
   "outputs": [],
   "source": [
    "preprocess = transforms.Compose([\n",
    "    transforms.ToTensor(),\n",
    "    transforms.Normalize(mean=(0.48145466, 0.4578275, 0.40821073), std=(0.26862954, 0.26130258, 0.27577711))\n",
    "])"
   ]
  },
  {
   "cell_type": "code",
   "execution_count": 17,
   "metadata": {},
   "outputs": [
    {
     "name": "stdout",
     "output_type": "stream",
     "text": [
      "Files already downloaded and verified\n",
      "Files already downloaded and verified\n"
     ]
    }
   ],
   "source": [
    "ds_train = datasets.CIFAR100(root='./data', train=True, download=True, transform=preprocess)\n",
    "ds_test  = datasets.CIFAR100(root='./data', train=False, download=True, transform=preprocess)"
   ]
  },
  {
   "cell_type": "code",
   "execution_count": 18,
   "metadata": {},
   "outputs": [],
   "source": [
    "def instances_from_classes(dataset, class_order):\n",
    "    subset = []\n",
    "    for i in range(len(dataset)):\n",
    "        _, label = dataset[i]\n",
    "        if label in class_order:\n",
    "            subset.append(i)\n",
    "    return subset\n"
   ]
  },
  {
   "cell_type": "code",
   "execution_count": 19,
   "metadata": {},
   "outputs": [],
   "source": [
    "set_train = instances_from_classes(ds_train,class_order[:50])\n",
    "set_test  = np.array(instances_from_classes(ds_test, class_order[:50]))"
   ]
  },
  {
   "cell_type": "code",
   "execution_count": 20,
   "metadata": {},
   "outputs": [
    {
     "data": {
      "text/plain": [
       "(5000,)"
      ]
     },
     "execution_count": 20,
     "metadata": {},
     "output_type": "execute_result"
    }
   ],
   "source": [
    "set_test.shape"
   ]
  },
  {
   "cell_type": "code",
   "execution_count": 21,
   "metadata": {},
   "outputs": [],
   "source": [
    "sub_sample_train = sorted(np.random.permutation(set_train)[:300])\n",
    "sub_sample_test  = sorted(np.random.permutation(set_test)[:300])"
   ]
  },
  {
   "cell_type": "code",
   "execution_count": 22,
   "metadata": {},
   "outputs": [],
   "source": [
    "dl_train = torch.utils.data.DataLoader(ds_train, batch_size=64, sampler=torch.utils.data.SubsetRandomSampler(set_train))\n",
    "dl_test = torch.utils.data.DataLoader(ds_test,  batch_size=64, sampler=torch.utils.data.SubsetRandomSampler(set_test))\n",
    "dl_sub_train = torch.utils.data.DataLoader(ds_train,  batch_size=64, sampler=torch.utils.data.SubsetRandomSampler(sub_sample_train))\n",
    "dl_sub_test = torch.utils.data.DataLoader(ds_test,  batch_size=64, sampler=torch.utils.data.SubsetRandomSampler(sub_sample_test))"
   ]
  },
  {
   "cell_type": "code",
   "execution_count": 23,
   "metadata": {},
   "outputs": [],
   "source": [
    "x,y = next(iter(dl_train))"
   ]
  },
  {
   "cell_type": "code",
   "execution_count": 24,
   "metadata": {},
   "outputs": [
    {
     "data": {
      "text/plain": [
       "torch.Size([64])"
      ]
     },
     "execution_count": 24,
     "metadata": {},
     "output_type": "execute_result"
    }
   ],
   "source": [
    "y.shape"
   ]
  },
  {
   "cell_type": "code",
   "execution_count": 25,
   "metadata": {},
   "outputs": [
    {
     "data": {
      "text/plain": [
       "tensor([71, 73, 67,  3, 83, 54, 68, 83, 47, 82, 30, 68, 44, 24, 61, 20, 68,  2,\n",
       "        68, 65, 62, 24, 23, 13, 94, 32, 68,  6, 45, 44, 15, 90, 13, 71, 73, 24,\n",
       "        62,  0,  5, 33, 68, 44, 62, 97, 49, 44,  3, 45, 13, 83, 32, 65, 90, 40,\n",
       "        31, 91, 62, 28,  6, 47, 33, 56, 41, 22])"
      ]
     },
     "execution_count": 25,
     "metadata": {},
     "output_type": "execute_result"
    }
   ],
   "source": [
    "y"
   ]
  },
  {
   "cell_type": "code",
   "execution_count": 26,
   "metadata": {},
   "outputs": [],
   "source": [
    "from pytorch_metric_learning import losses\n",
    "loss_func = losses.ArcFaceLoss(num_classes=100,embedding_size=512)\n"
   ]
  },
  {
   "cell_type": "code",
   "execution_count": 27,
   "metadata": {},
   "outputs": [
    {
     "name": "stdout",
     "output_type": "stream",
     "text": [
      "Defaulting to user installation because normal site-packages is not writeable\n",
      "Looking in indexes: https://pypi.org/simple, https://pypi.ngc.nvidia.com\n",
      "Requirement already satisfied: wandb in /home/ubuntu/.local/lib/python3.10/site-packages (0.17.0)\n",
      "Requirement already satisfied: click!=8.0.0,>=7.1 in /usr/local/lib/python3.10/dist-packages (from wandb) (8.1.5)\n",
      "Requirement already satisfied: docker-pycreds>=0.4.0 in /home/ubuntu/.local/lib/python3.10/site-packages (from wandb) (0.4.0)\n",
      "Requirement already satisfied: gitpython!=3.1.29,>=1.0.0 in /home/ubuntu/.local/lib/python3.10/site-packages (from wandb) (3.1.43)\n",
      "Requirement already satisfied: platformdirs in /usr/local/lib/python3.10/dist-packages (from wandb) (3.10.0)\n",
      "Requirement already satisfied: protobuf!=4.21.0,<5,>=3.19.0 in /usr/local/lib/python3.10/dist-packages (from wandb) (4.21.12)\n",
      "Requirement already satisfied: psutil>=5.0.0 in /usr/local/lib/python3.10/dist-packages (from wandb) (5.9.4)\n",
      "Requirement already satisfied: pyyaml in /usr/local/lib/python3.10/dist-packages (from wandb) (6.0.1)\n",
      "Requirement already satisfied: requests<3,>=2.0.0 in /usr/local/lib/python3.10/dist-packages (from wandb) (2.31.0)\n",
      "Requirement already satisfied: sentry-sdk>=1.0.0 in /home/ubuntu/.local/lib/python3.10/site-packages (from wandb) (2.1.1)\n",
      "Requirement already satisfied: setproctitle in /home/ubuntu/.local/lib/python3.10/site-packages (from wandb) (1.3.3)\n",
      "Requirement already satisfied: setuptools in /usr/local/lib/python3.10/dist-packages (from wandb) (68.0.0)\n",
      "Requirement already satisfied: six>=1.4.0 in /usr/local/lib/python3.10/dist-packages (from docker-pycreds>=0.4.0->wandb) (1.16.0)\n",
      "Requirement already satisfied: gitdb<5,>=4.0.1 in /home/ubuntu/.local/lib/python3.10/site-packages (from gitpython!=3.1.29,>=1.0.0->wandb) (4.0.11)\n",
      "Requirement already satisfied: charset-normalizer<4,>=2 in /usr/local/lib/python3.10/dist-packages (from requests<3,>=2.0.0->wandb) (3.2.0)\n",
      "Requirement already satisfied: idna<4,>=2.5 in /usr/local/lib/python3.10/dist-packages (from requests<3,>=2.0.0->wandb) (3.4)\n",
      "Requirement already satisfied: urllib3<3,>=1.21.1 in /usr/local/lib/python3.10/dist-packages (from requests<3,>=2.0.0->wandb) (1.26.16)\n",
      "Requirement already satisfied: certifi>=2017.4.17 in /usr/local/lib/python3.10/dist-packages (from requests<3,>=2.0.0->wandb) (2023.7.22)\n",
      "Requirement already satisfied: smmap<6,>=3.0.1 in /home/ubuntu/.local/lib/python3.10/site-packages (from gitdb<5,>=4.0.1->gitpython!=3.1.29,>=1.0.0->wandb) (5.0.1)\n",
      "\n",
      "\u001b[1m[\u001b[0m\u001b[34;49mnotice\u001b[0m\u001b[1;39;49m]\u001b[0m\u001b[39;49m A new release of pip is available: \u001b[0m\u001b[31;49m23.3.2\u001b[0m\u001b[39;49m -> \u001b[0m\u001b[32;49m24.0\u001b[0m\n",
      "\u001b[1m[\u001b[0m\u001b[34;49mnotice\u001b[0m\u001b[1;39;49m]\u001b[0m\u001b[39;49m To update, run: \u001b[0m\u001b[32;49mpython -m pip install --upgrade pip\u001b[0m\n"
     ]
    }
   ],
   "source": [
    "!pip install wandb"
   ]
  },
  {
   "cell_type": "code",
   "execution_count": 28,
   "metadata": {},
   "outputs": [],
   "source": [
    "import wandb"
   ]
  },
  {
   "cell_type": "code",
   "execution_count": 29,
   "metadata": {},
   "outputs": [
    {
     "name": "stderr",
     "output_type": "stream",
     "text": [
      "Failed to detect the name of this notebook, you can set it manually with the WANDB_NOTEBOOK_NAME environment variable to enable code saving.\n",
      "\u001b[34m\u001b[1mwandb\u001b[0m: Currently logged in as: \u001b[33medson-matsubara\u001b[0m (\u001b[33mlablia\u001b[0m). Use \u001b[1m`wandb login --relogin`\u001b[0m to force relogin\n"
     ]
    },
    {
     "data": {
      "text/html": [
       "Tracking run with wandb version 0.17.0"
      ],
      "text/plain": [
       "<IPython.core.display.HTML object>"
      ]
     },
     "metadata": {},
     "output_type": "display_data"
    },
    {
     "data": {
      "text/html": [
       "Run data is saved locally in <code>/home/ubuntu/lialib/colab/wandb/run-20240514_141406-rqf7bfu8</code>"
      ],
      "text/plain": [
       "<IPython.core.display.HTML object>"
      ]
     },
     "metadata": {},
     "output_type": "display_data"
    },
    {
     "data": {
      "text/html": [
       "Syncing run <strong><a href='https://wandb.ai/lablia/clip%2Bdmil/runs/rqf7bfu8' target=\"_blank\">flowing-firebrand-20</a></strong> to <a href='https://wandb.ai/lablia/clip%2Bdmil' target=\"_blank\">Weights & Biases</a> (<a href='https://wandb.me/run' target=\"_blank\">docs</a>)<br/>"
      ],
      "text/plain": [
       "<IPython.core.display.HTML object>"
      ]
     },
     "metadata": {},
     "output_type": "display_data"
    },
    {
     "data": {
      "text/html": [
       " View project at <a href='https://wandb.ai/lablia/clip%2Bdmil' target=\"_blank\">https://wandb.ai/lablia/clip%2Bdmil</a>"
      ],
      "text/plain": [
       "<IPython.core.display.HTML object>"
      ]
     },
     "metadata": {},
     "output_type": "display_data"
    },
    {
     "data": {
      "text/html": [
       " View run at <a href='https://wandb.ai/lablia/clip%2Bdmil/runs/rqf7bfu8' target=\"_blank\">https://wandb.ai/lablia/clip%2Bdmil/runs/rqf7bfu8</a>"
      ],
      "text/plain": [
       "<IPython.core.display.HTML object>"
      ]
     },
     "metadata": {},
     "output_type": "display_data"
    },
    {
     "data": {
      "text/html": [
       "<button onClick=\"this.nextSibling.style.display='block';this.style.display='none';\">Display W&B run</button><iframe src='https://wandb.ai/lablia/clip%2Bdmil/runs/rqf7bfu8?jupyter=true' style='border:none;width:100%;height:420px;display:none;'></iframe>"
      ],
      "text/plain": [
       "<wandb.sdk.wandb_run.Run at 0x7fa1f177f490>"
      ]
     },
     "execution_count": 29,
     "metadata": {},
     "output_type": "execute_result"
    }
   ],
   "source": [
    "wandb.init(\n",
    "    # set the wandb project where this run will be logged\n",
    "    project=\"clip+dmil\",\n",
    ")"
   ]
  },
  {
   "cell_type": "code",
   "execution_count": 30,
   "metadata": {},
   "outputs": [],
   "source": [
    "\n",
    "opt = optim.Adam(model.parameters(),lr=0.001)"
   ]
  },
  {
   "cell_type": "code",
   "execution_count": 31,
   "metadata": {},
   "outputs": [],
   "source": [
    "scheduler = optim.lr_scheduler.MultiStepLR(opt,milestones=[45,90],gamma=0.1)"
   ]
  },
  {
   "cell_type": "code",
   "execution_count": 32,
   "metadata": {},
   "outputs": [
    {
     "data": {
      "text/plain": [
       "ResNet(\n",
       "  (conv1): Conv2d(3, 64, kernel_size=(3, 3), stride=(1, 1), padding=(1, 1), bias=False)\n",
       "  (bn1): BatchNorm2d(64, eps=1e-05, momentum=0.1, affine=True, track_running_stats=True)\n",
       "  (relu): ReLU(inplace=True)\n",
       "  (maxpool): MaxPool2d(kernel_size=3, stride=2, padding=1, dilation=1, ceil_mode=False)\n",
       "  (layer1): Sequential(\n",
       "    (0): BasicBlock(\n",
       "      (conv1): Conv2d(64, 64, kernel_size=(3, 3), stride=(1, 1), padding=(1, 1), bias=False)\n",
       "      (bn1): BatchNorm2d(64, eps=1e-05, momentum=0.1, affine=True, track_running_stats=True)\n",
       "      (relu): ReLU(inplace=True)\n",
       "      (conv2): Conv2d(64, 64, kernel_size=(3, 3), stride=(1, 1), padding=(1, 1), bias=False)\n",
       "      (bn2): BatchNorm2d(64, eps=1e-05, momentum=0.1, affine=True, track_running_stats=True)\n",
       "      (ca): ChannelAttention(\n",
       "        (avg_pool): AdaptiveAvgPool2d(output_size=1)\n",
       "        (max_pool): AdaptiveMaxPool2d(output_size=1)\n",
       "        (fc1): Conv2d(64, 4, kernel_size=(1, 1), stride=(1, 1), bias=False)\n",
       "        (relu1): ReLU()\n",
       "        (fc2): Conv2d(4, 64, kernel_size=(1, 1), stride=(1, 1), bias=False)\n",
       "        (sigmoid): Sigmoid()\n",
       "      )\n",
       "      (sa): SpatialAttention(\n",
       "        (conv1): Conv2d(2, 1, kernel_size=(7, 7), stride=(1, 1), padding=(3, 3), bias=False)\n",
       "        (sigmoid): Sigmoid()\n",
       "      )\n",
       "    )\n",
       "    (1): BasicBlock(\n",
       "      (conv1): Conv2d(64, 64, kernel_size=(3, 3), stride=(1, 1), padding=(1, 1), bias=False)\n",
       "      (bn1): BatchNorm2d(64, eps=1e-05, momentum=0.1, affine=True, track_running_stats=True)\n",
       "      (relu): ReLU(inplace=True)\n",
       "      (conv2): Conv2d(64, 64, kernel_size=(3, 3), stride=(1, 1), padding=(1, 1), bias=False)\n",
       "      (bn2): BatchNorm2d(64, eps=1e-05, momentum=0.1, affine=True, track_running_stats=True)\n",
       "      (ca): ChannelAttention(\n",
       "        (avg_pool): AdaptiveAvgPool2d(output_size=1)\n",
       "        (max_pool): AdaptiveMaxPool2d(output_size=1)\n",
       "        (fc1): Conv2d(64, 4, kernel_size=(1, 1), stride=(1, 1), bias=False)\n",
       "        (relu1): ReLU()\n",
       "        (fc2): Conv2d(4, 64, kernel_size=(1, 1), stride=(1, 1), bias=False)\n",
       "        (sigmoid): Sigmoid()\n",
       "      )\n",
       "      (sa): SpatialAttention(\n",
       "        (conv1): Conv2d(2, 1, kernel_size=(7, 7), stride=(1, 1), padding=(3, 3), bias=False)\n",
       "        (sigmoid): Sigmoid()\n",
       "      )\n",
       "    )\n",
       "  )\n",
       "  (layer2): Sequential(\n",
       "    (0): BasicBlock(\n",
       "      (conv1): Conv2d(64, 128, kernel_size=(3, 3), stride=(2, 2), padding=(1, 1), bias=False)\n",
       "      (bn1): BatchNorm2d(128, eps=1e-05, momentum=0.1, affine=True, track_running_stats=True)\n",
       "      (relu): ReLU(inplace=True)\n",
       "      (conv2): Conv2d(128, 128, kernel_size=(3, 3), stride=(1, 1), padding=(1, 1), bias=False)\n",
       "      (bn2): BatchNorm2d(128, eps=1e-05, momentum=0.1, affine=True, track_running_stats=True)\n",
       "      (ca): ChannelAttention(\n",
       "        (avg_pool): AdaptiveAvgPool2d(output_size=1)\n",
       "        (max_pool): AdaptiveMaxPool2d(output_size=1)\n",
       "        (fc1): Conv2d(128, 8, kernel_size=(1, 1), stride=(1, 1), bias=False)\n",
       "        (relu1): ReLU()\n",
       "        (fc2): Conv2d(8, 128, kernel_size=(1, 1), stride=(1, 1), bias=False)\n",
       "        (sigmoid): Sigmoid()\n",
       "      )\n",
       "      (sa): SpatialAttention(\n",
       "        (conv1): Conv2d(2, 1, kernel_size=(7, 7), stride=(1, 1), padding=(3, 3), bias=False)\n",
       "        (sigmoid): Sigmoid()\n",
       "      )\n",
       "      (downsample): Sequential(\n",
       "        (0): Conv2d(64, 128, kernel_size=(1, 1), stride=(2, 2), bias=False)\n",
       "        (1): BatchNorm2d(128, eps=1e-05, momentum=0.1, affine=True, track_running_stats=True)\n",
       "      )\n",
       "    )\n",
       "    (1): BasicBlock(\n",
       "      (conv1): Conv2d(128, 128, kernel_size=(3, 3), stride=(1, 1), padding=(1, 1), bias=False)\n",
       "      (bn1): BatchNorm2d(128, eps=1e-05, momentum=0.1, affine=True, track_running_stats=True)\n",
       "      (relu): ReLU(inplace=True)\n",
       "      (conv2): Conv2d(128, 128, kernel_size=(3, 3), stride=(1, 1), padding=(1, 1), bias=False)\n",
       "      (bn2): BatchNorm2d(128, eps=1e-05, momentum=0.1, affine=True, track_running_stats=True)\n",
       "      (ca): ChannelAttention(\n",
       "        (avg_pool): AdaptiveAvgPool2d(output_size=1)\n",
       "        (max_pool): AdaptiveMaxPool2d(output_size=1)\n",
       "        (fc1): Conv2d(128, 8, kernel_size=(1, 1), stride=(1, 1), bias=False)\n",
       "        (relu1): ReLU()\n",
       "        (fc2): Conv2d(8, 128, kernel_size=(1, 1), stride=(1, 1), bias=False)\n",
       "        (sigmoid): Sigmoid()\n",
       "      )\n",
       "      (sa): SpatialAttention(\n",
       "        (conv1): Conv2d(2, 1, kernel_size=(7, 7), stride=(1, 1), padding=(3, 3), bias=False)\n",
       "        (sigmoid): Sigmoid()\n",
       "      )\n",
       "    )\n",
       "  )\n",
       "  (layer3): Sequential(\n",
       "    (0): BasicBlock(\n",
       "      (conv1): Conv2d(128, 256, kernel_size=(3, 3), stride=(2, 2), padding=(1, 1), bias=False)\n",
       "      (bn1): BatchNorm2d(256, eps=1e-05, momentum=0.1, affine=True, track_running_stats=True)\n",
       "      (relu): ReLU(inplace=True)\n",
       "      (conv2): Conv2d(256, 256, kernel_size=(3, 3), stride=(1, 1), padding=(1, 1), bias=False)\n",
       "      (bn2): BatchNorm2d(256, eps=1e-05, momentum=0.1, affine=True, track_running_stats=True)\n",
       "      (ca): ChannelAttention(\n",
       "        (avg_pool): AdaptiveAvgPool2d(output_size=1)\n",
       "        (max_pool): AdaptiveMaxPool2d(output_size=1)\n",
       "        (fc1): Conv2d(256, 16, kernel_size=(1, 1), stride=(1, 1), bias=False)\n",
       "        (relu1): ReLU()\n",
       "        (fc2): Conv2d(16, 256, kernel_size=(1, 1), stride=(1, 1), bias=False)\n",
       "        (sigmoid): Sigmoid()\n",
       "      )\n",
       "      (sa): SpatialAttention(\n",
       "        (conv1): Conv2d(2, 1, kernel_size=(7, 7), stride=(1, 1), padding=(3, 3), bias=False)\n",
       "        (sigmoid): Sigmoid()\n",
       "      )\n",
       "      (downsample): Sequential(\n",
       "        (0): Conv2d(128, 256, kernel_size=(1, 1), stride=(2, 2), bias=False)\n",
       "        (1): BatchNorm2d(256, eps=1e-05, momentum=0.1, affine=True, track_running_stats=True)\n",
       "      )\n",
       "    )\n",
       "    (1): BasicBlock(\n",
       "      (conv1): Conv2d(256, 256, kernel_size=(3, 3), stride=(1, 1), padding=(1, 1), bias=False)\n",
       "      (bn1): BatchNorm2d(256, eps=1e-05, momentum=0.1, affine=True, track_running_stats=True)\n",
       "      (relu): ReLU(inplace=True)\n",
       "      (conv2): Conv2d(256, 256, kernel_size=(3, 3), stride=(1, 1), padding=(1, 1), bias=False)\n",
       "      (bn2): BatchNorm2d(256, eps=1e-05, momentum=0.1, affine=True, track_running_stats=True)\n",
       "      (ca): ChannelAttention(\n",
       "        (avg_pool): AdaptiveAvgPool2d(output_size=1)\n",
       "        (max_pool): AdaptiveMaxPool2d(output_size=1)\n",
       "        (fc1): Conv2d(256, 16, kernel_size=(1, 1), stride=(1, 1), bias=False)\n",
       "        (relu1): ReLU()\n",
       "        (fc2): Conv2d(16, 256, kernel_size=(1, 1), stride=(1, 1), bias=False)\n",
       "        (sigmoid): Sigmoid()\n",
       "      )\n",
       "      (sa): SpatialAttention(\n",
       "        (conv1): Conv2d(2, 1, kernel_size=(7, 7), stride=(1, 1), padding=(3, 3), bias=False)\n",
       "        (sigmoid): Sigmoid()\n",
       "      )\n",
       "    )\n",
       "  )\n",
       "  (layer4): Sequential(\n",
       "    (0): BasicBlock(\n",
       "      (conv1): Conv2d(256, 512, kernel_size=(3, 3), stride=(2, 2), padding=(1, 1), bias=False)\n",
       "      (bn1): BatchNorm2d(512, eps=1e-05, momentum=0.1, affine=True, track_running_stats=True)\n",
       "      (relu): ReLU(inplace=True)\n",
       "      (conv2): Conv2d(512, 512, kernel_size=(3, 3), stride=(1, 1), padding=(1, 1), bias=False)\n",
       "      (bn2): BatchNorm2d(512, eps=1e-05, momentum=0.1, affine=True, track_running_stats=True)\n",
       "      (ca): ChannelAttention(\n",
       "        (avg_pool): AdaptiveAvgPool2d(output_size=1)\n",
       "        (max_pool): AdaptiveMaxPool2d(output_size=1)\n",
       "        (fc1): Conv2d(512, 32, kernel_size=(1, 1), stride=(1, 1), bias=False)\n",
       "        (relu1): ReLU()\n",
       "        (fc2): Conv2d(32, 512, kernel_size=(1, 1), stride=(1, 1), bias=False)\n",
       "        (sigmoid): Sigmoid()\n",
       "      )\n",
       "      (sa): SpatialAttention(\n",
       "        (conv1): Conv2d(2, 1, kernel_size=(7, 7), stride=(1, 1), padding=(3, 3), bias=False)\n",
       "        (sigmoid): Sigmoid()\n",
       "      )\n",
       "      (downsample): Sequential(\n",
       "        (0): Conv2d(256, 512, kernel_size=(1, 1), stride=(2, 2), bias=False)\n",
       "        (1): BatchNorm2d(512, eps=1e-05, momentum=0.1, affine=True, track_running_stats=True)\n",
       "      )\n",
       "    )\n",
       "    (1): BasicBlock(\n",
       "      (conv1): Conv2d(512, 512, kernel_size=(3, 3), stride=(1, 1), padding=(1, 1), bias=False)\n",
       "      (bn1): BatchNorm2d(512, eps=1e-05, momentum=0.1, affine=True, track_running_stats=True)\n",
       "      (relu): ReLU(inplace=True)\n",
       "      (conv2): Conv2d(512, 512, kernel_size=(3, 3), stride=(1, 1), padding=(1, 1), bias=False)\n",
       "      (bn2): BatchNorm2d(512, eps=1e-05, momentum=0.1, affine=True, track_running_stats=True)\n",
       "      (ca): ChannelAttention(\n",
       "        (avg_pool): AdaptiveAvgPool2d(output_size=1)\n",
       "        (max_pool): AdaptiveMaxPool2d(output_size=1)\n",
       "        (fc1): Conv2d(512, 32, kernel_size=(1, 1), stride=(1, 1), bias=False)\n",
       "        (relu1): ReLU()\n",
       "        (fc2): Conv2d(32, 512, kernel_size=(1, 1), stride=(1, 1), bias=False)\n",
       "        (sigmoid): Sigmoid()\n",
       "      )\n",
       "      (sa): SpatialAttention(\n",
       "        (conv1): Conv2d(2, 1, kernel_size=(7, 7), stride=(1, 1), padding=(3, 3), bias=False)\n",
       "        (sigmoid): Sigmoid()\n",
       "      )\n",
       "    )\n",
       "  )\n",
       "  (feature): AvgPool2d(kernel_size=4, stride=1, padding=0)\n",
       "  (fc): Linear(in_features=512, out_features=512, bias=True)\n",
       ")"
      ]
     },
     "execution_count": 32,
     "metadata": {},
     "output_type": "execute_result"
    }
   ],
   "source": [
    "model.to(device)"
   ]
  },
  {
   "cell_type": "code",
   "execution_count": 33,
   "metadata": {},
   "outputs": [],
   "source": [
    "emb_batch = model(x.to(device))"
   ]
  },
  {
   "cell_type": "code",
   "execution_count": 34,
   "metadata": {},
   "outputs": [],
   "source": [
    "from sklearn.manifold import TSNE"
   ]
  },
  {
   "cell_type": "code",
   "execution_count": 35,
   "metadata": {},
   "outputs": [],
   "source": [
    "# given a batch of instances create a surrounding sample of instances\n",
    "def create_surrounding_batch(batch,batch_y, num_surrounding=100, size=0.001):\n",
    "    surrounding_batch = []\n",
    "    surrounding_batch_y = []\n",
    "    for i in range(len(batch)):\n",
    "        \n",
    "        instances_sorrounding = batch[i]+(torch.randn(num_surrounding,512)*size).to(batch.device)\n",
    "        surrounding_batch.append(instances_sorrounding)\n",
    "        surrounding_batch_y.append(batch_y[i].repeat(num_surrounding))\n",
    "    return torch.cat(surrounding_batch), torch.cat(surrounding_batch_y)"
   ]
  },
  {
   "cell_type": "code",
   "execution_count": 36,
   "metadata": {},
   "outputs": [],
   "source": [
    "batch_emb, batch_y = create_surrounding_batch(emb_batch,y)"
   ]
  },
  {
   "cell_type": "code",
   "execution_count": 37,
   "metadata": {},
   "outputs": [
    {
     "data": {
      "text/plain": [
       "torch.Size([6400, 512])"
      ]
     },
     "execution_count": 37,
     "metadata": {},
     "output_type": "execute_result"
    }
   ],
   "source": [
    "batch_emb.shape"
   ]
  },
  {
   "cell_type": "code",
   "execution_count": 38,
   "metadata": {},
   "outputs": [
    {
     "data": {
      "text/plain": [
       "torch.Size([6400])"
      ]
     },
     "execution_count": 38,
     "metadata": {},
     "output_type": "execute_result"
    }
   ],
   "source": [
    "batch_y.shape"
   ]
  },
  {
   "cell_type": "code",
   "execution_count": 39,
   "metadata": {},
   "outputs": [
    {
     "name": "stdout",
     "output_type": "stream",
     "text": [
      "[t-SNE] Computing 91 nearest neighbors...\n",
      "[t-SNE] Indexed 6400 samples in 0.002s...\n",
      "[t-SNE] Computed neighbors for 6400 samples in 1.554s...\n",
      "[t-SNE] Computed conditional probabilities for sample 1000 / 6400\n",
      "[t-SNE] Computed conditional probabilities for sample 2000 / 6400\n",
      "[t-SNE] Computed conditional probabilities for sample 3000 / 6400\n",
      "[t-SNE] Computed conditional probabilities for sample 4000 / 6400\n",
      "[t-SNE] Computed conditional probabilities for sample 5000 / 6400\n",
      "[t-SNE] Computed conditional probabilities for sample 6000 / 6400\n",
      "[t-SNE] Computed conditional probabilities for sample 6400 / 6400\n",
      "[t-SNE] Mean sigma: 0.005549\n",
      "[t-SNE] KL divergence after 250 iterations with early exaggeration: 54.166233\n",
      "[t-SNE] KL divergence after 1000 iterations: 0.933353\n"
     ]
    }
   ],
   "source": [
    "\n",
    "tsne = TSNE(2, verbose=1)\n",
    "tsne_proj = tsne.fit_transform(batch_emb.to('cpu').detach().numpy())"
   ]
  },
  {
   "cell_type": "code",
   "execution_count": 40,
   "metadata": {},
   "outputs": [],
   "source": [
    "from matplotlib import cm\n",
    "import matplotlib.pyplot as plt"
   ]
  },
  {
   "cell_type": "code",
   "execution_count": null,
   "metadata": {},
   "outputs": [],
   "source": []
  },
  {
   "cell_type": "code",
   "execution_count": 41,
   "metadata": {},
   "outputs": [],
   "source": [
    "def tsne_proj(batch_emb, batch_y):\n",
    "    tsne = TSNE(2, verbose=1)\n",
    "    tsne_proj = tsne.fit_transform(batch_emb.to('cpu').detach().numpy())\n",
    "    cmap = cm.get_cmap('tab10')\n",
    "    fig, ax = plt.subplots(figsize=(15,15))\n",
    "    num_categories = 100\n",
    "    for lab in range(num_categories):\n",
    "        if lab in batch_y:\n",
    "            indices = batch_y==lab\n",
    "            ax.scatter(tsne_proj[indices,0],tsne_proj[indices,1], c=np.array(cmap(lab)).reshape(1,4), label = lab ,alpha=0.5)\n",
    "    ax.legend(fontsize='large', markerscale=2)\n",
    "    plt.show()"
   ]
  },
  {
   "cell_type": "code",
   "execution_count": 42,
   "metadata": {},
   "outputs": [
    {
     "name": "stdout",
     "output_type": "stream",
     "text": [
      "[t-SNE] Computing 91 nearest neighbors...\n",
      "[t-SNE] Indexed 6400 samples in 0.002s...\n"
     ]
    },
    {
     "name": "stdout",
     "output_type": "stream",
     "text": [
      "[t-SNE] Computed neighbors for 6400 samples in 2.151s...\n",
      "[t-SNE] Computed conditional probabilities for sample 1000 / 6400\n",
      "[t-SNE] Computed conditional probabilities for sample 2000 / 6400\n",
      "[t-SNE] Computed conditional probabilities for sample 3000 / 6400\n",
      "[t-SNE] Computed conditional probabilities for sample 4000 / 6400\n",
      "[t-SNE] Computed conditional probabilities for sample 5000 / 6400\n",
      "[t-SNE] Computed conditional probabilities for sample 6000 / 6400\n",
      "[t-SNE] Computed conditional probabilities for sample 6400 / 6400\n",
      "[t-SNE] Mean sigma: 0.005549\n",
      "[t-SNE] KL divergence after 250 iterations with early exaggeration: 54.161854\n",
      "[t-SNE] KL divergence after 1000 iterations: 0.931484\n"
     ]
    },
    {
     "name": "stderr",
     "output_type": "stream",
     "text": [
      "/tmp/ipykernel_88448/3286734825.py:4: MatplotlibDeprecationWarning: The get_cmap function was deprecated in Matplotlib 3.7 and will be removed two minor releases later. Use ``matplotlib.colormaps[name]`` or ``matplotlib.colormaps.get_cmap(obj)`` instead.\n",
      "  cmap = cm.get_cmap('tab10')\n"
     ]
    },
    {
     "data": {
      "image/png": "[encoded data removed]",
      "text/plain": [
       "<Figure size 1500x1500 with 1 Axes>"
      ]
     },
     "metadata": {},
     "output_type": "display_data"
    }
   ],
   "source": [
    "tsne_proj(batch_emb,batch_y)"
   ]
  },
  {
   "cell_type": "code",
   "execution_count": 43,
   "metadata": {},
   "outputs": [],
   "source": [
    "def get_embeddings(lmodel,dl):\n",
    "    lmodel.to(device)\n",
    "    loop = tqdm(dl)\n",
    "    lpred = []\n",
    "    ly = []\n",
    "    with torch.no_grad():\n",
    "        for x,y in loop:\n",
    "            x = x.to(device)\n",
    "            y = y.to(device)\n",
    "            pred = lmodel(x)\n",
    "            lpred = lpred+pred.tolist()\n",
    "            ly    = ly + y.tolist()\n",
    "    return lpred,ly"
   ]
  },
  {
   "cell_type": "code",
   "execution_count": 44,
   "metadata": {},
   "outputs": [],
   "source": [
    "import sklearn.neighbors as neighbors"
   ]
  },
  {
   "cell_type": "code",
   "execution_count": 45,
   "metadata": {},
   "outputs": [],
   "source": [
    "from sklearn.metrics import classification_report"
   ]
  },
  {
   "cell_type": "code",
   "execution_count": 46,
   "metadata": {},
   "outputs": [],
   "source": [
    "def pred_knn_model(model,dl_local_train,dl_local_test):\n",
    "    train_emb,train_y = get_embeddings(model,dl_local_train)\n",
    "    test_emb,test_y   = get_embeddings(model,dl_local_test)\n",
    "    train_emb  = np.array(train_emb)\n",
    "    train_y    = np.array(train_y)\n",
    "    test_emb   = np.array(test_emb)\n",
    "    test_y     = np.array(test_y)\n",
    "    clf = neighbors.KNeighborsClassifier(n_neighbors=1,weights='distance')\n",
    "    clf.fit(train_emb,train_y.T)\n",
    "    pred = clf.predict(test_emb)\n",
    "    return pred,test_y\n"
   ]
  },
  {
   "cell_type": "code",
   "execution_count": 47,
   "metadata": {},
   "outputs": [
    {
     "name": "stderr",
     "output_type": "stream",
     "text": [
      "  0%|          | 0/5 [00:00<?, ?it/s]"
     ]
    },
    {
     "name": "stderr",
     "output_type": "stream",
     "text": [
      "100%|██████████| 5/5 [00:00<00:00, 46.77it/s]\n",
      "100%|██████████| 5/5 [00:00<00:00, 52.42it/s]\n"
     ]
    }
   ],
   "source": [
    "pred,test_y = pred_knn_model(model,dl_sub_train,dl_sub_test)"
   ]
  },
  {
   "cell_type": "code",
   "execution_count": 48,
   "metadata": {},
   "outputs": [
    {
     "data": {
      "text/plain": [
       "((300,), (300,))"
      ]
     },
     "execution_count": 48,
     "metadata": {},
     "output_type": "execute_result"
    }
   ],
   "source": [
    "pred.shape,test_y.T.shape"
   ]
  },
  {
   "cell_type": "code",
   "execution_count": 49,
   "metadata": {},
   "outputs": [
    {
     "name": "stdout",
     "output_type": "stream",
     "text": [
      "              precision    recall  f1-score   support\n",
      "\n",
      "           0       0.20      0.17      0.18         6\n",
      "           2       0.00      0.00      0.00         7\n",
      "           3       0.00      0.00      0.00         6\n",
      "           5       0.33      0.09      0.14        11\n",
      "           6       0.00      0.00      0.00         4\n",
      "          13       0.17      0.50      0.25         4\n",
      "          15       0.00      0.00      0.00         3\n",
      "          20       0.33      0.17      0.22         6\n",
      "          22       0.00      0.00      0.00         4\n",
      "          23       0.00      0.00      0.00         6\n",
      "          24       0.20      0.20      0.20         5\n",
      "          26       0.00      0.00      0.00         3\n",
      "          28       0.00      0.00      0.00         8\n",
      "          29       0.00      0.00      0.00         3\n",
      "          30       0.00      0.00      0.00         7\n",
      "          31       0.20      0.11      0.14         9\n",
      "          32       0.00      0.00      0.00         7\n",
      "          33       0.00      0.00      0.00         7\n",
      "          34       0.00      0.00      0.00         5\n",
      "          40       0.00      0.00      0.00         4\n",
      "          41       0.00      0.00      0.00        10\n",
      "          42       0.00      0.00      0.00         5\n",
      "          43       0.00      0.00      0.00         9\n",
      "          44       0.00      0.00      0.00         3\n",
      "          45       0.00      0.00      0.00         7\n",
      "          47       0.00      0.00      0.00         4\n",
      "          49       0.00      0.00      0.00         5\n",
      "          54       0.20      0.14      0.17         7\n",
      "          56       0.00      0.00      0.00         3\n",
      "          57       0.00      0.00      0.00         3\n",
      "          60       0.00      0.00      0.00         9\n",
      "          61       0.00      0.00      0.00         5\n",
      "          62       0.75      0.27      0.40        11\n",
      "          63       0.00      0.00      0.00         7\n",
      "          65       0.00      0.00      0.00         6\n",
      "          67       0.14      0.12      0.13         8\n",
      "          68       0.33      0.25      0.29         8\n",
      "          71       0.31      0.50      0.38         8\n",
      "          72       0.00      0.00      0.00         3\n",
      "          73       0.18      0.40      0.25         5\n",
      "          78       0.00      0.00      0.00         8\n",
      "          82       0.00      0.00      0.00         8\n",
      "          83       0.18      0.29      0.22         7\n",
      "          87       0.00      0.00      0.00         7\n",
      "          90       0.08      0.40      0.14         5\n",
      "          91       0.22      0.29      0.25         7\n",
      "          94       0.00      0.00      0.00         3\n",
      "          97       0.00      0.00      0.00         7\n",
      "          98       0.05      0.20      0.08         5\n",
      "          99       0.00      0.00      0.00         2\n",
      "\n",
      "    accuracy                           0.09       300\n",
      "   macro avg       0.08      0.08      0.07       300\n",
      "weighted avg       0.10      0.09      0.08       300\n",
      "\n"
     ]
    },
    {
     "name": "stderr",
     "output_type": "stream",
     "text": [
      "/usr/local/lib/python3.10/dist-packages/sklearn/metrics/_classification.py:1344: UndefinedMetricWarning: Precision and F-score are ill-defined and being set to 0.0 in labels with no predicted samples. Use `zero_division` parameter to control this behavior.\n",
      "  _warn_prf(average, modifier, msg_start, len(result))\n",
      "/usr/local/lib/python3.10/dist-packages/sklearn/metrics/_classification.py:1344: UndefinedMetricWarning: Precision and F-score are ill-defined and being set to 0.0 in labels with no predicted samples. Use `zero_division` parameter to control this behavior.\n",
      "  _warn_prf(average, modifier, msg_start, len(result))\n",
      "/usr/local/lib/python3.10/dist-packages/sklearn/metrics/_classification.py:1344: UndefinedMetricWarning: Precision and F-score are ill-defined and being set to 0.0 in labels with no predicted samples. Use `zero_division` parameter to control this behavior.\n",
      "  _warn_prf(average, modifier, msg_start, len(result))\n"
     ]
    }
   ],
   "source": [
    "print(classification_report(test_y.T,pred))"
   ]
  },
  {
   "cell_type": "code",
   "execution_count": 50,
   "metadata": {},
   "outputs": [],
   "source": [
    "import sklearn.metrics as metrics"
   ]
  },
  {
   "cell_type": "code",
   "execution_count": 52,
   "metadata": {},
   "outputs": [
    {
     "name": "stderr",
     "output_type": "stream",
     "text": [
      "100%|██████████| 391/391 [00:30<00:00, 12.96it/s]\n",
      "100%|██████████| 5/5 [00:00<00:00, 59.40it/s]\n",
      "100%|██████████| 5/5 [00:00<00:00, 57.93it/s]\n",
      "/usr/local/lib/python3.10/dist-packages/sklearn/metrics/_classification.py:1344: UndefinedMetricWarning: Precision is ill-defined and being set to 0.0 in labels with no predicted samples. Use `zero_division` parameter to control this behavior.\n",
      "  _warn_prf(average, modifier, msg_start, len(result))\n",
      "/usr/local/lib/python3.10/dist-packages/sklearn/metrics/_classification.py:1344: UndefinedMetricWarning: Precision and F-score are ill-defined and being set to 0.0 in labels with no predicted samples. Use `zero_division` parameter to control this behavior.\n",
      "  _warn_prf(average, modifier, msg_start, len(result))\n",
      "/usr/local/lib/python3.10/dist-packages/sklearn/metrics/_classification.py:1344: UndefinedMetricWarning: Precision and F-score are ill-defined and being set to 0.0 in labels with no predicted samples. Use `zero_division` parameter to control this behavior.\n",
      "  _warn_prf(average, modifier, msg_start, len(result))\n",
      "/usr/local/lib/python3.10/dist-packages/sklearn/metrics/_classification.py:1344: UndefinedMetricWarning: Precision and F-score are ill-defined and being set to 0.0 in labels with no predicted samples. Use `zero_division` parameter to control this behavior.\n",
      "  _warn_prf(average, modifier, msg_start, len(result))\n"
     ]
    },
    {
     "name": "stdout",
     "output_type": "stream",
     "text": [
      "              precision    recall  f1-score   support\n",
      "\n",
      "           0       0.14      0.17      0.15         6\n",
      "           2       0.14      0.14      0.14         7\n",
      "           3       0.00      0.00      0.00         6\n",
      "           5       0.25      0.09      0.13        11\n",
      "           6       0.00      0.00      0.00         4\n",
      "          13       0.00      0.00      0.00         4\n",
      "          15       0.00      0.00      0.00         3\n",
      "          20       0.45      0.83      0.59         6\n",
      "          22       0.00      0.00      0.00         4\n",
      "          23       0.25      0.33      0.29         6\n",
      "          24       0.67      0.40      0.50         5\n",
      "          26       0.00      0.00      0.00         3\n",
      "          28       0.00      0.00      0.00         8\n",
      "          29       0.00      0.00      0.00         3\n",
      "          30       0.22      0.29      0.25         7\n",
      "          31       0.20      0.11      0.14         9\n",
      "          32       0.00      0.00      0.00         7\n",
      "          33       0.40      0.29      0.33         7\n",
      "          34       0.00      0.00      0.00         5\n",
      "          40       1.00      0.25      0.40         4\n",
      "          41       0.88      0.70      0.78        10\n",
      "          42       0.08      0.20      0.12         5\n",
      "          43       0.18      0.33      0.23         9\n",
      "          44       0.00      0.00      0.00         3\n",
      "          45       0.00      0.00      0.00         7\n",
      "          47       0.00      0.00      0.00         4\n",
      "          49       0.17      0.20      0.18         5\n",
      "          54       0.33      0.14      0.20         7\n",
      "          56       0.00      0.00      0.00         3\n",
      "          57       0.12      0.33      0.18         3\n",
      "          60       1.00      0.33      0.50         9\n",
      "          61       0.00      0.00      0.00         5\n",
      "          62       0.00      0.00      0.00        11\n",
      "          63       0.33      0.14      0.20         7\n",
      "          65       0.09      0.17      0.12         6\n",
      "          67       0.36      0.50      0.42         8\n",
      "          68       0.44      0.50      0.47         8\n",
      "          71       0.29      0.25      0.27         8\n",
      "          72       0.25      0.33      0.29         3\n",
      "          73       0.75      0.60      0.67         5\n",
      "          78       0.14      0.12      0.13         8\n",
      "          82       0.58      0.88      0.70         8\n",
      "          83       0.00      0.00      0.00         7\n",
      "          87       0.25      0.29      0.27         7\n",
      "          90       0.25      0.40      0.31         5\n",
      "          91       0.25      0.14      0.18         7\n",
      "          94       0.00      0.00      0.00         3\n",
      "          97       0.17      0.14      0.15         7\n",
      "          98       0.14      0.20      0.17         5\n",
      "          99       0.10      0.50      0.17         2\n",
      "\n",
      "    accuracy                           0.22       300\n",
      "   macro avg       0.22      0.21      0.19       300\n",
      "weighted avg       0.25      0.22      0.22       300\n",
      "\n",
      "loss 32.03957217184784\n"
     ]
    },
    {
     "name": "stderr",
     "output_type": "stream",
     "text": [
      "100%|██████████| 391/391 [00:30<00:00, 12.74it/s]\n"
     ]
    },
    {
     "name": "stdout",
     "output_type": "stream",
     "text": [
      "loss 29.871611685399206\n"
     ]
    },
    {
     "name": "stderr",
     "output_type": "stream",
     "text": [
      "100%|██████████| 391/391 [00:30<00:00, 12.61it/s]\n"
     ]
    },
    {
     "name": "stdout",
     "output_type": "stream",
     "text": [
      "loss 27.495304702797814\n"
     ]
    },
    {
     "name": "stderr",
     "output_type": "stream",
     "text": [
      "100%|██████████| 391/391 [00:30<00:00, 12.64it/s]\n"
     ]
    },
    {
     "name": "stdout",
     "output_type": "stream",
     "text": [
      "loss 24.8213320290646\n"
     ]
    },
    {
     "name": "stderr",
     "output_type": "stream",
     "text": [
      "100%|██████████| 391/391 [00:32<00:00, 11.97it/s]\n"
     ]
    },
    {
     "name": "stdout",
     "output_type": "stream",
     "text": [
      "loss 22.11002634248465\n"
     ]
    },
    {
     "name": "stderr",
     "output_type": "stream",
     "text": [
      "100%|██████████| 391/391 [00:31<00:00, 12.25it/s]\n"
     ]
    },
    {
     "name": "stdout",
     "output_type": "stream",
     "text": [
      "loss 19.146809604771608\n"
     ]
    },
    {
     "name": "stderr",
     "output_type": "stream",
     "text": [
      "100%|██████████| 391/391 [00:32<00:00, 12.14it/s]\n"
     ]
    },
    {
     "name": "stdout",
     "output_type": "stream",
     "text": [
      "loss 16.243266993471423\n"
     ]
    },
    {
     "name": "stderr",
     "output_type": "stream",
     "text": [
      "100%|██████████| 391/391 [00:31<00:00, 12.58it/s]\n"
     ]
    },
    {
     "name": "stdout",
     "output_type": "stream",
     "text": [
      "loss 13.227958674321089\n"
     ]
    },
    {
     "name": "stderr",
     "output_type": "stream",
     "text": [
      "100%|██████████| 391/391 [00:32<00:00, 11.97it/s]\n"
     ]
    },
    {
     "name": "stdout",
     "output_type": "stream",
     "text": [
      "loss 10.440570916666095\n"
     ]
    },
    {
     "name": "stderr",
     "output_type": "stream",
     "text": [
      "100%|██████████| 391/391 [00:30<00:00, 12.69it/s]\n"
     ]
    },
    {
     "name": "stdout",
     "output_type": "stream",
     "text": [
      "loss 7.738970957753604\n"
     ]
    },
    {
     "name": "stderr",
     "output_type": "stream",
     "text": [
      "100%|██████████| 391/391 [00:31<00:00, 12.35it/s]\n",
      "100%|██████████| 5/5 [00:00<00:00, 52.64it/s]\n",
      "100%|██████████| 5/5 [00:00<00:00, 59.63it/s]\n",
      "/usr/local/lib/python3.10/dist-packages/sklearn/metrics/_classification.py:1344: UndefinedMetricWarning: Precision is ill-defined and being set to 0.0 in labels with no predicted samples. Use `zero_division` parameter to control this behavior.\n",
      "  _warn_prf(average, modifier, msg_start, len(result))\n",
      "/usr/local/lib/python3.10/dist-packages/sklearn/metrics/_classification.py:1344: UndefinedMetricWarning: Precision and F-score are ill-defined and being set to 0.0 in labels with no predicted samples. Use `zero_division` parameter to control this behavior.\n",
      "  _warn_prf(average, modifier, msg_start, len(result))\n",
      "/usr/local/lib/python3.10/dist-packages/sklearn/metrics/_classification.py:1344: UndefinedMetricWarning: Precision and F-score are ill-defined and being set to 0.0 in labels with no predicted samples. Use `zero_division` parameter to control this behavior.\n",
      "  _warn_prf(average, modifier, msg_start, len(result))\n",
      "/usr/local/lib/python3.10/dist-packages/sklearn/metrics/_classification.py:1344: UndefinedMetricWarning: Precision and F-score are ill-defined and being set to 0.0 in labels with no predicted samples. Use `zero_division` parameter to control this behavior.\n",
      "  _warn_prf(average, modifier, msg_start, len(result))\n"
     ]
    },
    {
     "name": "stdout",
     "output_type": "stream",
     "text": [
      "              precision    recall  f1-score   support\n",
      "\n",
      "           0       1.00      0.83      0.91         6\n",
      "           2       0.80      0.57      0.67         7\n",
      "           3       0.25      0.17      0.20         6\n",
      "           5       1.00      0.73      0.84        11\n",
      "           6       0.33      0.25      0.29         4\n",
      "          13       1.00      0.75      0.86         4\n",
      "          15       1.00      0.33      0.50         3\n",
      "          20       0.60      1.00      0.75         6\n",
      "          22       1.00      0.25      0.40         4\n",
      "          23       0.67      0.67      0.67         6\n",
      "          24       1.00      1.00      1.00         5\n",
      "          26       0.50      0.33      0.40         3\n",
      "          28       1.00      0.88      0.93         8\n",
      "          29       1.00      0.33      0.50         3\n",
      "          30       0.25      0.14      0.18         7\n",
      "          31       0.71      0.56      0.63         9\n",
      "          32       1.00      0.43      0.60         7\n",
      "          33       0.56      0.71      0.63         7\n",
      "          34       0.50      0.20      0.29         5\n",
      "          40       1.00      1.00      1.00         4\n",
      "          41       1.00      0.80      0.89        10\n",
      "          42       1.00      0.60      0.75         5\n",
      "          43       0.70      0.78      0.74         9\n",
      "          44       0.00      0.00      0.00         3\n",
      "          45       0.36      0.57      0.44         7\n",
      "          47       1.00      0.50      0.67         4\n",
      "          49       0.80      0.80      0.80         5\n",
      "          54       0.71      0.71      0.71         7\n",
      "          56       0.75      1.00      0.86         3\n",
      "          57       1.00      1.00      1.00         3\n",
      "          60       1.00      0.33      0.50         9\n",
      "          61       1.00      0.60      0.75         5\n",
      "          62       1.00      0.73      0.84        11\n",
      "          63       0.25      0.43      0.32         7\n",
      "          65       0.40      0.67      0.50         6\n",
      "          67       0.71      0.62      0.67         8\n",
      "          68       0.80      0.50      0.62         8\n",
      "          71       0.60      0.75      0.67         8\n",
      "          72       0.07      1.00      0.13         3\n",
      "          73       0.33      0.20      0.25         5\n",
      "          78       0.33      0.25      0.29         8\n",
      "          82       0.78      0.88      0.82         8\n",
      "          83       0.80      0.57      0.67         7\n",
      "          87       0.83      0.71      0.77         7\n",
      "          90       0.83      1.00      0.91         5\n",
      "          91       1.00      0.43      0.60         7\n",
      "          94       1.00      0.67      0.80         3\n",
      "          97       0.80      0.57      0.67         7\n",
      "          98       0.38      0.60      0.46         5\n",
      "          99       0.25      0.50      0.33         2\n",
      "\n",
      "    accuracy                           0.61       300\n",
      "   macro avg       0.71      0.60      0.61       300\n",
      "weighted avg       0.73      0.61      0.63       300\n",
      "\n",
      "loss 5.415453966011476\n"
     ]
    },
    {
     "name": "stderr",
     "output_type": "stream",
     "text": [
      "100%|██████████| 391/391 [00:31<00:00, 12.29it/s]\n"
     ]
    },
    {
     "name": "stdout",
     "output_type": "stream",
     "text": [
      "loss 3.7081524767839085\n"
     ]
    },
    {
     "name": "stderr",
     "output_type": "stream",
     "text": [
      "100%|██████████| 391/391 [00:32<00:00, 12.00it/s]\n"
     ]
    },
    {
     "name": "stdout",
     "output_type": "stream",
     "text": [
      "loss 2.6074497581976455\n"
     ]
    },
    {
     "name": "stderr",
     "output_type": "stream",
     "text": [
      "100%|██████████| 391/391 [00:31<00:00, 12.46it/s]\n"
     ]
    },
    {
     "name": "stdout",
     "output_type": "stream",
     "text": [
      "loss 1.8905426094599087\n"
     ]
    },
    {
     "name": "stderr",
     "output_type": "stream",
     "text": [
      "100%|██████████| 391/391 [00:32<00:00, 12.12it/s]\n"
     ]
    },
    {
     "name": "stdout",
     "output_type": "stream",
     "text": [
      "loss 1.5915775884638357\n"
     ]
    },
    {
     "name": "stderr",
     "output_type": "stream",
     "text": [
      "100%|██████████| 391/391 [00:32<00:00, 12.13it/s]\n"
     ]
    },
    {
     "name": "stdout",
     "output_type": "stream",
     "text": [
      "loss 1.292684659485698\n"
     ]
    },
    {
     "name": "stderr",
     "output_type": "stream",
     "text": [
      "100%|██████████| 391/391 [00:31<00:00, 12.49it/s]\n"
     ]
    },
    {
     "name": "stdout",
     "output_type": "stream",
     "text": [
      "loss 1.0656594406013065\n"
     ]
    },
    {
     "name": "stderr",
     "output_type": "stream",
     "text": [
      "100%|██████████| 391/391 [00:31<00:00, 12.39it/s]\n"
     ]
    },
    {
     "name": "stdout",
     "output_type": "stream",
     "text": [
      "loss 1.053404365135047\n"
     ]
    },
    {
     "name": "stderr",
     "output_type": "stream",
     "text": [
      "100%|██████████| 391/391 [00:31<00:00, 12.29it/s]\n"
     ]
    },
    {
     "name": "stdout",
     "output_type": "stream",
     "text": [
      "loss 0.9015897170514288\n"
     ]
    },
    {
     "name": "stderr",
     "output_type": "stream",
     "text": [
      "100%|██████████| 391/391 [00:31<00:00, 12.45it/s]\n"
     ]
    },
    {
     "name": "stdout",
     "output_type": "stream",
     "text": [
      "loss 0.9672037515065173\n"
     ]
    },
    {
     "name": "stderr",
     "output_type": "stream",
     "text": [
      "100%|██████████| 391/391 [00:31<00:00, 12.47it/s]\n",
      "100%|██████████| 5/5 [00:00<00:00, 58.59it/s]\n",
      "100%|██████████| 5/5 [00:00<00:00, 58.24it/s]\n"
     ]
    },
    {
     "name": "stdout",
     "output_type": "stream",
     "text": [
      "              precision    recall  f1-score   support\n",
      "\n",
      "           0       0.71      0.83      0.77         6\n",
      "           2       1.00      0.29      0.44         7\n",
      "           3       0.33      0.17      0.22         6\n",
      "           5       1.00      0.36      0.53        11\n",
      "           6       0.00      0.00      0.00         4\n",
      "          13       0.13      0.75      0.22         4\n",
      "          15       1.00      0.33      0.50         3\n",
      "          20       1.00      1.00      1.00         6\n",
      "          22       0.67      0.50      0.57         4\n",
      "          23       1.00      0.50      0.67         6\n",
      "          24       1.00      0.80      0.89         5\n",
      "          26       0.00      0.00      0.00         3\n",
      "          28       1.00      0.88      0.93         8\n",
      "          29       1.00      0.33      0.50         3\n",
      "          30       0.75      0.43      0.55         7\n",
      "          31       0.78      0.78      0.78         9\n",
      "          32       1.00      0.43      0.60         7\n",
      "          33       0.75      0.43      0.55         7\n",
      "          34       0.50      0.20      0.29         5\n",
      "          40       0.67      0.50      0.57         4\n",
      "          41       1.00      0.60      0.75        10\n",
      "          42       0.50      0.20      0.29         5\n",
      "          43       1.00      0.89      0.94         9\n",
      "          44       0.00      0.00      0.00         3\n",
      "          45       0.00      0.00      0.00         7\n",
      "          47       1.00      0.75      0.86         4\n",
      "          49       0.06      1.00      0.11         5\n",
      "          54       0.57      0.57      0.57         7\n",
      "          56       0.75      1.00      0.86         3\n",
      "          57       0.67      0.67      0.67         3\n",
      "          60       1.00      0.33      0.50         9\n",
      "          61       1.00      0.40      0.57         5\n",
      "          62       1.00      0.91      0.95        11\n",
      "          63       0.50      0.14      0.22         7\n",
      "          65       0.67      0.67      0.67         6\n",
      "          67       1.00      0.62      0.77         8\n",
      "          68       1.00      0.38      0.55         8\n",
      "          71       0.50      0.75      0.60         8\n",
      "          72       0.00      0.00      0.00         3\n",
      "          73       0.33      0.20      0.25         5\n",
      "          78       0.20      0.12      0.15         8\n",
      "          82       1.00      0.88      0.93         8\n",
      "          83       0.75      0.43      0.55         7\n",
      "          87       0.80      0.57      0.67         7\n",
      "          90       1.00      1.00      1.00         5\n",
      "          91       1.00      0.29      0.44         7\n",
      "          94       1.00      0.33      0.50         3\n",
      "          97       0.80      0.57      0.67         7\n",
      "          98       0.50      0.20      0.29         5\n",
      "          99       0.50      0.50      0.50         2\n",
      "\n",
      "    accuracy                           0.51       300\n",
      "   macro avg       0.69      0.49      0.53       300\n",
      "weighted avg       0.74      0.51      0.56       300\n",
      "\n",
      "loss 0.8759158519430138\n"
     ]
    },
    {
     "name": "stderr",
     "output_type": "stream",
     "text": [
      "100%|██████████| 391/391 [00:31<00:00, 12.48it/s]\n"
     ]
    },
    {
     "name": "stdout",
     "output_type": "stream",
     "text": [
      "loss 0.6622467748451587\n"
     ]
    },
    {
     "name": "stderr",
     "output_type": "stream",
     "text": [
      "100%|██████████| 391/391 [00:30<00:00, 12.79it/s]\n"
     ]
    },
    {
     "name": "stdout",
     "output_type": "stream",
     "text": [
      "loss 0.6848082193673667\n"
     ]
    },
    {
     "name": "stderr",
     "output_type": "stream",
     "text": [
      "100%|██████████| 391/391 [00:31<00:00, 12.55it/s]\n"
     ]
    },
    {
     "name": "stdout",
     "output_type": "stream",
     "text": [
      "loss 0.7009789846608858\n"
     ]
    },
    {
     "name": "stderr",
     "output_type": "stream",
     "text": [
      "100%|██████████| 391/391 [00:31<00:00, 12.50it/s]\n"
     ]
    },
    {
     "name": "stdout",
     "output_type": "stream",
     "text": [
      "loss 0.6843131880140136\n"
     ]
    },
    {
     "name": "stderr",
     "output_type": "stream",
     "text": [
      "100%|██████████| 391/391 [00:31<00:00, 12.46it/s]\n"
     ]
    },
    {
     "name": "stdout",
     "output_type": "stream",
     "text": [
      "loss 0.696562154986717\n"
     ]
    },
    {
     "name": "stderr",
     "output_type": "stream",
     "text": [
      "100%|██████████| 391/391 [00:30<00:00, 12.75it/s]\n"
     ]
    },
    {
     "name": "stdout",
     "output_type": "stream",
     "text": [
      "loss 0.680950291767714\n"
     ]
    },
    {
     "name": "stderr",
     "output_type": "stream",
     "text": [
      "100%|██████████| 391/391 [00:31<00:00, 12.32it/s]\n"
     ]
    },
    {
     "name": "stdout",
     "output_type": "stream",
     "text": [
      "loss 0.4768608643273201\n"
     ]
    },
    {
     "name": "stderr",
     "output_type": "stream",
     "text": [
      "100%|██████████| 391/391 [00:38<00:00, 10.17it/s]\n"
     ]
    },
    {
     "name": "stdout",
     "output_type": "stream",
     "text": [
      "loss 0.5099412133748098\n"
     ]
    },
    {
     "name": "stderr",
     "output_type": "stream",
     "text": [
      "100%|██████████| 391/391 [00:46<00:00,  8.47it/s]\n"
     ]
    },
    {
     "name": "stdout",
     "output_type": "stream",
     "text": [
      "loss 0.5374954009257124\n"
     ]
    },
    {
     "name": "stderr",
     "output_type": "stream",
     "text": [
      "100%|██████████| 391/391 [00:44<00:00,  8.76it/s]\n",
      "100%|██████████| 5/5 [00:00<00:00, 48.84it/s]\n",
      "100%|██████████| 5/5 [00:00<00:00, 55.12it/s]\n",
      "/usr/local/lib/python3.10/dist-packages/sklearn/metrics/_classification.py:1344: UndefinedMetricWarning: Precision is ill-defined and being set to 0.0 in labels with no predicted samples. Use `zero_division` parameter to control this behavior.\n",
      "  _warn_prf(average, modifier, msg_start, len(result))\n",
      "/usr/local/lib/python3.10/dist-packages/sklearn/metrics/_classification.py:1344: UndefinedMetricWarning: Precision and F-score are ill-defined and being set to 0.0 in labels with no predicted samples. Use `zero_division` parameter to control this behavior.\n",
      "  _warn_prf(average, modifier, msg_start, len(result))\n",
      "/usr/local/lib/python3.10/dist-packages/sklearn/metrics/_classification.py:1344: UndefinedMetricWarning: Precision and F-score are ill-defined and being set to 0.0 in labels with no predicted samples. Use `zero_division` parameter to control this behavior.\n",
      "  _warn_prf(average, modifier, msg_start, len(result))\n",
      "/usr/local/lib/python3.10/dist-packages/sklearn/metrics/_classification.py:1344: UndefinedMetricWarning: Precision and F-score are ill-defined and being set to 0.0 in labels with no predicted samples. Use `zero_division` parameter to control this behavior.\n",
      "  _warn_prf(average, modifier, msg_start, len(result))\n"
     ]
    },
    {
     "name": "stdout",
     "output_type": "stream",
     "text": [
      "              precision    recall  f1-score   support\n",
      "\n",
      "           0       0.83      0.83      0.83         6\n",
      "           2       1.00      0.71      0.83         7\n",
      "           3       0.50      0.33      0.40         6\n",
      "           5       0.88      0.64      0.74        11\n",
      "           6       0.04      0.75      0.08         4\n",
      "          13       0.75      0.75      0.75         4\n",
      "          15       0.50      0.33      0.40         3\n",
      "          20       1.00      1.00      1.00         6\n",
      "          22       0.67      0.50      0.57         4\n",
      "          23       0.50      0.67      0.57         6\n",
      "          24       1.00      1.00      1.00         5\n",
      "          26       0.00      0.00      0.00         3\n",
      "          28       1.00      0.88      0.93         8\n",
      "          29       0.33      0.33      0.33         3\n",
      "          30       0.83      0.71      0.77         7\n",
      "          31       0.83      0.56      0.67         9\n",
      "          32       0.67      0.29      0.40         7\n",
      "          33       0.80      0.57      0.67         7\n",
      "          34       1.00      0.20      0.33         5\n",
      "          40       0.50      0.25      0.33         4\n",
      "          41       1.00      0.70      0.82        10\n",
      "          42       1.00      0.80      0.89         5\n",
      "          43       0.88      0.78      0.82         9\n",
      "          44       0.50      0.33      0.40         3\n",
      "          45       0.50      0.14      0.22         7\n",
      "          47       1.00      1.00      1.00         4\n",
      "          49       1.00      0.60      0.75         5\n",
      "          54       1.00      0.71      0.83         7\n",
      "          56       1.00      1.00      1.00         3\n",
      "          57       0.75      1.00      0.86         3\n",
      "          60       1.00      0.22      0.36         9\n",
      "          61       1.00      0.40      0.57         5\n",
      "          62       1.00      0.73      0.84        11\n",
      "          63       0.67      0.29      0.40         7\n",
      "          65       0.75      0.50      0.60         6\n",
      "          67       0.38      0.62      0.48         8\n",
      "          68       0.83      0.62      0.71         8\n",
      "          71       0.64      0.88      0.74         8\n",
      "          72       0.00      0.00      0.00         3\n",
      "          73       0.40      0.40      0.40         5\n",
      "          78       0.75      0.38      0.50         8\n",
      "          82       0.86      0.75      0.80         8\n",
      "          83       0.75      0.43      0.55         7\n",
      "          87       0.67      0.57      0.62         7\n",
      "          90       0.67      0.80      0.73         5\n",
      "          91       0.33      0.29      0.31         7\n",
      "          94       1.00      0.67      0.80         3\n",
      "          97       0.50      0.57      0.53         7\n",
      "          98       0.50      0.40      0.44         5\n",
      "          99       1.00      1.00      1.00         2\n",
      "\n",
      "    accuracy                           0.58       300\n",
      "   macro avg       0.72      0.58      0.61       300\n",
      "weighted avg       0.75      0.58      0.63       300\n",
      "\n",
      "loss 0.47051297372881123\n"
     ]
    },
    {
     "name": "stderr",
     "output_type": "stream",
     "text": [
      "100%|██████████| 391/391 [00:43<00:00,  9.03it/s]\n"
     ]
    },
    {
     "name": "stdout",
     "output_type": "stream",
     "text": [
      "loss 0.5548111932099704\n"
     ]
    },
    {
     "name": "stderr",
     "output_type": "stream",
     "text": [
      "100%|██████████| 391/391 [00:39<00:00, 10.02it/s]\n"
     ]
    },
    {
     "name": "stdout",
     "output_type": "stream",
     "text": [
      "loss 0.546079540378688\n"
     ]
    },
    {
     "name": "stderr",
     "output_type": "stream",
     "text": [
      "100%|██████████| 391/391 [00:37<00:00, 10.45it/s]\n"
     ]
    },
    {
     "name": "stdout",
     "output_type": "stream",
     "text": [
      "loss 0.4526333562029964\n"
     ]
    },
    {
     "name": "stderr",
     "output_type": "stream",
     "text": [
      "100%|██████████| 391/391 [00:35<00:00, 10.91it/s]\n"
     ]
    },
    {
     "name": "stdout",
     "output_type": "stream",
     "text": [
      "loss 0.4778043343611133\n"
     ]
    },
    {
     "name": "stderr",
     "output_type": "stream",
     "text": [
      "100%|██████████| 391/391 [00:36<00:00, 10.72it/s]\n"
     ]
    },
    {
     "name": "stdout",
     "output_type": "stream",
     "text": [
      "loss 0.3973801289676138\n"
     ]
    },
    {
     "name": "stderr",
     "output_type": "stream",
     "text": [
      "100%|██████████| 391/391 [00:37<00:00, 10.54it/s]\n"
     ]
    },
    {
     "name": "stdout",
     "output_type": "stream",
     "text": [
      "loss 0.3960533143739309\n"
     ]
    },
    {
     "name": "stderr",
     "output_type": "stream",
     "text": [
      "100%|██████████| 391/391 [00:36<00:00, 10.68it/s]\n"
     ]
    },
    {
     "name": "stdout",
     "output_type": "stream",
     "text": [
      "loss 0.39758398606563394\n"
     ]
    },
    {
     "name": "stderr",
     "output_type": "stream",
     "text": [
      "100%|██████████| 391/391 [00:38<00:00, 10.22it/s]\n"
     ]
    },
    {
     "name": "stdout",
     "output_type": "stream",
     "text": [
      "loss 0.4737152686864233\n"
     ]
    },
    {
     "name": "stderr",
     "output_type": "stream",
     "text": [
      "100%|██████████| 391/391 [00:36<00:00, 10.77it/s]\n"
     ]
    },
    {
     "name": "stdout",
     "output_type": "stream",
     "text": [
      "loss 0.38261002859831944\n"
     ]
    },
    {
     "name": "stderr",
     "output_type": "stream",
     "text": [
      "100%|██████████| 391/391 [00:37<00:00, 10.50it/s]\n",
      "100%|██████████| 5/5 [00:00<00:00, 56.77it/s]\n",
      "100%|██████████| 5/5 [00:00<00:00, 56.96it/s]\n",
      "/usr/local/lib/python3.10/dist-packages/sklearn/metrics/_classification.py:1344: UndefinedMetricWarning: Precision is ill-defined and being set to 0.0 in labels with no predicted samples. Use `zero_division` parameter to control this behavior.\n",
      "  _warn_prf(average, modifier, msg_start, len(result))\n",
      "/usr/local/lib/python3.10/dist-packages/sklearn/metrics/_classification.py:1344: UndefinedMetricWarning: Precision and F-score are ill-defined and being set to 0.0 in labels with no predicted samples. Use `zero_division` parameter to control this behavior.\n",
      "  _warn_prf(average, modifier, msg_start, len(result))\n",
      "/usr/local/lib/python3.10/dist-packages/sklearn/metrics/_classification.py:1344: UndefinedMetricWarning: Precision and F-score are ill-defined and being set to 0.0 in labels with no predicted samples. Use `zero_division` parameter to control this behavior.\n",
      "  _warn_prf(average, modifier, msg_start, len(result))\n",
      "/usr/local/lib/python3.10/dist-packages/sklearn/metrics/_classification.py:1344: UndefinedMetricWarning: Precision and F-score are ill-defined and being set to 0.0 in labels with no predicted samples. Use `zero_division` parameter to control this behavior.\n",
      "  _warn_prf(average, modifier, msg_start, len(result))\n"
     ]
    },
    {
     "name": "stdout",
     "output_type": "stream",
     "text": [
      "              precision    recall  f1-score   support\n",
      "\n",
      "           0       0.80      0.67      0.73         6\n",
      "           2       0.86      0.86      0.86         7\n",
      "           3       0.67      0.33      0.44         6\n",
      "           5       0.80      0.36      0.50        11\n",
      "           6       0.00      0.00      0.00         4\n",
      "          13       0.75      0.75      0.75         4\n",
      "          15       1.00      0.67      0.80         3\n",
      "          20       0.86      1.00      0.92         6\n",
      "          22       1.00      0.50      0.67         4\n",
      "          23       0.50      0.67      0.57         6\n",
      "          24       1.00      0.80      0.89         5\n",
      "          26       0.00      0.00      0.00         3\n",
      "          28       1.00      0.88      0.93         8\n",
      "          29       0.33      0.33      0.33         3\n",
      "          30       1.00      0.29      0.44         7\n",
      "          31       0.83      0.56      0.67         9\n",
      "          32       1.00      0.43      0.60         7\n",
      "          33       0.50      0.86      0.63         7\n",
      "          34       0.67      0.40      0.50         5\n",
      "          40       0.33      0.25      0.29         4\n",
      "          41       1.00      0.80      0.89        10\n",
      "          42       1.00      0.40      0.57         5\n",
      "          43       1.00      0.56      0.71         9\n",
      "          44       1.00      0.33      0.50         3\n",
      "          45       0.40      0.29      0.33         7\n",
      "          47       1.00      0.75      0.86         4\n",
      "          49       1.00      0.80      0.89         5\n",
      "          54       1.00      0.71      0.83         7\n",
      "          56       1.00      1.00      1.00         3\n",
      "          57       0.50      0.67      0.57         3\n",
      "          60       1.00      0.22      0.36         9\n",
      "          61       1.00      0.80      0.89         5\n",
      "          62       1.00      0.82      0.90        11\n",
      "          63       0.17      0.14      0.15         7\n",
      "          65       0.60      0.50      0.55         6\n",
      "          67       0.71      0.62      0.67         8\n",
      "          68       1.00      0.50      0.67         8\n",
      "          71       0.46      0.75      0.57         8\n",
      "          72       0.00      0.00      0.00         3\n",
      "          73       0.50      0.60      0.55         5\n",
      "          78       0.67      0.25      0.36         8\n",
      "          82       1.00      0.88      0.93         8\n",
      "          83       0.75      0.43      0.55         7\n",
      "          87       1.00      0.57      0.73         7\n",
      "          90       1.00      1.00      1.00         5\n",
      "          91       1.00      0.71      0.83         7\n",
      "          94       0.04      1.00      0.08         3\n",
      "          97       1.00      0.57      0.73         7\n",
      "          98       0.40      0.40      0.40         5\n",
      "          99       1.00      0.50      0.67         2\n",
      "\n",
      "    accuracy                           0.57       300\n",
      "   macro avg       0.74      0.56      0.61       300\n",
      "weighted avg       0.78      0.57      0.63       300\n",
      "\n",
      "loss 0.391744158754442\n"
     ]
    },
    {
     "name": "stderr",
     "output_type": "stream",
     "text": [
      "100%|██████████| 391/391 [00:35<00:00, 11.08it/s]\n"
     ]
    },
    {
     "name": "stdout",
     "output_type": "stream",
     "text": [
      "loss 0.39830577431206143\n"
     ]
    },
    {
     "name": "stderr",
     "output_type": "stream",
     "text": [
      "100%|██████████| 391/391 [00:36<00:00, 10.82it/s]\n"
     ]
    },
    {
     "name": "stdout",
     "output_type": "stream",
     "text": [
      "loss 0.4085494366005811\n"
     ]
    },
    {
     "name": "stderr",
     "output_type": "stream",
     "text": [
      "100%|██████████| 391/391 [00:38<00:00, 10.23it/s]\n"
     ]
    },
    {
     "name": "stdout",
     "output_type": "stream",
     "text": [
      "loss 0.330255382243083\n"
     ]
    },
    {
     "name": "stderr",
     "output_type": "stream",
     "text": [
      "100%|██████████| 391/391 [00:37<00:00, 10.44it/s]\n"
     ]
    },
    {
     "name": "stdout",
     "output_type": "stream",
     "text": [
      "loss 0.13100841177059958\n"
     ]
    },
    {
     "name": "stderr",
     "output_type": "stream",
     "text": [
      "100%|██████████| 391/391 [00:38<00:00, 10.21it/s]\n"
     ]
    },
    {
     "name": "stdout",
     "output_type": "stream",
     "text": [
      "loss 0.04764961757202325\n"
     ]
    },
    {
     "name": "stderr",
     "output_type": "stream",
     "text": [
      "100%|██████████| 391/391 [00:40<00:00,  9.59it/s]\n"
     ]
    },
    {
     "name": "stdout",
     "output_type": "stream",
     "text": [
      "loss 0.039923269603856365\n"
     ]
    },
    {
     "name": "stderr",
     "output_type": "stream",
     "text": [
      "100%|██████████| 391/391 [00:38<00:00, 10.15it/s]\n"
     ]
    },
    {
     "name": "stdout",
     "output_type": "stream",
     "text": [
      "loss 0.028565463688149523\n"
     ]
    },
    {
     "name": "stderr",
     "output_type": "stream",
     "text": [
      "100%|██████████| 391/391 [00:40<00:00,  9.68it/s]\n"
     ]
    },
    {
     "name": "stdout",
     "output_type": "stream",
     "text": [
      "loss 0.028826095252473483\n"
     ]
    },
    {
     "name": "stderr",
     "output_type": "stream",
     "text": [
      "100%|██████████| 391/391 [00:36<00:00, 10.74it/s]\n"
     ]
    },
    {
     "name": "stdout",
     "output_type": "stream",
     "text": [
      "loss 0.02693308710970361\n"
     ]
    },
    {
     "name": "stderr",
     "output_type": "stream",
     "text": [
      "100%|██████████| 391/391 [00:39<00:00,  9.82it/s]\n",
      "100%|██████████| 5/5 [00:00<00:00, 53.56it/s]\n",
      "100%|██████████| 5/5 [00:00<00:00, 54.71it/s]\n",
      "/usr/local/lib/python3.10/dist-packages/sklearn/metrics/_classification.py:1344: UndefinedMetricWarning: Precision is ill-defined and being set to 0.0 in labels with no predicted samples. Use `zero_division` parameter to control this behavior.\n",
      "  _warn_prf(average, modifier, msg_start, len(result))\n",
      "/usr/local/lib/python3.10/dist-packages/sklearn/metrics/_classification.py:1344: UndefinedMetricWarning: Precision and F-score are ill-defined and being set to 0.0 in labels with no predicted samples. Use `zero_division` parameter to control this behavior.\n",
      "  _warn_prf(average, modifier, msg_start, len(result))\n",
      "/usr/local/lib/python3.10/dist-packages/sklearn/metrics/_classification.py:1344: UndefinedMetricWarning: Precision and F-score are ill-defined and being set to 0.0 in labels with no predicted samples. Use `zero_division` parameter to control this behavior.\n",
      "  _warn_prf(average, modifier, msg_start, len(result))\n",
      "/usr/local/lib/python3.10/dist-packages/sklearn/metrics/_classification.py:1344: UndefinedMetricWarning: Precision and F-score are ill-defined and being set to 0.0 in labels with no predicted samples. Use `zero_division` parameter to control this behavior.\n",
      "  _warn_prf(average, modifier, msg_start, len(result))\n"
     ]
    },
    {
     "name": "stdout",
     "output_type": "stream",
     "text": [
      "              precision    recall  f1-score   support\n",
      "\n",
      "           0       0.83      0.83      0.83         6\n",
      "           2       0.75      0.43      0.55         7\n",
      "           3       0.50      0.33      0.40         6\n",
      "           5       0.83      0.45      0.59        11\n",
      "           6       0.03      0.50      0.05         4\n",
      "          13       0.75      0.75      0.75         4\n",
      "          15       1.00      0.67      0.80         3\n",
      "          20       1.00      1.00      1.00         6\n",
      "          22       1.00      0.50      0.67         4\n",
      "          23       0.29      0.67      0.40         6\n",
      "          24       0.83      1.00      0.91         5\n",
      "          26       0.00      0.00      0.00         3\n",
      "          28       0.88      0.88      0.88         8\n",
      "          29       0.25      0.33      0.29         3\n",
      "          30       1.00      0.57      0.73         7\n",
      "          31       0.71      0.56      0.63         9\n",
      "          32       1.00      0.29      0.44         7\n",
      "          33       0.57      0.57      0.57         7\n",
      "          34       1.00      0.40      0.57         5\n",
      "          40       0.67      0.50      0.57         4\n",
      "          41       1.00      0.80      0.89        10\n",
      "          42       1.00      0.40      0.57         5\n",
      "          43       1.00      0.67      0.80         9\n",
      "          44       0.50      0.33      0.40         3\n",
      "          45       0.67      0.29      0.40         7\n",
      "          47       1.00      1.00      1.00         4\n",
      "          49       0.75      0.60      0.67         5\n",
      "          54       1.00      0.71      0.83         7\n",
      "          56       1.00      1.00      1.00         3\n",
      "          57       0.75      1.00      0.86         3\n",
      "          60       1.00      0.44      0.62         9\n",
      "          61       1.00      0.60      0.75         5\n",
      "          62       1.00      0.91      0.95        11\n",
      "          63       0.67      0.29      0.40         7\n",
      "          65       1.00      0.50      0.67         6\n",
      "          67       0.80      0.50      0.62         8\n",
      "          68       1.00      0.50      0.67         8\n",
      "          71       0.70      0.88      0.78         8\n",
      "          72       0.25      0.67      0.36         3\n",
      "          73       0.67      0.40      0.50         5\n",
      "          78       0.50      0.25      0.33         8\n",
      "          82       1.00      0.88      0.93         8\n",
      "          83       0.75      0.43      0.55         7\n",
      "          87       0.75      0.43      0.55         7\n",
      "          90       1.00      1.00      1.00         5\n",
      "          91       1.00      0.57      0.73         7\n",
      "          94       0.75      1.00      0.86         3\n",
      "          97       1.00      0.43      0.60         7\n",
      "          98       0.75      0.60      0.67         5\n",
      "          99       0.67      1.00      0.80         2\n",
      "\n",
      "    accuracy                           0.60       300\n",
      "   macro avg       0.78      0.61      0.65       300\n",
      "weighted avg       0.81      0.60      0.66       300\n",
      "\n",
      "loss 0.02622760921035467\n"
     ]
    },
    {
     "name": "stderr",
     "output_type": "stream",
     "text": [
      "100%|██████████| 391/391 [00:35<00:00, 11.15it/s]\n"
     ]
    },
    {
     "name": "stdout",
     "output_type": "stream",
     "text": [
      "loss 0.025444966019041924\n"
     ]
    },
    {
     "name": "stderr",
     "output_type": "stream",
     "text": [
      "100%|██████████| 391/391 [00:33<00:00, 11.77it/s]\n"
     ]
    },
    {
     "name": "stdout",
     "output_type": "stream",
     "text": [
      "loss 0.022319700470363336\n"
     ]
    },
    {
     "name": "stderr",
     "output_type": "stream",
     "text": [
      "100%|██████████| 391/391 [00:38<00:00, 10.04it/s]\n"
     ]
    },
    {
     "name": "stdout",
     "output_type": "stream",
     "text": [
      "loss 0.025247189430091195\n"
     ]
    },
    {
     "name": "stderr",
     "output_type": "stream",
     "text": [
      "100%|██████████| 391/391 [00:37<00:00, 10.53it/s]\n"
     ]
    },
    {
     "name": "stdout",
     "output_type": "stream",
     "text": [
      "loss 0.021930857697148066\n"
     ]
    },
    {
     "name": "stderr",
     "output_type": "stream",
     "text": [
      "100%|██████████| 391/391 [00:35<00:00, 11.07it/s]\n"
     ]
    },
    {
     "name": "stdout",
     "output_type": "stream",
     "text": [
      "loss 0.022621327147567812\n"
     ]
    },
    {
     "name": "stderr",
     "output_type": "stream",
     "text": [
      "100%|██████████| 391/391 [00:35<00:00, 11.08it/s]\n"
     ]
    },
    {
     "name": "stdout",
     "output_type": "stream",
     "text": [
      "loss 0.019739837647276357\n"
     ]
    },
    {
     "name": "stderr",
     "output_type": "stream",
     "text": [
      "100%|██████████| 391/391 [00:34<00:00, 11.18it/s]\n"
     ]
    },
    {
     "name": "stdout",
     "output_type": "stream",
     "text": [
      "loss 0.02389817719880427\n"
     ]
    },
    {
     "name": "stderr",
     "output_type": "stream",
     "text": [
      "100%|██████████| 391/391 [00:34<00:00, 11.47it/s]\n"
     ]
    },
    {
     "name": "stdout",
     "output_type": "stream",
     "text": [
      "loss 0.022319580198374583\n"
     ]
    },
    {
     "name": "stderr",
     "output_type": "stream",
     "text": [
      "100%|██████████| 391/391 [00:41<00:00,  9.46it/s]\n"
     ]
    },
    {
     "name": "stdout",
     "output_type": "stream",
     "text": [
      "loss 0.0213694668396095\n"
     ]
    },
    {
     "name": "stderr",
     "output_type": "stream",
     "text": [
      "100%|██████████| 391/391 [00:42<00:00,  9.26it/s]\n",
      "100%|██████████| 5/5 [00:00<00:00, 55.90it/s]\n",
      "100%|██████████| 5/5 [00:00<00:00, 54.87it/s]\n",
      "/usr/local/lib/python3.10/dist-packages/sklearn/metrics/_classification.py:1344: UndefinedMetricWarning: Precision is ill-defined and being set to 0.0 in labels with no predicted samples. Use `zero_division` parameter to control this behavior.\n",
      "  _warn_prf(average, modifier, msg_start, len(result))\n",
      "/usr/local/lib/python3.10/dist-packages/sklearn/metrics/_classification.py:1344: UndefinedMetricWarning: Precision and F-score are ill-defined and being set to 0.0 in labels with no predicted samples. Use `zero_division` parameter to control this behavior.\n",
      "  _warn_prf(average, modifier, msg_start, len(result))\n",
      "/usr/local/lib/python3.10/dist-packages/sklearn/metrics/_classification.py:1344: UndefinedMetricWarning: Precision and F-score are ill-defined and being set to 0.0 in labels with no predicted samples. Use `zero_division` parameter to control this behavior.\n",
      "  _warn_prf(average, modifier, msg_start, len(result))\n",
      "/usr/local/lib/python3.10/dist-packages/sklearn/metrics/_classification.py:1344: UndefinedMetricWarning: Precision and F-score are ill-defined and being set to 0.0 in labels with no predicted samples. Use `zero_division` parameter to control this behavior.\n",
      "  _warn_prf(average, modifier, msg_start, len(result))\n"
     ]
    },
    {
     "name": "stdout",
     "output_type": "stream",
     "text": [
      "              precision    recall  f1-score   support\n",
      "\n",
      "           0       0.83      0.83      0.83         6\n",
      "           2       1.00      0.43      0.60         7\n",
      "           3       0.50      0.33      0.40         6\n",
      "           5       0.86      0.55      0.67        11\n",
      "           6       0.00      0.00      0.00         4\n",
      "          13       0.05      1.00      0.09         4\n",
      "          15       1.00      0.33      0.50         3\n",
      "          20       1.00      1.00      1.00         6\n",
      "          22       1.00      0.75      0.86         4\n",
      "          23       0.57      0.67      0.62         6\n",
      "          24       1.00      1.00      1.00         5\n",
      "          26       0.00      0.00      0.00         3\n",
      "          28       1.00      0.88      0.93         8\n",
      "          29       0.25      0.33      0.29         3\n",
      "          30       0.80      0.57      0.67         7\n",
      "          31       0.83      0.56      0.67         9\n",
      "          32       1.00      0.43      0.60         7\n",
      "          33       0.80      0.57      0.67         7\n",
      "          34       1.00      0.20      0.33         5\n",
      "          40       0.67      0.50      0.57         4\n",
      "          41       1.00      0.70      0.82        10\n",
      "          42       0.67      0.40      0.50         5\n",
      "          43       1.00      0.56      0.71         9\n",
      "          44       1.00      0.33      0.50         3\n",
      "          45       0.25      0.29      0.27         7\n",
      "          47       1.00      1.00      1.00         4\n",
      "          49       1.00      0.60      0.75         5\n",
      "          54       1.00      0.71      0.83         7\n",
      "          56       1.00      1.00      1.00         3\n",
      "          57       0.60      1.00      0.75         3\n",
      "          60       1.00      0.44      0.62         9\n",
      "          61       1.00      0.60      0.75         5\n",
      "          62       1.00      0.82      0.90        11\n",
      "          63       0.50      0.14      0.22         7\n",
      "          65       1.00      0.33      0.50         6\n",
      "          67       1.00      0.62      0.77         8\n",
      "          68       1.00      0.50      0.67         8\n",
      "          71       0.78      0.88      0.82         8\n",
      "          72       0.25      0.33      0.29         3\n",
      "          73       0.15      0.40      0.22         5\n",
      "          78       0.75      0.38      0.50         8\n",
      "          82       1.00      0.88      0.93         8\n",
      "          83       1.00      0.43      0.60         7\n",
      "          87       0.67      0.29      0.40         7\n",
      "          90       1.00      1.00      1.00         5\n",
      "          91       1.00      0.43      0.60         7\n",
      "          94       1.00      1.00      1.00         3\n",
      "          97       0.83      0.71      0.77         7\n",
      "          98       0.75      0.60      0.67         5\n",
      "          99       1.00      1.00      1.00         2\n",
      "\n",
      "    accuracy                           0.58       300\n",
      "   macro avg       0.79      0.59      0.63       300\n",
      "weighted avg       0.82      0.58      0.65       300\n",
      "\n",
      "loss 0.017705184140312902\n"
     ]
    },
    {
     "name": "stderr",
     "output_type": "stream",
     "text": [
      "100%|██████████| 391/391 [00:35<00:00, 11.01it/s]\n"
     ]
    },
    {
     "name": "stdout",
     "output_type": "stream",
     "text": [
      "loss 0.017000701777232678\n"
     ]
    },
    {
     "name": "stderr",
     "output_type": "stream",
     "text": [
      "100%|██████████| 391/391 [00:36<00:00, 10.72it/s]\n"
     ]
    },
    {
     "name": "stdout",
     "output_type": "stream",
     "text": [
      "loss 0.017084153457794845\n"
     ]
    },
    {
     "name": "stderr",
     "output_type": "stream",
     "text": [
      "100%|██████████| 391/391 [00:39<00:00,  9.83it/s]\n"
     ]
    },
    {
     "name": "stdout",
     "output_type": "stream",
     "text": [
      "loss 0.01944467436087251\n"
     ]
    },
    {
     "name": "stderr",
     "output_type": "stream",
     "text": [
      "100%|██████████| 391/391 [00:46<00:00,  8.46it/s]\n"
     ]
    },
    {
     "name": "stdout",
     "output_type": "stream",
     "text": [
      "loss 0.018738264766405038\n"
     ]
    },
    {
     "name": "stderr",
     "output_type": "stream",
     "text": [
      "100%|██████████| 391/391 [00:44<00:00,  8.86it/s]\n"
     ]
    },
    {
     "name": "stdout",
     "output_type": "stream",
     "text": [
      "loss 0.02009802707292311\n"
     ]
    },
    {
     "name": "stderr",
     "output_type": "stream",
     "text": [
      "100%|██████████| 391/391 [00:44<00:00,  8.75it/s]\n"
     ]
    },
    {
     "name": "stdout",
     "output_type": "stream",
     "text": [
      "loss 0.017706380914310184\n"
     ]
    },
    {
     "name": "stderr",
     "output_type": "stream",
     "text": [
      "100%|██████████| 391/391 [00:47<00:00,  8.26it/s]\n"
     ]
    },
    {
     "name": "stdout",
     "output_type": "stream",
     "text": [
      "loss 0.0163968966777652\n"
     ]
    },
    {
     "name": "stderr",
     "output_type": "stream",
     "text": [
      "100%|██████████| 391/391 [00:42<00:00,  9.10it/s]\n"
     ]
    },
    {
     "name": "stdout",
     "output_type": "stream",
     "text": [
      "loss 0.011810102578251958\n"
     ]
    },
    {
     "name": "stderr",
     "output_type": "stream",
     "text": [
      "100%|██████████| 391/391 [00:40<00:00,  9.68it/s]\n"
     ]
    },
    {
     "name": "stdout",
     "output_type": "stream",
     "text": [
      "loss 0.014568994548517135\n"
     ]
    },
    {
     "name": "stderr",
     "output_type": "stream",
     "text": [
      "100%|██████████| 391/391 [00:39<00:00,  9.78it/s]\n",
      "100%|██████████| 5/5 [00:00<00:00, 58.07it/s]\n",
      "100%|██████████| 5/5 [00:00<00:00, 57.98it/s]\n",
      "/usr/local/lib/python3.10/dist-packages/sklearn/metrics/_classification.py:1344: UndefinedMetricWarning: Precision is ill-defined and being set to 0.0 in labels with no predicted samples. Use `zero_division` parameter to control this behavior.\n",
      "  _warn_prf(average, modifier, msg_start, len(result))\n",
      "/usr/local/lib/python3.10/dist-packages/sklearn/metrics/_classification.py:1344: UndefinedMetricWarning: Precision and F-score are ill-defined and being set to 0.0 in labels with no predicted samples. Use `zero_division` parameter to control this behavior.\n",
      "  _warn_prf(average, modifier, msg_start, len(result))\n",
      "/usr/local/lib/python3.10/dist-packages/sklearn/metrics/_classification.py:1344: UndefinedMetricWarning: Precision and F-score are ill-defined and being set to 0.0 in labels with no predicted samples. Use `zero_division` parameter to control this behavior.\n",
      "  _warn_prf(average, modifier, msg_start, len(result))\n",
      "/usr/local/lib/python3.10/dist-packages/sklearn/metrics/_classification.py:1344: UndefinedMetricWarning: Precision and F-score are ill-defined and being set to 0.0 in labels with no predicted samples. Use `zero_division` parameter to control this behavior.\n",
      "  _warn_prf(average, modifier, msg_start, len(result))\n"
     ]
    },
    {
     "name": "stdout",
     "output_type": "stream",
     "text": [
      "              precision    recall  f1-score   support\n",
      "\n",
      "           0       0.83      0.83      0.83         6\n",
      "           2       0.75      0.43      0.55         7\n",
      "           3       0.50      0.33      0.40         6\n",
      "           5       0.86      0.55      0.67        11\n",
      "           6       0.00      0.00      0.00         4\n",
      "          13       0.60      0.75      0.67         4\n",
      "          15       1.00      0.33      0.50         3\n",
      "          20       1.00      1.00      1.00         6\n",
      "          22       1.00      0.50      0.67         4\n",
      "          23       1.00      0.67      0.80         6\n",
      "          24       1.00      1.00      1.00         5\n",
      "          26       0.00      0.00      0.00         3\n",
      "          28       1.00      1.00      1.00         8\n",
      "          29       1.00      0.33      0.50         3\n",
      "          30       0.50      0.14      0.22         7\n",
      "          31       0.83      0.56      0.67         9\n",
      "          32       1.00      0.29      0.44         7\n",
      "          33       0.57      0.57      0.57         7\n",
      "          34       1.00      0.40      0.57         5\n",
      "          40       0.50      0.25      0.33         4\n",
      "          41       1.00      0.80      0.89        10\n",
      "          42       0.10      0.80      0.17         5\n",
      "          43       1.00      0.67      0.80         9\n",
      "          44       0.50      0.33      0.40         3\n",
      "          45       0.50      0.29      0.36         7\n",
      "          47       1.00      0.75      0.86         4\n",
      "          49       1.00      0.60      0.75         5\n",
      "          54       1.00      0.71      0.83         7\n",
      "          56       1.00      1.00      1.00         3\n",
      "          57       0.75      1.00      0.86         3\n",
      "          60       1.00      0.44      0.62         9\n",
      "          61       1.00      0.60      0.75         5\n",
      "          62       0.50      0.91      0.65        11\n",
      "          63       1.00      0.29      0.44         7\n",
      "          65       0.75      0.50      0.60         6\n",
      "          67       1.00      0.75      0.86         8\n",
      "          68       1.00      0.50      0.67         8\n",
      "          71       0.62      1.00      0.76         8\n",
      "          72       0.06      0.67      0.11         3\n",
      "          73       0.67      0.40      0.50         5\n",
      "          78       0.75      0.38      0.50         8\n",
      "          82       1.00      0.88      0.93         8\n",
      "          83       0.75      0.43      0.55         7\n",
      "          87       1.00      0.29      0.44         7\n",
      "          90       0.83      1.00      0.91         5\n",
      "          91       1.00      0.57      0.73         7\n",
      "          94       0.67      0.67      0.67         3\n",
      "          97       0.80      0.57      0.67         7\n",
      "          98       0.60      0.60      0.60         5\n",
      "          99       1.00      0.50      0.67         2\n",
      "\n",
      "    accuracy                           0.59       300\n",
      "   macro avg       0.78      0.58      0.62       300\n",
      "weighted avg       0.80      0.59      0.64       300\n",
      "\n",
      "loss 0.015242966458030508\n"
     ]
    },
    {
     "name": "stderr",
     "output_type": "stream",
     "text": [
      "100%|██████████| 391/391 [00:45<00:00,  8.53it/s]\n"
     ]
    },
    {
     "name": "stdout",
     "output_type": "stream",
     "text": [
      "loss 0.013972186288573657\n"
     ]
    },
    {
     "name": "stderr",
     "output_type": "stream",
     "text": [
      "100%|██████████| 391/391 [00:40<00:00,  9.65it/s]\n"
     ]
    },
    {
     "name": "stdout",
     "output_type": "stream",
     "text": [
      "loss 0.013431696870225503\n"
     ]
    },
    {
     "name": "stderr",
     "output_type": "stream",
     "text": [
      "100%|██████████| 391/391 [00:38<00:00, 10.14it/s]\n"
     ]
    },
    {
     "name": "stdout",
     "output_type": "stream",
     "text": [
      "loss 0.012634136136132948\n"
     ]
    },
    {
     "name": "stderr",
     "output_type": "stream",
     "text": [
      "100%|██████████| 391/391 [00:39<00:00, 10.00it/s]\n"
     ]
    },
    {
     "name": "stdout",
     "output_type": "stream",
     "text": [
      "loss 0.0122766265396417\n"
     ]
    },
    {
     "name": "stderr",
     "output_type": "stream",
     "text": [
      "100%|██████████| 391/391 [00:37<00:00, 10.43it/s]\n"
     ]
    },
    {
     "name": "stdout",
     "output_type": "stream",
     "text": [
      "loss 0.015103005988272074\n"
     ]
    },
    {
     "name": "stderr",
     "output_type": "stream",
     "text": [
      "100%|██████████| 391/391 [00:31<00:00, 12.44it/s]\n"
     ]
    },
    {
     "name": "stdout",
     "output_type": "stream",
     "text": [
      "loss 0.010967390405956795\n"
     ]
    },
    {
     "name": "stderr",
     "output_type": "stream",
     "text": [
      "100%|██████████| 391/391 [00:30<00:00, 12.63it/s]\n"
     ]
    },
    {
     "name": "stdout",
     "output_type": "stream",
     "text": [
      "loss 0.013060233800474297\n"
     ]
    },
    {
     "name": "stderr",
     "output_type": "stream",
     "text": [
      "100%|██████████| 391/391 [00:30<00:00, 12.85it/s]\n"
     ]
    },
    {
     "name": "stdout",
     "output_type": "stream",
     "text": [
      "loss 0.01179290772936738\n"
     ]
    },
    {
     "name": "stderr",
     "output_type": "stream",
     "text": [
      "100%|██████████| 391/391 [00:29<00:00, 13.45it/s]\n"
     ]
    },
    {
     "name": "stdout",
     "output_type": "stream",
     "text": [
      "loss 0.011832497356196894\n"
     ]
    },
    {
     "name": "stderr",
     "output_type": "stream",
     "text": [
      "100%|██████████| 391/391 [00:30<00:00, 12.73it/s]\n",
      "100%|██████████| 5/5 [00:00<00:00, 62.37it/s]\n",
      "100%|██████████| 5/5 [00:00<00:00, 61.86it/s]\n",
      "/usr/local/lib/python3.10/dist-packages/sklearn/metrics/_classification.py:1344: UndefinedMetricWarning: Precision is ill-defined and being set to 0.0 in labels with no predicted samples. Use `zero_division` parameter to control this behavior.\n",
      "  _warn_prf(average, modifier, msg_start, len(result))\n",
      "/usr/local/lib/python3.10/dist-packages/sklearn/metrics/_classification.py:1344: UndefinedMetricWarning: Precision and F-score are ill-defined and being set to 0.0 in labels with no predicted samples. Use `zero_division` parameter to control this behavior.\n",
      "  _warn_prf(average, modifier, msg_start, len(result))\n",
      "/usr/local/lib/python3.10/dist-packages/sklearn/metrics/_classification.py:1344: UndefinedMetricWarning: Precision and F-score are ill-defined and being set to 0.0 in labels with no predicted samples. Use `zero_division` parameter to control this behavior.\n",
      "  _warn_prf(average, modifier, msg_start, len(result))\n",
      "/usr/local/lib/python3.10/dist-packages/sklearn/metrics/_classification.py:1344: UndefinedMetricWarning: Precision and F-score are ill-defined and being set to 0.0 in labels with no predicted samples. Use `zero_division` parameter to control this behavior.\n",
      "  _warn_prf(average, modifier, msg_start, len(result))\n"
     ]
    },
    {
     "name": "stdout",
     "output_type": "stream",
     "text": [
      "              precision    recall  f1-score   support\n",
      "\n",
      "           0       0.83      0.83      0.83         6\n",
      "           2       0.83      0.71      0.77         7\n",
      "           3       0.50      0.33      0.40         6\n",
      "           5       0.86      0.55      0.67        11\n",
      "           6       0.00      0.00      0.00         4\n",
      "          13       0.75      0.75      0.75         4\n",
      "          15       1.00      0.33      0.50         3\n",
      "          20       1.00      1.00      1.00         6\n",
      "          22       1.00      0.75      0.86         4\n",
      "          23       0.80      0.67      0.73         6\n",
      "          24       1.00      0.80      0.89         5\n",
      "          26       0.00      0.00      0.00         3\n",
      "          28       1.00      0.88      0.93         8\n",
      "          29       0.04      1.00      0.07         3\n",
      "          30       0.67      0.29      0.40         7\n",
      "          31       0.83      0.56      0.67         9\n",
      "          32       1.00      0.57      0.73         7\n",
      "          33       0.75      0.43      0.55         7\n",
      "          34       1.00      0.40      0.57         5\n",
      "          40       0.75      0.75      0.75         4\n",
      "          41       1.00      0.70      0.82        10\n",
      "          42       0.75      0.60      0.67         5\n",
      "          43       1.00      0.67      0.80         9\n",
      "          44       1.00      0.33      0.50         3\n",
      "          45       0.67      0.29      0.40         7\n",
      "          47       1.00      1.00      1.00         4\n",
      "          49       1.00      0.60      0.75         5\n",
      "          54       1.00      0.71      0.83         7\n",
      "          56       1.00      1.00      1.00         3\n",
      "          57       0.67      0.67      0.67         3\n",
      "          60       1.00      0.56      0.71         9\n",
      "          61       1.00      0.60      0.75         5\n",
      "          62       0.90      0.82      0.86        11\n",
      "          63       0.50      0.14      0.22         7\n",
      "          65       1.00      0.33      0.50         6\n",
      "          67       1.00      0.62      0.77         8\n",
      "          68       1.00      0.50      0.67         8\n",
      "          71       0.78      0.88      0.82         8\n",
      "          72       0.17      0.33      0.22         3\n",
      "          73       0.33      0.40      0.36         5\n",
      "          78       0.75      0.38      0.50         8\n",
      "          82       0.88      0.88      0.88         8\n",
      "          83       0.75      0.43      0.55         7\n",
      "          87       0.80      0.57      0.67         7\n",
      "          90       0.83      1.00      0.91         5\n",
      "          91       1.00      0.43      0.60         7\n",
      "          94       0.67      0.67      0.67         3\n",
      "          97       0.50      0.71      0.59         7\n",
      "          98       0.60      0.60      0.60         5\n",
      "          99       1.00      1.00      1.00         2\n",
      "\n",
      "    accuracy                           0.60       300\n",
      "   macro avg       0.78      0.60      0.65       300\n",
      "weighted avg       0.81      0.60      0.67       300\n",
      "\n",
      "loss 0.011108965668997006\n"
     ]
    },
    {
     "name": "stderr",
     "output_type": "stream",
     "text": [
      "100%|██████████| 391/391 [00:30<00:00, 13.00it/s]\n"
     ]
    },
    {
     "name": "stdout",
     "output_type": "stream",
     "text": [
      "loss 0.01200943751624771\n"
     ]
    },
    {
     "name": "stderr",
     "output_type": "stream",
     "text": [
      "100%|██████████| 391/391 [00:28<00:00, 13.54it/s]\n"
     ]
    },
    {
     "name": "stdout",
     "output_type": "stream",
     "text": [
      "loss 0.011984161865722407\n"
     ]
    },
    {
     "name": "stderr",
     "output_type": "stream",
     "text": [
      "100%|██████████| 391/391 [00:31<00:00, 12.40it/s]\n"
     ]
    },
    {
     "name": "stdout",
     "output_type": "stream",
     "text": [
      "loss 0.009672064961300736\n"
     ]
    },
    {
     "name": "stderr",
     "output_type": "stream",
     "text": [
      "100%|██████████| 391/391 [00:31<00:00, 12.55it/s]\n"
     ]
    },
    {
     "name": "stdout",
     "output_type": "stream",
     "text": [
      "loss 0.010757287956111472\n"
     ]
    },
    {
     "name": "stderr",
     "output_type": "stream",
     "text": [
      "100%|██████████| 391/391 [00:30<00:00, 12.99it/s]\n"
     ]
    },
    {
     "name": "stdout",
     "output_type": "stream",
     "text": [
      "loss 0.015935757128625116\n"
     ]
    },
    {
     "name": "stderr",
     "output_type": "stream",
     "text": [
      "100%|██████████| 391/391 [00:30<00:00, 12.75it/s]\n"
     ]
    },
    {
     "name": "stdout",
     "output_type": "stream",
     "text": [
      "loss 0.010047721609463106\n"
     ]
    },
    {
     "name": "stderr",
     "output_type": "stream",
     "text": [
      "100%|██████████| 391/391 [00:31<00:00, 12.59it/s]\n"
     ]
    },
    {
     "name": "stdout",
     "output_type": "stream",
     "text": [
      "loss 0.010268498006995226\n"
     ]
    },
    {
     "name": "stderr",
     "output_type": "stream",
     "text": [
      "100%|██████████| 391/391 [00:30<00:00, 12.90it/s]\n"
     ]
    },
    {
     "name": "stdout",
     "output_type": "stream",
     "text": [
      "loss 0.013104745519140263\n"
     ]
    },
    {
     "name": "stderr",
     "output_type": "stream",
     "text": [
      "100%|██████████| 391/391 [00:30<00:00, 12.70it/s]\n"
     ]
    },
    {
     "name": "stdout",
     "output_type": "stream",
     "text": [
      "loss 0.00807158841551734\n"
     ]
    },
    {
     "name": "stderr",
     "output_type": "stream",
     "text": [
      "100%|██████████| 391/391 [00:31<00:00, 12.37it/s]\n",
      "100%|██████████| 5/5 [00:00<00:00, 55.58it/s]\n",
      "100%|██████████| 5/5 [00:00<00:00, 57.22it/s]\n",
      "/usr/local/lib/python3.10/dist-packages/sklearn/metrics/_classification.py:1344: UndefinedMetricWarning: Precision is ill-defined and being set to 0.0 in labels with no predicted samples. Use `zero_division` parameter to control this behavior.\n",
      "  _warn_prf(average, modifier, msg_start, len(result))\n",
      "/usr/local/lib/python3.10/dist-packages/sklearn/metrics/_classification.py:1344: UndefinedMetricWarning: Precision and F-score are ill-defined and being set to 0.0 in labels with no predicted samples. Use `zero_division` parameter to control this behavior.\n",
      "  _warn_prf(average, modifier, msg_start, len(result))\n",
      "/usr/local/lib/python3.10/dist-packages/sklearn/metrics/_classification.py:1344: UndefinedMetricWarning: Precision and F-score are ill-defined and being set to 0.0 in labels with no predicted samples. Use `zero_division` parameter to control this behavior.\n",
      "  _warn_prf(average, modifier, msg_start, len(result))\n",
      "/usr/local/lib/python3.10/dist-packages/sklearn/metrics/_classification.py:1344: UndefinedMetricWarning: Precision and F-score are ill-defined and being set to 0.0 in labels with no predicted samples. Use `zero_division` parameter to control this behavior.\n",
      "  _warn_prf(average, modifier, msg_start, len(result))\n"
     ]
    },
    {
     "name": "stdout",
     "output_type": "stream",
     "text": [
      "              precision    recall  f1-score   support\n",
      "\n",
      "           0       0.83      0.83      0.83         6\n",
      "           2       1.00      0.29      0.44         7\n",
      "           3       0.50      0.33      0.40         6\n",
      "           5       0.88      0.64      0.74        11\n",
      "           6       0.00      0.00      0.00         4\n",
      "          13       1.00      0.75      0.86         4\n",
      "          15       1.00      0.33      0.50         3\n",
      "          20       1.00      1.00      1.00         6\n",
      "          22       1.00      0.75      0.86         4\n",
      "          23       1.00      0.50      0.67         6\n",
      "          24       1.00      0.80      0.89         5\n",
      "          26       0.00      0.00      0.00         3\n",
      "          28       1.00      0.88      0.93         8\n",
      "          29       0.15      0.67      0.25         3\n",
      "          30       0.80      0.57      0.67         7\n",
      "          31       0.83      0.56      0.67         9\n",
      "          32       1.00      0.43      0.60         7\n",
      "          33       0.80      0.57      0.67         7\n",
      "          34       1.00      0.20      0.33         5\n",
      "          40       0.75      0.75      0.75         4\n",
      "          41       1.00      0.80      0.89        10\n",
      "          42       1.00      0.40      0.57         5\n",
      "          43       1.00      0.56      0.71         9\n",
      "          44       0.50      0.33      0.40         3\n",
      "          45       1.00      0.14      0.25         7\n",
      "          47       1.00      1.00      1.00         4\n",
      "          49       0.80      0.80      0.80         5\n",
      "          54       1.00      0.71      0.83         7\n",
      "          56       1.00      1.00      1.00         3\n",
      "          57       1.00      1.00      1.00         3\n",
      "          60       1.00      0.44      0.62         9\n",
      "          61       1.00      0.40      0.57         5\n",
      "          62       1.00      0.91      0.95        11\n",
      "          63       0.67      0.29      0.40         7\n",
      "          65       1.00      0.33      0.50         6\n",
      "          67       0.57      1.00      0.73         8\n",
      "          68       1.00      0.50      0.67         8\n",
      "          71       0.78      0.88      0.82         8\n",
      "          72       0.09      0.67      0.16         3\n",
      "          73       0.05      0.60      0.09         5\n",
      "          78       0.75      0.38      0.50         8\n",
      "          82       1.00      0.88      0.93         8\n",
      "          83       0.75      0.43      0.55         7\n",
      "          87       0.80      0.57      0.67         7\n",
      "          90       1.00      1.00      1.00         5\n",
      "          91       1.00      0.43      0.60         7\n",
      "          94       1.00      1.00      1.00         3\n",
      "          97       0.80      0.57      0.67         7\n",
      "          98       0.75      0.60      0.67         5\n",
      "          99       0.67      1.00      0.80         2\n",
      "\n",
      "    accuracy                           0.61       300\n",
      "   macro avg       0.81      0.61      0.65       300\n",
      "weighted avg       0.85      0.61      0.67       300\n",
      "\n",
      "loss 0.007108490688644726\n"
     ]
    },
    {
     "name": "stderr",
     "output_type": "stream",
     "text": [
      "100%|██████████| 391/391 [00:32<00:00, 12.00it/s]\n"
     ]
    },
    {
     "name": "stdout",
     "output_type": "stream",
     "text": [
      "loss 0.007817606256260653\n"
     ]
    },
    {
     "name": "stderr",
     "output_type": "stream",
     "text": [
      "100%|██████████| 391/391 [00:31<00:00, 12.32it/s]\n"
     ]
    },
    {
     "name": "stdout",
     "output_type": "stream",
     "text": [
      "loss 0.007010312763589393\n"
     ]
    },
    {
     "name": "stderr",
     "output_type": "stream",
     "text": [
      "100%|██████████| 391/391 [00:32<00:00, 11.96it/s]\n"
     ]
    },
    {
     "name": "stdout",
     "output_type": "stream",
     "text": [
      "loss 0.006858431029028099\n"
     ]
    },
    {
     "name": "stderr",
     "output_type": "stream",
     "text": [
      "100%|██████████| 391/391 [00:31<00:00, 12.37it/s]\n"
     ]
    },
    {
     "name": "stdout",
     "output_type": "stream",
     "text": [
      "loss 0.007504959610532588\n"
     ]
    },
    {
     "name": "stderr",
     "output_type": "stream",
     "text": [
      "100%|██████████| 391/391 [00:32<00:00, 12.13it/s]\n"
     ]
    },
    {
     "name": "stdout",
     "output_type": "stream",
     "text": [
      "loss 0.006884641757266491\n"
     ]
    },
    {
     "name": "stderr",
     "output_type": "stream",
     "text": [
      "100%|██████████| 391/391 [00:30<00:00, 12.72it/s]\n"
     ]
    },
    {
     "name": "stdout",
     "output_type": "stream",
     "text": [
      "loss 0.007589253448502189\n"
     ]
    },
    {
     "name": "stderr",
     "output_type": "stream",
     "text": [
      "100%|██████████| 391/391 [00:30<00:00, 12.64it/s]\n"
     ]
    },
    {
     "name": "stdout",
     "output_type": "stream",
     "text": [
      "loss 0.0064303064095827004\n"
     ]
    },
    {
     "name": "stderr",
     "output_type": "stream",
     "text": [
      "100%|██████████| 391/391 [00:31<00:00, 12.22it/s]\n"
     ]
    },
    {
     "name": "stdout",
     "output_type": "stream",
     "text": [
      "loss 0.006891982571650333\n"
     ]
    },
    {
     "name": "stderr",
     "output_type": "stream",
     "text": [
      "100%|██████████| 391/391 [00:32<00:00, 12.16it/s]"
     ]
    },
    {
     "name": "stdout",
     "output_type": "stream",
     "text": [
      "loss 0.0069340423137396745\n"
     ]
    },
    {
     "name": "stderr",
     "output_type": "stream",
     "text": [
      "\n"
     ]
    }
   ],
   "source": [
    "model.to(device)\n",
    "loss_func.to(device)\n",
    "loss_train = []\n",
    "for epoch in range(100):\n",
    "    model.train()\n",
    "    loop = tqdm(dl_train)\n",
    "    lloss = []\n",
    "    for data, labels in loop:\n",
    "        data = data.to(device)\n",
    "        labels = labels.to(device)\n",
    "        opt.zero_grad()\n",
    "        embeddings = model(data)\n",
    "        batch_emb, batch_y = create_surrounding_batch(embeddings,labels)\n",
    "        loss = loss_func(batch_emb, batch_y)\n",
    "        loss.backward()\n",
    "        lloss.append(loss.item())\n",
    "        opt.step()\n",
    "    scheduler.step()\n",
    "    if epoch %10 == 0:\n",
    "        pred,labels = pred_knn_model(model,dl_sub_train,dl_sub_test)\n",
    "        f1 = metrics.f1_score(labels,pred,average='macro')\n",
    "        precision = metrics.precision_score(labels,pred,average='macro')\n",
    "        recall = metrics.recall_score(labels,pred,average='macro')\n",
    "        accuracy = metrics.accuracy_score(labels,pred)\n",
    "        wandb.log({'precision':precision,'recall':recall,'f1':f1,'accuracy':accuracy},step=epoch)\n",
    "        print(classification_report(labels.T,pred))\n",
    "    loss_train.append(np.mean(lloss))\n",
    "    print(f\"loss {loss_train[-1]}\")\n",
    "    wandb.log({'loss_train':loss_train[-1]},step=epoch)"
   ]
  },
  {
   "cell_type": "code",
   "execution_count": 53,
   "metadata": {},
   "outputs": [
    {
     "data": {
      "text/plain": [
       "99"
      ]
     },
     "execution_count": 53,
     "metadata": {},
     "output_type": "execute_result"
    }
   ],
   "source": [
    "epoch"
   ]
  },
  {
   "cell_type": "code",
   "execution_count": null,
   "metadata": {},
   "outputs": [],
   "source": [
    "pred,labels = pred_knn_model(model,dl_train,dl_test)"
   ]
  },
  {
   "cell_type": "code",
   "execution_count": 55,
   "metadata": {},
   "outputs": [],
   "source": [
    "f1 = metrics.f1_score(labels,pred,average='macro')\n",
    "precision = metrics.precision_score(labels,pred,average='macro')\n",
    "recall = metrics.recall_score(labels,pred,average='macro')\n",
    "accuracy = metrics.accuracy_score(labels,pred)"
   ]
  },
  {
   "cell_type": "code",
   "execution_count": 56,
   "metadata": {},
   "outputs": [
    {
     "name": "stdout",
     "output_type": "stream",
     "text": [
      "precision 0.6932405964656521\n",
      "recall 0.6162000000000001\n",
      "f1 0.6366743649148952\n",
      "accuracy 0.6162\n"
     ]
    }
   ],
   "source": [
    "print(f\"precision {precision}\")\n",
    "print(f\"recall {recall}\")\n",
    "print(f\"f1 {f1}\")\n",
    "print(f\"accuracy {accuracy}\")"
   ]
  },
  {
   "cell_type": "code",
   "execution_count": 57,
   "metadata": {},
   "outputs": [
    {
     "name": "stdout",
     "output_type": "stream",
     "text": [
      "              precision    recall  f1-score   support\n",
      "\n",
      "           0       0.91      0.79      0.84       100\n",
      "           2       0.69      0.45      0.55       100\n",
      "           3       0.48      0.31      0.38       100\n",
      "           5       0.77      0.62      0.69       100\n",
      "           6       0.78      0.58      0.67       100\n",
      "          13       0.82      0.67      0.74       100\n",
      "          15       0.73      0.44      0.55       100\n",
      "          20       0.95      0.79      0.86       100\n",
      "          22       0.74      0.52      0.61       100\n",
      "          23       0.75      0.70      0.73       100\n",
      "          24       0.26      0.89      0.40       100\n",
      "          26       0.68      0.52      0.59       100\n",
      "          28       0.89      0.75      0.82       100\n",
      "          29       0.71      0.60      0.65       100\n",
      "          30       0.64      0.58      0.61       100\n",
      "          31       0.19      0.73      0.30       100\n",
      "          32       0.71      0.39      0.50       100\n",
      "          33       0.72      0.49      0.58       100\n",
      "          34       0.67      0.53      0.59       100\n",
      "          40       0.61      0.52      0.56       100\n",
      "          41       0.90      0.71      0.79       100\n",
      "          42       0.46      0.59      0.52       100\n",
      "          43       0.82      0.60      0.69       100\n",
      "          44       0.42      0.35      0.38       100\n",
      "          45       0.49      0.28      0.36       100\n",
      "          47       0.89      0.85      0.87       100\n",
      "          49       0.80      0.74      0.77       100\n",
      "          54       0.71      0.71      0.71       100\n",
      "          56       0.97      0.85      0.90       100\n",
      "          57       0.76      0.67      0.71       100\n",
      "          60       0.82      0.82      0.82       100\n",
      "          61       0.82      0.75      0.78       100\n",
      "          62       0.81      0.71      0.76       100\n",
      "          63       0.76      0.55      0.64       100\n",
      "          65       0.53      0.33      0.41       100\n",
      "          67       0.52      0.44      0.48       100\n",
      "          68       0.96      0.92      0.94       100\n",
      "          71       0.72      0.72      0.72       100\n",
      "          72       0.36      0.30      0.33       100\n",
      "          73       0.29      0.53      0.38       100\n",
      "          78       0.23      0.65      0.34       100\n",
      "          82       0.93      0.77      0.84       100\n",
      "          83       0.67      0.58      0.62       100\n",
      "          87       0.77      0.72      0.75       100\n",
      "          90       0.68      0.66      0.67       100\n",
      "          91       0.79      0.63      0.70       100\n",
      "          94       0.92      0.89      0.90       100\n",
      "          97       0.71      0.58      0.64       100\n",
      "          98       0.65      0.45      0.53       100\n",
      "          99       0.79      0.59      0.67       100\n",
      "\n",
      "    accuracy                           0.62      5000\n",
      "   macro avg       0.69      0.62      0.64      5000\n",
      "weighted avg       0.69      0.62      0.64      5000\n",
      "\n"
     ]
    }
   ],
   "source": [
    "wandb.log({'precision':precision,'recall':recall,'f1':f1,'accuracy':accuracy},step=epoch)\n",
    "print(classification_report(labels.T,pred))"
   ]
  },
  {
   "cell_type": "code",
   "execution_count": null,
   "metadata": {},
   "outputs": [
    {
     "data": {
      "text/plain": [
       "_CudaDeviceProperties(name='NVIDIA GeForce RTX 3060', major=8, minor=6, total_memory=12044MB, multi_processor_count=28)"
      ]
     },
     "execution_count": 53,
     "metadata": {},
     "output_type": "execute_result"
    }
   ],
   "source": [
    "torch.cuda.get_device_properties(0)"
   ]
  },
  {
   "cell_type": "code",
   "execution_count": null,
   "metadata": {},
   "outputs": [],
   "source": [
    "torch.save({'rn18':model.state_dict(),'class_order':class_order,'loss_train':loss_train},'rn18_dml_pass_100epochs.pth')"
   ]
  },
  {
   "cell_type": "code",
   "execution_count": null,
   "metadata": {},
   "outputs": [],
   "source": []
  },
  {
   "cell_type": "code",
   "execution_count": null,
   "metadata": {},
   "outputs": [],
   "source": []
  },
  {
   "cell_type": "code",
   "execution_count": null,
   "metadata": {},
   "outputs": [],
   "source": []
  }
 ],
 "metadata": {
  "kernelspec": {
   "display_name": "Python 3 (ipykernel)",
   "language": "python",
   "name": "python3"
  },
  "language_info": {
   "codemirror_mode": {
    "name": "ipython",
    "version": 3
   },
   "file_extension": ".py",
   "mimetype": "text/x-python",
   "name": "python",
   "nbconvert_exporter": "python",
   "pygments_lexer": "ipython3",
   "version": "3.10.12"
  }
 },
 "nbformat": 4,
 "nbformat_minor": 2
}
