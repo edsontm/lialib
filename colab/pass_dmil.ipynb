{
 "cells": [
  {
   "cell_type": "code",
   "execution_count": 1,
   "metadata": {},
   "outputs": [
    {
     "name": "stderr",
     "output_type": "stream",
     "text": [
      "/usr/local/lib/python3.10/dist-packages/torchvision/io/image.py:13: UserWarning: Failed to load image Python extension: '/usr/local/lib/python3.10/dist-packages/torchvision/image.so: undefined symbol: _ZN3c107WarningC1ENS_7variantIJNS0_11UserWarningENS0_18DeprecationWarningEEEERKNS_14SourceLocationENSt7__cxx1112basic_stringIcSt11char_traitsIcESaIcEEEb'If you don't plan on using image functionality from `torchvision.io`, you can ignore this warning. Otherwise, there might be something wrong with your environment. Did you have `libjpeg` or `libpng` installed before building `torchvision` from source?\n",
      "  warn(\n",
      "/usr/local/lib/python3.10/dist-packages/tqdm/auto.py:21: TqdmWarning: IProgress not found. Please update jupyter and ipywidgets. See https://ipywidgets.readthedocs.io/en/stable/user_install.html\n",
      "  from .autonotebook import tqdm as notebook_tqdm\n"
     ]
    }
   ],
   "source": [
    "\n",
    "\n",
    "import torch\n",
    "import torch.nn as nn\n",
    "import torch.optim as optim\n",
    "\n",
    "import torchvision\n",
    "from torchvision import datasets, models, transforms\n",
    "from tqdm import tqdm\n",
    "import numpy as np\n",
    "\n",
    "\n",
    "\n",
    "from resnetpass import resnet18_cbam"
   ]
  },
  {
   "cell_type": "code",
   "execution_count": 2,
   "metadata": {},
   "outputs": [],
   "source": [
    "device = torch.device('cuda:0')\n",
    "class_order_file = 'class_order.pth'"
   ]
  },
  {
   "cell_type": "code",
   "execution_count": 3,
   "metadata": {},
   "outputs": [
    {
     "name": "stdout",
     "output_type": "stream",
     "text": [
      "Defaulting to user installation because normal site-packages is not writeable\n",
      "Looking in indexes: https://pypi.org/simple, https://pypi.ngc.nvidia.com\n",
      "Requirement already satisfied: pytorch-metric-learning in /home/ubuntu/.local/lib/python3.10/site-packages (2.5.0)\n",
      "Requirement already satisfied: numpy in /usr/local/lib/python3.10/dist-packages (from pytorch-metric-learning) (1.22.2)\n",
      "Requirement already satisfied: scikit-learn in /usr/local/lib/python3.10/dist-packages (from pytorch-metric-learning) (1.2.0)\n",
      "Requirement already satisfied: torch>=1.6.0 in /home/ubuntu/.local/lib/python3.10/site-packages (from pytorch-metric-learning) (2.1.2)\n",
      "Requirement already satisfied: tqdm in /usr/local/lib/python3.10/dist-packages (from pytorch-metric-learning) (4.65.0)\n",
      "Requirement already satisfied: filelock in /usr/local/lib/python3.10/dist-packages (from torch>=1.6.0->pytorch-metric-learning) (3.12.2)\n",
      "Requirement already satisfied: typing-extensions in /home/ubuntu/.local/lib/python3.10/site-packages (from torch>=1.6.0->pytorch-metric-learning) (4.9.0)\n",
      "Requirement already satisfied: sympy in /usr/local/lib/python3.10/dist-packages (from torch>=1.6.0->pytorch-metric-learning) (1.12)\n",
      "Requirement already satisfied: networkx in /home/ubuntu/.local/lib/python3.10/site-packages (from torch>=1.6.0->pytorch-metric-learning) (3.2.1)\n",
      "Requirement already satisfied: jinja2 in /usr/local/lib/python3.10/dist-packages (from torch>=1.6.0->pytorch-metric-learning) (3.1.2)\n",
      "Requirement already satisfied: fsspec in /usr/local/lib/python3.10/dist-packages (from torch>=1.6.0->pytorch-metric-learning) (2023.6.0)\n",
      "Requirement already satisfied: nvidia-cuda-nvrtc-cu12==12.1.105 in /home/ubuntu/.local/lib/python3.10/site-packages (from torch>=1.6.0->pytorch-metric-learning) (12.1.105)\n",
      "Requirement already satisfied: nvidia-cuda-runtime-cu12==12.1.105 in /home/ubuntu/.local/lib/python3.10/site-packages (from torch>=1.6.0->pytorch-metric-learning) (12.1.105)\n",
      "Requirement already satisfied: nvidia-cuda-cupti-cu12==12.1.105 in /home/ubuntu/.local/lib/python3.10/site-packages (from torch>=1.6.0->pytorch-metric-learning) (12.1.105)\n",
      "Requirement already satisfied: nvidia-cudnn-cu12==8.9.2.26 in /home/ubuntu/.local/lib/python3.10/site-packages (from torch>=1.6.0->pytorch-metric-learning) (8.9.2.26)\n",
      "Requirement already satisfied: nvidia-cublas-cu12==12.1.3.1 in /home/ubuntu/.local/lib/python3.10/site-packages (from torch>=1.6.0->pytorch-metric-learning) (12.1.3.1)\n",
      "Requirement already satisfied: nvidia-cufft-cu12==11.0.2.54 in /home/ubuntu/.local/lib/python3.10/site-packages (from torch>=1.6.0->pytorch-metric-learning) (11.0.2.54)\n",
      "Requirement already satisfied: nvidia-curand-cu12==10.3.2.106 in /home/ubuntu/.local/lib/python3.10/site-packages (from torch>=1.6.0->pytorch-metric-learning) (10.3.2.106)\n",
      "Requirement already satisfied: nvidia-cusolver-cu12==11.4.5.107 in /home/ubuntu/.local/lib/python3.10/site-packages (from torch>=1.6.0->pytorch-metric-learning) (11.4.5.107)\n",
      "Requirement already satisfied: nvidia-cusparse-cu12==12.1.0.106 in /home/ubuntu/.local/lib/python3.10/site-packages (from torch>=1.6.0->pytorch-metric-learning) (12.1.0.106)\n",
      "Requirement already satisfied: nvidia-nccl-cu12==2.18.1 in /home/ubuntu/.local/lib/python3.10/site-packages (from torch>=1.6.0->pytorch-metric-learning) (2.18.1)\n",
      "Requirement already satisfied: nvidia-nvtx-cu12==12.1.105 in /home/ubuntu/.local/lib/python3.10/site-packages (from torch>=1.6.0->pytorch-metric-learning) (12.1.105)\n",
      "Requirement already satisfied: triton==2.1.0 in /usr/local/lib/python3.10/dist-packages (from torch>=1.6.0->pytorch-metric-learning) (2.1.0+440fd1b)\n",
      "Requirement already satisfied: nvidia-nvjitlink-cu12 in /home/ubuntu/.local/lib/python3.10/site-packages (from nvidia-cusolver-cu12==11.4.5.107->torch>=1.6.0->pytorch-metric-learning) (12.3.101)\n",
      "Requirement already satisfied: scipy>=1.3.2 in /usr/local/lib/python3.10/dist-packages (from scikit-learn->pytorch-metric-learning) (1.11.1)\n",
      "Requirement already satisfied: joblib>=1.1.1 in /usr/local/lib/python3.10/dist-packages (from scikit-learn->pytorch-metric-learning) (1.3.1)\n",
      "Requirement already satisfied: threadpoolctl>=2.0.0 in /usr/local/lib/python3.10/dist-packages (from scikit-learn->pytorch-metric-learning) (3.2.0)\n",
      "Requirement already satisfied: MarkupSafe>=2.0 in /usr/local/lib/python3.10/dist-packages (from jinja2->torch>=1.6.0->pytorch-metric-learning) (2.1.3)\n",
      "Requirement already satisfied: mpmath>=0.19 in /usr/local/lib/python3.10/dist-packages (from sympy->torch>=1.6.0->pytorch-metric-learning) (1.3.0)\n",
      "\n",
      "\u001b[1m[\u001b[0m\u001b[34;49mnotice\u001b[0m\u001b[1;39;49m]\u001b[0m\u001b[39;49m A new release of pip is available: \u001b[0m\u001b[31;49m23.3.2\u001b[0m\u001b[39;49m -> \u001b[0m\u001b[32;49m24.0\u001b[0m\n",
      "\u001b[1m[\u001b[0m\u001b[34;49mnotice\u001b[0m\u001b[1;39;49m]\u001b[0m\u001b[39;49m To update, run: \u001b[0m\u001b[32;49mpython -m pip install --upgrade pip\u001b[0m\n"
     ]
    }
   ],
   "source": [
    "!pip install pytorch-metric-learning"
   ]
  },
  {
   "cell_type": "code",
   "execution_count": 4,
   "metadata": {},
   "outputs": [],
   "source": [
    "model = resnet18_cbam(pretrained=False)"
   ]
  },
  {
   "cell_type": "code",
   "execution_count": 5,
   "metadata": {},
   "outputs": [
    {
     "data": {
      "text/plain": [
       "ResNet(\n",
       "  (conv1): Conv2d(3, 64, kernel_size=(3, 3), stride=(1, 1), padding=(1, 1), bias=False)\n",
       "  (bn1): BatchNorm2d(64, eps=1e-05, momentum=0.1, affine=True, track_running_stats=True)\n",
       "  (relu): ReLU(inplace=True)\n",
       "  (maxpool): MaxPool2d(kernel_size=3, stride=2, padding=1, dilation=1, ceil_mode=False)\n",
       "  (layer1): Sequential(\n",
       "    (0): BasicBlock(\n",
       "      (conv1): Conv2d(64, 64, kernel_size=(3, 3), stride=(1, 1), padding=(1, 1), bias=False)\n",
       "      (bn1): BatchNorm2d(64, eps=1e-05, momentum=0.1, affine=True, track_running_stats=True)\n",
       "      (relu): ReLU(inplace=True)\n",
       "      (conv2): Conv2d(64, 64, kernel_size=(3, 3), stride=(1, 1), padding=(1, 1), bias=False)\n",
       "      (bn2): BatchNorm2d(64, eps=1e-05, momentum=0.1, affine=True, track_running_stats=True)\n",
       "      (ca): ChannelAttention(\n",
       "        (avg_pool): AdaptiveAvgPool2d(output_size=1)\n",
       "        (max_pool): AdaptiveMaxPool2d(output_size=1)\n",
       "        (fc1): Conv2d(64, 4, kernel_size=(1, 1), stride=(1, 1), bias=False)\n",
       "        (relu1): ReLU()\n",
       "        (fc2): Conv2d(4, 64, kernel_size=(1, 1), stride=(1, 1), bias=False)\n",
       "        (sigmoid): Sigmoid()\n",
       "      )\n",
       "      (sa): SpatialAttention(\n",
       "        (conv1): Conv2d(2, 1, kernel_size=(7, 7), stride=(1, 1), padding=(3, 3), bias=False)\n",
       "        (sigmoid): Sigmoid()\n",
       "      )\n",
       "    )\n",
       "    (1): BasicBlock(\n",
       "      (conv1): Conv2d(64, 64, kernel_size=(3, 3), stride=(1, 1), padding=(1, 1), bias=False)\n",
       "      (bn1): BatchNorm2d(64, eps=1e-05, momentum=0.1, affine=True, track_running_stats=True)\n",
       "      (relu): ReLU(inplace=True)\n",
       "      (conv2): Conv2d(64, 64, kernel_size=(3, 3), stride=(1, 1), padding=(1, 1), bias=False)\n",
       "      (bn2): BatchNorm2d(64, eps=1e-05, momentum=0.1, affine=True, track_running_stats=True)\n",
       "      (ca): ChannelAttention(\n",
       "        (avg_pool): AdaptiveAvgPool2d(output_size=1)\n",
       "        (max_pool): AdaptiveMaxPool2d(output_size=1)\n",
       "        (fc1): Conv2d(64, 4, kernel_size=(1, 1), stride=(1, 1), bias=False)\n",
       "        (relu1): ReLU()\n",
       "        (fc2): Conv2d(4, 64, kernel_size=(1, 1), stride=(1, 1), bias=False)\n",
       "        (sigmoid): Sigmoid()\n",
       "      )\n",
       "      (sa): SpatialAttention(\n",
       "        (conv1): Conv2d(2, 1, kernel_size=(7, 7), stride=(1, 1), padding=(3, 3), bias=False)\n",
       "        (sigmoid): Sigmoid()\n",
       "      )\n",
       "    )\n",
       "  )\n",
       "  (layer2): Sequential(\n",
       "    (0): BasicBlock(\n",
       "      (conv1): Conv2d(64, 128, kernel_size=(3, 3), stride=(2, 2), padding=(1, 1), bias=False)\n",
       "      (bn1): BatchNorm2d(128, eps=1e-05, momentum=0.1, affine=True, track_running_stats=True)\n",
       "      (relu): ReLU(inplace=True)\n",
       "      (conv2): Conv2d(128, 128, kernel_size=(3, 3), stride=(1, 1), padding=(1, 1), bias=False)\n",
       "      (bn2): BatchNorm2d(128, eps=1e-05, momentum=0.1, affine=True, track_running_stats=True)\n",
       "      (ca): ChannelAttention(\n",
       "        (avg_pool): AdaptiveAvgPool2d(output_size=1)\n",
       "        (max_pool): AdaptiveMaxPool2d(output_size=1)\n",
       "        (fc1): Conv2d(128, 8, kernel_size=(1, 1), stride=(1, 1), bias=False)\n",
       "        (relu1): ReLU()\n",
       "        (fc2): Conv2d(8, 128, kernel_size=(1, 1), stride=(1, 1), bias=False)\n",
       "        (sigmoid): Sigmoid()\n",
       "      )\n",
       "      (sa): SpatialAttention(\n",
       "        (conv1): Conv2d(2, 1, kernel_size=(7, 7), stride=(1, 1), padding=(3, 3), bias=False)\n",
       "        (sigmoid): Sigmoid()\n",
       "      )\n",
       "      (downsample): Sequential(\n",
       "        (0): Conv2d(64, 128, kernel_size=(1, 1), stride=(2, 2), bias=False)\n",
       "        (1): BatchNorm2d(128, eps=1e-05, momentum=0.1, affine=True, track_running_stats=True)\n",
       "      )\n",
       "    )\n",
       "    (1): BasicBlock(\n",
       "      (conv1): Conv2d(128, 128, kernel_size=(3, 3), stride=(1, 1), padding=(1, 1), bias=False)\n",
       "      (bn1): BatchNorm2d(128, eps=1e-05, momentum=0.1, affine=True, track_running_stats=True)\n",
       "      (relu): ReLU(inplace=True)\n",
       "      (conv2): Conv2d(128, 128, kernel_size=(3, 3), stride=(1, 1), padding=(1, 1), bias=False)\n",
       "      (bn2): BatchNorm2d(128, eps=1e-05, momentum=0.1, affine=True, track_running_stats=True)\n",
       "      (ca): ChannelAttention(\n",
       "        (avg_pool): AdaptiveAvgPool2d(output_size=1)\n",
       "        (max_pool): AdaptiveMaxPool2d(output_size=1)\n",
       "        (fc1): Conv2d(128, 8, kernel_size=(1, 1), stride=(1, 1), bias=False)\n",
       "        (relu1): ReLU()\n",
       "        (fc2): Conv2d(8, 128, kernel_size=(1, 1), stride=(1, 1), bias=False)\n",
       "        (sigmoid): Sigmoid()\n",
       "      )\n",
       "      (sa): SpatialAttention(\n",
       "        (conv1): Conv2d(2, 1, kernel_size=(7, 7), stride=(1, 1), padding=(3, 3), bias=False)\n",
       "        (sigmoid): Sigmoid()\n",
       "      )\n",
       "    )\n",
       "  )\n",
       "  (layer3): Sequential(\n",
       "    (0): BasicBlock(\n",
       "      (conv1): Conv2d(128, 256, kernel_size=(3, 3), stride=(2, 2), padding=(1, 1), bias=False)\n",
       "      (bn1): BatchNorm2d(256, eps=1e-05, momentum=0.1, affine=True, track_running_stats=True)\n",
       "      (relu): ReLU(inplace=True)\n",
       "      (conv2): Conv2d(256, 256, kernel_size=(3, 3), stride=(1, 1), padding=(1, 1), bias=False)\n",
       "      (bn2): BatchNorm2d(256, eps=1e-05, momentum=0.1, affine=True, track_running_stats=True)\n",
       "      (ca): ChannelAttention(\n",
       "        (avg_pool): AdaptiveAvgPool2d(output_size=1)\n",
       "        (max_pool): AdaptiveMaxPool2d(output_size=1)\n",
       "        (fc1): Conv2d(256, 16, kernel_size=(1, 1), stride=(1, 1), bias=False)\n",
       "        (relu1): ReLU()\n",
       "        (fc2): Conv2d(16, 256, kernel_size=(1, 1), stride=(1, 1), bias=False)\n",
       "        (sigmoid): Sigmoid()\n",
       "      )\n",
       "      (sa): SpatialAttention(\n",
       "        (conv1): Conv2d(2, 1, kernel_size=(7, 7), stride=(1, 1), padding=(3, 3), bias=False)\n",
       "        (sigmoid): Sigmoid()\n",
       "      )\n",
       "      (downsample): Sequential(\n",
       "        (0): Conv2d(128, 256, kernel_size=(1, 1), stride=(2, 2), bias=False)\n",
       "        (1): BatchNorm2d(256, eps=1e-05, momentum=0.1, affine=True, track_running_stats=True)\n",
       "      )\n",
       "    )\n",
       "    (1): BasicBlock(\n",
       "      (conv1): Conv2d(256, 256, kernel_size=(3, 3), stride=(1, 1), padding=(1, 1), bias=False)\n",
       "      (bn1): BatchNorm2d(256, eps=1e-05, momentum=0.1, affine=True, track_running_stats=True)\n",
       "      (relu): ReLU(inplace=True)\n",
       "      (conv2): Conv2d(256, 256, kernel_size=(3, 3), stride=(1, 1), padding=(1, 1), bias=False)\n",
       "      (bn2): BatchNorm2d(256, eps=1e-05, momentum=0.1, affine=True, track_running_stats=True)\n",
       "      (ca): ChannelAttention(\n",
       "        (avg_pool): AdaptiveAvgPool2d(output_size=1)\n",
       "        (max_pool): AdaptiveMaxPool2d(output_size=1)\n",
       "        (fc1): Conv2d(256, 16, kernel_size=(1, 1), stride=(1, 1), bias=False)\n",
       "        (relu1): ReLU()\n",
       "        (fc2): Conv2d(16, 256, kernel_size=(1, 1), stride=(1, 1), bias=False)\n",
       "        (sigmoid): Sigmoid()\n",
       "      )\n",
       "      (sa): SpatialAttention(\n",
       "        (conv1): Conv2d(2, 1, kernel_size=(7, 7), stride=(1, 1), padding=(3, 3), bias=False)\n",
       "        (sigmoid): Sigmoid()\n",
       "      )\n",
       "    )\n",
       "  )\n",
       "  (layer4): Sequential(\n",
       "    (0): BasicBlock(\n",
       "      (conv1): Conv2d(256, 512, kernel_size=(3, 3), stride=(2, 2), padding=(1, 1), bias=False)\n",
       "      (bn1): BatchNorm2d(512, eps=1e-05, momentum=0.1, affine=True, track_running_stats=True)\n",
       "      (relu): ReLU(inplace=True)\n",
       "      (conv2): Conv2d(512, 512, kernel_size=(3, 3), stride=(1, 1), padding=(1, 1), bias=False)\n",
       "      (bn2): BatchNorm2d(512, eps=1e-05, momentum=0.1, affine=True, track_running_stats=True)\n",
       "      (ca): ChannelAttention(\n",
       "        (avg_pool): AdaptiveAvgPool2d(output_size=1)\n",
       "        (max_pool): AdaptiveMaxPool2d(output_size=1)\n",
       "        (fc1): Conv2d(512, 32, kernel_size=(1, 1), stride=(1, 1), bias=False)\n",
       "        (relu1): ReLU()\n",
       "        (fc2): Conv2d(32, 512, kernel_size=(1, 1), stride=(1, 1), bias=False)\n",
       "        (sigmoid): Sigmoid()\n",
       "      )\n",
       "      (sa): SpatialAttention(\n",
       "        (conv1): Conv2d(2, 1, kernel_size=(7, 7), stride=(1, 1), padding=(3, 3), bias=False)\n",
       "        (sigmoid): Sigmoid()\n",
       "      )\n",
       "      (downsample): Sequential(\n",
       "        (0): Conv2d(256, 512, kernel_size=(1, 1), stride=(2, 2), bias=False)\n",
       "        (1): BatchNorm2d(512, eps=1e-05, momentum=0.1, affine=True, track_running_stats=True)\n",
       "      )\n",
       "    )\n",
       "    (1): BasicBlock(\n",
       "      (conv1): Conv2d(512, 512, kernel_size=(3, 3), stride=(1, 1), padding=(1, 1), bias=False)\n",
       "      (bn1): BatchNorm2d(512, eps=1e-05, momentum=0.1, affine=True, track_running_stats=True)\n",
       "      (relu): ReLU(inplace=True)\n",
       "      (conv2): Conv2d(512, 512, kernel_size=(3, 3), stride=(1, 1), padding=(1, 1), bias=False)\n",
       "      (bn2): BatchNorm2d(512, eps=1e-05, momentum=0.1, affine=True, track_running_stats=True)\n",
       "      (ca): ChannelAttention(\n",
       "        (avg_pool): AdaptiveAvgPool2d(output_size=1)\n",
       "        (max_pool): AdaptiveMaxPool2d(output_size=1)\n",
       "        (fc1): Conv2d(512, 32, kernel_size=(1, 1), stride=(1, 1), bias=False)\n",
       "        (relu1): ReLU()\n",
       "        (fc2): Conv2d(32, 512, kernel_size=(1, 1), stride=(1, 1), bias=False)\n",
       "        (sigmoid): Sigmoid()\n",
       "      )\n",
       "      (sa): SpatialAttention(\n",
       "        (conv1): Conv2d(2, 1, kernel_size=(7, 7), stride=(1, 1), padding=(3, 3), bias=False)\n",
       "        (sigmoid): Sigmoid()\n",
       "      )\n",
       "    )\n",
       "  )\n",
       "  (feature): AvgPool2d(kernel_size=4, stride=1, padding=0)\n",
       "  (fc): Linear(in_features=512, out_features=100, bias=True)\n",
       ")"
      ]
     },
     "execution_count": 5,
     "metadata": {},
     "output_type": "execute_result"
    }
   ],
   "source": [
    "model"
   ]
  },
  {
   "cell_type": "code",
   "execution_count": 6,
   "metadata": {},
   "outputs": [],
   "source": [
    "model.fc = nn.Linear(512,512)"
   ]
  },
  {
   "cell_type": "code",
   "execution_count": 7,
   "metadata": {},
   "outputs": [
    {
     "name": "stdout",
     "output_type": "stream",
     "text": [
      "/home/ubuntu/lialib/colab\n"
     ]
    }
   ],
   "source": [
    "!pwd"
   ]
  },
  {
   "cell_type": "code",
   "execution_count": 8,
   "metadata": {},
   "outputs": [
    {
     "data": {
      "text/plain": [
       "_CudaDeviceProperties(name='NVIDIA GeForce RTX 3060', major=8, minor=6, total_memory=12044MB, multi_processor_count=28)"
      ]
     },
     "execution_count": 8,
     "metadata": {},
     "output_type": "execute_result"
    }
   ],
   "source": [
    "torch.cuda.get_device_properties(0)"
   ]
  },
  {
   "cell_type": "code",
   "execution_count": 9,
   "metadata": {},
   "outputs": [],
   "source": [
    "#model.load_state_dict(model_state_dict['rn18'])\n",
    "import os\n",
    "\n",
    "if os.path.isfile(class_order_file ):\n",
    "    class_order = torch.load(class_order_file)\n",
    "else:\n",
    "    class_order = torch.randperm(100)\n",
    "    torch.save(class_order,class_order_file)"
   ]
  },
  {
   "cell_type": "code",
   "execution_count": 10,
   "metadata": {},
   "outputs": [
    {
     "data": {
      "text/plain": [
       "tensor([30, 43, 94, 73, 34, 67, 62, 33, 61, 15, 78, 28, 41, 68, 57,  0,  3, 22,\n",
       "         5,  2, 65, 26, 54, 32, 24, 83, 72, 13, 29, 49, 98, 20, 31, 82, 71, 44,\n",
       "        42, 91, 40, 99, 23, 97,  6, 90, 45, 63, 60, 56, 87, 47, 79, 51, 58, 17,\n",
       "        16, 96, 52, 75, 92, 69, 35, 38, 53, 25,  1, 80, 39, 88, 21, 74, 36, 19,\n",
       "        11, 10, 76, 89, 59, 37,  9, 14, 81, 95, 77, 64, 70, 46, 55, 66, 86, 85,\n",
       "        18, 12,  7, 48, 93,  4, 27,  8, 50, 84])"
      ]
     },
     "execution_count": 10,
     "metadata": {},
     "output_type": "execute_result"
    }
   ],
   "source": [
    "class_order"
   ]
  },
  {
   "cell_type": "code",
   "execution_count": 11,
   "metadata": {},
   "outputs": [],
   "source": [
    "preprocess = transforms.Compose([\n",
    "    transforms.ToTensor(),\n",
    "    transforms.Normalize(mean=(0.48145466, 0.4578275, 0.40821073), std=(0.26862954, 0.26130258, 0.27577711))\n",
    "])"
   ]
  },
  {
   "cell_type": "code",
   "execution_count": 12,
   "metadata": {},
   "outputs": [
    {
     "name": "stdout",
     "output_type": "stream",
     "text": [
      "Files already downloaded and verified\n",
      "Files already downloaded and verified\n"
     ]
    }
   ],
   "source": [
    "ds_train = datasets.CIFAR100(root='./data', train=True, download=True, transform=preprocess)\n",
    "ds_test  = datasets.CIFAR100(root='./data', train=False, download=True, transform=preprocess)"
   ]
  },
  {
   "cell_type": "code",
   "execution_count": 13,
   "metadata": {},
   "outputs": [],
   "source": [
    "def instances_from_classes(dataset, class_order):\n",
    "    subset = []\n",
    "    for i in range(len(dataset)):\n",
    "        _, label = dataset[i]\n",
    "        if label in class_order:\n",
    "            subset.append(i)\n",
    "    return subset\n"
   ]
  },
  {
   "cell_type": "code",
   "execution_count": 14,
   "metadata": {},
   "outputs": [],
   "source": [
    "set_train = instances_from_classes(ds_train,class_order[:50])\n",
    "set_test  = np.array(instances_from_classes(ds_test, class_order[:50]))"
   ]
  },
  {
   "cell_type": "code",
   "execution_count": 15,
   "metadata": {},
   "outputs": [
    {
     "data": {
      "text/plain": [
       "(5000,)"
      ]
     },
     "execution_count": 15,
     "metadata": {},
     "output_type": "execute_result"
    }
   ],
   "source": [
    "set_test.shape"
   ]
  },
  {
   "cell_type": "code",
   "execution_count": 16,
   "metadata": {},
   "outputs": [],
   "source": [
    "sub_sample_train = sorted(np.random.permutation(set_train)[:300])\n",
    "sub_sample_test  = sorted(np.random.permutation(set_test)[:300])"
   ]
  },
  {
   "cell_type": "code",
   "execution_count": 17,
   "metadata": {},
   "outputs": [],
   "source": [
    "dl_train = torch.utils.data.DataLoader(ds_train, batch_size=64, sampler=torch.utils.data.SubsetRandomSampler(set_train))\n",
    "dl_test = torch.utils.data.DataLoader(ds_test,  batch_size=64, sampler=torch.utils.data.SubsetRandomSampler(set_test))\n",
    "dl_sub_train = torch.utils.data.DataLoader(ds_train,  batch_size=64, sampler=torch.utils.data.SubsetRandomSampler(sub_sample_train))\n",
    "dl_sub_test = torch.utils.data.DataLoader(ds_test,  batch_size=64, sampler=torch.utils.data.SubsetRandomSampler(sub_sample_test))"
   ]
  },
  {
   "cell_type": "code",
   "execution_count": 18,
   "metadata": {},
   "outputs": [],
   "source": [
    "x,y = next(iter(dl_train))"
   ]
  },
  {
   "cell_type": "code",
   "execution_count": 19,
   "metadata": {},
   "outputs": [
    {
     "data": {
      "text/plain": [
       "torch.Size([64])"
      ]
     },
     "execution_count": 19,
     "metadata": {},
     "output_type": "execute_result"
    }
   ],
   "source": [
    "y.shape"
   ]
  },
  {
   "cell_type": "code",
   "execution_count": 20,
   "metadata": {},
   "outputs": [
    {
     "data": {
      "text/plain": [
       "tensor([ 3, 94,  6, 45, 31, 97, 56, 65, 83, 41, 32, 87, 28, 42, 61, 15, 13,  3,\n",
       "        63, 65, 15, 47, 29, 68, 29, 22, 94, 82, 56, 24, 47, 65, 24, 60, 33,  5,\n",
       "        40, 40, 67, 13, 94, 24, 44, 72, 20, 90, 72, 97, 56, 61,  5, 41,  0, 78,\n",
       "        13, 13, 44, 94, 63, 41, 61, 90, 97, 22])"
      ]
     },
     "execution_count": 20,
     "metadata": {},
     "output_type": "execute_result"
    }
   ],
   "source": [
    "y"
   ]
  },
  {
   "cell_type": "code",
   "execution_count": 21,
   "metadata": {},
   "outputs": [],
   "source": [
    "from pytorch_metric_learning import losses\n",
    "loss_func = losses.ArcFaceLoss(num_classes=100,embedding_size=512)\n"
   ]
  },
  {
   "cell_type": "code",
   "execution_count": 22,
   "metadata": {},
   "outputs": [
    {
     "name": "stdout",
     "output_type": "stream",
     "text": [
      "Defaulting to user installation because normal site-packages is not writeable\n",
      "Looking in indexes: https://pypi.org/simple, https://pypi.ngc.nvidia.com\n",
      "Requirement already satisfied: wandb in /home/ubuntu/.local/lib/python3.10/site-packages (0.17.0)\n",
      "Requirement already satisfied: click!=8.0.0,>=7.1 in /usr/local/lib/python3.10/dist-packages (from wandb) (8.1.5)\n",
      "Requirement already satisfied: docker-pycreds>=0.4.0 in /home/ubuntu/.local/lib/python3.10/site-packages (from wandb) (0.4.0)\n",
      "Requirement already satisfied: gitpython!=3.1.29,>=1.0.0 in /home/ubuntu/.local/lib/python3.10/site-packages (from wandb) (3.1.43)\n",
      "Requirement already satisfied: platformdirs in /usr/local/lib/python3.10/dist-packages (from wandb) (3.10.0)\n",
      "Requirement already satisfied: protobuf!=4.21.0,<5,>=3.19.0 in /usr/local/lib/python3.10/dist-packages (from wandb) (4.21.12)\n",
      "Requirement already satisfied: psutil>=5.0.0 in /usr/local/lib/python3.10/dist-packages (from wandb) (5.9.4)\n",
      "Requirement already satisfied: pyyaml in /usr/local/lib/python3.10/dist-packages (from wandb) (6.0.1)\n",
      "Requirement already satisfied: requests<3,>=2.0.0 in /usr/local/lib/python3.10/dist-packages (from wandb) (2.31.0)\n",
      "Requirement already satisfied: sentry-sdk>=1.0.0 in /home/ubuntu/.local/lib/python3.10/site-packages (from wandb) (2.1.1)\n",
      "Requirement already satisfied: setproctitle in /home/ubuntu/.local/lib/python3.10/site-packages (from wandb) (1.3.3)\n",
      "Requirement already satisfied: setuptools in /usr/local/lib/python3.10/dist-packages (from wandb) (68.0.0)\n",
      "Requirement already satisfied: six>=1.4.0 in /usr/local/lib/python3.10/dist-packages (from docker-pycreds>=0.4.0->wandb) (1.16.0)\n",
      "Requirement already satisfied: gitdb<5,>=4.0.1 in /home/ubuntu/.local/lib/python3.10/site-packages (from gitpython!=3.1.29,>=1.0.0->wandb) (4.0.11)\n",
      "Requirement already satisfied: charset-normalizer<4,>=2 in /usr/local/lib/python3.10/dist-packages (from requests<3,>=2.0.0->wandb) (3.2.0)\n",
      "Requirement already satisfied: idna<4,>=2.5 in /usr/local/lib/python3.10/dist-packages (from requests<3,>=2.0.0->wandb) (3.4)\n",
      "Requirement already satisfied: urllib3<3,>=1.21.1 in /usr/local/lib/python3.10/dist-packages (from requests<3,>=2.0.0->wandb) (1.26.16)\n",
      "Requirement already satisfied: certifi>=2017.4.17 in /usr/local/lib/python3.10/dist-packages (from requests<3,>=2.0.0->wandb) (2023.7.22)\n",
      "Requirement already satisfied: smmap<6,>=3.0.1 in /home/ubuntu/.local/lib/python3.10/site-packages (from gitdb<5,>=4.0.1->gitpython!=3.1.29,>=1.0.0->wandb) (5.0.1)\n",
      "\n",
      "\u001b[1m[\u001b[0m\u001b[34;49mnotice\u001b[0m\u001b[1;39;49m]\u001b[0m\u001b[39;49m A new release of pip is available: \u001b[0m\u001b[31;49m23.3.2\u001b[0m\u001b[39;49m -> \u001b[0m\u001b[32;49m24.0\u001b[0m\n",
      "\u001b[1m[\u001b[0m\u001b[34;49mnotice\u001b[0m\u001b[1;39;49m]\u001b[0m\u001b[39;49m To update, run: \u001b[0m\u001b[32;49mpython -m pip install --upgrade pip\u001b[0m\n"
     ]
    }
   ],
   "source": [
    "!pip install wandb"
   ]
  },
  {
   "cell_type": "code",
   "execution_count": 25,
   "metadata": {},
   "outputs": [],
   "source": [
    "import wandb"
   ]
  },
  {
   "cell_type": "code",
   "execution_count": 26,
   "metadata": {},
   "outputs": [],
   "source": [
    "config = {\n",
    "    \"surrounding\":True\n",
    "}"
   ]
  },
  {
   "cell_type": "code",
   "execution_count": 27,
   "metadata": {},
   "outputs": [
    {
     "name": "stderr",
     "output_type": "stream",
     "text": [
      "Failed to detect the name of this notebook, you can set it manually with the WANDB_NOTEBOOK_NAME environment variable to enable code saving.\n",
      "\u001b[34m\u001b[1mwandb\u001b[0m: Currently logged in as: \u001b[33medson-matsubara\u001b[0m (\u001b[33mlablia\u001b[0m). Use \u001b[1m`wandb login --relogin`\u001b[0m to force relogin\n"
     ]
    },
    {
     "data": {
      "text/html": [
       "Tracking run with wandb version 0.17.0"
      ],
      "text/plain": [
       "<IPython.core.display.HTML object>"
      ]
     },
     "metadata": {},
     "output_type": "display_data"
    },
    {
     "data": {
      "text/html": [
       "Run data is saved locally in <code>/home/ubuntu/lialib/colab/wandb/run-20240514_152921-bw03cdvo</code>"
      ],
      "text/plain": [
       "<IPython.core.display.HTML object>"
      ]
     },
     "metadata": {},
     "output_type": "display_data"
    },
    {
     "data": {
      "text/html": [
       "Syncing run <strong><a href='https://wandb.ai/lablia/clip%2Bdmil/runs/bw03cdvo' target=\"_blank\">neat-haze-21</a></strong> to <a href='https://wandb.ai/lablia/clip%2Bdmil' target=\"_blank\">Weights & Biases</a> (<a href='https://wandb.me/run' target=\"_blank\">docs</a>)<br/>"
      ],
      "text/plain": [
       "<IPython.core.display.HTML object>"
      ]
     },
     "metadata": {},
     "output_type": "display_data"
    },
    {
     "data": {
      "text/html": [
       " View project at <a href='https://wandb.ai/lablia/clip%2Bdmil' target=\"_blank\">https://wandb.ai/lablia/clip%2Bdmil</a>"
      ],
      "text/plain": [
       "<IPython.core.display.HTML object>"
      ]
     },
     "metadata": {},
     "output_type": "display_data"
    },
    {
     "data": {
      "text/html": [
       " View run at <a href='https://wandb.ai/lablia/clip%2Bdmil/runs/bw03cdvo' target=\"_blank\">https://wandb.ai/lablia/clip%2Bdmil/runs/bw03cdvo</a>"
      ],
      "text/plain": [
       "<IPython.core.display.HTML object>"
      ]
     },
     "metadata": {},
     "output_type": "display_data"
    },
    {
     "data": {
      "text/html": [
       "<button onClick=\"this.nextSibling.style.display='block';this.style.display='none';\">Display W&B run</button><iframe src='https://wandb.ai/lablia/clip%2Bdmil/runs/bw03cdvo?jupyter=true' style='border:none;width:100%;height:420px;display:none;'></iframe>"
      ],
      "text/plain": [
       "<wandb.sdk.wandb_run.Run at 0x7f92275df250>"
      ]
     },
     "execution_count": 27,
     "metadata": {},
     "output_type": "execute_result"
    }
   ],
   "source": [
    "wandb.init(\n",
    "    # set the wandb project where this run will be logged\n",
    "    project=\"clip+dmil\",\n",
    "    config=config\n",
    ")"
   ]
  },
  {
   "cell_type": "code",
   "execution_count": 30,
   "metadata": {},
   "outputs": [],
   "source": [
    "\n",
    "opt = optim.Adam(model.parameters(),lr=0.001)"
   ]
  },
  {
   "cell_type": "code",
   "execution_count": 31,
   "metadata": {},
   "outputs": [],
   "source": [
    "scheduler = optim.lr_scheduler.MultiStepLR(opt,milestones=[45,90],gamma=0.1)"
   ]
  },
  {
   "cell_type": "code",
   "execution_count": 32,
   "metadata": {},
   "outputs": [
    {
     "data": {
      "text/plain": [
       "ResNet(\n",
       "  (conv1): Conv2d(3, 64, kernel_size=(3, 3), stride=(1, 1), padding=(1, 1), bias=False)\n",
       "  (bn1): BatchNorm2d(64, eps=1e-05, momentum=0.1, affine=True, track_running_stats=True)\n",
       "  (relu): ReLU(inplace=True)\n",
       "  (maxpool): MaxPool2d(kernel_size=3, stride=2, padding=1, dilation=1, ceil_mode=False)\n",
       "  (layer1): Sequential(\n",
       "    (0): BasicBlock(\n",
       "      (conv1): Conv2d(64, 64, kernel_size=(3, 3), stride=(1, 1), padding=(1, 1), bias=False)\n",
       "      (bn1): BatchNorm2d(64, eps=1e-05, momentum=0.1, affine=True, track_running_stats=True)\n",
       "      (relu): ReLU(inplace=True)\n",
       "      (conv2): Conv2d(64, 64, kernel_size=(3, 3), stride=(1, 1), padding=(1, 1), bias=False)\n",
       "      (bn2): BatchNorm2d(64, eps=1e-05, momentum=0.1, affine=True, track_running_stats=True)\n",
       "      (ca): ChannelAttention(\n",
       "        (avg_pool): AdaptiveAvgPool2d(output_size=1)\n",
       "        (max_pool): AdaptiveMaxPool2d(output_size=1)\n",
       "        (fc1): Conv2d(64, 4, kernel_size=(1, 1), stride=(1, 1), bias=False)\n",
       "        (relu1): ReLU()\n",
       "        (fc2): Conv2d(4, 64, kernel_size=(1, 1), stride=(1, 1), bias=False)\n",
       "        (sigmoid): Sigmoid()\n",
       "      )\n",
       "      (sa): SpatialAttention(\n",
       "        (conv1): Conv2d(2, 1, kernel_size=(7, 7), stride=(1, 1), padding=(3, 3), bias=False)\n",
       "        (sigmoid): Sigmoid()\n",
       "      )\n",
       "    )\n",
       "    (1): BasicBlock(\n",
       "      (conv1): Conv2d(64, 64, kernel_size=(3, 3), stride=(1, 1), padding=(1, 1), bias=False)\n",
       "      (bn1): BatchNorm2d(64, eps=1e-05, momentum=0.1, affine=True, track_running_stats=True)\n",
       "      (relu): ReLU(inplace=True)\n",
       "      (conv2): Conv2d(64, 64, kernel_size=(3, 3), stride=(1, 1), padding=(1, 1), bias=False)\n",
       "      (bn2): BatchNorm2d(64, eps=1e-05, momentum=0.1, affine=True, track_running_stats=True)\n",
       "      (ca): ChannelAttention(\n",
       "        (avg_pool): AdaptiveAvgPool2d(output_size=1)\n",
       "        (max_pool): AdaptiveMaxPool2d(output_size=1)\n",
       "        (fc1): Conv2d(64, 4, kernel_size=(1, 1), stride=(1, 1), bias=False)\n",
       "        (relu1): ReLU()\n",
       "        (fc2): Conv2d(4, 64, kernel_size=(1, 1), stride=(1, 1), bias=False)\n",
       "        (sigmoid): Sigmoid()\n",
       "      )\n",
       "      (sa): SpatialAttention(\n",
       "        (conv1): Conv2d(2, 1, kernel_size=(7, 7), stride=(1, 1), padding=(3, 3), bias=False)\n",
       "        (sigmoid): Sigmoid()\n",
       "      )\n",
       "    )\n",
       "  )\n",
       "  (layer2): Sequential(\n",
       "    (0): BasicBlock(\n",
       "      (conv1): Conv2d(64, 128, kernel_size=(3, 3), stride=(2, 2), padding=(1, 1), bias=False)\n",
       "      (bn1): BatchNorm2d(128, eps=1e-05, momentum=0.1, affine=True, track_running_stats=True)\n",
       "      (relu): ReLU(inplace=True)\n",
       "      (conv2): Conv2d(128, 128, kernel_size=(3, 3), stride=(1, 1), padding=(1, 1), bias=False)\n",
       "      (bn2): BatchNorm2d(128, eps=1e-05, momentum=0.1, affine=True, track_running_stats=True)\n",
       "      (ca): ChannelAttention(\n",
       "        (avg_pool): AdaptiveAvgPool2d(output_size=1)\n",
       "        (max_pool): AdaptiveMaxPool2d(output_size=1)\n",
       "        (fc1): Conv2d(128, 8, kernel_size=(1, 1), stride=(1, 1), bias=False)\n",
       "        (relu1): ReLU()\n",
       "        (fc2): Conv2d(8, 128, kernel_size=(1, 1), stride=(1, 1), bias=False)\n",
       "        (sigmoid): Sigmoid()\n",
       "      )\n",
       "      (sa): SpatialAttention(\n",
       "        (conv1): Conv2d(2, 1, kernel_size=(7, 7), stride=(1, 1), padding=(3, 3), bias=False)\n",
       "        (sigmoid): Sigmoid()\n",
       "      )\n",
       "      (downsample): Sequential(\n",
       "        (0): Conv2d(64, 128, kernel_size=(1, 1), stride=(2, 2), bias=False)\n",
       "        (1): BatchNorm2d(128, eps=1e-05, momentum=0.1, affine=True, track_running_stats=True)\n",
       "      )\n",
       "    )\n",
       "    (1): BasicBlock(\n",
       "      (conv1): Conv2d(128, 128, kernel_size=(3, 3), stride=(1, 1), padding=(1, 1), bias=False)\n",
       "      (bn1): BatchNorm2d(128, eps=1e-05, momentum=0.1, affine=True, track_running_stats=True)\n",
       "      (relu): ReLU(inplace=True)\n",
       "      (conv2): Conv2d(128, 128, kernel_size=(3, 3), stride=(1, 1), padding=(1, 1), bias=False)\n",
       "      (bn2): BatchNorm2d(128, eps=1e-05, momentum=0.1, affine=True, track_running_stats=True)\n",
       "      (ca): ChannelAttention(\n",
       "        (avg_pool): AdaptiveAvgPool2d(output_size=1)\n",
       "        (max_pool): AdaptiveMaxPool2d(output_size=1)\n",
       "        (fc1): Conv2d(128, 8, kernel_size=(1, 1), stride=(1, 1), bias=False)\n",
       "        (relu1): ReLU()\n",
       "        (fc2): Conv2d(8, 128, kernel_size=(1, 1), stride=(1, 1), bias=False)\n",
       "        (sigmoid): Sigmoid()\n",
       "      )\n",
       "      (sa): SpatialAttention(\n",
       "        (conv1): Conv2d(2, 1, kernel_size=(7, 7), stride=(1, 1), padding=(3, 3), bias=False)\n",
       "        (sigmoid): Sigmoid()\n",
       "      )\n",
       "    )\n",
       "  )\n",
       "  (layer3): Sequential(\n",
       "    (0): BasicBlock(\n",
       "      (conv1): Conv2d(128, 256, kernel_size=(3, 3), stride=(2, 2), padding=(1, 1), bias=False)\n",
       "      (bn1): BatchNorm2d(256, eps=1e-05, momentum=0.1, affine=True, track_running_stats=True)\n",
       "      (relu): ReLU(inplace=True)\n",
       "      (conv2): Conv2d(256, 256, kernel_size=(3, 3), stride=(1, 1), padding=(1, 1), bias=False)\n",
       "      (bn2): BatchNorm2d(256, eps=1e-05, momentum=0.1, affine=True, track_running_stats=True)\n",
       "      (ca): ChannelAttention(\n",
       "        (avg_pool): AdaptiveAvgPool2d(output_size=1)\n",
       "        (max_pool): AdaptiveMaxPool2d(output_size=1)\n",
       "        (fc1): Conv2d(256, 16, kernel_size=(1, 1), stride=(1, 1), bias=False)\n",
       "        (relu1): ReLU()\n",
       "        (fc2): Conv2d(16, 256, kernel_size=(1, 1), stride=(1, 1), bias=False)\n",
       "        (sigmoid): Sigmoid()\n",
       "      )\n",
       "      (sa): SpatialAttention(\n",
       "        (conv1): Conv2d(2, 1, kernel_size=(7, 7), stride=(1, 1), padding=(3, 3), bias=False)\n",
       "        (sigmoid): Sigmoid()\n",
       "      )\n",
       "      (downsample): Sequential(\n",
       "        (0): Conv2d(128, 256, kernel_size=(1, 1), stride=(2, 2), bias=False)\n",
       "        (1): BatchNorm2d(256, eps=1e-05, momentum=0.1, affine=True, track_running_stats=True)\n",
       "      )\n",
       "    )\n",
       "    (1): BasicBlock(\n",
       "      (conv1): Conv2d(256, 256, kernel_size=(3, 3), stride=(1, 1), padding=(1, 1), bias=False)\n",
       "      (bn1): BatchNorm2d(256, eps=1e-05, momentum=0.1, affine=True, track_running_stats=True)\n",
       "      (relu): ReLU(inplace=True)\n",
       "      (conv2): Conv2d(256, 256, kernel_size=(3, 3), stride=(1, 1), padding=(1, 1), bias=False)\n",
       "      (bn2): BatchNorm2d(256, eps=1e-05, momentum=0.1, affine=True, track_running_stats=True)\n",
       "      (ca): ChannelAttention(\n",
       "        (avg_pool): AdaptiveAvgPool2d(output_size=1)\n",
       "        (max_pool): AdaptiveMaxPool2d(output_size=1)\n",
       "        (fc1): Conv2d(256, 16, kernel_size=(1, 1), stride=(1, 1), bias=False)\n",
       "        (relu1): ReLU()\n",
       "        (fc2): Conv2d(16, 256, kernel_size=(1, 1), stride=(1, 1), bias=False)\n",
       "        (sigmoid): Sigmoid()\n",
       "      )\n",
       "      (sa): SpatialAttention(\n",
       "        (conv1): Conv2d(2, 1, kernel_size=(7, 7), stride=(1, 1), padding=(3, 3), bias=False)\n",
       "        (sigmoid): Sigmoid()\n",
       "      )\n",
       "    )\n",
       "  )\n",
       "  (layer4): Sequential(\n",
       "    (0): BasicBlock(\n",
       "      (conv1): Conv2d(256, 512, kernel_size=(3, 3), stride=(2, 2), padding=(1, 1), bias=False)\n",
       "      (bn1): BatchNorm2d(512, eps=1e-05, momentum=0.1, affine=True, track_running_stats=True)\n",
       "      (relu): ReLU(inplace=True)\n",
       "      (conv2): Conv2d(512, 512, kernel_size=(3, 3), stride=(1, 1), padding=(1, 1), bias=False)\n",
       "      (bn2): BatchNorm2d(512, eps=1e-05, momentum=0.1, affine=True, track_running_stats=True)\n",
       "      (ca): ChannelAttention(\n",
       "        (avg_pool): AdaptiveAvgPool2d(output_size=1)\n",
       "        (max_pool): AdaptiveMaxPool2d(output_size=1)\n",
       "        (fc1): Conv2d(512, 32, kernel_size=(1, 1), stride=(1, 1), bias=False)\n",
       "        (relu1): ReLU()\n",
       "        (fc2): Conv2d(32, 512, kernel_size=(1, 1), stride=(1, 1), bias=False)\n",
       "        (sigmoid): Sigmoid()\n",
       "      )\n",
       "      (sa): SpatialAttention(\n",
       "        (conv1): Conv2d(2, 1, kernel_size=(7, 7), stride=(1, 1), padding=(3, 3), bias=False)\n",
       "        (sigmoid): Sigmoid()\n",
       "      )\n",
       "      (downsample): Sequential(\n",
       "        (0): Conv2d(256, 512, kernel_size=(1, 1), stride=(2, 2), bias=False)\n",
       "        (1): BatchNorm2d(512, eps=1e-05, momentum=0.1, affine=True, track_running_stats=True)\n",
       "      )\n",
       "    )\n",
       "    (1): BasicBlock(\n",
       "      (conv1): Conv2d(512, 512, kernel_size=(3, 3), stride=(1, 1), padding=(1, 1), bias=False)\n",
       "      (bn1): BatchNorm2d(512, eps=1e-05, momentum=0.1, affine=True, track_running_stats=True)\n",
       "      (relu): ReLU(inplace=True)\n",
       "      (conv2): Conv2d(512, 512, kernel_size=(3, 3), stride=(1, 1), padding=(1, 1), bias=False)\n",
       "      (bn2): BatchNorm2d(512, eps=1e-05, momentum=0.1, affine=True, track_running_stats=True)\n",
       "      (ca): ChannelAttention(\n",
       "        (avg_pool): AdaptiveAvgPool2d(output_size=1)\n",
       "        (max_pool): AdaptiveMaxPool2d(output_size=1)\n",
       "        (fc1): Conv2d(512, 32, kernel_size=(1, 1), stride=(1, 1), bias=False)\n",
       "        (relu1): ReLU()\n",
       "        (fc2): Conv2d(32, 512, kernel_size=(1, 1), stride=(1, 1), bias=False)\n",
       "        (sigmoid): Sigmoid()\n",
       "      )\n",
       "      (sa): SpatialAttention(\n",
       "        (conv1): Conv2d(2, 1, kernel_size=(7, 7), stride=(1, 1), padding=(3, 3), bias=False)\n",
       "        (sigmoid): Sigmoid()\n",
       "      )\n",
       "    )\n",
       "  )\n",
       "  (feature): AvgPool2d(kernel_size=4, stride=1, padding=0)\n",
       "  (fc): Linear(in_features=512, out_features=512, bias=True)\n",
       ")"
      ]
     },
     "execution_count": 32,
     "metadata": {},
     "output_type": "execute_result"
    }
   ],
   "source": [
    "model.to(device)"
   ]
  },
  {
   "cell_type": "code",
   "execution_count": 33,
   "metadata": {},
   "outputs": [],
   "source": [
    "emb_batch = model(x.to(device))"
   ]
  },
  {
   "cell_type": "code",
   "execution_count": 34,
   "metadata": {},
   "outputs": [],
   "source": [
    "from sklearn.manifold import TSNE"
   ]
  },
  {
   "cell_type": "code",
   "execution_count": 35,
   "metadata": {},
   "outputs": [],
   "source": [
    "# given a batch of instances create a surrounding sample of instances\n",
    "def create_surrounding_batch(batch,batch_y, num_surrounding=100, size=0.001):\n",
    "    surrounding_batch = []\n",
    "    surrounding_batch_y = []\n",
    "    for i in range(len(batch)):\n",
    "        \n",
    "        instances_sorrounding = batch[i]+(torch.randn(num_surrounding,512)*size).to(batch.device)\n",
    "        surrounding_batch.append(instances_sorrounding)\n",
    "        surrounding_batch_y.append(batch_y[i].repeat(num_surrounding))\n",
    "    return torch.cat(surrounding_batch), torch.cat(surrounding_batch_y)"
   ]
  },
  {
   "cell_type": "code",
   "execution_count": 36,
   "metadata": {},
   "outputs": [],
   "source": [
    "batch_emb, batch_y = create_surrounding_batch(emb_batch,y)"
   ]
  },
  {
   "cell_type": "code",
   "execution_count": 37,
   "metadata": {},
   "outputs": [
    {
     "data": {
      "text/plain": [
       "torch.Size([6400, 512])"
      ]
     },
     "execution_count": 37,
     "metadata": {},
     "output_type": "execute_result"
    }
   ],
   "source": [
    "batch_emb.shape"
   ]
  },
  {
   "cell_type": "code",
   "execution_count": 38,
   "metadata": {},
   "outputs": [
    {
     "data": {
      "text/plain": [
       "torch.Size([6400])"
      ]
     },
     "execution_count": 38,
     "metadata": {},
     "output_type": "execute_result"
    }
   ],
   "source": [
    "batch_y.shape"
   ]
  },
  {
   "cell_type": "code",
   "execution_count": 39,
   "metadata": {},
   "outputs": [
    {
     "name": "stdout",
     "output_type": "stream",
     "text": [
      "[t-SNE] Computing 91 nearest neighbors...\n",
      "[t-SNE] Indexed 6400 samples in 0.003s...\n",
      "[t-SNE] Computed neighbors for 6400 samples in 0.792s...\n",
      "[t-SNE] Computed conditional probabilities for sample 1000 / 6400\n",
      "[t-SNE] Computed conditional probabilities for sample 2000 / 6400\n",
      "[t-SNE] Computed conditional probabilities for sample 3000 / 6400\n",
      "[t-SNE] Computed conditional probabilities for sample 4000 / 6400\n",
      "[t-SNE] Computed conditional probabilities for sample 5000 / 6400\n",
      "[t-SNE] Computed conditional probabilities for sample 6000 / 6400\n",
      "[t-SNE] Computed conditional probabilities for sample 6400 / 6400\n",
      "[t-SNE] Mean sigma: 0.005540\n",
      "[t-SNE] KL divergence after 250 iterations with early exaggeration: 54.252884\n",
      "[t-SNE] KL divergence after 1000 iterations: 0.935422\n"
     ]
    }
   ],
   "source": [
    "\n",
    "tsne = TSNE(2, verbose=1)\n",
    "tsne_proj = tsne.fit_transform(batch_emb.to('cpu').detach().numpy())"
   ]
  },
  {
   "cell_type": "code",
   "execution_count": 40,
   "metadata": {},
   "outputs": [],
   "source": [
    "from matplotlib import cm\n",
    "import matplotlib.pyplot as plt"
   ]
  },
  {
   "cell_type": "code",
   "execution_count": null,
   "metadata": {},
   "outputs": [],
   "source": []
  },
  {
   "cell_type": "code",
   "execution_count": 41,
   "metadata": {},
   "outputs": [],
   "source": [
    "def tsne_proj(batch_emb, batch_y):\n",
    "    tsne = TSNE(2, verbose=1)\n",
    "    tsne_proj = tsne.fit_transform(batch_emb.to('cpu').detach().numpy())\n",
    "    cmap = cm.get_cmap('tab10')\n",
    "    fig, ax = plt.subplots(figsize=(15,15))\n",
    "    num_categories = 100\n",
    "    for lab in range(num_categories):\n",
    "        if lab in batch_y:\n",
    "            indices = batch_y==lab\n",
    "            ax.scatter(tsne_proj[indices,0],tsne_proj[indices,1], c=np.array(cmap(lab)).reshape(1,4), label = lab ,alpha=0.5)\n",
    "    ax.legend(fontsize='large', markerscale=2)\n",
    "    plt.show()"
   ]
  },
  {
   "cell_type": "code",
   "execution_count": 42,
   "metadata": {},
   "outputs": [
    {
     "name": "stdout",
     "output_type": "stream",
     "text": [
      "[t-SNE] Computing 91 nearest neighbors...\n",
      "[t-SNE] Indexed 6400 samples in 0.003s...\n",
      "[t-SNE] Computed neighbors for 6400 samples in 0.637s...\n",
      "[t-SNE] Computed conditional probabilities for sample 1000 / 6400\n",
      "[t-SNE] Computed conditional probabilities for sample 2000 / 6400\n",
      "[t-SNE] Computed conditional probabilities for sample 3000 / 6400\n",
      "[t-SNE] Computed conditional probabilities for sample 4000 / 6400\n",
      "[t-SNE] Computed conditional probabilities for sample 5000 / 6400\n",
      "[t-SNE] Computed conditional probabilities for sample 6000 / 6400\n",
      "[t-SNE] Computed conditional probabilities for sample 6400 / 6400\n",
      "[t-SNE] Mean sigma: 0.005540\n",
      "[t-SNE] KL divergence after 250 iterations with early exaggeration: 54.225994\n",
      "[t-SNE] KL divergence after 1000 iterations: 0.932839\n"
     ]
    },
    {
     "name": "stderr",
     "output_type": "stream",
     "text": [
      "/tmp/ipykernel_142844/3286734825.py:4: MatplotlibDeprecationWarning: The get_cmap function was deprecated in Matplotlib 3.7 and will be removed two minor releases later. Use ``matplotlib.colormaps[name]`` or ``matplotlib.colormaps.get_cmap(obj)`` instead.\n",
      "  cmap = cm.get_cmap('tab10')\n"
     ]
    },
    {
     "data": {
      "image/png": "[encoded data removed]",
      "text/plain": [
       "<Figure size 1500x1500 with 1 Axes>"
      ]
     },
     "metadata": {},
     "output_type": "display_data"
    }
   ],
   "source": [
    "tsne_proj(batch_emb,batch_y)"
   ]
  },
  {
   "cell_type": "code",
   "execution_count": 43,
   "metadata": {},
   "outputs": [],
   "source": [
    "def get_embeddings(lmodel,dl):\n",
    "    lmodel.to(device)\n",
    "    loop = tqdm(dl)\n",
    "    lpred = []\n",
    "    ly = []\n",
    "    with torch.no_grad():\n",
    "        for x,y in loop:\n",
    "            x = x.to(device)\n",
    "            y = y.to(device)\n",
    "            pred = lmodel(x)\n",
    "            lpred = lpred+pred.tolist()\n",
    "            ly    = ly + y.tolist()\n",
    "    return lpred,ly"
   ]
  },
  {
   "cell_type": "code",
   "execution_count": 44,
   "metadata": {},
   "outputs": [],
   "source": [
    "import sklearn.neighbors as neighbors"
   ]
  },
  {
   "cell_type": "code",
   "execution_count": 45,
   "metadata": {},
   "outputs": [],
   "source": [
    "from sklearn.metrics import classification_report"
   ]
  },
  {
   "cell_type": "code",
   "execution_count": 46,
   "metadata": {},
   "outputs": [],
   "source": [
    "def pred_knn_model(model,dl_local_train,dl_local_test):\n",
    "    train_emb,train_y = get_embeddings(model,dl_local_train)\n",
    "    test_emb,test_y   = get_embeddings(model,dl_local_test)\n",
    "    train_emb  = np.array(train_emb)\n",
    "    train_y    = np.array(train_y)\n",
    "    test_emb   = np.array(test_emb)\n",
    "    test_y     = np.array(test_y)\n",
    "    clf = neighbors.KNeighborsClassifier(n_neighbors=1,weights='distance')\n",
    "    clf.fit(train_emb,train_y.T)\n",
    "    pred = clf.predict(test_emb)\n",
    "    return pred,test_y\n"
   ]
  },
  {
   "cell_type": "code",
   "execution_count": 47,
   "metadata": {},
   "outputs": [
    {
     "name": "stderr",
     "output_type": "stream",
     "text": [
      "100%|██████████| 5/5 [00:00<00:00, 38.05it/s]\n",
      "100%|██████████| 5/5 [00:00<00:00, 53.08it/s]\n"
     ]
    }
   ],
   "source": [
    "pred,test_y = pred_knn_model(model,dl_sub_train,dl_sub_test)"
   ]
  },
  {
   "cell_type": "code",
   "execution_count": 48,
   "metadata": {},
   "outputs": [
    {
     "data": {
      "text/plain": [
       "((300,), (300,))"
      ]
     },
     "execution_count": 48,
     "metadata": {},
     "output_type": "execute_result"
    }
   ],
   "source": [
    "pred.shape,test_y.T.shape"
   ]
  },
  {
   "cell_type": "code",
   "execution_count": 49,
   "metadata": {},
   "outputs": [
    {
     "name": "stdout",
     "output_type": "stream",
     "text": [
      "              precision    recall  f1-score   support\n",
      "\n",
      "           0       0.12      0.20      0.15         5\n",
      "           2       0.00      0.00      0.00         7\n",
      "           3       0.13      0.40      0.20        10\n",
      "           5       0.25      0.20      0.22         5\n",
      "           6       0.06      0.12      0.08         8\n",
      "          13       0.00      0.00      0.00         3\n",
      "          15       0.00      0.00      0.00         5\n",
      "          20       0.00      0.00      0.00         7\n",
      "          22       0.00      0.00      0.00         8\n",
      "          23       0.57      0.44      0.50         9\n",
      "          24       0.20      0.67      0.31         3\n",
      "          26       0.00      0.00      0.00         8\n",
      "          28       0.00      0.00      0.00         6\n",
      "          29       0.00      0.00      0.00         7\n",
      "          30       0.22      0.25      0.24         8\n",
      "          31       0.11      0.12      0.12         8\n",
      "          32       0.00      0.00      0.00         5\n",
      "          33       0.00      0.00      0.00         7\n",
      "          34       0.00      0.00      0.00         5\n",
      "          40       0.00      0.00      0.00         4\n",
      "          41       0.00      0.00      0.00         6\n",
      "          42       0.00      0.00      0.00         2\n",
      "          43       0.00      0.00      0.00         8\n",
      "          44       0.00      0.00      0.00         7\n",
      "          45       0.00      0.00      0.00         2\n",
      "          47       0.00      0.00      0.00         6\n",
      "          49       0.00      0.00      0.00         6\n",
      "          54       0.00      0.00      0.00         5\n",
      "          56       0.00      0.00      0.00         8\n",
      "          57       0.00      0.00      0.00         3\n",
      "          60       0.00      0.00      0.00         3\n",
      "          61       0.10      0.12      0.11         8\n",
      "          62       0.00      0.00      0.00         3\n",
      "          63       0.00      0.00      0.00         5\n",
      "          65       0.00      0.00      0.00         6\n",
      "          67       0.00      0.00      0.00         8\n",
      "          68       0.00      0.00      0.00         1\n",
      "          71       0.00      0.00      0.00         5\n",
      "          72       0.00      0.00      0.00         6\n",
      "          73       0.71      0.56      0.63         9\n",
      "          78       0.00      0.00      0.00         2\n",
      "          82       0.33      0.11      0.17         9\n",
      "          83       0.12      0.14      0.13         7\n",
      "          87       0.00      0.00      0.00         9\n",
      "          90       0.10      0.40      0.16         5\n",
      "          91       0.12      0.11      0.12         9\n",
      "          94       0.00      0.00      0.00         7\n",
      "          97       0.00      0.00      0.00         4\n",
      "          98       0.00      0.00      0.00         6\n",
      "          99       0.00      0.00      0.00         7\n",
      "\n",
      "    accuracy                           0.09       300\n",
      "   macro avg       0.06      0.08      0.06       300\n",
      "weighted avg       0.08      0.09      0.08       300\n",
      "\n"
     ]
    },
    {
     "name": "stderr",
     "output_type": "stream",
     "text": [
      "/usr/local/lib/python3.10/dist-packages/sklearn/metrics/_classification.py:1344: UndefinedMetricWarning: Precision and F-score are ill-defined and being set to 0.0 in labels with no predicted samples. Use `zero_division` parameter to control this behavior.\n",
      "  _warn_prf(average, modifier, msg_start, len(result))\n",
      "/usr/local/lib/python3.10/dist-packages/sklearn/metrics/_classification.py:1344: UndefinedMetricWarning: Precision and F-score are ill-defined and being set to 0.0 in labels with no predicted samples. Use `zero_division` parameter to control this behavior.\n",
      "  _warn_prf(average, modifier, msg_start, len(result))\n",
      "/usr/local/lib/python3.10/dist-packages/sklearn/metrics/_classification.py:1344: UndefinedMetricWarning: Precision and F-score are ill-defined and being set to 0.0 in labels with no predicted samples. Use `zero_division` parameter to control this behavior.\n",
      "  _warn_prf(average, modifier, msg_start, len(result))\n"
     ]
    }
   ],
   "source": [
    "print(classification_report(test_y.T,pred))"
   ]
  },
  {
   "cell_type": "code",
   "execution_count": 50,
   "metadata": {},
   "outputs": [],
   "source": [
    "import sklearn.metrics as metrics"
   ]
  },
  {
   "cell_type": "code",
   "execution_count": 51,
   "metadata": {},
   "outputs": [
    {
     "name": "stderr",
     "output_type": "stream",
     "text": [
      "100%|██████████| 391/391 [00:17<00:00, 21.94it/s]\n",
      "100%|██████████| 5/5 [00:00<00:00, 59.23it/s]\n",
      "100%|██████████| 5/5 [00:00<00:00, 50.74it/s]\n",
      "/usr/local/lib/python3.10/dist-packages/sklearn/metrics/_classification.py:1344: UndefinedMetricWarning: Precision is ill-defined and being set to 0.0 in labels with no predicted samples. Use `zero_division` parameter to control this behavior.\n",
      "  _warn_prf(average, modifier, msg_start, len(result))\n",
      "/usr/local/lib/python3.10/dist-packages/sklearn/metrics/_classification.py:1344: UndefinedMetricWarning: Precision and F-score are ill-defined and being set to 0.0 in labels with no predicted samples. Use `zero_division` parameter to control this behavior.\n",
      "  _warn_prf(average, modifier, msg_start, len(result))\n",
      "/usr/local/lib/python3.10/dist-packages/sklearn/metrics/_classification.py:1344: UndefinedMetricWarning: Precision and F-score are ill-defined and being set to 0.0 in labels with no predicted samples. Use `zero_division` parameter to control this behavior.\n",
      "  _warn_prf(average, modifier, msg_start, len(result))\n",
      "/usr/local/lib/python3.10/dist-packages/sklearn/metrics/_classification.py:1344: UndefinedMetricWarning: Precision and F-score are ill-defined and being set to 0.0 in labels with no predicted samples. Use `zero_division` parameter to control this behavior.\n",
      "  _warn_prf(average, modifier, msg_start, len(result))\n"
     ]
    },
    {
     "name": "stdout",
     "output_type": "stream",
     "text": [
      "              precision    recall  f1-score   support\n",
      "\n",
      "           0       0.14      0.20      0.17         5\n",
      "           2       0.10      0.14      0.12         7\n",
      "           3       0.07      0.10      0.08        10\n",
      "           5       0.00      0.00      0.00         5\n",
      "           6       0.27      0.38      0.32         8\n",
      "          13       0.00      0.00      0.00         3\n",
      "          15       0.00      0.00      0.00         5\n",
      "          20       0.67      0.29      0.40         7\n",
      "          22       0.00      0.00      0.00         8\n",
      "          23       0.60      0.33      0.43         9\n",
      "          24       0.50      1.00      0.67         3\n",
      "          26       0.00      0.00      0.00         8\n",
      "          28       0.33      0.17      0.22         6\n",
      "          29       0.00      0.00      0.00         7\n",
      "          30       0.42      0.62      0.50         8\n",
      "          31       0.18      0.25      0.21         8\n",
      "          32       0.20      0.20      0.20         5\n",
      "          33       1.00      0.14      0.25         7\n",
      "          34       0.00      0.00      0.00         5\n",
      "          40       0.25      0.25      0.25         4\n",
      "          41       0.80      0.67      0.73         6\n",
      "          42       0.00      0.00      0.00         2\n",
      "          43       0.00      0.00      0.00         8\n",
      "          44       0.10      0.14      0.12         7\n",
      "          45       0.08      0.50      0.13         2\n",
      "          47       0.44      0.67      0.53         6\n",
      "          49       0.25      0.17      0.20         6\n",
      "          54       0.67      0.40      0.50         5\n",
      "          56       0.17      0.12      0.14         8\n",
      "          57       0.00      0.00      0.00         3\n",
      "          60       0.00      0.00      0.00         3\n",
      "          61       0.08      0.12      0.10         8\n",
      "          62       0.00      0.00      0.00         3\n",
      "          63       0.00      0.00      0.00         5\n",
      "          65       0.00      0.00      0.00         6\n",
      "          67       0.00      0.00      0.00         8\n",
      "          68       0.00      0.00      0.00         1\n",
      "          71       0.00      0.00      0.00         5\n",
      "          72       0.00      0.00      0.00         6\n",
      "          73       0.57      0.44      0.50         9\n",
      "          78       0.00      0.00      0.00         2\n",
      "          82       0.75      0.33      0.46         9\n",
      "          83       0.17      0.29      0.21         7\n",
      "          87       0.43      0.33      0.38         9\n",
      "          90       0.07      0.20      0.11         5\n",
      "          91       0.17      0.22      0.19         9\n",
      "          94       1.00      0.14      0.25         7\n",
      "          97       0.33      0.25      0.29         4\n",
      "          98       0.00      0.00      0.00         6\n",
      "          99       0.00      0.00      0.00         7\n",
      "\n",
      "    accuracy                           0.19       300\n",
      "   macro avg       0.22      0.18      0.17       300\n",
      "weighted avg       0.25      0.19      0.19       300\n",
      "\n",
      "loss 33.61375128704569\n"
     ]
    },
    {
     "name": "stderr",
     "output_type": "stream",
     "text": [
      "100%|██████████| 391/391 [00:17<00:00, 22.56it/s]\n"
     ]
    },
    {
     "name": "stdout",
     "output_type": "stream",
     "text": [
      "loss 32.0874431932064\n"
     ]
    },
    {
     "name": "stderr",
     "output_type": "stream",
     "text": [
      "100%|██████████| 391/391 [00:17<00:00, 22.50it/s]\n"
     ]
    },
    {
     "name": "stdout",
     "output_type": "stream",
     "text": [
      "loss 29.968711653024034\n"
     ]
    },
    {
     "name": "stderr",
     "output_type": "stream",
     "text": [
      "100%|██████████| 391/391 [00:17<00:00, 22.54it/s]\n"
     ]
    },
    {
     "name": "stdout",
     "output_type": "stream",
     "text": [
      "loss 27.3340832254161\n"
     ]
    },
    {
     "name": "stderr",
     "output_type": "stream",
     "text": [
      "100%|██████████| 391/391 [00:17<00:00, 22.57it/s]\n"
     ]
    },
    {
     "name": "stdout",
     "output_type": "stream",
     "text": [
      "loss 24.390298004345517\n"
     ]
    },
    {
     "name": "stderr",
     "output_type": "stream",
     "text": [
      "100%|██████████| 391/391 [00:17<00:00, 22.72it/s]\n"
     ]
    },
    {
     "name": "stdout",
     "output_type": "stream",
     "text": [
      "loss 21.286923015818875\n"
     ]
    },
    {
     "name": "stderr",
     "output_type": "stream",
     "text": [
      "100%|██████████| 391/391 [00:17<00:00, 22.72it/s]\n"
     ]
    },
    {
     "name": "stdout",
     "output_type": "stream",
     "text": [
      "loss 18.10862755104709\n"
     ]
    },
    {
     "name": "stderr",
     "output_type": "stream",
     "text": [
      "100%|██████████| 391/391 [00:17<00:00, 22.65it/s]\n"
     ]
    },
    {
     "name": "stdout",
     "output_type": "stream",
     "text": [
      "loss 14.893055603632233\n"
     ]
    },
    {
     "name": "stderr",
     "output_type": "stream",
     "text": [
      "100%|██████████| 391/391 [00:17<00:00, 22.58it/s]\n"
     ]
    },
    {
     "name": "stdout",
     "output_type": "stream",
     "text": [
      "loss 11.718341839587902\n"
     ]
    },
    {
     "name": "stderr",
     "output_type": "stream",
     "text": [
      "100%|██████████| 391/391 [00:17<00:00, 22.60it/s]\n"
     ]
    },
    {
     "name": "stdout",
     "output_type": "stream",
     "text": [
      "loss 8.799209620336743\n"
     ]
    },
    {
     "name": "stderr",
     "output_type": "stream",
     "text": [
      "100%|██████████| 391/391 [00:17<00:00, 22.74it/s]\n",
      "100%|██████████| 5/5 [00:00<00:00, 59.95it/s]\n",
      "100%|██████████| 5/5 [00:00<00:00, 59.11it/s]\n",
      "/usr/local/lib/python3.10/dist-packages/sklearn/metrics/_classification.py:1344: UndefinedMetricWarning: Precision is ill-defined and being set to 0.0 in labels with no predicted samples. Use `zero_division` parameter to control this behavior.\n",
      "  _warn_prf(average, modifier, msg_start, len(result))\n",
      "/usr/local/lib/python3.10/dist-packages/sklearn/metrics/_classification.py:1344: UndefinedMetricWarning: Precision and F-score are ill-defined and being set to 0.0 in labels with no predicted samples. Use `zero_division` parameter to control this behavior.\n",
      "  _warn_prf(average, modifier, msg_start, len(result))\n",
      "/usr/local/lib/python3.10/dist-packages/sklearn/metrics/_classification.py:1344: UndefinedMetricWarning: Precision and F-score are ill-defined and being set to 0.0 in labels with no predicted samples. Use `zero_division` parameter to control this behavior.\n",
      "  _warn_prf(average, modifier, msg_start, len(result))\n",
      "/usr/local/lib/python3.10/dist-packages/sklearn/metrics/_classification.py:1344: UndefinedMetricWarning: Precision and F-score are ill-defined and being set to 0.0 in labels with no predicted samples. Use `zero_division` parameter to control this behavior.\n",
      "  _warn_prf(average, modifier, msg_start, len(result))\n"
     ]
    },
    {
     "name": "stdout",
     "output_type": "stream",
     "text": [
      "              precision    recall  f1-score   support\n",
      "\n",
      "           0       1.00      1.00      1.00         5\n",
      "           2       1.00      0.14      0.25         7\n",
      "           3       0.38      0.80      0.52        10\n",
      "           5       1.00      0.60      0.75         5\n",
      "           6       1.00      0.75      0.86         8\n",
      "          13       1.00      0.67      0.80         3\n",
      "          15       1.00      0.20      0.33         5\n",
      "          20       1.00      0.57      0.73         7\n",
      "          22       0.50      0.62      0.56         8\n",
      "          23       1.00      0.56      0.71         9\n",
      "          24       0.60      1.00      0.75         3\n",
      "          26       0.71      0.62      0.67         8\n",
      "          28       1.00      1.00      1.00         6\n",
      "          29       1.00      0.86      0.92         7\n",
      "          30       0.55      0.75      0.63         8\n",
      "          31       0.83      0.62      0.71         8\n",
      "          32       0.12      0.20      0.15         5\n",
      "          33       0.50      0.14      0.22         7\n",
      "          34       0.67      0.80      0.73         5\n",
      "          40       0.00      0.00      0.00         4\n",
      "          41       1.00      0.50      0.67         6\n",
      "          42       0.50      0.50      0.50         2\n",
      "          43       1.00      0.50      0.67         8\n",
      "          44       0.14      0.57      0.22         7\n",
      "          45       0.29      1.00      0.44         2\n",
      "          47       0.86      1.00      0.92         6\n",
      "          49       0.46      1.00      0.63         6\n",
      "          54       1.00      0.40      0.57         5\n",
      "          56       1.00      0.62      0.77         8\n",
      "          57       0.67      0.67      0.67         3\n",
      "          60       0.00      0.00      0.00         3\n",
      "          61       1.00      0.75      0.86         8\n",
      "          62       0.75      1.00      0.86         3\n",
      "          63       1.00      0.40      0.57         5\n",
      "          65       0.40      0.33      0.36         6\n",
      "          67       0.25      0.62      0.36         8\n",
      "          68       0.00      0.00      0.00         1\n",
      "          71       0.33      0.20      0.25         5\n",
      "          72       0.17      0.17      0.17         6\n",
      "          73       0.43      0.33      0.38         9\n",
      "          78       0.20      0.50      0.29         2\n",
      "          82       1.00      0.78      0.88         9\n",
      "          83       0.71      0.71      0.71         7\n",
      "          87       1.00      0.78      0.88         9\n",
      "          90       1.00      0.80      0.89         5\n",
      "          91       0.46      0.67      0.55         9\n",
      "          94       1.00      0.86      0.92         7\n",
      "          97       1.00      0.25      0.40         4\n",
      "          98       0.00      0.00      0.00         6\n",
      "          99       0.75      0.43      0.55         7\n",
      "\n",
      "    accuracy                           0.58       300\n",
      "   macro avg       0.66      0.57      0.56       300\n",
      "weighted avg       0.70      0.58      0.59       300\n",
      "\n",
      "loss 6.089105785960126\n"
     ]
    },
    {
     "name": "stderr",
     "output_type": "stream",
     "text": [
      "100%|██████████| 391/391 [00:17<00:00, 22.68it/s]\n"
     ]
    },
    {
     "name": "stdout",
     "output_type": "stream",
     "text": [
      "loss 3.9960883076843396\n"
     ]
    },
    {
     "name": "stderr",
     "output_type": "stream",
     "text": [
      "100%|██████████| 391/391 [00:17<00:00, 22.66it/s]\n"
     ]
    },
    {
     "name": "stdout",
     "output_type": "stream",
     "text": [
      "loss 2.5949658322364777\n"
     ]
    },
    {
     "name": "stderr",
     "output_type": "stream",
     "text": [
      "100%|██████████| 391/391 [00:17<00:00, 22.71it/s]\n"
     ]
    },
    {
     "name": "stdout",
     "output_type": "stream",
     "text": [
      "loss 1.785125861844748\n"
     ]
    },
    {
     "name": "stderr",
     "output_type": "stream",
     "text": [
      "100%|██████████| 391/391 [00:17<00:00, 22.75it/s]\n"
     ]
    },
    {
     "name": "stdout",
     "output_type": "stream",
     "text": [
      "loss 1.553470971334316\n"
     ]
    },
    {
     "name": "stderr",
     "output_type": "stream",
     "text": [
      "100%|██████████| 391/391 [00:17<00:00, 22.64it/s]\n"
     ]
    },
    {
     "name": "stdout",
     "output_type": "stream",
     "text": [
      "loss 1.2031682366981644\n"
     ]
    },
    {
     "name": "stderr",
     "output_type": "stream",
     "text": [
      "100%|██████████| 391/391 [00:17<00:00, 22.71it/s]\n"
     ]
    },
    {
     "name": "stdout",
     "output_type": "stream",
     "text": [
      "loss 1.035032691429262\n"
     ]
    },
    {
     "name": "stderr",
     "output_type": "stream",
     "text": [
      "100%|██████████| 391/391 [00:17<00:00, 22.95it/s]\n"
     ]
    },
    {
     "name": "stdout",
     "output_type": "stream",
     "text": [
      "loss 0.9336142995635338\n"
     ]
    },
    {
     "name": "stderr",
     "output_type": "stream",
     "text": [
      "100%|██████████| 391/391 [00:17<00:00, 22.80it/s]\n"
     ]
    },
    {
     "name": "stdout",
     "output_type": "stream",
     "text": [
      "loss 0.9817963670748655\n"
     ]
    },
    {
     "name": "stderr",
     "output_type": "stream",
     "text": [
      "100%|██████████| 391/391 [00:17<00:00, 22.91it/s]\n"
     ]
    },
    {
     "name": "stdout",
     "output_type": "stream",
     "text": [
      "loss 0.9072338452448359\n"
     ]
    },
    {
     "name": "stderr",
     "output_type": "stream",
     "text": [
      "100%|██████████| 391/391 [00:17<00:00, 22.83it/s]\n",
      "100%|██████████| 5/5 [00:00<00:00, 60.69it/s]\n",
      "100%|██████████| 5/5 [00:00<00:00, 59.62it/s]\n"
     ]
    },
    {
     "name": "stdout",
     "output_type": "stream",
     "text": [
      "              precision    recall  f1-score   support\n",
      "\n",
      "           0       0.50      1.00      0.67         5\n",
      "           2       0.67      0.29      0.40         7\n",
      "           3       1.00      0.60      0.75        10\n",
      "           5       1.00      0.20      0.33         5\n",
      "           6       0.86      0.75      0.80         8\n",
      "          13       1.00      0.33      0.50         3\n",
      "          15       0.33      0.20      0.25         5\n",
      "          20       1.00      0.71      0.83         7\n",
      "          22       0.71      0.62      0.67         8\n",
      "          23       0.73      0.89      0.80         9\n",
      "          24       0.75      1.00      0.86         3\n",
      "          26       0.75      0.38      0.50         8\n",
      "          28       0.86      1.00      0.92         6\n",
      "          29       1.00      0.57      0.73         7\n",
      "          30       0.60      0.75      0.67         8\n",
      "          31       0.50      0.75      0.60         8\n",
      "          32       0.00      0.00      0.00         5\n",
      "          33       1.00      0.29      0.44         7\n",
      "          34       1.00      0.80      0.89         5\n",
      "          40       1.00      0.25      0.40         4\n",
      "          41       1.00      0.50      0.67         6\n",
      "          42       0.33      0.50      0.40         2\n",
      "          43       1.00      0.50      0.67         8\n",
      "          44       0.38      0.43      0.40         7\n",
      "          45       1.00      0.50      0.67         2\n",
      "          47       0.86      1.00      0.92         6\n",
      "          49       0.86      1.00      0.92         6\n",
      "          54       1.00      0.20      0.33         5\n",
      "          56       1.00      0.50      0.67         8\n",
      "          57       1.00      0.67      0.80         3\n",
      "          60       0.33      0.33      0.33         3\n",
      "          61       1.00      0.62      0.77         8\n",
      "          62       0.50      1.00      0.67         3\n",
      "          63       0.67      0.40      0.50         5\n",
      "          65       0.25      0.33      0.29         6\n",
      "          67       0.60      0.38      0.46         8\n",
      "          68       0.00      0.00      0.00         1\n",
      "          71       0.33      0.20      0.25         5\n",
      "          72       0.50      0.17      0.25         6\n",
      "          73       0.06      0.44      0.10         9\n",
      "          78       0.50      0.50      0.50         2\n",
      "          82       1.00      0.89      0.94         9\n",
      "          83       1.00      0.57      0.73         7\n",
      "          87       0.75      0.67      0.71         9\n",
      "          90       0.80      0.80      0.80         5\n",
      "          91       0.83      0.56      0.67         9\n",
      "          94       1.00      0.71      0.83         7\n",
      "          97       0.67      0.50      0.57         4\n",
      "          98       0.33      0.17      0.22         6\n",
      "          99       0.67      0.29      0.40         7\n",
      "\n",
      "    accuracy                           0.55       300\n",
      "   macro avg       0.71      0.53      0.57       300\n",
      "weighted avg       0.74      0.55      0.59       300\n",
      "\n",
      "loss 0.8176621405760307\n"
     ]
    },
    {
     "name": "stderr",
     "output_type": "stream",
     "text": [
      "100%|██████████| 391/391 [00:17<00:00, 22.75it/s]\n"
     ]
    },
    {
     "name": "stdout",
     "output_type": "stream",
     "text": [
      "loss 0.7275156628392885\n"
     ]
    },
    {
     "name": "stderr",
     "output_type": "stream",
     "text": [
      "100%|██████████| 391/391 [00:17<00:00, 22.90it/s]\n"
     ]
    },
    {
     "name": "stdout",
     "output_type": "stream",
     "text": [
      "loss 0.7243167243997954\n"
     ]
    },
    {
     "name": "stderr",
     "output_type": "stream",
     "text": [
      "100%|██████████| 391/391 [00:17<00:00, 22.86it/s]\n"
     ]
    },
    {
     "name": "stdout",
     "output_type": "stream",
     "text": [
      "loss 0.7043168081680451\n"
     ]
    },
    {
     "name": "stderr",
     "output_type": "stream",
     "text": [
      "100%|██████████| 391/391 [00:17<00:00, 22.81it/s]\n"
     ]
    },
    {
     "name": "stdout",
     "output_type": "stream",
     "text": [
      "loss 0.6277011334592395\n"
     ]
    },
    {
     "name": "stderr",
     "output_type": "stream",
     "text": [
      "100%|██████████| 391/391 [00:17<00:00, 22.83it/s]\n"
     ]
    },
    {
     "name": "stdout",
     "output_type": "stream",
     "text": [
      "loss 0.576544906766585\n"
     ]
    },
    {
     "name": "stderr",
     "output_type": "stream",
     "text": [
      "100%|██████████| 391/391 [00:17<00:00, 22.66it/s]\n"
     ]
    },
    {
     "name": "stdout",
     "output_type": "stream",
     "text": [
      "loss 0.5429010489863841\n"
     ]
    },
    {
     "name": "stderr",
     "output_type": "stream",
     "text": [
      "100%|██████████| 391/391 [00:17<00:00, 22.85it/s]\n"
     ]
    },
    {
     "name": "stdout",
     "output_type": "stream",
     "text": [
      "loss 0.5898205803527409\n"
     ]
    },
    {
     "name": "stderr",
     "output_type": "stream",
     "text": [
      "100%|██████████| 391/391 [00:17<00:00, 22.89it/s]\n"
     ]
    },
    {
     "name": "stdout",
     "output_type": "stream",
     "text": [
      "loss 0.5968791893242723\n"
     ]
    },
    {
     "name": "stderr",
     "output_type": "stream",
     "text": [
      "100%|██████████| 391/391 [00:17<00:00, 22.90it/s]\n"
     ]
    },
    {
     "name": "stdout",
     "output_type": "stream",
     "text": [
      "loss 0.5379592279749958\n"
     ]
    },
    {
     "name": "stderr",
     "output_type": "stream",
     "text": [
      "100%|██████████| 391/391 [00:17<00:00, 22.81it/s]\n",
      "100%|██████████| 5/5 [00:00<00:00, 60.13it/s]\n",
      "100%|██████████| 5/5 [00:00<00:00, 58.83it/s]\n",
      "/usr/local/lib/python3.10/dist-packages/sklearn/metrics/_classification.py:1344: UndefinedMetricWarning: Precision is ill-defined and being set to 0.0 in labels with no predicted samples. Use `zero_division` parameter to control this behavior.\n",
      "  _warn_prf(average, modifier, msg_start, len(result))\n",
      "/usr/local/lib/python3.10/dist-packages/sklearn/metrics/_classification.py:1344: UndefinedMetricWarning: Precision and F-score are ill-defined and being set to 0.0 in labels with no predicted samples. Use `zero_division` parameter to control this behavior.\n",
      "  _warn_prf(average, modifier, msg_start, len(result))\n",
      "/usr/local/lib/python3.10/dist-packages/sklearn/metrics/_classification.py:1344: UndefinedMetricWarning: Precision and F-score are ill-defined and being set to 0.0 in labels with no predicted samples. Use `zero_division` parameter to control this behavior.\n",
      "  _warn_prf(average, modifier, msg_start, len(result))\n",
      "/usr/local/lib/python3.10/dist-packages/sklearn/metrics/_classification.py:1344: UndefinedMetricWarning: Precision and F-score are ill-defined and being set to 0.0 in labels with no predicted samples. Use `zero_division` parameter to control this behavior.\n",
      "  _warn_prf(average, modifier, msg_start, len(result))\n"
     ]
    },
    {
     "name": "stdout",
     "output_type": "stream",
     "text": [
      "              precision    recall  f1-score   support\n",
      "\n",
      "           0       1.00      0.80      0.89         5\n",
      "           2       0.67      0.29      0.40         7\n",
      "           3       0.86      0.60      0.71        10\n",
      "           5       0.67      0.40      0.50         5\n",
      "           6       1.00      1.00      1.00         8\n",
      "          13       1.00      1.00      1.00         3\n",
      "          15       1.00      0.40      0.57         5\n",
      "          20       1.00      0.71      0.83         7\n",
      "          22       0.56      0.62      0.59         8\n",
      "          23       0.80      0.44      0.57         9\n",
      "          24       1.00      1.00      1.00         3\n",
      "          26       0.80      0.50      0.62         8\n",
      "          28       1.00      1.00      1.00         6\n",
      "          29       1.00      0.57      0.73         7\n",
      "          30       0.86      0.75      0.80         8\n",
      "          31       0.57      0.50      0.53         8\n",
      "          32       0.00      0.00      0.00         5\n",
      "          33       1.00      0.14      0.25         7\n",
      "          34       1.00      0.60      0.75         5\n",
      "          40       1.00      0.50      0.67         4\n",
      "          41       1.00      0.33      0.50         6\n",
      "          42       0.17      0.50      0.25         2\n",
      "          43       0.88      0.88      0.88         8\n",
      "          44       0.25      0.14      0.18         7\n",
      "          45       0.33      0.50      0.40         2\n",
      "          47       1.00      1.00      1.00         6\n",
      "          49       1.00      1.00      1.00         6\n",
      "          54       1.00      0.40      0.57         5\n",
      "          56       1.00      0.75      0.86         8\n",
      "          57       1.00      0.67      0.80         3\n",
      "          60       0.00      0.00      0.00         3\n",
      "          61       0.75      0.75      0.75         8\n",
      "          62       0.00      0.00      0.00         3\n",
      "          63       0.75      0.60      0.67         5\n",
      "          65       0.33      0.17      0.22         6\n",
      "          67       0.50      0.50      0.50         8\n",
      "          68       0.00      0.00      0.00         1\n",
      "          71       0.25      0.20      0.22         5\n",
      "          72       0.50      0.17      0.25         6\n",
      "          73       0.83      0.56      0.67         9\n",
      "          78       0.00      0.00      0.00         2\n",
      "          82       1.00      0.89      0.94         9\n",
      "          83       0.08      0.86      0.14         7\n",
      "          87       1.00      0.56      0.71         9\n",
      "          90       0.50      0.40      0.44         5\n",
      "          91       0.35      0.78      0.48         9\n",
      "          94       0.83      0.71      0.77         7\n",
      "          97       1.00      0.50      0.67         4\n",
      "          98       0.50      0.17      0.25         6\n",
      "          99       0.75      0.43      0.55         7\n",
      "\n",
      "    accuracy                           0.56       300\n",
      "   macro avg       0.69      0.52      0.56       300\n",
      "weighted avg       0.73      0.56      0.60       300\n",
      "\n",
      "loss 0.4884619465927877\n"
     ]
    },
    {
     "name": "stderr",
     "output_type": "stream",
     "text": [
      "100%|██████████| 391/391 [00:17<00:00, 22.91it/s]\n"
     ]
    },
    {
     "name": "stdout",
     "output_type": "stream",
     "text": [
      "loss 0.5118035865581982\n"
     ]
    },
    {
     "name": "stderr",
     "output_type": "stream",
     "text": [
      "100%|██████████| 391/391 [00:17<00:00, 22.82it/s]\n"
     ]
    },
    {
     "name": "stdout",
     "output_type": "stream",
     "text": [
      "loss 0.5027053419380303\n"
     ]
    },
    {
     "name": "stderr",
     "output_type": "stream",
     "text": [
      "100%|██████████| 391/391 [00:17<00:00, 22.76it/s]\n"
     ]
    },
    {
     "name": "stdout",
     "output_type": "stream",
     "text": [
      "loss 0.38346275839927224\n"
     ]
    },
    {
     "name": "stderr",
     "output_type": "stream",
     "text": [
      "100%|██████████| 391/391 [00:17<00:00, 22.86it/s]\n"
     ]
    },
    {
     "name": "stdout",
     "output_type": "stream",
     "text": [
      "loss 0.56887845594979\n"
     ]
    },
    {
     "name": "stderr",
     "output_type": "stream",
     "text": [
      "100%|██████████| 391/391 [00:17<00:00, 22.95it/s]\n"
     ]
    },
    {
     "name": "stdout",
     "output_type": "stream",
     "text": [
      "loss 0.3821956565528584\n"
     ]
    },
    {
     "name": "stderr",
     "output_type": "stream",
     "text": [
      "100%|██████████| 391/391 [00:17<00:00, 22.88it/s]\n"
     ]
    },
    {
     "name": "stdout",
     "output_type": "stream",
     "text": [
      "loss 0.44244443353466795\n"
     ]
    },
    {
     "name": "stderr",
     "output_type": "stream",
     "text": [
      "100%|██████████| 391/391 [00:17<00:00, 22.85it/s]\n"
     ]
    },
    {
     "name": "stdout",
     "output_type": "stream",
     "text": [
      "loss 0.4304292992664301\n"
     ]
    },
    {
     "name": "stderr",
     "output_type": "stream",
     "text": [
      "100%|██████████| 391/391 [00:17<00:00, 22.71it/s]\n"
     ]
    },
    {
     "name": "stdout",
     "output_type": "stream",
     "text": [
      "loss 0.3937228388359051\n"
     ]
    },
    {
     "name": "stderr",
     "output_type": "stream",
     "text": [
      "100%|██████████| 391/391 [00:17<00:00, 22.73it/s]\n"
     ]
    },
    {
     "name": "stdout",
     "output_type": "stream",
     "text": [
      "loss 0.37884653307964355\n"
     ]
    },
    {
     "name": "stderr",
     "output_type": "stream",
     "text": [
      "100%|██████████| 391/391 [00:17<00:00, 22.82it/s]\n",
      "100%|██████████| 5/5 [00:00<00:00, 61.29it/s]\n",
      "100%|██████████| 5/5 [00:00<00:00, 60.37it/s]\n",
      "/usr/local/lib/python3.10/dist-packages/sklearn/metrics/_classification.py:1344: UndefinedMetricWarning: Precision is ill-defined and being set to 0.0 in labels with no predicted samples. Use `zero_division` parameter to control this behavior.\n",
      "  _warn_prf(average, modifier, msg_start, len(result))\n",
      "/usr/local/lib/python3.10/dist-packages/sklearn/metrics/_classification.py:1344: UndefinedMetricWarning: Precision and F-score are ill-defined and being set to 0.0 in labels with no predicted samples. Use `zero_division` parameter to control this behavior.\n",
      "  _warn_prf(average, modifier, msg_start, len(result))\n",
      "/usr/local/lib/python3.10/dist-packages/sklearn/metrics/_classification.py:1344: UndefinedMetricWarning: Precision and F-score are ill-defined and being set to 0.0 in labels with no predicted samples. Use `zero_division` parameter to control this behavior.\n",
      "  _warn_prf(average, modifier, msg_start, len(result))\n",
      "/usr/local/lib/python3.10/dist-packages/sklearn/metrics/_classification.py:1344: UndefinedMetricWarning: Precision and F-score are ill-defined and being set to 0.0 in labels with no predicted samples. Use `zero_division` parameter to control this behavior.\n",
      "  _warn_prf(average, modifier, msg_start, len(result))\n"
     ]
    },
    {
     "name": "stdout",
     "output_type": "stream",
     "text": [
      "              precision    recall  f1-score   support\n",
      "\n",
      "           0       1.00      1.00      1.00         5\n",
      "           2       0.67      0.29      0.40         7\n",
      "           3       0.29      0.60      0.39        10\n",
      "           5       1.00      0.60      0.75         5\n",
      "           6       1.00      0.75      0.86         8\n",
      "          13       1.00      0.33      0.50         3\n",
      "          15       0.50      0.60      0.55         5\n",
      "          20       1.00      0.71      0.83         7\n",
      "          22       0.75      0.75      0.75         8\n",
      "          23       1.00      0.56      0.71         9\n",
      "          24       1.00      1.00      1.00         3\n",
      "          26       1.00      0.62      0.77         8\n",
      "          28       1.00      1.00      1.00         6\n",
      "          29       1.00      0.57      0.73         7\n",
      "          30       0.86      0.75      0.80         8\n",
      "          31       0.43      0.38      0.40         8\n",
      "          32       0.00      0.00      0.00         5\n",
      "          33       1.00      0.14      0.25         7\n",
      "          34       1.00      0.60      0.75         5\n",
      "          40       1.00      0.25      0.40         4\n",
      "          41       1.00      0.67      0.80         6\n",
      "          42       0.25      0.50      0.33         2\n",
      "          43       1.00      0.62      0.77         8\n",
      "          44       0.25      0.14      0.18         7\n",
      "          45       0.03      0.50      0.06         2\n",
      "          47       1.00      1.00      1.00         6\n",
      "          49       1.00      1.00      1.00         6\n",
      "          54       1.00      0.60      0.75         5\n",
      "          56       1.00      0.75      0.86         8\n",
      "          57       1.00      0.67      0.80         3\n",
      "          60       0.00      0.00      0.00         3\n",
      "          61       1.00      0.75      0.86         8\n",
      "          62       0.00      0.00      0.00         3\n",
      "          63       0.16      0.60      0.25         5\n",
      "          65       0.50      0.17      0.25         6\n",
      "          67       0.60      0.38      0.46         8\n",
      "          68       0.00      0.00      0.00         1\n",
      "          71       0.50      0.40      0.44         5\n",
      "          72       0.06      0.33      0.10         6\n",
      "          73       0.71      0.56      0.63         9\n",
      "          78       0.17      0.50      0.25         2\n",
      "          82       1.00      0.78      0.88         9\n",
      "          83       0.71      0.71      0.71         7\n",
      "          87       1.00      0.67      0.80         9\n",
      "          90       1.00      0.60      0.75         5\n",
      "          91       0.86      0.67      0.75         9\n",
      "          94       1.00      0.86      0.92         7\n",
      "          97       1.00      0.50      0.67         4\n",
      "          98       0.00      0.00      0.00         6\n",
      "          99       1.00      0.43      0.60         7\n",
      "\n",
      "    accuracy                           0.57       300\n",
      "   macro avg       0.71      0.54      0.57       300\n",
      "weighted avg       0.76      0.57      0.62       300\n",
      "\n",
      "loss 0.3369124424107887\n"
     ]
    },
    {
     "name": "stderr",
     "output_type": "stream",
     "text": [
      "100%|██████████| 391/391 [00:17<00:00, 22.77it/s]\n"
     ]
    },
    {
     "name": "stdout",
     "output_type": "stream",
     "text": [
      "loss 0.38806522448721065\n"
     ]
    },
    {
     "name": "stderr",
     "output_type": "stream",
     "text": [
      "100%|██████████| 391/391 [00:17<00:00, 22.83it/s]\n"
     ]
    },
    {
     "name": "stdout",
     "output_type": "stream",
     "text": [
      "loss 0.396180815103016\n"
     ]
    },
    {
     "name": "stderr",
     "output_type": "stream",
     "text": [
      "100%|██████████| 391/391 [00:17<00:00, 22.76it/s]\n"
     ]
    },
    {
     "name": "stdout",
     "output_type": "stream",
     "text": [
      "loss 0.3762740483763568\n"
     ]
    },
    {
     "name": "stderr",
     "output_type": "stream",
     "text": [
      "100%|██████████| 391/391 [00:17<00:00, 22.56it/s]\n"
     ]
    },
    {
     "name": "stdout",
     "output_type": "stream",
     "text": [
      "loss 0.33101334558029316\n"
     ]
    },
    {
     "name": "stderr",
     "output_type": "stream",
     "text": [
      "100%|██████████| 391/391 [00:17<00:00, 22.63it/s]\n"
     ]
    },
    {
     "name": "stdout",
     "output_type": "stream",
     "text": [
      "loss 0.14873286279256615\n"
     ]
    },
    {
     "name": "stderr",
     "output_type": "stream",
     "text": [
      "100%|██████████| 391/391 [00:17<00:00, 22.79it/s]\n"
     ]
    },
    {
     "name": "stdout",
     "output_type": "stream",
     "text": [
      "loss 0.05978855649363655\n"
     ]
    },
    {
     "name": "stderr",
     "output_type": "stream",
     "text": [
      "100%|██████████| 391/391 [00:17<00:00, 22.76it/s]\n"
     ]
    },
    {
     "name": "stdout",
     "output_type": "stream",
     "text": [
      "loss 0.043221527293129156\n"
     ]
    },
    {
     "name": "stderr",
     "output_type": "stream",
     "text": [
      "100%|██████████| 391/391 [00:17<00:00, 22.77it/s]\n"
     ]
    },
    {
     "name": "stdout",
     "output_type": "stream",
     "text": [
      "loss 0.03783375277708563\n"
     ]
    },
    {
     "name": "stderr",
     "output_type": "stream",
     "text": [
      "100%|██████████| 391/391 [00:17<00:00, 22.88it/s]\n"
     ]
    },
    {
     "name": "stdout",
     "output_type": "stream",
     "text": [
      "loss 0.03138620100999989\n"
     ]
    },
    {
     "name": "stderr",
     "output_type": "stream",
     "text": [
      "100%|██████████| 391/391 [00:17<00:00, 22.78it/s]\n",
      "100%|██████████| 5/5 [00:00<00:00, 61.36it/s]\n",
      "100%|██████████| 5/5 [00:00<00:00, 60.27it/s]\n",
      "/usr/local/lib/python3.10/dist-packages/sklearn/metrics/_classification.py:1344: UndefinedMetricWarning: Precision is ill-defined and being set to 0.0 in labels with no predicted samples. Use `zero_division` parameter to control this behavior.\n",
      "  _warn_prf(average, modifier, msg_start, len(result))\n",
      "/usr/local/lib/python3.10/dist-packages/sklearn/metrics/_classification.py:1344: UndefinedMetricWarning: Precision and F-score are ill-defined and being set to 0.0 in labels with no predicted samples. Use `zero_division` parameter to control this behavior.\n",
      "  _warn_prf(average, modifier, msg_start, len(result))\n",
      "/usr/local/lib/python3.10/dist-packages/sklearn/metrics/_classification.py:1344: UndefinedMetricWarning: Precision and F-score are ill-defined and being set to 0.0 in labels with no predicted samples. Use `zero_division` parameter to control this behavior.\n",
      "  _warn_prf(average, modifier, msg_start, len(result))\n",
      "/usr/local/lib/python3.10/dist-packages/sklearn/metrics/_classification.py:1344: UndefinedMetricWarning: Precision and F-score are ill-defined and being set to 0.0 in labels with no predicted samples. Use `zero_division` parameter to control this behavior.\n",
      "  _warn_prf(average, modifier, msg_start, len(result))\n"
     ]
    },
    {
     "name": "stdout",
     "output_type": "stream",
     "text": [
      "              precision    recall  f1-score   support\n",
      "\n",
      "           0       1.00      1.00      1.00         5\n",
      "           2       0.33      0.14      0.20         7\n",
      "           3       0.83      0.50      0.62        10\n",
      "           5       1.00      0.40      0.57         5\n",
      "           6       1.00      0.75      0.86         8\n",
      "          13       1.00      0.67      0.80         3\n",
      "          15       0.25      0.40      0.31         5\n",
      "          20       1.00      0.71      0.83         7\n",
      "          22       0.83      0.62      0.71         8\n",
      "          23       1.00      0.44      0.62         9\n",
      "          24       1.00      1.00      1.00         3\n",
      "          26       1.00      0.50      0.67         8\n",
      "          28       1.00      0.83      0.91         6\n",
      "          29       1.00      0.14      0.25         7\n",
      "          30       0.88      0.88      0.88         8\n",
      "          31       0.75      0.38      0.50         8\n",
      "          32       0.00      0.00      0.00         5\n",
      "          33       1.00      0.29      0.44         7\n",
      "          34       1.00      0.80      0.89         5\n",
      "          40       0.50      0.25      0.33         4\n",
      "          41       1.00      0.67      0.80         6\n",
      "          42       0.33      0.50      0.40         2\n",
      "          43       1.00      0.62      0.77         8\n",
      "          44       0.25      0.14      0.18         7\n",
      "          45       0.18      1.00      0.31         2\n",
      "          47       1.00      1.00      1.00         6\n",
      "          49       1.00      1.00      1.00         6\n",
      "          54       1.00      0.20      0.33         5\n",
      "          56       1.00      0.75      0.86         8\n",
      "          57       0.50      0.67      0.57         3\n",
      "          60       0.00      0.00      0.00         3\n",
      "          61       1.00      0.75      0.86         8\n",
      "          62       0.50      0.67      0.57         3\n",
      "          63       0.67      0.40      0.50         5\n",
      "          65       1.00      0.17      0.29         6\n",
      "          67       0.40      0.50      0.44         8\n",
      "          68       0.00      0.00      0.00         1\n",
      "          71       0.25      0.20      0.22         5\n",
      "          72       1.00      0.33      0.50         6\n",
      "          73       0.04      0.44      0.07         9\n",
      "          78       0.50      0.50      0.50         2\n",
      "          82       1.00      0.78      0.88         9\n",
      "          83       1.00      0.43      0.60         7\n",
      "          87       0.80      0.44      0.57         9\n",
      "          90       0.80      0.80      0.80         5\n",
      "          91       0.75      0.67      0.71         9\n",
      "          94       1.00      0.71      0.83         7\n",
      "          97       1.00      0.25      0.40         4\n",
      "          98       0.33      0.17      0.22         6\n",
      "          99       1.00      0.43      0.60         7\n",
      "\n",
      "    accuracy                           0.53       300\n",
      "   macro avg       0.73      0.52      0.56       300\n",
      "weighted avg       0.78      0.53      0.59       300\n",
      "\n",
      "loss 0.030049762522737444\n"
     ]
    },
    {
     "name": "stderr",
     "output_type": "stream",
     "text": [
      "100%|██████████| 391/391 [00:17<00:00, 22.62it/s]\n"
     ]
    },
    {
     "name": "stdout",
     "output_type": "stream",
     "text": [
      "loss 0.02739651118779717\n"
     ]
    },
    {
     "name": "stderr",
     "output_type": "stream",
     "text": [
      "100%|██████████| 391/391 [00:17<00:00, 22.79it/s]\n"
     ]
    },
    {
     "name": "stdout",
     "output_type": "stream",
     "text": [
      "loss 0.030892813005699012\n"
     ]
    },
    {
     "name": "stderr",
     "output_type": "stream",
     "text": [
      "100%|██████████| 391/391 [00:17<00:00, 22.80it/s]\n"
     ]
    },
    {
     "name": "stdout",
     "output_type": "stream",
     "text": [
      "loss 0.026005417903494615\n"
     ]
    },
    {
     "name": "stderr",
     "output_type": "stream",
     "text": [
      "100%|██████████| 391/391 [00:17<00:00, 22.74it/s]\n"
     ]
    },
    {
     "name": "stdout",
     "output_type": "stream",
     "text": [
      "loss 0.022899752873403338\n"
     ]
    },
    {
     "name": "stderr",
     "output_type": "stream",
     "text": [
      "100%|██████████| 391/391 [00:17<00:00, 22.71it/s]\n"
     ]
    },
    {
     "name": "stdout",
     "output_type": "stream",
     "text": [
      "loss 0.023067709181860893\n"
     ]
    },
    {
     "name": "stderr",
     "output_type": "stream",
     "text": [
      "100%|██████████| 391/391 [00:17<00:00, 22.80it/s]\n"
     ]
    },
    {
     "name": "stdout",
     "output_type": "stream",
     "text": [
      "loss 0.02397457061974389\n"
     ]
    },
    {
     "name": "stderr",
     "output_type": "stream",
     "text": [
      "100%|██████████| 391/391 [00:17<00:00, 22.82it/s]\n"
     ]
    },
    {
     "name": "stdout",
     "output_type": "stream",
     "text": [
      "loss 0.022009161442977942\n"
     ]
    },
    {
     "name": "stderr",
     "output_type": "stream",
     "text": [
      "100%|██████████| 391/391 [00:17<00:00, 22.83it/s]\n"
     ]
    },
    {
     "name": "stdout",
     "output_type": "stream",
     "text": [
      "loss 0.023087916270870826\n"
     ]
    },
    {
     "name": "stderr",
     "output_type": "stream",
     "text": [
      "100%|██████████| 391/391 [00:17<00:00, 22.90it/s]\n"
     ]
    },
    {
     "name": "stdout",
     "output_type": "stream",
     "text": [
      "loss 0.023043729328548018\n"
     ]
    },
    {
     "name": "stderr",
     "output_type": "stream",
     "text": [
      "100%|██████████| 391/391 [00:17<00:00, 22.79it/s]\n",
      "100%|██████████| 5/5 [00:00<00:00, 60.90it/s]\n",
      "100%|██████████| 5/5 [00:00<00:00, 59.95it/s]\n",
      "/usr/local/lib/python3.10/dist-packages/sklearn/metrics/_classification.py:1344: UndefinedMetricWarning: Precision is ill-defined and being set to 0.0 in labels with no predicted samples. Use `zero_division` parameter to control this behavior.\n",
      "  _warn_prf(average, modifier, msg_start, len(result))\n",
      "/usr/local/lib/python3.10/dist-packages/sklearn/metrics/_classification.py:1344: UndefinedMetricWarning: Precision and F-score are ill-defined and being set to 0.0 in labels with no predicted samples. Use `zero_division` parameter to control this behavior.\n",
      "  _warn_prf(average, modifier, msg_start, len(result))\n",
      "/usr/local/lib/python3.10/dist-packages/sklearn/metrics/_classification.py:1344: UndefinedMetricWarning: Precision and F-score are ill-defined and being set to 0.0 in labels with no predicted samples. Use `zero_division` parameter to control this behavior.\n",
      "  _warn_prf(average, modifier, msg_start, len(result))\n",
      "/usr/local/lib/python3.10/dist-packages/sklearn/metrics/_classification.py:1344: UndefinedMetricWarning: Precision and F-score are ill-defined and being set to 0.0 in labels with no predicted samples. Use `zero_division` parameter to control this behavior.\n",
      "  _warn_prf(average, modifier, msg_start, len(result))\n"
     ]
    },
    {
     "name": "stdout",
     "output_type": "stream",
     "text": [
      "              precision    recall  f1-score   support\n",
      "\n",
      "           0       1.00      1.00      1.00         5\n",
      "           2       0.50      0.14      0.22         7\n",
      "           3       0.70      0.70      0.70        10\n",
      "           5       1.00      0.20      0.33         5\n",
      "           6       0.86      0.75      0.80         8\n",
      "          13       1.00      1.00      1.00         3\n",
      "          15       0.50      0.20      0.29         5\n",
      "          20       1.00      0.71      0.83         7\n",
      "          22       1.00      0.62      0.77         8\n",
      "          23       1.00      0.56      0.71         9\n",
      "          24       1.00      1.00      1.00         3\n",
      "          26       0.75      0.38      0.50         8\n",
      "          28       1.00      1.00      1.00         6\n",
      "          29       1.00      0.43      0.60         7\n",
      "          30       0.86      0.75      0.80         8\n",
      "          31       0.75      0.38      0.50         8\n",
      "          32       0.00      0.00      0.00         5\n",
      "          33       1.00      0.14      0.25         7\n",
      "          34       1.00      0.80      0.89         5\n",
      "          40       1.00      0.25      0.40         4\n",
      "          41       1.00      0.50      0.67         6\n",
      "          42       0.33      0.50      0.40         2\n",
      "          43       0.83      0.62      0.71         8\n",
      "          44       0.25      0.14      0.18         7\n",
      "          45       0.10      0.50      0.17         2\n",
      "          47       1.00      1.00      1.00         6\n",
      "          49       1.00      1.00      1.00         6\n",
      "          54       1.00      0.60      0.75         5\n",
      "          56       1.00      0.75      0.86         8\n",
      "          57       0.50      0.67      0.57         3\n",
      "          60       0.00      0.00      0.00         3\n",
      "          61       1.00      0.62      0.77         8\n",
      "          62       1.00      1.00      1.00         3\n",
      "          63       0.67      0.40      0.50         5\n",
      "          65       0.33      0.17      0.22         6\n",
      "          67       0.67      0.50      0.57         8\n",
      "          68       0.00      0.00      0.00         1\n",
      "          71       0.20      0.20      0.20         5\n",
      "          72       0.67      0.33      0.44         6\n",
      "          73       0.04      0.44      0.08         9\n",
      "          78       0.50      0.50      0.50         2\n",
      "          82       1.00      0.78      0.88         9\n",
      "          83       1.00      0.57      0.73         7\n",
      "          87       0.80      0.44      0.57         9\n",
      "          90       0.67      0.80      0.73         5\n",
      "          91       0.75      0.67      0.71         9\n",
      "          94       1.00      0.71      0.83         7\n",
      "          97       1.00      0.25      0.40         4\n",
      "          98       0.25      0.17      0.20         6\n",
      "          99       0.67      0.29      0.40         7\n",
      "\n",
      "    accuracy                           0.53       300\n",
      "   macro avg       0.72      0.52      0.57       300\n",
      "weighted avg       0.76      0.53      0.60       300\n",
      "\n",
      "loss 0.025067908266294854\n"
     ]
    },
    {
     "name": "stderr",
     "output_type": "stream",
     "text": [
      "100%|██████████| 391/391 [00:17<00:00, 22.80it/s]\n"
     ]
    },
    {
     "name": "stdout",
     "output_type": "stream",
     "text": [
      "loss 0.01874021475028861\n"
     ]
    },
    {
     "name": "stderr",
     "output_type": "stream",
     "text": [
      "100%|██████████| 391/391 [00:17<00:00, 22.79it/s]\n"
     ]
    },
    {
     "name": "stdout",
     "output_type": "stream",
     "text": [
      "loss 0.019089117554737533\n"
     ]
    },
    {
     "name": "stderr",
     "output_type": "stream",
     "text": [
      "100%|██████████| 391/391 [00:17<00:00, 22.68it/s]\n"
     ]
    },
    {
     "name": "stdout",
     "output_type": "stream",
     "text": [
      "loss 0.01670313922754165\n"
     ]
    },
    {
     "name": "stderr",
     "output_type": "stream",
     "text": [
      "100%|██████████| 391/391 [00:17<00:00, 22.83it/s]\n"
     ]
    },
    {
     "name": "stdout",
     "output_type": "stream",
     "text": [
      "loss 0.018661356506073642\n"
     ]
    },
    {
     "name": "stderr",
     "output_type": "stream",
     "text": [
      "100%|██████████| 391/391 [00:17<00:00, 22.87it/s]\n"
     ]
    },
    {
     "name": "stdout",
     "output_type": "stream",
     "text": [
      "loss 0.017788143312904504\n"
     ]
    },
    {
     "name": "stderr",
     "output_type": "stream",
     "text": [
      "100%|██████████| 391/391 [00:17<00:00, 22.74it/s]\n"
     ]
    },
    {
     "name": "stdout",
     "output_type": "stream",
     "text": [
      "loss 0.0149844779056566\n"
     ]
    },
    {
     "name": "stderr",
     "output_type": "stream",
     "text": [
      "100%|██████████| 391/391 [00:17<00:00, 22.86it/s]\n"
     ]
    },
    {
     "name": "stdout",
     "output_type": "stream",
     "text": [
      "loss 0.019831138381036593\n"
     ]
    },
    {
     "name": "stderr",
     "output_type": "stream",
     "text": [
      "100%|██████████| 391/391 [00:17<00:00, 22.84it/s]\n"
     ]
    },
    {
     "name": "stdout",
     "output_type": "stream",
     "text": [
      "loss 0.013753624591048058\n"
     ]
    },
    {
     "name": "stderr",
     "output_type": "stream",
     "text": [
      "100%|██████████| 391/391 [00:17<00:00, 22.69it/s]\n"
     ]
    },
    {
     "name": "stdout",
     "output_type": "stream",
     "text": [
      "loss 0.014469888921894962\n"
     ]
    },
    {
     "name": "stderr",
     "output_type": "stream",
     "text": [
      "100%|██████████| 391/391 [00:17<00:00, 22.82it/s]\n",
      "100%|██████████| 5/5 [00:00<00:00, 61.01it/s]\n",
      "100%|██████████| 5/5 [00:00<00:00, 60.35it/s]\n",
      "/usr/local/lib/python3.10/dist-packages/sklearn/metrics/_classification.py:1344: UndefinedMetricWarning: Precision is ill-defined and being set to 0.0 in labels with no predicted samples. Use `zero_division` parameter to control this behavior.\n",
      "  _warn_prf(average, modifier, msg_start, len(result))\n",
      "/usr/local/lib/python3.10/dist-packages/sklearn/metrics/_classification.py:1344: UndefinedMetricWarning: Precision and F-score are ill-defined and being set to 0.0 in labels with no predicted samples. Use `zero_division` parameter to control this behavior.\n",
      "  _warn_prf(average, modifier, msg_start, len(result))\n",
      "/usr/local/lib/python3.10/dist-packages/sklearn/metrics/_classification.py:1344: UndefinedMetricWarning: Precision and F-score are ill-defined and being set to 0.0 in labels with no predicted samples. Use `zero_division` parameter to control this behavior.\n",
      "  _warn_prf(average, modifier, msg_start, len(result))\n",
      "/usr/local/lib/python3.10/dist-packages/sklearn/metrics/_classification.py:1344: UndefinedMetricWarning: Precision and F-score are ill-defined and being set to 0.0 in labels with no predicted samples. Use `zero_division` parameter to control this behavior.\n",
      "  _warn_prf(average, modifier, msg_start, len(result))\n"
     ]
    },
    {
     "name": "stdout",
     "output_type": "stream",
     "text": [
      "              precision    recall  f1-score   support\n",
      "\n",
      "           0       1.00      1.00      1.00         5\n",
      "           2       0.67      0.29      0.40         7\n",
      "           3       0.08      0.80      0.15        10\n",
      "           5       1.00      0.20      0.33         5\n",
      "           6       0.75      0.75      0.75         8\n",
      "          13       1.00      1.00      1.00         3\n",
      "          15       0.33      0.20      0.25         5\n",
      "          20       1.00      0.57      0.73         7\n",
      "          22       0.86      0.75      0.80         8\n",
      "          23       0.83      0.56      0.67         9\n",
      "          24       1.00      1.00      1.00         3\n",
      "          26       1.00      0.38      0.55         8\n",
      "          28       1.00      1.00      1.00         6\n",
      "          29       1.00      0.43      0.60         7\n",
      "          30       0.78      0.88      0.82         8\n",
      "          31       0.67      0.50      0.57         8\n",
      "          32       0.00      0.00      0.00         5\n",
      "          33       1.00      0.29      0.44         7\n",
      "          34       1.00      0.80      0.89         5\n",
      "          40       1.00      0.50      0.67         4\n",
      "          41       1.00      0.33      0.50         6\n",
      "          42       0.50      0.50      0.50         2\n",
      "          43       0.83      0.62      0.71         8\n",
      "          44       0.20      0.14      0.17         7\n",
      "          45       0.20      0.50      0.29         2\n",
      "          47       1.00      1.00      1.00         6\n",
      "          49       0.86      1.00      0.92         6\n",
      "          54       1.00      0.40      0.57         5\n",
      "          56       1.00      0.62      0.77         8\n",
      "          57       0.50      0.67      0.57         3\n",
      "          60       0.00      0.00      0.00         3\n",
      "          61       1.00      0.62      0.77         8\n",
      "          62       1.00      0.67      0.80         3\n",
      "          63       0.67      0.40      0.50         5\n",
      "          65       0.33      0.17      0.22         6\n",
      "          67       0.67      0.50      0.57         8\n",
      "          68       0.00      0.00      0.00         1\n",
      "          71       0.20      0.20      0.20         5\n",
      "          72       0.50      0.33      0.40         6\n",
      "          73       0.60      0.33      0.43         9\n",
      "          78       0.00      0.00      0.00         2\n",
      "          82       1.00      0.78      0.88         9\n",
      "          83       1.00      0.57      0.73         7\n",
      "          87       0.71      0.56      0.63         9\n",
      "          90       0.67      0.80      0.73         5\n",
      "          91       0.67      0.67      0.67         9\n",
      "          94       1.00      0.57      0.73         7\n",
      "          97       1.00      0.25      0.40         4\n",
      "          98       0.50      0.33      0.40         6\n",
      "          99       0.75      0.43      0.55         7\n",
      "\n",
      "    accuracy                           0.54       300\n",
      "   macro avg       0.71      0.52      0.56       300\n",
      "weighted avg       0.74      0.54      0.59       300\n",
      "\n",
      "loss 0.013613333355586576\n"
     ]
    },
    {
     "name": "stderr",
     "output_type": "stream",
     "text": [
      "100%|██████████| 391/391 [00:17<00:00, 22.72it/s]\n"
     ]
    },
    {
     "name": "stdout",
     "output_type": "stream",
     "text": [
      "loss 0.012151312225622117\n"
     ]
    },
    {
     "name": "stderr",
     "output_type": "stream",
     "text": [
      "100%|██████████| 391/391 [00:17<00:00, 22.70it/s]\n"
     ]
    },
    {
     "name": "stdout",
     "output_type": "stream",
     "text": [
      "loss 0.012132301622101932\n"
     ]
    },
    {
     "name": "stderr",
     "output_type": "stream",
     "text": [
      "100%|██████████| 391/391 [00:17<00:00, 22.76it/s]\n"
     ]
    },
    {
     "name": "stdout",
     "output_type": "stream",
     "text": [
      "loss 0.017268708160119082\n"
     ]
    },
    {
     "name": "stderr",
     "output_type": "stream",
     "text": [
      "100%|██████████| 391/391 [00:17<00:00, 22.80it/s]\n"
     ]
    },
    {
     "name": "stdout",
     "output_type": "stream",
     "text": [
      "loss 0.011919541257198976\n"
     ]
    },
    {
     "name": "stderr",
     "output_type": "stream",
     "text": [
      "100%|██████████| 391/391 [00:17<00:00, 22.68it/s]\n"
     ]
    },
    {
     "name": "stdout",
     "output_type": "stream",
     "text": [
      "loss 0.013317542547947201\n"
     ]
    },
    {
     "name": "stderr",
     "output_type": "stream",
     "text": [
      "100%|██████████| 391/391 [00:17<00:00, 22.86it/s]\n"
     ]
    },
    {
     "name": "stdout",
     "output_type": "stream",
     "text": [
      "loss 0.013251941896888102\n"
     ]
    },
    {
     "name": "stderr",
     "output_type": "stream",
     "text": [
      "100%|██████████| 391/391 [00:17<00:00, 22.92it/s]\n"
     ]
    },
    {
     "name": "stdout",
     "output_type": "stream",
     "text": [
      "loss 0.012774574627969985\n"
     ]
    },
    {
     "name": "stderr",
     "output_type": "stream",
     "text": [
      "100%|██████████| 391/391 [00:17<00:00, 22.93it/s]\n"
     ]
    },
    {
     "name": "stdout",
     "output_type": "stream",
     "text": [
      "loss 0.014543934083973056\n"
     ]
    },
    {
     "name": "stderr",
     "output_type": "stream",
     "text": [
      "100%|██████████| 391/391 [00:16<00:00, 23.01it/s]\n"
     ]
    },
    {
     "name": "stdout",
     "output_type": "stream",
     "text": [
      "loss 0.014824423047936047\n"
     ]
    },
    {
     "name": "stderr",
     "output_type": "stream",
     "text": [
      "100%|██████████| 391/391 [00:17<00:00, 22.78it/s]\n",
      "100%|██████████| 5/5 [00:00<00:00, 60.46it/s]\n",
      "100%|██████████| 5/5 [00:00<00:00, 60.05it/s]\n",
      "/usr/local/lib/python3.10/dist-packages/sklearn/metrics/_classification.py:1344: UndefinedMetricWarning: Precision is ill-defined and being set to 0.0 in labels with no predicted samples. Use `zero_division` parameter to control this behavior.\n",
      "  _warn_prf(average, modifier, msg_start, len(result))\n",
      "/usr/local/lib/python3.10/dist-packages/sklearn/metrics/_classification.py:1344: UndefinedMetricWarning: Precision and F-score are ill-defined and being set to 0.0 in labels with no predicted samples. Use `zero_division` parameter to control this behavior.\n",
      "  _warn_prf(average, modifier, msg_start, len(result))\n",
      "/usr/local/lib/python3.10/dist-packages/sklearn/metrics/_classification.py:1344: UndefinedMetricWarning: Precision and F-score are ill-defined and being set to 0.0 in labels with no predicted samples. Use `zero_division` parameter to control this behavior.\n",
      "  _warn_prf(average, modifier, msg_start, len(result))\n",
      "/usr/local/lib/python3.10/dist-packages/sklearn/metrics/_classification.py:1344: UndefinedMetricWarning: Precision and F-score are ill-defined and being set to 0.0 in labels with no predicted samples. Use `zero_division` parameter to control this behavior.\n",
      "  _warn_prf(average, modifier, msg_start, len(result))\n"
     ]
    },
    {
     "name": "stdout",
     "output_type": "stream",
     "text": [
      "              precision    recall  f1-score   support\n",
      "\n",
      "           0       1.00      1.00      1.00         5\n",
      "           2       0.50      0.14      0.22         7\n",
      "           3       0.75      0.60      0.67        10\n",
      "           5       1.00      0.20      0.33         5\n",
      "           6       0.86      0.75      0.80         8\n",
      "          13       1.00      0.67      0.80         3\n",
      "          15       0.25      0.20      0.22         5\n",
      "          20       1.00      0.57      0.73         7\n",
      "          22       0.71      0.62      0.67         8\n",
      "          23       1.00      0.56      0.71         9\n",
      "          24       1.00      1.00      1.00         3\n",
      "          26       1.00      0.38      0.55         8\n",
      "          28       1.00      1.00      1.00         6\n",
      "          29       1.00      0.43      0.60         7\n",
      "          30       0.86      0.75      0.80         8\n",
      "          31       0.60      0.38      0.46         8\n",
      "          32       0.00      0.00      0.00         5\n",
      "          33       1.00      0.29      0.44         7\n",
      "          34       1.00      0.60      0.75         5\n",
      "          40       1.00      0.50      0.67         4\n",
      "          41       1.00      0.50      0.67         6\n",
      "          42       0.50      0.50      0.50         2\n",
      "          43       0.83      0.62      0.71         8\n",
      "          44       0.20      0.14      0.17         7\n",
      "          45       0.17      0.50      0.25         2\n",
      "          47       0.86      1.00      0.92         6\n",
      "          49       1.00      0.83      0.91         6\n",
      "          54       1.00      0.60      0.75         5\n",
      "          56       1.00      0.50      0.67         8\n",
      "          57       0.67      0.67      0.67         3\n",
      "          60       0.00      0.00      0.00         3\n",
      "          61       1.00      0.62      0.77         8\n",
      "          62       0.75      1.00      0.86         3\n",
      "          63       1.00      0.20      0.33         5\n",
      "          65       1.00      0.17      0.29         6\n",
      "          67       0.67      0.50      0.57         8\n",
      "          68       0.00      0.00      0.00         1\n",
      "          71       0.25      0.20      0.22         5\n",
      "          72       0.05      0.83      0.09         6\n",
      "          73       0.50      0.33      0.40         9\n",
      "          78       0.50      0.50      0.50         2\n",
      "          82       1.00      0.78      0.88         9\n",
      "          83       1.00      0.43      0.60         7\n",
      "          87       0.80      0.44      0.57         9\n",
      "          90       0.75      0.60      0.67         5\n",
      "          91       0.67      0.67      0.67         9\n",
      "          94       1.00      0.57      0.73         7\n",
      "          97       1.00      0.25      0.40         4\n",
      "          98       0.25      0.17      0.20         6\n",
      "          99       1.00      0.29      0.44         7\n",
      "\n",
      "    accuracy                           0.51       300\n",
      "   macro avg       0.74      0.50      0.56       300\n",
      "weighted avg       0.78      0.51      0.58       300\n",
      "\n",
      "loss 0.01428991587564011\n"
     ]
    },
    {
     "name": "stderr",
     "output_type": "stream",
     "text": [
      "100%|██████████| 391/391 [00:17<00:00, 22.98it/s]\n"
     ]
    },
    {
     "name": "stdout",
     "output_type": "stream",
     "text": [
      "loss 0.013385635291826447\n"
     ]
    },
    {
     "name": "stderr",
     "output_type": "stream",
     "text": [
      "100%|██████████| 391/391 [00:17<00:00, 22.82it/s]\n"
     ]
    },
    {
     "name": "stdout",
     "output_type": "stream",
     "text": [
      "loss 0.011619382917739885\n"
     ]
    },
    {
     "name": "stderr",
     "output_type": "stream",
     "text": [
      "100%|██████████| 391/391 [00:17<00:00, 22.97it/s]\n"
     ]
    },
    {
     "name": "stdout",
     "output_type": "stream",
     "text": [
      "loss 0.012203843404953976\n"
     ]
    },
    {
     "name": "stderr",
     "output_type": "stream",
     "text": [
      "100%|██████████| 391/391 [00:17<00:00, 22.90it/s]\n"
     ]
    },
    {
     "name": "stdout",
     "output_type": "stream",
     "text": [
      "loss 0.01433294645772325\n"
     ]
    },
    {
     "name": "stderr",
     "output_type": "stream",
     "text": [
      "100%|██████████| 391/391 [00:17<00:00, 22.92it/s]\n"
     ]
    },
    {
     "name": "stdout",
     "output_type": "stream",
     "text": [
      "loss 0.014622237006186858\n"
     ]
    },
    {
     "name": "stderr",
     "output_type": "stream",
     "text": [
      "100%|██████████| 391/391 [00:17<00:00, 22.84it/s]\n"
     ]
    },
    {
     "name": "stdout",
     "output_type": "stream",
     "text": [
      "loss 0.015049703803661938\n"
     ]
    },
    {
     "name": "stderr",
     "output_type": "stream",
     "text": [
      "100%|██████████| 391/391 [00:17<00:00, 22.71it/s]\n"
     ]
    },
    {
     "name": "stdout",
     "output_type": "stream",
     "text": [
      "loss 0.01564856468575716\n"
     ]
    },
    {
     "name": "stderr",
     "output_type": "stream",
     "text": [
      "100%|██████████| 391/391 [00:17<00:00, 22.89it/s]\n"
     ]
    },
    {
     "name": "stdout",
     "output_type": "stream",
     "text": [
      "loss 0.015663689383945148\n"
     ]
    },
    {
     "name": "stderr",
     "output_type": "stream",
     "text": [
      "100%|██████████| 391/391 [00:17<00:00, 22.85it/s]\n"
     ]
    },
    {
     "name": "stdout",
     "output_type": "stream",
     "text": [
      "loss 0.01502166267233136\n"
     ]
    },
    {
     "name": "stderr",
     "output_type": "stream",
     "text": [
      "100%|██████████| 391/391 [00:17<00:00, 22.75it/s]\n",
      "100%|██████████| 5/5 [00:00<00:00, 61.09it/s]\n",
      "100%|██████████| 5/5 [00:00<00:00, 54.22it/s]\n",
      "/usr/local/lib/python3.10/dist-packages/sklearn/metrics/_classification.py:1344: UndefinedMetricWarning: Precision is ill-defined and being set to 0.0 in labels with no predicted samples. Use `zero_division` parameter to control this behavior.\n",
      "  _warn_prf(average, modifier, msg_start, len(result))\n",
      "/usr/local/lib/python3.10/dist-packages/sklearn/metrics/_classification.py:1344: UndefinedMetricWarning: Precision and F-score are ill-defined and being set to 0.0 in labels with no predicted samples. Use `zero_division` parameter to control this behavior.\n",
      "  _warn_prf(average, modifier, msg_start, len(result))\n",
      "/usr/local/lib/python3.10/dist-packages/sklearn/metrics/_classification.py:1344: UndefinedMetricWarning: Precision and F-score are ill-defined and being set to 0.0 in labels with no predicted samples. Use `zero_division` parameter to control this behavior.\n",
      "  _warn_prf(average, modifier, msg_start, len(result))\n",
      "/usr/local/lib/python3.10/dist-packages/sklearn/metrics/_classification.py:1344: UndefinedMetricWarning: Precision and F-score are ill-defined and being set to 0.0 in labels with no predicted samples. Use `zero_division` parameter to control this behavior.\n",
      "  _warn_prf(average, modifier, msg_start, len(result))\n"
     ]
    },
    {
     "name": "stdout",
     "output_type": "stream",
     "text": [
      "              precision    recall  f1-score   support\n",
      "\n",
      "           0       1.00      1.00      1.00         5\n",
      "           2       0.50      0.14      0.22         7\n",
      "           3       0.71      0.50      0.59        10\n",
      "           5       1.00      0.40      0.57         5\n",
      "           6       0.75      0.75      0.75         8\n",
      "          13       1.00      0.67      0.80         3\n",
      "          15       0.33      0.20      0.25         5\n",
      "          20       1.00      0.71      0.83         7\n",
      "          22       0.83      0.62      0.71         8\n",
      "          23       0.80      0.44      0.57         9\n",
      "          24       1.00      1.00      1.00         3\n",
      "          26       1.00      0.38      0.55         8\n",
      "          28       1.00      0.83      0.91         6\n",
      "          29       1.00      0.57      0.73         7\n",
      "          30       0.86      0.75      0.80         8\n",
      "          31       0.75      0.38      0.50         8\n",
      "          32       0.50      0.20      0.29         5\n",
      "          33       1.00      0.14      0.25         7\n",
      "          34       1.00      0.60      0.75         5\n",
      "          40       0.50      0.25      0.33         4\n",
      "          41       1.00      0.33      0.50         6\n",
      "          42       1.00      0.50      0.67         2\n",
      "          43       1.00      0.62      0.77         8\n",
      "          44       0.25      0.14      0.18         7\n",
      "          45       0.17      0.50      0.25         2\n",
      "          47       1.00      1.00      1.00         6\n",
      "          49       0.86      1.00      0.92         6\n",
      "          54       1.00      0.60      0.75         5\n",
      "          56       1.00      0.62      0.77         8\n",
      "          57       0.50      0.33      0.40         3\n",
      "          60       0.00      0.00      0.00         3\n",
      "          61       1.00      0.75      0.86         8\n",
      "          62       1.00      1.00      1.00         3\n",
      "          63       0.67      0.40      0.50         5\n",
      "          65       0.50      0.17      0.25         6\n",
      "          67       0.60      0.38      0.46         8\n",
      "          68       0.00      0.00      0.00         1\n",
      "          71       0.20      0.20      0.20         5\n",
      "          72       0.25      0.33      0.29         6\n",
      "          73       0.05      0.56      0.09         9\n",
      "          78       0.00      0.00      0.00         2\n",
      "          82       1.00      0.89      0.94         9\n",
      "          83       0.75      0.43      0.55         7\n",
      "          87       0.80      0.44      0.57         9\n",
      "          90       1.00      0.80      0.89         5\n",
      "          91       0.75      0.67      0.71         9\n",
      "          94       1.00      0.86      0.92         7\n",
      "          97       1.00      0.50      0.67         4\n",
      "          98       0.40      0.33      0.36         6\n",
      "          99       1.00      0.43      0.60         7\n",
      "\n",
      "    accuracy                           0.53       300\n",
      "   macro avg       0.73      0.51      0.57       300\n",
      "weighted avg       0.76      0.53      0.59       300\n",
      "\n",
      "loss 0.015203389716605582\n"
     ]
    },
    {
     "name": "stderr",
     "output_type": "stream",
     "text": [
      "100%|██████████| 391/391 [00:17<00:00, 22.73it/s]\n"
     ]
    },
    {
     "name": "stdout",
     "output_type": "stream",
     "text": [
      "loss 0.014970674796257397\n"
     ]
    },
    {
     "name": "stderr",
     "output_type": "stream",
     "text": [
      "100%|██████████| 391/391 [00:17<00:00, 22.58it/s]\n"
     ]
    },
    {
     "name": "stdout",
     "output_type": "stream",
     "text": [
      "loss 0.012553465924129877\n"
     ]
    },
    {
     "name": "stderr",
     "output_type": "stream",
     "text": [
      "100%|██████████| 391/391 [00:17<00:00, 22.78it/s]\n"
     ]
    },
    {
     "name": "stdout",
     "output_type": "stream",
     "text": [
      "loss 0.012507164843387597\n"
     ]
    },
    {
     "name": "stderr",
     "output_type": "stream",
     "text": [
      "100%|██████████| 391/391 [00:17<00:00, 22.75it/s]\n"
     ]
    },
    {
     "name": "stdout",
     "output_type": "stream",
     "text": [
      "loss 0.013101369190616939\n"
     ]
    },
    {
     "name": "stderr",
     "output_type": "stream",
     "text": [
      "100%|██████████| 391/391 [00:17<00:00, 22.70it/s]\n"
     ]
    },
    {
     "name": "stdout",
     "output_type": "stream",
     "text": [
      "loss 0.013598645486764115\n"
     ]
    },
    {
     "name": "stderr",
     "output_type": "stream",
     "text": [
      "100%|██████████| 391/391 [00:17<00:00, 22.75it/s]\n"
     ]
    },
    {
     "name": "stdout",
     "output_type": "stream",
     "text": [
      "loss 0.01191622276018258\n"
     ]
    },
    {
     "name": "stderr",
     "output_type": "stream",
     "text": [
      "100%|██████████| 391/391 [00:17<00:00, 22.78it/s]\n"
     ]
    },
    {
     "name": "stdout",
     "output_type": "stream",
     "text": [
      "loss 0.011618531507435742\n"
     ]
    },
    {
     "name": "stderr",
     "output_type": "stream",
     "text": [
      "100%|██████████| 391/391 [00:17<00:00, 22.89it/s]\n"
     ]
    },
    {
     "name": "stdout",
     "output_type": "stream",
     "text": [
      "loss 0.011543303175651899\n"
     ]
    },
    {
     "name": "stderr",
     "output_type": "stream",
     "text": [
      "100%|██████████| 391/391 [00:17<00:00, 22.69it/s]"
     ]
    },
    {
     "name": "stdout",
     "output_type": "stream",
     "text": [
      "loss 0.011211737741322001\n"
     ]
    },
    {
     "name": "stderr",
     "output_type": "stream",
     "text": [
      "\n"
     ]
    }
   ],
   "source": [
    "model.to(device)\n",
    "loss_func.to(device)\n",
    "loss_train = []\n",
    "for epoch in range(100):\n",
    "    model.train()\n",
    "    loop = tqdm(dl_train)\n",
    "    lloss = []\n",
    "    for data, labels in loop:\n",
    "        data = data.to(device)\n",
    "        labels = labels.to(device)\n",
    "        opt.zero_grad()\n",
    "        embeddings = model(data)\n",
    "        #batch_emb, batch_y = create_surrounding_batch(embeddings,labels)\n",
    "        loss = loss_func(embeddings, labels)\n",
    "        loss.backward()\n",
    "        lloss.append(loss.item())\n",
    "        opt.step()\n",
    "    scheduler.step()\n",
    "    if epoch %10 == 0:\n",
    "        pred,labels = pred_knn_model(model,dl_sub_train,dl_sub_test)\n",
    "        f1 = metrics.f1_score(labels,pred,average='macro')\n",
    "        precision = metrics.precision_score(labels,pred,average='macro')\n",
    "        recall = metrics.recall_score(labels,pred,average='macro')\n",
    "        accuracy = metrics.accuracy_score(labels,pred)\n",
    "        wandb.log({'precision':precision,'recall':recall,'f1':f1,'accuracy':accuracy},step=epoch)\n",
    "        print(classification_report(labels.T,pred))\n",
    "    loss_train.append(np.mean(lloss))\n",
    "    print(f\"loss {loss_train[-1]}\")\n",
    "    wandb.log({'loss_train':loss_train[-1]},step=epoch)"
   ]
  },
  {
   "cell_type": "code",
   "execution_count": 52,
   "metadata": {},
   "outputs": [
    {
     "data": {
      "text/plain": [
       "99"
      ]
     },
     "execution_count": 52,
     "metadata": {},
     "output_type": "execute_result"
    }
   ],
   "source": [
    "epoch"
   ]
  },
  {
   "cell_type": "code",
   "execution_count": 59,
   "metadata": {},
   "outputs": [
    {
     "name": "stderr",
     "output_type": "stream",
     "text": [
      "100%|██████████| 391/391 [00:07<00:00, 55.22it/s]\n",
      "100%|██████████| 79/79 [00:01<00:00, 48.89it/s]\n"
     ]
    }
   ],
   "source": [
    "pred,labels = pred_knn_model(model,dl_train,dl_test)"
   ]
  },
  {
   "cell_type": "code",
   "execution_count": 60,
   "metadata": {},
   "outputs": [],
   "source": [
    "f1 = metrics.f1_score(labels,pred,average='macro')\n",
    "precision = metrics.precision_score(labels,pred,average='macro')\n",
    "recall = metrics.recall_score(labels,pred,average='macro')\n",
    "accuracy = metrics.accuracy_score(labels,pred)"
   ]
  },
  {
   "cell_type": "code",
   "execution_count": 61,
   "metadata": {},
   "outputs": [
    {
     "name": "stdout",
     "output_type": "stream",
     "text": [
      "precision 0.6830182030393689\n",
      "recall 0.6268\n",
      "f1 0.6424953925940154\n",
      "accuracy 0.6268\n"
     ]
    }
   ],
   "source": [
    "print(f\"precision {precision}\")\n",
    "print(f\"recall {recall}\")\n",
    "print(f\"f1 {f1}\")\n",
    "print(f\"accuracy {accuracy}\")"
   ]
  },
  {
   "cell_type": "markdown",
   "metadata": {},
   "source": [
    "precision 0.6781332025178556\n",
    "recall 0.6264\n",
    "f1 0.6407966031823693\n",
    "accuracy 0.6264"
   ]
  },
  {
   "cell_type": "code",
   "execution_count": 56,
   "metadata": {},
   "outputs": [
    {
     "name": "stdout",
     "output_type": "stream",
     "text": [
      "              precision    recall  f1-score   support\n",
      "\n",
      "           0       0.16      0.86      0.27       100\n",
      "           2       0.56      0.55      0.55       100\n",
      "           3       0.44      0.39      0.41       100\n",
      "           5       0.75      0.57      0.65       100\n",
      "           6       0.68      0.62      0.65       100\n",
      "          13       0.84      0.63      0.72       100\n",
      "          15       0.36      0.50      0.42       100\n",
      "          20       0.90      0.79      0.84       100\n",
      "          22       0.60      0.58      0.59       100\n",
      "          23       0.70      0.70      0.70       100\n",
      "          24       0.91      0.79      0.84       100\n",
      "          26       0.61      0.54      0.57       100\n",
      "          28       0.90      0.74      0.81       100\n",
      "          29       0.66      0.57      0.61       100\n",
      "          30       0.69      0.65      0.67       100\n",
      "          31       0.75      0.49      0.59       100\n",
      "          32       0.60      0.50      0.54       100\n",
      "          33       0.64      0.63      0.64       100\n",
      "          34       0.64      0.60      0.62       100\n",
      "          40       0.61      0.48      0.54       100\n",
      "          41       0.87      0.75      0.81       100\n",
      "          42       0.68      0.54      0.60       100\n",
      "          43       0.81      0.63      0.71       100\n",
      "          44       0.52      0.32      0.40       100\n",
      "          45       0.44      0.40      0.42       100\n",
      "          47       0.94      0.91      0.92       100\n",
      "          49       0.88      0.71      0.78       100\n",
      "          54       0.78      0.73      0.76       100\n",
      "          56       0.92      0.79      0.85       100\n",
      "          57       0.74      0.66      0.70       100\n",
      "          60       0.87      0.83      0.85       100\n",
      "          61       0.83      0.68      0.75       100\n",
      "          62       0.58      0.78      0.67       100\n",
      "          63       0.71      0.63      0.67       100\n",
      "          65       0.51      0.29      0.37       100\n",
      "          67       0.49      0.37      0.42       100\n",
      "          68       0.94      0.92      0.93       100\n",
      "          71       0.70      0.76      0.73       100\n",
      "          72       0.41      0.26      0.32       100\n",
      "          73       0.45      0.40      0.43       100\n",
      "          78       0.60      0.42      0.49       100\n",
      "          82       0.94      0.81      0.87       100\n",
      "          83       0.65      0.57      0.61       100\n",
      "          87       0.80      0.71      0.75       100\n",
      "          90       0.77      0.64      0.70       100\n",
      "          91       0.41      0.73      0.52       100\n",
      "          94       0.81      0.94      0.87       100\n",
      "          97       0.65      0.67      0.66       100\n",
      "          98       0.54      0.55      0.54       100\n",
      "          99       0.67      0.74      0.70       100\n",
      "\n",
      "    accuracy                           0.63      5000\n",
      "   macro avg       0.68      0.63      0.64      5000\n",
      "weighted avg       0.68      0.63      0.64      5000\n",
      "\n"
     ]
    }
   ],
   "source": [
    "wandb.log({'precision':precision,'recall':recall,'f1':f1,'accuracy':accuracy},step=epoch)\n",
    "print(classification_report(labels.T,pred))"
   ]
  },
  {
   "cell_type": "code",
   "execution_count": 57,
   "metadata": {},
   "outputs": [
    {
     "data": {
      "text/plain": [
       "_CudaDeviceProperties(name='NVIDIA GeForce RTX 3060', major=8, minor=6, total_memory=12044MB, multi_processor_count=28)"
      ]
     },
     "execution_count": 57,
     "metadata": {},
     "output_type": "execute_result"
    }
   ],
   "source": [
    "torch.cuda.get_device_properties(0)"
   ]
  },
  {
   "cell_type": "code",
   "execution_count": 58,
   "metadata": {},
   "outputs": [],
   "source": [
    "torch.save({'rn18':model.state_dict(),'class_order':class_order,'loss_train':loss_train},'rn18_dml_pass_100epochs.pth')"
   ]
  },
  {
   "cell_type": "code",
   "execution_count": null,
   "metadata": {},
   "outputs": [],
   "source": []
  },
  {
   "attachments": {
    "image.png": {
     "image/png": "[encoded data removed]"
    }
   },
   "cell_type": "markdown",
   "metadata": {},
   "source": [
    "![image.png](attachment:image.png)\n",
    "\n",
    "- neat sem a proposta\n",
    "- flowing com a proposta "
   ]
  },
  {
   "cell_type": "code",
   "execution_count": null,
   "metadata": {},
   "outputs": [],
   "source": []
  },
  {
   "cell_type": "code",
   "execution_count": null,
   "metadata": {},
   "outputs": [],
   "source": []
  },
  {
   "cell_type": "code",
   "execution_count": null,
   "metadata": {},
   "outputs": [],
   "source": []
  },
  {
   "cell_type": "code",
   "execution_count": null,
   "metadata": {},
   "outputs": [],
   "source": []
  },
  {
   "cell_type": "code",
   "execution_count": null,
   "metadata": {},
   "outputs": [],
   "source": []
  }
 ],
 "metadata": {
  "kernelspec": {
   "display_name": "Python 3 (ipykernel)",
   "language": "python",
   "name": "python3"
  },
  "language_info": {
   "codemirror_mode": {
    "name": "ipython",
    "version": 3
   },
   "file_extension": ".py",
   "mimetype": "text/x-python",
   "name": "python",
   "nbconvert_exporter": "python",
   "pygments_lexer": "ipython3",
   "version": "3.10.12"
  }
 },
 "nbformat": 4,
 "nbformat_minor": 2
}
